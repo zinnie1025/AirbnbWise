{
 "cells": [
  {
   "cell_type": "code",
   "execution_count": 10,
   "metadata": {},
   "outputs": [],
   "source": [
    "import glob\n",
    "\n",
    "# data = glob.glob('/Users/genie/Documents/COLLABORATION/AirbnbWise/Tokyo_OpenData/tokyo/*')\n",
    "data = glob.glob('../tokyo/*')\n"
   ]
  },
  {
   "cell_type": "code",
   "execution_count": 12,
   "metadata": {},
   "outputs": [],
   "source": [
    "import pandas as pd\n",
    "\n",
    "#* tokyo 년도 별 data\n",
    "tokyo_2018 = pd.DataFrame()\n",
    "tokyo_2019 = pd.DataFrame()\n",
    "tokyo_2020 = pd.DataFrame()\n",
    "tokyo_2021 = pd.DataFrame()\n",
    "for idx in range(len(data)):\n",
    "    if 'tokyo_2018' in data[idx]:\n",
    "        df = pd.read_csv(data[idx], encoding='SHIFT_JIS')\n",
    "        tokyo_2018 = pd.concat([tokyo_2018,df])\n",
    "    elif 'tokyo_2019' in data[idx]:\n",
    "        df = pd.read_csv(data[idx], encoding='SHIFT_JIS')\n",
    "        tokyo_2019 = pd.concat([tokyo_2019,df])\n",
    "    elif 'tokyo_2020' in data[idx]:\n",
    "        df = pd.read_csv(data[idx], encoding='SHIFT_JIS')\n",
    "        tokyo_2020 = pd.concat([tokyo_2020,df])\n",
    "    elif 'tokyo_2021' in data[idx]:\n",
    "        df = pd.read_csv(data[idx], encoding='SHIFT_JIS')\n",
    "        tokyo_2021 = pd.concat([tokyo_2021,df])\n",
    "        \n",
    "tokyo_2018 = tokyo_2018.drop(columns = ['Unnamed: 0'])\n",
    "tokyo_2019 = tokyo_2019.drop(columns = ['Unnamed: 0'])\n",
    "tokyo_2020 = tokyo_2020.drop(columns = ['Unnamed: 0'])\n",
    "tokyo_2021 = tokyo_2021.drop(columns = ['Unnamed: 0'])"
   ]
  },
  {
   "attachments": {},
   "cell_type": "markdown",
   "metadata": {},
   "source": [
    "'罪名' (Zaimē): 범죄 종류 또는 혐의<br>\n",
    "'手口' (Teguchi): 범행 방법 또는 도구<br>\n",
    "'管轄警察署（発生地）' (Kankatsu Keisatsusho / Hasseichi): 사건이 발생한 지역의 관할 경찰서<br>\n",
    "'管轄交番・駐在所（発生地）' (Kankatsu Koban / Chuzaijo / Hasseichi): 사건이 발생한 지역의 관할 파출소 또는 출장소<br>\n",
    "'市区町村コード（発生地）' (Shi-Ku-Choson Code / Hasseichi): 사건이 발생한 지역의 시·구·읍면의 코드<br>\n",
    "'都道府県（発生地）' (To-Dō-Fu-Ken / Hasseichi): 사건이 발생한 지역의 도, 도도부, 혹은 혜상도<br>\n",
    "'市区町村（発生地）' (Shi-Ku-Choson / Hasseichi): 사건이 발생한 지역의 시, 구, 읍면<br>\n",
    "'町丁目（発生地）' (Chō-Chō-Moku / Hasseichi): 사건이 발생한 지역의 동네 혹은 지번<br>\n",
    "'発生年月日（始期）' (Hassei Nengetsuhi / Shiki): 사건이 발생한 년월일의 시작일<br>\n",
    "'発生時（始期）' (Hassei Toki / Shiki): 사건이 발생한 시간의 시작 시간<br>\n",
    "'発生場所の属性' (Hassei Basho no Zokusei): 사건 발생 장소의 속성<br>\n",
    "'現金以外の主な被害品' (Genkin Igai no Omo na Higaihin): 금전 이외의 주요 피해품<br>\n",
    "'被害者の性別' (Higaisha no Seibetsu): 피해자의 성별<br>\n",
    "'被害者の年齢' (Higaisha no Nenrei): 피해자의 나이<br>\n",
    "'現金被害の有無' (Genkin Higai no Umu): 현금 피해 여부<br>\n",
    "'施錠関係' (Sejō Kankei): 잠금 관련 사항<br>\n",
    "'盗難防止装置の有無' (Tōnan Bōshi Sōchi no Umu): 도난 방지 장치의 유무<br>\n",
    "'被害者の職業' (Higaisha no Shokugyō): 피해자의 직업<br>\n",
    "'発生場所' (Hassei Basho): 사건 발생 장소<br>\n",
    "'発生場所の詳細' (Hassei Basho no Shōsai): 사건 발생 장소의 상세한 내용\n",
    "tokyoCrime = pd.concat([tokyo_2018, tokyo_2019, tokyo_2020, tokyo_2021])"
   ]
  },
  {
   "cell_type": "code",
   "execution_count": 13,
   "metadata": {},
   "outputs": [],
   "source": [
    "tokyoCrime = pd.concat([tokyo_2018, tokyo_2019, tokyo_2020, tokyo_2021])"
   ]
  },
  {
   "cell_type": "code",
   "execution_count": 14,
   "metadata": {},
   "outputs": [
    {
     "name": "stdout",
     "output_type": "stream",
     "text": [
      "<class 'pandas.core.frame.DataFrame'>\n",
      "Int64Index: 132320 entries, 0 to 19357\n",
      "Data columns (total 20 columns):\n",
      " #   Column         Non-Null Count   Dtype  \n",
      "---  ------         --------------   -----  \n",
      " 0   罪名             132320 non-null  object \n",
      " 1   手口             132320 non-null  object \n",
      " 2   管轄警察署（発生地）     132320 non-null  object \n",
      " 3   管轄交番・駐在所（発生地）  132240 non-null  object \n",
      " 4   市区町村コード（発生地）   132281 non-null  float64\n",
      " 5   都道府県（発生地）      132288 non-null  object \n",
      " 6   市区町村（発生地）      132288 non-null  object \n",
      " 7   町丁目（発生地）       132247 non-null  object \n",
      " 8   発生年月日（始期）      132320 non-null  object \n",
      " 9   発生時（始期）        132320 non-null  object \n",
      " 10  発生場所の属性        80634 non-null   object \n",
      " 11  現金以外の主な被害品     11039 non-null   object \n",
      " 12  被害者の性別         683 non-null     object \n",
      " 13  被害者の年齢         110764 non-null  object \n",
      " 14  現金被害の有無        11200 non-null   object \n",
      " 15  施錠関係           124069 non-null  object \n",
      " 16  盗難防止装置の有無      4906 non-null    object \n",
      " 17  被害者の職業         110081 non-null  object \n",
      " 18  発生場所           51686 non-null   object \n",
      " 19  発生場所の詳細        51524 non-null   object \n",
      "dtypes: float64(1), object(19)\n",
      "memory usage: 21.2+ MB\n"
     ]
    }
   ],
   "source": [
    "tokyoCrime.info()"
   ]
  },
  {
   "cell_type": "code",
   "execution_count": 15,
   "metadata": {},
   "outputs": [
    {
     "data": {
      "text/plain": [
       "窃盗    132320\n",
       "Name: 罪名, dtype: int64"
      ]
     },
     "execution_count": 15,
     "metadata": {},
     "output_type": "execute_result"
    }
   ],
   "source": [
    "tokyoCrime['罪名'].value_counts()"
   ]
  },
  {
   "cell_type": "code",
   "execution_count": 16,
   "metadata": {},
   "outputs": [
    {
     "data": {
      "text/plain": [
       "Index(['罪名', '手口', '管轄警察署（発生地）', '管轄交番・駐在所（発生地）', '市区町村コード（発生地）', '都道府県（発生地）',\n",
       "       '市区町村（発生地）', '町丁目（発生地）', '発生年月日（始期）', '発生時（始期）', '発生場所の属性',\n",
       "       '現金以外の主な被害品', '被害者の性別', '被害者の年齢', '現金被害の有無', '施錠関係', '盗難防止装置の有無',\n",
       "       '被害者の職業', '発生場所', '発生場所の詳細'],\n",
       "      dtype='object')"
      ]
     },
     "execution_count": 16,
     "metadata": {},
     "output_type": "execute_result"
    }
   ],
   "source": [
    "tokyoCrime.columns"
   ]
  },
  {
   "cell_type": "code",
   "execution_count": 17,
   "metadata": {},
   "outputs": [],
   "source": [
    "tokyoCrime.reset_index(drop=True, inplace=True)"
   ]
  },
  {
   "cell_type": "code",
   "execution_count": 18,
   "metadata": {},
   "outputs": [
    {
     "data": {
      "text/html": [
       "<div>\n",
       "<style scoped>\n",
       "    .dataframe tbody tr th:only-of-type {\n",
       "        vertical-align: middle;\n",
       "    }\n",
       "\n",
       "    .dataframe tbody tr th {\n",
       "        vertical-align: top;\n",
       "    }\n",
       "\n",
       "    .dataframe thead th {\n",
       "        text-align: right;\n",
       "    }\n",
       "</style>\n",
       "<table border=\"1\" class=\"dataframe\">\n",
       "  <thead>\n",
       "    <tr style=\"text-align: right;\">\n",
       "      <th></th>\n",
       "      <th>罪名</th>\n",
       "      <th>手口</th>\n",
       "      <th>管轄警察署（発生地）</th>\n",
       "      <th>管轄交番・駐在所（発生地）</th>\n",
       "      <th>市区町村コード（発生地）</th>\n",
       "      <th>都道府県（発生地）</th>\n",
       "      <th>市区町村（発生地）</th>\n",
       "      <th>町丁目（発生地）</th>\n",
       "      <th>発生年月日（始期）</th>\n",
       "      <th>発生時（始期）</th>\n",
       "      <th>発生場所の属性</th>\n",
       "      <th>現金以外の主な被害品</th>\n",
       "      <th>被害者の性別</th>\n",
       "      <th>被害者の年齢</th>\n",
       "      <th>現金被害の有無</th>\n",
       "      <th>施錠関係</th>\n",
       "      <th>盗難防止装置の有無</th>\n",
       "      <th>被害者の職業</th>\n",
       "      <th>発生場所</th>\n",
       "      <th>発生場所の詳細</th>\n",
       "    </tr>\n",
       "  </thead>\n",
       "  <tbody>\n",
       "    <tr>\n",
       "      <th>132315</th>\n",
       "      <td>窃盗</td>\n",
       "      <td>自転車盗</td>\n",
       "      <td>小平</td>\n",
       "      <td>鷹の台駅前交番</td>\n",
       "      <td>132110.0</td>\n",
       "      <td>東京都</td>\n",
       "      <td>小平市</td>\n",
       "      <td>津田町２丁目</td>\n",
       "      <td>2021/3/17</td>\n",
       "      <td>21</td>\n",
       "      <td>NaN</td>\n",
       "      <td>NaN</td>\n",
       "      <td>NaN</td>\n",
       "      <td>50歳代</td>\n",
       "      <td>NaN</td>\n",
       "      <td>施錠した</td>\n",
       "      <td>NaN</td>\n",
       "      <td>その他</td>\n",
       "      <td>道路上</td>\n",
       "      <td>その他</td>\n",
       "    </tr>\n",
       "    <tr>\n",
       "      <th>132316</th>\n",
       "      <td>窃盗</td>\n",
       "      <td>自転車盗</td>\n",
       "      <td>小平</td>\n",
       "      <td>鷹の台駅前交番</td>\n",
       "      <td>132110.0</td>\n",
       "      <td>東京都</td>\n",
       "      <td>小平市</td>\n",
       "      <td>津田町２丁目</td>\n",
       "      <td>2021/9/30</td>\n",
       "      <td>13</td>\n",
       "      <td>NaN</td>\n",
       "      <td>NaN</td>\n",
       "      <td>NaN</td>\n",
       "      <td>20歳代</td>\n",
       "      <td>NaN</td>\n",
       "      <td>施錠せず</td>\n",
       "      <td>NaN</td>\n",
       "      <td>大学生</td>\n",
       "      <td>その他の住宅（３階建て以下共同住宅等）</td>\n",
       "      <td>駐車（輪）場</td>\n",
       "    </tr>\n",
       "    <tr>\n",
       "      <th>132317</th>\n",
       "      <td>窃盗</td>\n",
       "      <td>自転車盗</td>\n",
       "      <td>小平</td>\n",
       "      <td>鷹の台駅前交番</td>\n",
       "      <td>132110.0</td>\n",
       "      <td>東京都</td>\n",
       "      <td>小平市</td>\n",
       "      <td>津田町２丁目</td>\n",
       "      <td>2021/10/15</td>\n",
       "      <td>16</td>\n",
       "      <td>NaN</td>\n",
       "      <td>NaN</td>\n",
       "      <td>NaN</td>\n",
       "      <td>40歳代</td>\n",
       "      <td>NaN</td>\n",
       "      <td>施錠せず</td>\n",
       "      <td>NaN</td>\n",
       "      <td>その他</td>\n",
       "      <td>その他の住宅（３階建て以下共同住宅等）</td>\n",
       "      <td>駐車（輪）場</td>\n",
       "    </tr>\n",
       "    <tr>\n",
       "      <th>132318</th>\n",
       "      <td>窃盗</td>\n",
       "      <td>自転車盗</td>\n",
       "      <td>小平</td>\n",
       "      <td>鷹の台駅前交番</td>\n",
       "      <td>132110.0</td>\n",
       "      <td>東京都</td>\n",
       "      <td>小平市</td>\n",
       "      <td>津田町３丁目</td>\n",
       "      <td>2021/12/18</td>\n",
       "      <td>15</td>\n",
       "      <td>NaN</td>\n",
       "      <td>NaN</td>\n",
       "      <td>NaN</td>\n",
       "      <td>20歳代</td>\n",
       "      <td>NaN</td>\n",
       "      <td>施錠した</td>\n",
       "      <td>NaN</td>\n",
       "      <td>その他</td>\n",
       "      <td>その他の住宅（３階建て以下共同住宅等）</td>\n",
       "      <td>駐車（輪）場</td>\n",
       "    </tr>\n",
       "    <tr>\n",
       "      <th>132319</th>\n",
       "      <td>窃盗</td>\n",
       "      <td>自転車盗</td>\n",
       "      <td>八丈島</td>\n",
       "      <td>三根駐在所</td>\n",
       "      <td>NaN</td>\n",
       "      <td>東京都</td>\n",
       "      <td>八丈島八丈町</td>\n",
       "      <td>三根</td>\n",
       "      <td>2021/5/31</td>\n",
       "      <td>5</td>\n",
       "      <td>NaN</td>\n",
       "      <td>NaN</td>\n",
       "      <td>NaN</td>\n",
       "      <td>40歳代</td>\n",
       "      <td>NaN</td>\n",
       "      <td>施錠せず</td>\n",
       "      <td>NaN</td>\n",
       "      <td>その他</td>\n",
       "      <td>一戸建住宅</td>\n",
       "      <td>その他</td>\n",
       "    </tr>\n",
       "  </tbody>\n",
       "</table>\n",
       "</div>"
      ],
      "text/plain": [
       "        罪名    手口 管轄警察署（発生地） 管轄交番・駐在所（発生地）  市区町村コード（発生地） 都道府県（発生地） 市区町村（発生地）  \\\n",
       "132315  窃盗  自転車盗         小平       鷹の台駅前交番      132110.0       東京都       小平市   \n",
       "132316  窃盗  自転車盗         小平       鷹の台駅前交番      132110.0       東京都       小平市   \n",
       "132317  窃盗  自転車盗         小平       鷹の台駅前交番      132110.0       東京都       小平市   \n",
       "132318  窃盗  自転車盗         小平       鷹の台駅前交番      132110.0       東京都       小平市   \n",
       "132319  窃盗  自転車盗        八丈島         三根駐在所           NaN       東京都    八丈島八丈町   \n",
       "\n",
       "       町丁目（発生地）   発生年月日（始期） 発生時（始期） 発生場所の属性 現金以外の主な被害品 被害者の性別 被害者の年齢 現金被害の有無  \\\n",
       "132315   津田町２丁目   2021/3/17      21     NaN        NaN    NaN   50歳代     NaN   \n",
       "132316   津田町２丁目   2021/9/30      13     NaN        NaN    NaN   20歳代     NaN   \n",
       "132317   津田町２丁目  2021/10/15      16     NaN        NaN    NaN   40歳代     NaN   \n",
       "132318   津田町３丁目  2021/12/18      15     NaN        NaN    NaN   20歳代     NaN   \n",
       "132319       三根   2021/5/31       5     NaN        NaN    NaN   40歳代     NaN   \n",
       "\n",
       "        施錠関係 盗難防止装置の有無 被害者の職業                 発生場所 発生場所の詳細  \n",
       "132315  施錠した       NaN    その他                  道路上     その他  \n",
       "132316  施錠せず       NaN    大学生  その他の住宅（３階建て以下共同住宅等）  駐車（輪）場  \n",
       "132317  施錠せず       NaN    その他  その他の住宅（３階建て以下共同住宅等）  駐車（輪）場  \n",
       "132318  施錠した       NaN    その他  その他の住宅（３階建て以下共同住宅等）  駐車（輪）場  \n",
       "132319  施錠せず       NaN    その他                一戸建住宅     その他  "
      ]
     },
     "execution_count": 18,
     "metadata": {},
     "output_type": "execute_result"
    }
   ],
   "source": [
    "tokyoCrime.tail()"
   ]
  },
  {
   "cell_type": "code",
   "execution_count": 19,
   "metadata": {},
   "outputs": [],
   "source": [
    "tokyoCrime.to_csv('TokyoCrime.csv', encoding='SHIFT_JIS')"
   ]
  }
 ],
 "metadata": {
  "kernelspec": {
   "display_name": "genie",
   "language": "python",
   "name": "python3"
  },
  "language_info": {
   "codemirror_mode": {
    "name": "ipython",
    "version": 3
   },
   "file_extension": ".py",
   "mimetype": "text/x-python",
   "name": "python",
   "nbconvert_exporter": "python",
   "pygments_lexer": "ipython3",
   "version": "3.8.16"
  },
  "orig_nbformat": 4
 },
 "nbformat": 4,
 "nbformat_minor": 2
}
