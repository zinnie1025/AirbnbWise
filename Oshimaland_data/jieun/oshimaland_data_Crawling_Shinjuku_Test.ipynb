{
 "cells": [
  {
   "cell_type": "markdown",
   "metadata": {},
   "source": [
    "## <p style=\"font-family:JetBrains Mono; font-weight:normal; letter-spacing:2px; color:#4E4FEB; font-size:140%; text-align:left;padding: 0px; border-bottom: 3px solid #4E4FEB\">Libraries</p>"
   ]
  },
  {
   "cell_type": "code",
   "execution_count": 1,
   "metadata": {},
   "outputs": [],
   "source": [
    "import warnings\n",
    "warnings.filterwarnings(\"ignore\")\n",
    "\n",
    "from bs4 import BeautifulSoup\n",
    "import urllib.request as req\n",
    "import json\n",
    "from tqdm import tqdm, tqdm_notebook\n",
    "import time\n",
    "import requests\n",
    "\n",
    "import pandas as pd\n",
    "import numpy as np\n",
    "\n",
    "import matplotlib.pyplot as plt\n",
    "import seaborn as sns\n",
    "from tqdm.auto import tqdm\n",
    "from pandas.io.formats.style import Styler\n",
    "\n",
    "from itertools import chain\n",
    "\n",
    "pd.options.display.max_columns = 999\n",
    "pd.options.display.max_colwidth = 999\n",
    "\n",
    "tqdm.pandas()\n",
    "\n",
    "rc = {\n",
    "    \"axes.facecolor\": \"#F8F8F8\", \n",
    "    \"figure.facecolor\": \"#F8F8F8\", \n",
    "    \"axes.edgecolor\": \"#000000\",  \n",
    "    \"grid.color\": \"#EBEBE7\" + \"30\",\n",
    "    \"font.family\": \"serif\",\n",
    "    \"axes.labelcolor\": \"#000000\",\n",
    "    \"xtick.color\": \"#000000\", \n",
    "    \"ytick.color\": \"#000000\",\n",
    "    \"grid.alpha\": 0.4 \n",
    "}\n",
    "\n",
    "sns.set(rc=rc) \n",
    "palette = ['#ff7f50', '#ffd700', '#ffdab9', '#9fe2bf',\n",
    "           '#d2b48c', '#008080', '#98ff98', '#000080']\n",
    "\n",
    "\n",
    "from colorama import Style, Fore \n",
    "blk = Style.BRIGHT + Fore.BLACK\n",
    "gld = Style.BRIGHT + Fore.YELLOW\n",
    "grn = Style.BRIGHT + Fore.GREEN\n",
    "red = Style.BRIGHT + Fore.RED\n",
    "blu = Style.BRIGHT + Fore.BLUE\n",
    "res = Style.RESET_ALL"
   ]
  },
  {
   "cell_type": "code",
   "execution_count": 2,
   "metadata": {},
   "outputs": [],
   "source": [
    "def magnify(is_test : bool = False): \n",
    "    base_color = '#b57edc'\n",
    "    if is_test:\n",
    "        highlight_target_row = []\n",
    "    else:\n",
    "        highlight_target_row = dict(selector = 'tr:last-child',\n",
    "                            props = [('background-color', f'{base_color}' + '20')]) \n",
    "    \n",
    "    return [dict(selector=\"th\", \n",
    "                props=[(\"font-size\", \"11pt\"),\n",
    "                    ('background-color', f'{base_color}'),\n",
    "                    ('color', 'white'),\n",
    "                    ('font-weight', 'bold'),\n",
    "                    ('border-bottom', '0.1px solid white'), \n",
    "                    ('border-left', '0.1px solid white'), \n",
    "                    ('text-align', 'right')]),\n",
    "        \n",
    "            dict(selector='th.blank.level0', \n",
    "                props=[('font-weight', 'bold'),\n",
    "                        ('border-left', '1.7px solid white'),\n",
    "                        ('background-color', 'white')]),\n",
    "\n",
    "            dict(selector=\"td\", \n",
    "                    props=[('padding', \"0.5em 1em\"), \n",
    "                        ('text-align', 'right')]),\n",
    "\n",
    "            dict(selector=\"th:hover\",\n",
    "                    props=[(\"font-size\", \"14pt\")]),\n",
    "\n",
    "            dict(selector=\"tr:hover td:hover\",\n",
    "                    props=[('max-width', '250px'),\n",
    "                        ('font-size', '14pt'),\n",
    "                        ('color', f'{base_color}'),\n",
    "                        ('font-weight', 'bold'),\n",
    "                        ('background-color', 'white'),\n",
    "                        ('border', f'1px dashed {base_color}')]),\n",
    "            \n",
    "            dict(selector=\"caption\", \n",
    "                props=[(('caption-side', 'bottom'))])] + highlight_target_row\n",
    "\n",
    "def stylize_simple(df: pd.DataFrame, caption: str) -> Styler:\n",
    "    \"\"\"\n",
    "        Args:\n",
    "            df: any dataframe (train/test/origin)\n",
    "\n",
    "        Returns:\n",
    "            s: the dataframe wrapped into Styler.\n",
    "    \"\"\"\n",
    "    s = df\n",
    "    s = s.style.set_table_styles(magnify(True)).set_caption(f\"{caption}\")\n",
    "    return s"
   ]
  },
  {
   "cell_type": "markdown",
   "metadata": {},
   "source": [
    "## <p style=\"font-family:JetBrains Mono; font-weight:normal; letter-spacing:2px; color:#4E4FEB; font-size:140%; text-align:left;padding: 0px; border-bottom: 3px solid #4E4FEB\">Intro</p>"
   ]
  },
  {
   "cell_type": "markdown",
   "metadata": {},
   "source": [
    "Collecting Tokyo Real Estate Case Data\n",
    "\n",
    " <a href = 'http://www.oshimaland.co.jp'> 오시마랜드(Oshimaland)</a>\n",
    ">This website showcases buildings with unfortunate past incidents such as suicide cases, corpse disposal incidents, and murder cases.\n"
   ]
  },
  {
   "cell_type": "markdown",
   "metadata": {},
   "source": [
    "## <p style=\"font-family:JetBrains Mono; font-weight:normal; letter-spacing:2px; color:#4E4FEB; font-size:140%; text-align:left;padding: 0px; border-bottom: 3px solid #4E4FEB\">Data Crawling</p>"
   ]
  },
  {
   "cell_type": "code",
   "execution_count": 3,
   "metadata": {},
   "outputs": [],
   "source": [
    "chrome_path = chromedriver_autoinstaller.install()\n",
    "driver = webdriver.Chrome(chrome_path)\n",
    "url = 'https://www.oshimaland.co.jp/'\n",
    "driver.get(url)\n",
    "driver.implicitly_wait(10)"
   ]
  },
  {
   "cell_type": "code",
   "execution_count": 4,
   "metadata": {},
   "outputs": [
    {
     "data": {
      "text/html": [
       "<style type=\"text/css\">\n",
       "#T_89d0f th {\n",
       "  font-size: 11pt;\n",
       "  background-color: #b57edc;\n",
       "  color: white;\n",
       "  font-weight: bold;\n",
       "  border-bottom: 0.1px solid white;\n",
       "  border-left: 0.1px solid white;\n",
       "  text-align: right;\n",
       "}\n",
       "#T_89d0f th.blank.level0 {\n",
       "  font-weight: bold;\n",
       "  border-left: 1.7px solid white;\n",
       "  background-color: white;\n",
       "}\n",
       "#T_89d0f td {\n",
       "  padding: 0.5em 1em;\n",
       "  text-align: right;\n",
       "}\n",
       "#T_89d0f th:hover {\n",
       "  font-size: 14pt;\n",
       "}\n",
       "#T_89d0f tr:hover td:hover {\n",
       "  max-width: 250px;\n",
       "  font-size: 14pt;\n",
       "  color: #b57edc;\n",
       "  font-weight: bold;\n",
       "  background-color: white;\n",
       "  border: 1px dashed #b57edc;\n",
       "}\n",
       "#T_89d0f caption {\n",
       "  caption-side: bottom;\n",
       "}\n",
       "</style>\n",
       "<table id=\"T_89d0f\">\n",
       "  <caption>main_district</caption>\n",
       "  <thead>\n",
       "    <tr>\n",
       "      <th class=\"blank level0\" >&nbsp;</th>\n",
       "      <th id=\"T_89d0f_level0_col0\" class=\"col_heading level0 col0\" >neighbourhood_cleansed</th>\n",
       "      <th id=\"T_89d0f_level0_col1\" class=\"col_heading level0 col1\" >count</th>\n",
       "    </tr>\n",
       "  </thead>\n",
       "  <tbody>\n",
       "    <tr>\n",
       "      <th id=\"T_89d0f_level0_row0\" class=\"row_heading level0 row0\" >0</th>\n",
       "      <td id=\"T_89d0f_row0_col0\" class=\"data row0 col0\" >Shinjuku Ku</td>\n",
       "      <td id=\"T_89d0f_row0_col1\" class=\"data row0 col1\" >2278</td>\n",
       "    </tr>\n",
       "    <tr>\n",
       "      <th id=\"T_89d0f_level0_row1\" class=\"row_heading level0 row1\" >1</th>\n",
       "      <td id=\"T_89d0f_row1_col0\" class=\"data row1 col0\" >Taito Ku</td>\n",
       "      <td id=\"T_89d0f_row1_col1\" class=\"data row1 col1\" >1597</td>\n",
       "    </tr>\n",
       "    <tr>\n",
       "      <th id=\"T_89d0f_level0_row2\" class=\"row_heading level0 row2\" >2</th>\n",
       "      <td id=\"T_89d0f_row2_col0\" class=\"data row2 col0\" >Sumida Ku</td>\n",
       "      <td id=\"T_89d0f_row2_col1\" class=\"data row2 col1\" >1290</td>\n",
       "    </tr>\n",
       "    <tr>\n",
       "      <th id=\"T_89d0f_level0_row3\" class=\"row_heading level0 row3\" >3</th>\n",
       "      <td id=\"T_89d0f_row3_col0\" class=\"data row3 col0\" >Toshima Ku</td>\n",
       "      <td id=\"T_89d0f_row3_col1\" class=\"data row3 col1\" >1002</td>\n",
       "    </tr>\n",
       "  </tbody>\n",
       "</table>\n"
      ],
      "text/plain": [
       "<pandas.io.formats.style.Styler at 0x1fbc197b160>"
      ]
     },
     "metadata": {},
     "output_type": "display_data"
    }
   ],
   "source": [
    "main_district = pd.read_csv('C:\\\\Users\\\\lucky\\\\PycharmProjects\\\\PROJECT\\\\AirbnbWise\\\\Oshimaland_data\\\\jieun\\\\main_district_df2.csv')\n",
    "display(stylize_simple(main_district.head(4), 'main_district'))"
   ]
  },
  {
   "cell_type": "code",
   "execution_count": 5,
   "metadata": {},
   "outputs": [
    {
     "name": "stdout",
     "output_type": "stream",
     "text": [
      "['Shinjuku Ku', 'Taito Ku', 'Sumida Ku', 'Toshima Ku', 'Shibuya Ku', 'Minato Ku', 'Setagaya Ku', 'Ota Ku', 'Nakano Ku', 'Chuo Ku', 'Kita Ku', 'Katsushika Ku', 'Suginami Ku', 'Koto Ku', 'Edogawa Ku', 'Bunkyo Ku', 'Arakawa Ku', 'Itabashi Ku', 'Shinagawa Ku', 'Chiyoda Ku', 'Adachi Ku', 'Meguro Ku', 'Nerima Ku', 'Fuchu Shi', 'Hachioji Shi', 'Hino Shi', 'Kokubunji Shi', 'Machida Shi', 'Ome Shi', 'Chofu Shi', 'Musashino Shi', 'Akiruno Shi', 'Mitaka Shi', 'Koganei Shi', 'Higashimurayama Shi', 'Tama Shi', 'Kunitachi Shi', 'Komae Shi', 'Nishitokyo Shi', 'Tachikawa Shi', 'Kodaira Shi', 'Hamura Shi', 'Musashimurayama Shi', 'Okutama Machi', 'Akishima Shi', 'Fussa Shi']\n"
     ]
    }
   ],
   "source": [
    "regionList = list(main_district['neighbourhood_cleansed'])\n",
    "print(regionList)"
   ]
  },
  {
   "cell_type": "markdown",
   "metadata": {},
   "source": [
    "## <p style=\"font-family:JetBrains Mono; font-weight:normal; letter-spacing:2px; color:#4E4FEB; font-size:140%; text-align:left;padding: 0px; border-bottom: 3px solid #4E4FEB\">Shinjuku ku</p>"
   ]
  },
  {
   "cell_type": "code",
   "execution_count": 6,
   "metadata": {},
   "outputs": [],
   "source": [
    "#TODO shinjuku ku test\n",
    "search_region = driver.find_element(By.CSS_SELECTOR, '#geocoder-text')\n",
    "search_region.send_keys(regionList[0])\n",
    "time.sleep(2)\n",
    "driver.find_element(By.ID, \"geocoder-button\").click()\n",
    "time.sleep(2)"
   ]
  },
  {
   "cell_type": "code",
   "execution_count": 7,
   "metadata": {},
   "outputs": [],
   "source": [
    "json_url = 'https://api.oshimaland.co.jp/map'\n",
    "headers = {\n",
    "    \"User-Agent\": \"Mozilla/5.0\",\n",
    "    \"Origin\": \"https://www.oshimaland.co.jp\"\n",
    "}\n",
    "data = {\n",
    "    'keys': [\"1330021123012133\", \"1330021123012311\", \"1330021123013022\", \"1330021123013200\"]\n",
    "}\n",
    "\n",
    "response = requests.post(json_url, headers=headers, json=data)\n",
    "json_data = response.json()\n"
   ]
  },
  {
   "cell_type": "code",
   "execution_count": 8,
   "metadata": {},
   "outputs": [
    {
     "data": {
      "text/plain": [
       "['1330021123012133',\n",
       " '1330021123012311',\n",
       " '1330021123013022',\n",
       " '1330021123013200']"
      ]
     },
     "execution_count": 8,
     "metadata": {},
     "output_type": "execute_result"
    }
   ],
   "source": [
    "origin = list(data.values())\n",
    "flatten_list = list(chain(*origin))\n",
    "flatten_list"
   ]
  },
  {
   "cell_type": "code",
   "execution_count": 9,
   "metadata": {},
   "outputs": [],
   "source": [
    "jsonValueList = []\n",
    "for idx in range(len(flatten_list)):\n",
    "    for idx2 in range(len(json_data['markers'][flatten_list[idx]])):\n",
    "        jsonValueList.append(json_data['markers'][flatten_list[idx]][idx2]['key'])"
   ]
  },
  {
   "cell_type": "code",
   "execution_count": 10,
   "metadata": {},
   "outputs": [
    {
     "data": {
      "application/vnd.jupyter.widget-view+json": {
       "model_id": "b363c4537306498e942e67391d1e2d3b",
       "version_major": 2,
       "version_minor": 0
      },
      "text/plain": [
       "  0%|          | 0/135 [00:00<?, ?it/s]"
      ]
     },
     "metadata": {},
     "output_type": "display_data"
    }
   ],
   "source": [
    "getDataList = []\n",
    "for idx in tqdm_notebook(range(len(jsonValueList))):\n",
    "    json_url = f'https://www.oshimaland.co.jp/d/{jsonValueList[idx]}.json'\n",
    "    url = req.Request(json_url, headers={\"User-Agent\": \"Mozilla/5.0\"})\n",
    "    code = req.urlopen(url)\n",
    "    soup = BeautifulSoup(code, 'html.parser')\n",
    "    json_data = json.loads(soup.text)\n",
    "    getDataList.append({\n",
    "        'info' : json_data['info'],\n",
    "        'address' : json_data['ad'],\n",
    "        'dt' : json_data['dt'],\n",
    "        'cr' : json_data['cr'],\n",
    "     })"
   ]
  },
  {
   "cell_type": "code",
   "execution_count": 13,
   "metadata": {},
   "outputs": [
    {
     "data": {
      "text/html": [
       "<div>\n",
       "<style scoped>\n",
       "    .dataframe tbody tr th:only-of-type {\n",
       "        vertical-align: middle;\n",
       "    }\n",
       "\n",
       "    .dataframe tbody tr th {\n",
       "        vertical-align: top;\n",
       "    }\n",
       "\n",
       "    .dataframe thead th {\n",
       "        text-align: right;\n",
       "    }\n",
       "</style>\n",
       "<table border=\"1\" class=\"dataframe\">\n",
       "  <thead>\n",
       "    <tr style=\"text-align: right;\">\n",
       "      <th></th>\n",
       "      <th>info</th>\n",
       "      <th>address</th>\n",
       "      <th>dt</th>\n",
       "      <th>cr</th>\n",
       "    </tr>\n",
       "  </thead>\n",
       "  <tbody>\n",
       "    <tr>\n",
       "      <th>0</th>\n",
       "      <td>飛び降り自殺</td>\n",
       "      <td>東京都新宿区西新宿七丁目3-10山京ビル</td>\n",
       "      <td>平成27年2月20日</td>\n",
       "      <td>令和2年1月27日</td>\n",
       "    </tr>\n",
       "    <tr>\n",
       "      <th>1</th>\n",
       "      <td>2019年10月下旬、40代後半男性が部屋の中で孤高死。\\r\\n2019年12月下旬に発見される。\\r\\n死亡から2ヶ月経っていたため、遺体の腐乱が進んでいた模様。\\r\\n遺体回収時には内廊下のため、建物内1階全体が腐乱臭で充満。\\r\\n\\r\\n2020年2月初旬現在、清掃終了、その後内装解体中。</td>\n",
       "      <td>東京都新宿区西新宿七丁目15-14FONTAINE三須102号室</td>\n",
       "      <td>2019年10月下旬</td>\n",
       "      <td>令和2年2月3日</td>\n",
       "    </tr>\n",
       "    <tr>\n",
       "      <th>2</th>\n",
       "      <td>飛び降り自殺</td>\n",
       "      <td>東京都新宿区歌舞伎町一丁目20-2アパホテル新宿歌舞伎町タワー↓</td>\n",
       "      <td>令和3年5月11日</td>\n",
       "      <td>令和3年5月11日</td>\n",
       "    </tr>\n",
       "    <tr>\n",
       "      <th>3</th>\n",
       "      <td>819号室で女性死亡</td>\n",
       "      <td>東京都新宿区歌舞伎町一丁目20-2</td>\n",
       "      <td>平成30年5月23日</td>\n",
       "      <td>平成30年7月4日</td>\n",
       "    </tr>\n",
       "    <tr>\n",
       "      <th>4</th>\n",
       "      <td>飛び降り自殺</td>\n",
       "      <td>東京都新宿区歌舞伎町一丁目20-2アパホテル新宿歌舞伎町タワー↓</td>\n",
       "      <td>令和3年5月18日</td>\n",
       "      <td>令和3年5月26日</td>\n",
       "    </tr>\n",
       "    <tr>\n",
       "      <th>...</th>\n",
       "      <td>...</td>\n",
       "      <td>...</td>\n",
       "      <td>...</td>\n",
       "      <td>...</td>\n",
       "    </tr>\n",
       "    <tr>\n",
       "      <th>130</th>\n",
       "      <td>遺体発見</td>\n",
       "      <td>東京都新宿区新宿三丁目34-2 個室ビデオ個室内</td>\n",
       "      <td>平成26年6月25日</td>\n",
       "      <td>平成26年6月26日</td>\n",
       "    </tr>\n",
       "    <tr>\n",
       "      <th>131</th>\n",
       "      <td>飛び降り自殺</td>\n",
       "      <td>東京都新宿区新宿三丁目17-5カワセビル屋上↓</td>\n",
       "      <td>平成20年3月2日</td>\n",
       "      <td></td>\n",
       "    </tr>\n",
       "    <tr>\n",
       "      <th>132</th>\n",
       "      <td>男性飛び降り自殺</td>\n",
       "      <td>東京都新宿区新宿三丁目18-1</td>\n",
       "      <td>平成18年9月4日</td>\n",
       "      <td>平成26年1月24日</td>\n",
       "    </tr>\n",
       "    <tr>\n",
       "      <th>133</th>\n",
       "      <td>清掃業者が転落して死亡</td>\n",
       "      <td>東京都新宿区新宿三丁目32-6</td>\n",
       "      <td>2011年ごろ</td>\n",
       "      <td>平成28年6月16日</td>\n",
       "    </tr>\n",
       "    <tr>\n",
       "      <th>134</th>\n",
       "      <td>ビルとビルの間で死体発見 ．</td>\n",
       "      <td>東京都新宿区新宿三丁目13-5</td>\n",
       "      <td>平成30年10月15日</td>\n",
       "      <td>平成30年10月15日</td>\n",
       "    </tr>\n",
       "  </tbody>\n",
       "</table>\n",
       "<p>135 rows × 4 columns</p>\n",
       "</div>"
      ],
      "text/plain": [
       "                                                                                                                                                      info  \\\n",
       "0                                                                                                                                                   飛び降り自殺   \n",
       "1    2019年10月下旬、40代後半男性が部屋の中で孤高死。\\r\\n2019年12月下旬に発見される。\\r\\n死亡から2ヶ月経っていたため、遺体の腐乱が進んでいた模様。\\r\\n遺体回収時には内廊下のため、建物内1階全体が腐乱臭で充満。\\r\\n\\r\\n2020年2月初旬現在、清掃終了、その後内装解体中。   \n",
       "2                                                                                                                                                   飛び降り自殺   \n",
       "3                                                                                                                                               819号室で女性死亡   \n",
       "4                                                                                                                                                   飛び降り自殺   \n",
       "..                                                                                                                                                     ...   \n",
       "130                                                                                                                                                   遺体発見   \n",
       "131                                                                                                                                                 飛び降り自殺   \n",
       "132                                                                                                                                               男性飛び降り自殺   \n",
       "133                                                                                                                                            清掃業者が転落して死亡   \n",
       "134                                                                                                                                         ビルとビルの間で死体発見 ．   \n",
       "\n",
       "                              address           dt           cr  \n",
       "0                東京都新宿区西新宿七丁目3-10山京ビル   平成27年2月20日    令和2年1月27日  \n",
       "1    東京都新宿区西新宿七丁目15-14FONTAINE三須102号室   2019年10月下旬     令和2年2月3日  \n",
       "2    東京都新宿区歌舞伎町一丁目20-2アパホテル新宿歌舞伎町タワー↓    令和3年5月11日    令和3年5月11日  \n",
       "3                   東京都新宿区歌舞伎町一丁目20-2   平成30年5月23日    平成30年7月4日  \n",
       "4    東京都新宿区歌舞伎町一丁目20-2アパホテル新宿歌舞伎町タワー↓    令和3年5月18日    令和3年5月26日  \n",
       "..                                ...          ...          ...  \n",
       "130          東京都新宿区新宿三丁目34-2 個室ビデオ個室内   平成26年6月25日   平成26年6月26日  \n",
       "131           東京都新宿区新宿三丁目17-5カワセビル屋上↓    平成20年3月2日               \n",
       "132                   東京都新宿区新宿三丁目18-1    平成18年9月4日   平成26年1月24日  \n",
       "133                   東京都新宿区新宿三丁目32-6      2011年ごろ   平成28年6月16日  \n",
       "134                   東京都新宿区新宿三丁目13-5  平成30年10月15日  平成30年10月15日  \n",
       "\n",
       "[135 rows x 4 columns]"
      ]
     },
     "execution_count": 13,
     "metadata": {},
     "output_type": "execute_result"
    }
   ],
   "source": [
    "shinjuku = pd.DataFrame(getDataList)\n",
    "shinjuku"
   ]
  }
 ],
 "metadata": {
  "kernelspec": {
   "display_name": "genie",
   "language": "python",
   "name": "python3"
  },
  "language_info": {
   "codemirror_mode": {
    "name": "ipython",
    "version": 3
   },
   "file_extension": ".py",
   "mimetype": "text/x-python",
   "name": "python",
   "nbconvert_exporter": "python",
   "pygments_lexer": "ipython3",
   "version": "3.8.16"
  },
  "orig_nbformat": 4
 },
 "nbformat": 4,
 "nbformat_minor": 2
}
