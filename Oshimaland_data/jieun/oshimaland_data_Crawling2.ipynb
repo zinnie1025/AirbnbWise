{
 "cells": [
  {
   "cell_type": "markdown",
   "metadata": {},
   "source": [
    "## <p style=\"font-family:JetBrains Mono; font-weight:normal; letter-spacing:2px; color:#4E4FEB; font-size:140%; text-align:left;padding: 0px; border-bottom: 3px solid #4E4FEB\">Libraries</p>"
   ]
  },
  {
   "cell_type": "code",
   "execution_count": 9,
   "metadata": {},
   "outputs": [],
   "source": [
    "import warnings\n",
    "warnings.filterwarnings(\"ignore\")\n",
    "\n",
    "from bs4 import BeautifulSoup\n",
    "import urllib.request as req\n",
    "import json\n",
    "from tqdm import tqdm, tqdm_notebook\n",
    "import requests\n",
    "\n",
    "import pandas as pd\n",
    "import re\n",
    "import string\n",
    "\n",
    "from pandas.io.formats.style import Styler\n",
    "import seaborn as sns\n",
    "\n",
    "from itertools import chain\n",
    "\n",
    "pd.options.display.max_columns = 999\n",
    "pd.options.display.max_colwidth = 999\n",
    "\n",
    "tqdm.pandas()\n",
    "\n",
    "rc = {\n",
    "    \"axes.facecolor\": \"#F8F8F8\", \n",
    "    \"figure.facecolor\": \"#F8F8F8\", \n",
    "    \"axes.edgecolor\": \"#000000\",  \n",
    "    \"grid.color\": \"#EBEBE7\" + \"30\",\n",
    "    \"font.family\": \"serif\",\n",
    "    \"axes.labelcolor\": \"#000000\",\n",
    "    \"xtick.color\": \"#000000\", \n",
    "    \"ytick.color\": \"#000000\",\n",
    "    \"grid.alpha\": 0.4 \n",
    "}\n",
    "\n",
    "sns.set(rc=rc) \n",
    "palette = ['#ff7f50', '#ffd700', '#ffdab9', '#9fe2bf',\n",
    "           '#d2b48c', '#008080', '#98ff98', '#000080']\n",
    "\n",
    "\n",
    "from colorama import Style, Fore \n",
    "blk = Style.BRIGHT + Fore.BLACK\n",
    "gld = Style.BRIGHT + Fore.YELLOW\n",
    "grn = Style.BRIGHT + Fore.GREEN\n",
    "red = Style.BRIGHT + Fore.RED\n",
    "blu = Style.BRIGHT + Fore.BLUE\n",
    "res = Style.RESET_ALL"
   ]
  },
  {
   "cell_type": "code",
   "execution_count": 10,
   "metadata": {},
   "outputs": [],
   "source": [
    "def magnify(is_test : bool = False): \n",
    "    base_color = '#b57edc'\n",
    "    if is_test:\n",
    "        highlight_target_row = []\n",
    "    else:\n",
    "        highlight_target_row = dict(selector = 'tr:last-child',\n",
    "                            props = [('background-color', f'{base_color}' + '20')]) \n",
    "    \n",
    "    return [dict(selector=\"th\", \n",
    "                props=[(\"font-size\", \"11pt\"),\n",
    "                    ('background-color', f'{base_color}'),\n",
    "                    ('color', 'white'),\n",
    "                    ('font-weight', 'bold'),\n",
    "                    ('border-bottom', '0.1px solid white'), \n",
    "                    ('border-left', '0.1px solid white'), \n",
    "                    ('text-align', 'right')]),\n",
    "        \n",
    "            dict(selector='th.blank.level0', \n",
    "                props=[('font-weight', 'bold'),\n",
    "                        ('border-left', '1.7px solid white'),\n",
    "                        ('background-color', 'white')]),\n",
    "\n",
    "            dict(selector=\"td\", \n",
    "                    props=[('padding', \"0.5em 1em\"), \n",
    "                        ('text-align', 'right')]),\n",
    "\n",
    "            dict(selector=\"th:hover\",\n",
    "                    props=[(\"font-size\", \"14pt\")]),\n",
    "\n",
    "            dict(selector=\"tr:hover td:hover\",\n",
    "                    props=[('max-width', '250px'),\n",
    "                        ('font-size', '14pt'),\n",
    "                        ('color', f'{base_color}'),\n",
    "                        ('font-weight', 'bold'),\n",
    "                        ('background-color', 'white'),\n",
    "                        ('border', f'1px dashed {base_color}')]),\n",
    "            \n",
    "            dict(selector=\"caption\", \n",
    "                props=[(('caption-side', 'bottom'))])] + highlight_target_row\n",
    "\n",
    "def stylize_simple(df: pd.DataFrame, caption: str) -> Styler:\n",
    "    \"\"\"\n",
    "        Args:\n",
    "            df: any dataframe (train/test/origin)\n",
    "\n",
    "        Returns:\n",
    "            s: the dataframe wrapped into Styler.\n",
    "    \"\"\"\n",
    "    s = df\n",
    "    s = s.style.set_table_styles(magnify(True)).set_caption(f\"{caption}\")\n",
    "    return s"
   ]
  },
  {
   "cell_type": "markdown",
   "metadata": {},
   "source": [
    "## <p style=\"font-family:JetBrains Mono; font-weight:normal; letter-spacing:2px; color:#4E4FEB; font-size:140%; text-align:left;padding: 0px; border-bottom: 3px solid #4E4FEB\">Intro</p>"
   ]
  },
  {
   "cell_type": "markdown",
   "metadata": {},
   "source": [
    "Collecting Tokyo Real Estate Case Data\n",
    "\n",
    " <a href = 'http://www.oshimaland.co.jp'> 오시마랜드(Oshimaland)</a>\n",
    ">This website showcases buildings with unfortunate past incidents such as suicide cases, corpse disposal incidents, and murder cases.\n"
   ]
  },
  {
   "cell_type": "markdown",
   "metadata": {},
   "source": [
    "## <p style=\"font-family:JetBrains Mono; font-weight:normal; letter-spacing:2px; color:#4E4FEB; font-size:140%; text-align:left;padding: 0px; border-bottom: 3px solid #4E4FEB\">Data Crawling</p>"
   ]
  },
  {
   "cell_type": "markdown",
   "metadata": {},
   "source": [
    "## <p style=\"font-family:JetBrains Mono; font-weight:normal; letter-spacing:2px; color:#0B666A; font-size:80%; text-align:left;padding: 0px; border-bottom: 3px solid #0B666A\">도쿄 다마 구역 추가 크롤링</p>\n"
   ]
  },
  {
   "cell_type": "code",
   "execution_count": 11,
   "metadata": {},
   "outputs": [],
   "source": [
    "damaList = ['小金井市', '小平市', '狛江市', '国分寺市', '国立市', '清瀬市', '西東京市', '多摩市', '立川市', '町田市', '武藏野市', '武藏村山市', '三鷹市',\n",
    "            'あきる野市','昭島市','青梅市', '稲城市', '調布市', '羽村市', '八王子市', '府中市', '東村山市', '東大和市', '東久留米市', '日野市']"
   ]
  },
  {
   "cell_type": "code",
   "execution_count": 18,
   "metadata": {},
   "outputs": [],
   "source": [
    "jp_district_list = [\n",
    "    '新宿区', '台東区', '墨田区', '豊島区', '渋谷区',\n",
    "    '港区', '世田谷区', '大田区', '中野区', '中央区',\n",
    "    '北区', '葛飾区', '杉並区', '江東区', '江戸川区',\n",
    "    '文京区', '荒川区', '板橋区', '品川区', '千代田区',\n",
    "    '足立区', '目黒区', '練馬区', '府中市', '八王子市',\n",
    "    '日野市', '国分寺市', '町田市', '青梅市', '調布市',\n",
    "    '武蔵野市', 'あきる野市', '三鷹市', '小金井市', '東村山市',\n",
    "    '多摩市', '国立市', '狛江市', '西東京市', '立川市',\n",
    "    '小平市', '羽村市', '武蔵村山市', '奥多摩町', '昭島市',\n",
    "    '福生市'\n",
    "]"
   ]
  },
  {
   "cell_type": "markdown",
   "metadata": {},
   "source": [
    "## <p style=\"font-family:JetBrains Mono; font-weight:normal; letter-spacing:2px; color:#0B666A; font-size:80%; text-align:left;padding: 0px; border-bottom: 3px solid #0B666A\">이전 구역(jp_district_list)과 겹치지 않는 구역은 총 5개이다. </p>\n",
    " > '清瀬市', '武藏野市', '武藏村山市', '稲城市', '東大和市', '東久留米市'"
   ]
  },
  {
   "cell_type": "code",
   "execution_count": 22,
   "metadata": {},
   "outputs": [],
   "source": [
    "result_list = [x for x in damaList if x not in jp_district_list]"
   ]
  },
  {
   "cell_type": "code",
   "execution_count": 23,
   "metadata": {},
   "outputs": [],
   "source": [
    "def getJsonData(data):\n",
    "    json_url = 'https://api.oshimaland.co.jp/map'\n",
    "    headers = {\n",
    "        \"User-Agent\": \"Mozilla/5.0\",\n",
    "        \"Origin\": \"https://www.oshimaland.co.jp\"\n",
    "    }\n",
    "    response = requests.post(json_url, headers=headers, json=data)\n",
    "    json_data = response.json()\n",
    "    return json_data\n"
   ]
  },
  {
   "cell_type": "code",
   "execution_count": 24,
   "metadata": {},
   "outputs": [],
   "source": [
    "def dataList(data, json_data):\n",
    "    jsonValueList = []\n",
    "    origin = list(data.values())\n",
    "    flatten_list = list(chain(*origin))\n",
    "    for idx in range(len(flatten_list)):\n",
    "        for idx2 in range(len(json_data['markers'][flatten_list[idx]])):\n",
    "            jsonValueList.append(json_data['markers'][flatten_list[idx]][idx2]['key'])\n",
    "    return jsonValueList"
   ]
  },
  {
   "cell_type": "code",
   "execution_count": 25,
   "metadata": {},
   "outputs": [],
   "source": [
    "def getinfo(jsonValueList):\n",
    "    getDataList = []\n",
    "    for idx in tqdm_notebook(range(len(jsonValueList))):\n",
    "        json_url = f'https://www.oshimaland.co.jp/d/{jsonValueList[idx]}.json'\n",
    "        url = req.Request(json_url, headers={\"User-Agent\": \"Mozilla/5.0\"})\n",
    "        code = req.urlopen(url)\n",
    "        soup = BeautifulSoup(code, 'html.parser')\n",
    "        json_data = json.loads(soup.text)\n",
    "        getDataList.append({\n",
    "            'info' : json_data['info'],\n",
    "            'address' : json_data['ad'],\n",
    "            'dt' : json_data['dt'],\n",
    "            'cr' : json_data['cr'],\n",
    "        })\n",
    "        \n",
    "    return pd.DataFrame(getDataList)"
   ]
  },
  {
   "cell_type": "markdown",
   "metadata": {},
   "source": [
    "## <p style=\"font-family:JetBrains Mono; font-weight:normal; letter-spacing:2px; color:#0B666A; font-size:80%; text-align:left;padding: 0px; border-bottom: 3px solid #0B666A\">각 구역 마다, json 파라미터 값이 모두 다르므로, 파라미터 값을 변경하면서 데이터를 가져와야 한다.</p>\n",
    "network tap -> fetch/xhr -> map.json"
   ]
  },
  {
   "cell_type": "code",
   "execution_count": 28,
   "metadata": {},
   "outputs": [
    {
     "data": {
      "application/vnd.jupyter.widget-view+json": {
       "model_id": "810630f5b7f4480cbc7fec4fcaa2f419",
       "version_major": 2,
       "version_minor": 0
      },
      "text/plain": [
       "  0%|          | 0/6 [00:00<?, ?it/s]"
      ]
     },
     "metadata": {},
     "output_type": "display_data"
    },
    {
     "data": {
      "text/html": [
       "<style type=\"text/css\">\n",
       "#T_9e1a6 th {\n",
       "  font-size: 11pt;\n",
       "  background-color: #b57edc;\n",
       "  color: white;\n",
       "  font-weight: bold;\n",
       "  border-bottom: 0.1px solid white;\n",
       "  border-left: 0.1px solid white;\n",
       "  text-align: right;\n",
       "}\n",
       "#T_9e1a6 th.blank.level0 {\n",
       "  font-weight: bold;\n",
       "  border-left: 1.7px solid white;\n",
       "  background-color: white;\n",
       "}\n",
       "#T_9e1a6 td {\n",
       "  padding: 0.5em 1em;\n",
       "  text-align: right;\n",
       "}\n",
       "#T_9e1a6 th:hover {\n",
       "  font-size: 14pt;\n",
       "}\n",
       "#T_9e1a6 tr:hover td:hover {\n",
       "  max-width: 250px;\n",
       "  font-size: 14pt;\n",
       "  color: #b57edc;\n",
       "  font-weight: bold;\n",
       "  background-color: white;\n",
       "  border: 1px dashed #b57edc;\n",
       "}\n",
       "#T_9e1a6 caption {\n",
       "  caption-side: bottom;\n",
       "}\n",
       "</style>\n",
       "<table id=\"T_9e1a6\">\n",
       "  <caption>清瀬市</caption>\n",
       "  <thead>\n",
       "    <tr>\n",
       "      <th class=\"blank level0\" >&nbsp;</th>\n",
       "      <th id=\"T_9e1a6_level0_col0\" class=\"col_heading level0 col0\" >info</th>\n",
       "      <th id=\"T_9e1a6_level0_col1\" class=\"col_heading level0 col1\" >address</th>\n",
       "      <th id=\"T_9e1a6_level0_col2\" class=\"col_heading level0 col2\" >dt</th>\n",
       "      <th id=\"T_9e1a6_level0_col3\" class=\"col_heading level0 col3\" >cr</th>\n",
       "    </tr>\n",
       "  </thead>\n",
       "  <tbody>\n",
       "    <tr>\n",
       "      <th id=\"T_9e1a6_level0_row0\" class=\"row_heading level0 row0\" >0</th>\n",
       "      <td id=\"T_9e1a6_row0_col0\" class=\"data row0 col0\" >今建っている家の前の平屋で男性が孤独死。後にミイラ化。</td>\n",
       "      <td id=\"T_9e1a6_row0_col1\" class=\"data row0 col1\" >東京都清瀬市中清戸二丁目718-55</td>\n",
       "      <td id=\"T_9e1a6_row0_col2\" class=\"data row0 col2\" >2001年頃</td>\n",
       "      <td id=\"T_9e1a6_row0_col3\" class=\"data row0 col3\" >令和5年3月14日</td>\n",
       "    </tr>\n",
       "    <tr>\n",
       "      <th id=\"T_9e1a6_level0_row1\" class=\"row_heading level0 row1\" >1</th>\n",
       "      <td id=\"T_9e1a6_row1_col0\" class=\"data row1 col0\" >101号室 角部屋\n",
       "告知事項有り</td>\n",
       "      <td id=\"T_9e1a6_row1_col1\" class=\"data row1 col1\" >東京都清瀬市中里三丁目79-10 東和コーポ</td>\n",
       "      <td id=\"T_9e1a6_row1_col2\" class=\"data row1 col2\" >令和4年6月2日</td>\n",
       "      <td id=\"T_9e1a6_row1_col3\" class=\"data row1 col3\" >令和4年6月2日</td>\n",
       "    </tr>\n",
       "    <tr>\n",
       "      <th id=\"T_9e1a6_level0_row2\" class=\"row_heading level0 row2\" >2</th>\n",
       "      <td id=\"T_9e1a6_row2_col0\" class=\"data row2 col0\" >ここに住んでた中学生が飛び降り死亡</td>\n",
       "      <td id=\"T_9e1a6_row2_col1\" class=\"data row2 col1\" >東京都清瀬市中里五丁目2-8</td>\n",
       "      <td id=\"T_9e1a6_row2_col2\" class=\"data row2 col2\" ></td>\n",
       "      <td id=\"T_9e1a6_row2_col3\" class=\"data row2 col3\" >平成24年1月22日</td>\n",
       "    </tr>\n",
       "    <tr>\n",
       "      <th id=\"T_9e1a6_level0_row3\" class=\"row_heading level0 row3\" >3</th>\n",
       "      <td id=\"T_9e1a6_row3_col0\" class=\"data row3 col0\" >告知事項ありの記載</td>\n",
       "      <td id=\"T_9e1a6_row3_col1\" class=\"data row3 col1\" >東京都清瀬市中清戸四丁目909-2 グランディール 1階</td>\n",
       "      <td id=\"T_9e1a6_row3_col2\" class=\"data row3 col2\" >不明</td>\n",
       "      <td id=\"T_9e1a6_row3_col3\" class=\"data row3 col3\" >平成29年10月24日</td>\n",
       "    </tr>\n",
       "  </tbody>\n",
       "</table>\n"
      ],
      "text/plain": [
       "<pandas.io.formats.style.Styler at 0x7fac4be23730>"
      ]
     },
     "metadata": {},
     "output_type": "display_data"
    }
   ],
   "source": [
    "#* '清瀬市'\n",
    "data = {'keys': [\"1330021120330333\", \"1330021120331220\", \"1330021120331222\"]}\n",
    "json_data = getJsonData(data)\n",
    "jsonValueList = dataList(data, json_data)\n",
    "df1 = getinfo(jsonValueList)\n",
    "display(stylize_simple(df1.head(4), '清瀬市'))"
   ]
  },
  {
   "cell_type": "code",
   "execution_count": 31,
   "metadata": {},
   "outputs": [
    {
     "data": {
      "application/vnd.jupyter.widget-view+json": {
       "model_id": "1ad7d56b0b9c408ab99fcdd3c8d58ec4",
       "version_major": 2,
       "version_minor": 0
      },
      "text/plain": [
       "  0%|          | 0/11 [00:00<?, ?it/s]"
      ]
     },
     "metadata": {},
     "output_type": "display_data"
    },
    {
     "data": {
      "text/html": [
       "<style type=\"text/css\">\n",
       "#T_654df th {\n",
       "  font-size: 11pt;\n",
       "  background-color: #b57edc;\n",
       "  color: white;\n",
       "  font-weight: bold;\n",
       "  border-bottom: 0.1px solid white;\n",
       "  border-left: 0.1px solid white;\n",
       "  text-align: right;\n",
       "}\n",
       "#T_654df th.blank.level0 {\n",
       "  font-weight: bold;\n",
       "  border-left: 1.7px solid white;\n",
       "  background-color: white;\n",
       "}\n",
       "#T_654df td {\n",
       "  padding: 0.5em 1em;\n",
       "  text-align: right;\n",
       "}\n",
       "#T_654df th:hover {\n",
       "  font-size: 14pt;\n",
       "}\n",
       "#T_654df tr:hover td:hover {\n",
       "  max-width: 250px;\n",
       "  font-size: 14pt;\n",
       "  color: #b57edc;\n",
       "  font-weight: bold;\n",
       "  background-color: white;\n",
       "  border: 1px dashed #b57edc;\n",
       "}\n",
       "#T_654df caption {\n",
       "  caption-side: bottom;\n",
       "}\n",
       "</style>\n",
       "<table id=\"T_654df\">\n",
       "  <caption>武藏野市</caption>\n",
       "  <thead>\n",
       "    <tr>\n",
       "      <th class=\"blank level0\" >&nbsp;</th>\n",
       "      <th id=\"T_654df_level0_col0\" class=\"col_heading level0 col0\" >info</th>\n",
       "      <th id=\"T_654df_level0_col1\" class=\"col_heading level0 col1\" >address</th>\n",
       "      <th id=\"T_654df_level0_col2\" class=\"col_heading level0 col2\" >dt</th>\n",
       "      <th id=\"T_654df_level0_col3\" class=\"col_heading level0 col3\" >cr</th>\n",
       "    </tr>\n",
       "  </thead>\n",
       "  <tbody>\n",
       "    <tr>\n",
       "      <th id=\"T_654df_level0_row0\" class=\"row_heading level0 row0\" >0</th>\n",
       "      <td id=\"T_654df_row0_col0\" class=\"data row0 col0\" >401号室 自殺</td>\n",
       "      <td id=\"T_654df_row0_col1\" class=\"data row0 col1\" >東京都西東京市東伏見四丁目8-24ラ・フローラ武蔵野6</td>\n",
       "      <td id=\"T_654df_row0_col2\" class=\"data row0 col2\" >7月20日</td>\n",
       "      <td id=\"T_654df_row0_col3\" class=\"data row0 col3\" >平成30年7月28日</td>\n",
       "    </tr>\n",
       "    <tr>\n",
       "      <th id=\"T_654df_level0_row1\" class=\"row_heading level0 row1\" >1</th>\n",
       "      <td id=\"T_654df_row1_col0\" class=\"data row1 col0\" >飛び降り自殺</td>\n",
       "      <td id=\"T_654df_row1_col1\" class=\"data row1 col1\" >東京都西東京市東伏見五丁目4-5</td>\n",
       "      <td id=\"T_654df_row1_col2\" class=\"data row1 col2\" >令和5年1月</td>\n",
       "      <td id=\"T_654df_row1_col3\" class=\"data row1 col3\" >令和5年5月14日</td>\n",
       "    </tr>\n",
       "    <tr>\n",
       "      <th id=\"T_654df_level0_row2\" class=\"row_heading level0 row2\" >2</th>\n",
       "      <td id=\"T_654df_row2_col0\" class=\"data row2 col0\" >パレホームズ607\n",
       "※告知事項あり\n",
       "不動産情報サイトからの情報</td>\n",
       "      <td id=\"T_654df_row2_col1\" class=\"data row2 col1\" >東京都西東京市東伏見五丁目4-1</td>\n",
       "      <td id=\"T_654df_row2_col2\" class=\"data row2 col2\" >2020年12月</td>\n",
       "      <td id=\"T_654df_row2_col3\" class=\"data row2 col3\" >令和3年1月14日</td>\n",
       "    </tr>\n",
       "    <tr>\n",
       "      <th id=\"T_654df_level0_row3\" class=\"row_heading level0 row3\" >3</th>\n",
       "      <td id=\"T_654df_row3_col0\" class=\"data row3 col0\" >心理的瑕疵物件\r\n",
       "不動産情報に記載</td>\n",
       "      <td id=\"T_654df_row3_col1\" class=\"data row3 col1\" >東京都練馬区関町北三丁目4-5 アイル関町 2階</td>\n",
       "      <td id=\"T_654df_row3_col2\" class=\"data row3 col2\" >時期不明</td>\n",
       "      <td id=\"T_654df_row3_col3\" class=\"data row3 col3\" >平成29年10月27日</td>\n",
       "    </tr>\n",
       "  </tbody>\n",
       "</table>\n"
      ],
      "text/plain": [
       "<pandas.io.formats.style.Styler at 0x7fac4bf38fd0>"
      ]
     },
     "metadata": {},
     "output_type": "display_data"
    }
   ],
   "source": [
    "#* '武藏野市'\n",
    "data = {'keys' : [\"1330021122111312\", \"1330021122111313\", \"1330021122111330\", \"1330021122111332\"]}\n",
    "json_data = getJsonData(data)\n",
    "jsonValueList = dataList(data, json_data)\n",
    "df2 = getinfo(jsonValueList)\n",
    "display(stylize_simple(df2.head(4), '武藏野市'))"
   ]
  },
  {
   "cell_type": "code",
   "execution_count": 33,
   "metadata": {},
   "outputs": [
    {
     "data": {
      "application/vnd.jupyter.widget-view+json": {
       "model_id": "77518414af31422dbde43de319120abc",
       "version_major": 2,
       "version_minor": 0
      },
      "text/plain": [
       "  0%|          | 0/9 [00:00<?, ?it/s]"
      ]
     },
     "metadata": {},
     "output_type": "display_data"
    },
    {
     "data": {
      "text/html": [
       "<style type=\"text/css\">\n",
       "#T_3c82e th {\n",
       "  font-size: 11pt;\n",
       "  background-color: #b57edc;\n",
       "  color: white;\n",
       "  font-weight: bold;\n",
       "  border-bottom: 0.1px solid white;\n",
       "  border-left: 0.1px solid white;\n",
       "  text-align: right;\n",
       "}\n",
       "#T_3c82e th.blank.level0 {\n",
       "  font-weight: bold;\n",
       "  border-left: 1.7px solid white;\n",
       "  background-color: white;\n",
       "}\n",
       "#T_3c82e td {\n",
       "  padding: 0.5em 1em;\n",
       "  text-align: right;\n",
       "}\n",
       "#T_3c82e th:hover {\n",
       "  font-size: 14pt;\n",
       "}\n",
       "#T_3c82e tr:hover td:hover {\n",
       "  max-width: 250px;\n",
       "  font-size: 14pt;\n",
       "  color: #b57edc;\n",
       "  font-weight: bold;\n",
       "  background-color: white;\n",
       "  border: 1px dashed #b57edc;\n",
       "}\n",
       "#T_3c82e caption {\n",
       "  caption-side: bottom;\n",
       "}\n",
       "</style>\n",
       "<table id=\"T_3c82e\">\n",
       "  <caption>狛江市</caption>\n",
       "  <thead>\n",
       "    <tr>\n",
       "      <th class=\"blank level0\" >&nbsp;</th>\n",
       "      <th id=\"T_3c82e_level0_col0\" class=\"col_heading level0 col0\" >info</th>\n",
       "      <th id=\"T_3c82e_level0_col1\" class=\"col_heading level0 col1\" >address</th>\n",
       "      <th id=\"T_3c82e_level0_col2\" class=\"col_heading level0 col2\" >dt</th>\n",
       "      <th id=\"T_3c82e_level0_col3\" class=\"col_heading level0 col3\" >cr</th>\n",
       "    </tr>\n",
       "  </thead>\n",
       "  <tbody>\n",
       "    <tr>\n",
       "      <th id=\"T_3c82e_level0_row0\" class=\"row_heading level0 row0\" >0</th>\n",
       "      <td id=\"T_3c82e_row0_col0\" class=\"data row0 col0\" >心理的瑕疵有\r\n",
       "内装リフォーム済：2018年01月</td>\n",
       "      <td id=\"T_3c82e_row0_col1\" class=\"data row0 col1\" >東京都狛江市和泉本町一丁目36-3 狛江セントラルハイツ３号棟 8階</td>\n",
       "      <td id=\"T_3c82e_row0_col2\" class=\"data row0 col2\" >時期不明</td>\n",
       "      <td id=\"T_3c82e_row0_col3\" class=\"data row0 col3\" >平成30年5月22日</td>\n",
       "    </tr>\n",
       "    <tr>\n",
       "      <th id=\"T_3c82e_level0_row1\" class=\"row_heading level0 row1\" >1</th>\n",
       "      <td id=\"T_3c82e_row1_col0\" class=\"data row1 col0\" >205号室 過労死</td>\n",
       "      <td id=\"T_3c82e_row1_col1\" class=\"data row1 col1\" >東京都狛江市岩戸北一丁目12-10</td>\n",
       "      <td id=\"T_3c82e_row1_col2\" class=\"data row1 col2\" >平成30年3月25日</td>\n",
       "      <td id=\"T_3c82e_row1_col3\" class=\"data row1 col3\" >令和元年10月8日</td>\n",
       "    </tr>\n",
       "    <tr>\n",
       "      <th id=\"T_3c82e_level0_row2\" class=\"row_heading level0 row2\" >2</th>\n",
       "      <td id=\"T_3c82e_row2_col0\" class=\"data row2 col0\" >遺体発見</td>\n",
       "      <td id=\"T_3c82e_row2_col1\" class=\"data row2 col1\" >東京都狛江市和泉本町一丁目13-16</td>\n",
       "      <td id=\"T_3c82e_row2_col2\" class=\"data row2 col2\" >平成30年1月28日</td>\n",
       "      <td id=\"T_3c82e_row2_col3\" class=\"data row2 col3\" >平成30年1月29日</td>\n",
       "    </tr>\n",
       "    <tr>\n",
       "      <th id=\"T_3c82e_level0_row3\" class=\"row_heading level0 row3\" >3</th>\n",
       "      <td id=\"T_3c82e_row3_col0\" class=\"data row3 col0\" >15階より 飛び降り自殺</td>\n",
       "      <td id=\"T_3c82e_row3_col1\" class=\"data row3 col1\" >東京都狛江市和泉本町一丁目36-1 狛江セントラルハイツ1号棟</td>\n",
       "      <td id=\"T_3c82e_row3_col2\" class=\"data row3 col2\" >平成20年6月21日</td>\n",
       "      <td id=\"T_3c82e_row3_col3\" class=\"data row3 col3\" >令和4年9月26日</td>\n",
       "    </tr>\n",
       "  </tbody>\n",
       "</table>\n"
      ],
      "text/plain": [
       "<pandas.io.formats.style.Styler at 0x7fac4bfa3610>"
      ]
     },
     "metadata": {},
     "output_type": "display_data"
    }
   ],
   "source": [
    "#* '狛江市'\n",
    "data = {'keys': [\"1330021123022001\", \"1330021123022003\"]}\n",
    "json_data = getJsonData(data)\n",
    "jsonValueList = dataList(data, json_data)\n",
    "df3 = getinfo(jsonValueList)\n",
    "display(stylize_simple(df3.head(4), '狛江市'))"
   ]
  },
  {
   "cell_type": "code",
   "execution_count": 36,
   "metadata": {},
   "outputs": [
    {
     "data": {
      "application/vnd.jupyter.widget-view+json": {
       "model_id": "b86c4c023c844fa2acac8f79a2b6c2de",
       "version_major": 2,
       "version_minor": 0
      },
      "text/plain": [
       "  0%|          | 0/7 [00:00<?, ?it/s]"
      ]
     },
     "metadata": {},
     "output_type": "display_data"
    },
    {
     "data": {
      "text/html": [
       "<style type=\"text/css\">\n",
       "#T_0d645 th {\n",
       "  font-size: 11pt;\n",
       "  background-color: #b57edc;\n",
       "  color: white;\n",
       "  font-weight: bold;\n",
       "  border-bottom: 0.1px solid white;\n",
       "  border-left: 0.1px solid white;\n",
       "  text-align: right;\n",
       "}\n",
       "#T_0d645 th.blank.level0 {\n",
       "  font-weight: bold;\n",
       "  border-left: 1.7px solid white;\n",
       "  background-color: white;\n",
       "}\n",
       "#T_0d645 td {\n",
       "  padding: 0.5em 1em;\n",
       "  text-align: right;\n",
       "}\n",
       "#T_0d645 th:hover {\n",
       "  font-size: 14pt;\n",
       "}\n",
       "#T_0d645 tr:hover td:hover {\n",
       "  max-width: 250px;\n",
       "  font-size: 14pt;\n",
       "  color: #b57edc;\n",
       "  font-weight: bold;\n",
       "  background-color: white;\n",
       "  border: 1px dashed #b57edc;\n",
       "}\n",
       "#T_0d645 caption {\n",
       "  caption-side: bottom;\n",
       "}\n",
       "</style>\n",
       "<table id=\"T_0d645\">\n",
       "  <caption>国分寺市</caption>\n",
       "  <thead>\n",
       "    <tr>\n",
       "      <th class=\"blank level0\" >&nbsp;</th>\n",
       "      <th id=\"T_0d645_level0_col0\" class=\"col_heading level0 col0\" >info</th>\n",
       "      <th id=\"T_0d645_level0_col1\" class=\"col_heading level0 col1\" >address</th>\n",
       "      <th id=\"T_0d645_level0_col2\" class=\"col_heading level0 col2\" >dt</th>\n",
       "      <th id=\"T_0d645_level0_col3\" class=\"col_heading level0 col3\" >cr</th>\n",
       "    </tr>\n",
       "  </thead>\n",
       "  <tbody>\n",
       "    <tr>\n",
       "      <th id=\"T_0d645_level0_row0\" class=\"row_heading level0 row0\" >0</th>\n",
       "      <td id=\"T_0d645_row0_col0\" class=\"data row0 col0\" >首吊り自殺</td>\n",
       "      <td id=\"T_0d645_row0_col1\" class=\"data row0 col1\" >東京都国分寺市戸倉一丁目8-25</td>\n",
       "      <td id=\"T_0d645_row0_col2\" class=\"data row0 col2\" >2021年5月</td>\n",
       "      <td id=\"T_0d645_row0_col3\" class=\"data row0 col3\" >令和3年6月27日</td>\n",
       "    </tr>\n",
       "    <tr>\n",
       "      <th id=\"T_0d645_level0_row1\" class=\"row_heading level0 row1\" >1</th>\n",
       "      <td id=\"T_0d645_row1_col0\" class=\"data row1 col0\" >火災により78歳男性が4日後に亡くなった</td>\n",
       "      <td id=\"T_0d645_row1_col1\" class=\"data row1 col1\" >東京都国分寺市日吉町四丁目6-1</td>\n",
       "      <td id=\"T_0d645_row1_col2\" class=\"data row1 col2\" >平成29年7月22日</td>\n",
       "      <td id=\"T_0d645_row1_col3\" class=\"data row1 col3\" >平成30年1月24日</td>\n",
       "    </tr>\n",
       "    <tr>\n",
       "      <th id=\"T_0d645_level0_row2\" class=\"row_heading level0 row2\" >2</th>\n",
       "      <td id=\"T_0d645_row2_col0\" class=\"data row2 col0\" >5階 角部屋\n",
       "告知事項有り</td>\n",
       "      <td id=\"T_0d645_row2_col1\" class=\"data row2 col1\" >東京都国分寺市戸倉一丁目8-25 PlaceK</td>\n",
       "      <td id=\"T_0d645_row2_col2\" class=\"data row2 col2\" >令和4年10月6日</td>\n",
       "      <td id=\"T_0d645_row2_col3\" class=\"data row2 col3\" >令和4年10月7日</td>\n",
       "    </tr>\n",
       "    <tr>\n",
       "      <th id=\"T_0d645_level0_row3\" class=\"row_heading level0 row3\" >3</th>\n",
       "      <td id=\"T_0d645_row3_col0\" class=\"data row3 col0\" >6階 角部屋\n",
       "告知事項有り</td>\n",
       "      <td id=\"T_0d645_row3_col1\" class=\"data row3 col1\" >東京都国分寺市戸倉一丁目8-25 PlaceK</td>\n",
       "      <td id=\"T_0d645_row3_col2\" class=\"data row3 col2\" >令和4年10月6日</td>\n",
       "      <td id=\"T_0d645_row3_col3\" class=\"data row3 col3\" >令和4年10月7日</td>\n",
       "    </tr>\n",
       "  </tbody>\n",
       "</table>\n"
      ],
      "text/plain": [
       "<pandas.io.formats.style.Styler at 0x7fac4bfdc0d0>"
      ]
     },
     "metadata": {},
     "output_type": "display_data"
    }
   ],
   "source": [
    "#* '国分寺市'\n",
    "data = {'keys': [\"1330021122103100\"]}\n",
    "json_data = getJsonData(data)\n",
    "jsonValueList = dataList(data, json_data)\n",
    "df4 = getinfo(jsonValueList)\n",
    "display(stylize_simple(df4.head(4), '国分寺市'))"
   ]
  },
  {
   "cell_type": "code",
   "execution_count": 39,
   "metadata": {},
   "outputs": [
    {
     "data": {
      "application/vnd.jupyter.widget-view+json": {
       "model_id": "e6c69e87b5f04c94aa7ea53a69013bbc",
       "version_major": 2,
       "version_minor": 0
      },
      "text/plain": [
       "  0%|          | 0/4 [00:00<?, ?it/s]"
      ]
     },
     "metadata": {},
     "output_type": "display_data"
    },
    {
     "data": {
      "text/html": [
       "<style type=\"text/css\">\n",
       "#T_43a1c th {\n",
       "  font-size: 11pt;\n",
       "  background-color: #b57edc;\n",
       "  color: white;\n",
       "  font-weight: bold;\n",
       "  border-bottom: 0.1px solid white;\n",
       "  border-left: 0.1px solid white;\n",
       "  text-align: right;\n",
       "}\n",
       "#T_43a1c th.blank.level0 {\n",
       "  font-weight: bold;\n",
       "  border-left: 1.7px solid white;\n",
       "  background-color: white;\n",
       "}\n",
       "#T_43a1c td {\n",
       "  padding: 0.5em 1em;\n",
       "  text-align: right;\n",
       "}\n",
       "#T_43a1c th:hover {\n",
       "  font-size: 14pt;\n",
       "}\n",
       "#T_43a1c tr:hover td:hover {\n",
       "  max-width: 250px;\n",
       "  font-size: 14pt;\n",
       "  color: #b57edc;\n",
       "  font-weight: bold;\n",
       "  background-color: white;\n",
       "  border: 1px dashed #b57edc;\n",
       "}\n",
       "#T_43a1c caption {\n",
       "  caption-side: bottom;\n",
       "}\n",
       "</style>\n",
       "<table id=\"T_43a1c\">\n",
       "  <caption>国立市</caption>\n",
       "  <thead>\n",
       "    <tr>\n",
       "      <th class=\"blank level0\" >&nbsp;</th>\n",
       "      <th id=\"T_43a1c_level0_col0\" class=\"col_heading level0 col0\" >info</th>\n",
       "      <th id=\"T_43a1c_level0_col1\" class=\"col_heading level0 col1\" >address</th>\n",
       "      <th id=\"T_43a1c_level0_col2\" class=\"col_heading level0 col2\" >dt</th>\n",
       "      <th id=\"T_43a1c_level0_col3\" class=\"col_heading level0 col3\" >cr</th>\n",
       "    </tr>\n",
       "  </thead>\n",
       "  <tbody>\n",
       "    <tr>\n",
       "      <th id=\"T_43a1c_level0_row0\" class=\"row_heading level0 row0\" >0</th>\n",
       "      <td id=\"T_43a1c_row0_col0\" class=\"data row0 col0\" >死体発見</td>\n",
       "      <td id=\"T_43a1c_row0_col1\" class=\"data row0 col1\" >東京都国立市富士見台二丁目46 UR国立富士見台第2団地2-5号棟506</td>\n",
       "      <td id=\"T_43a1c_row0_col2\" class=\"data row0 col2\" >平成27年9月22日</td>\n",
       "      <td id=\"T_43a1c_row0_col3\" class=\"data row0 col3\" >平成27年9月23日</td>\n",
       "    </tr>\n",
       "    <tr>\n",
       "      <th id=\"T_43a1c_level0_row1\" class=\"row_heading level0 row1\" >1</th>\n",
       "      <td id=\"T_43a1c_row1_col0\" class=\"data row1 col0\" >友人が自殺しました。</td>\n",
       "      <td id=\"T_43a1c_row1_col1\" class=\"data row1 col1\" >東京都国立市富士見台二丁目46-4 第2団地5-110</td>\n",
       "      <td id=\"T_43a1c_row1_col2\" class=\"data row1 col2\" >平成28年7月10日</td>\n",
       "      <td id=\"T_43a1c_row1_col3\" class=\"data row1 col3\" >平成30年3月10日</td>\n",
       "    </tr>\n",
       "    <tr>\n",
       "      <th id=\"T_43a1c_level0_row2\" class=\"row_heading level0 row2\" >2</th>\n",
       "      <td id=\"T_43a1c_row2_col0\" class=\"data row2 col0\" >遺体発見</td>\n",
       "      <td id=\"T_43a1c_row2_col1\" class=\"data row2 col1\" >東京都国立市富士見台二丁目四六丁目2-5-401</td>\n",
       "      <td id=\"T_43a1c_row2_col2\" class=\"data row2 col2\" >2020年6月１７日</td>\n",
       "      <td id=\"T_43a1c_row2_col3\" class=\"data row2 col3\" >令和2年7月7日</td>\n",
       "    </tr>\n",
       "    <tr>\n",
       "      <th id=\"T_43a1c_level0_row3\" class=\"row_heading level0 row3\" >3</th>\n",
       "      <td id=\"T_43a1c_row3_col0\" class=\"data row3 col0\" >2階上がって左端の部屋、異臭により通報、浴室で男性の腐乱死体発見。体は溶け下半身は白骨化していた模様。男性はパニック障害者で孤高死でした。</td>\n",
       "      <td id=\"T_43a1c_row3_col1\" class=\"data row3 col1\" >東京都国立市富士見台二丁目43-2</td>\n",
       "      <td id=\"T_43a1c_row3_col2\" class=\"data row3 col2\" >2019年秋</td>\n",
       "      <td id=\"T_43a1c_row3_col3\" class=\"data row3 col3\" >令和2年7月12日</td>\n",
       "    </tr>\n",
       "  </tbody>\n",
       "</table>\n"
      ],
      "text/plain": [
       "<pandas.io.formats.style.Styler at 0x7fac4bfcc610>"
      ]
     },
     "metadata": {},
     "output_type": "display_data"
    }
   ],
   "source": [
    "#* '国立市'\n",
    "data = {'keys': [\"1330021122103202\"]}\n",
    "json_data = getJsonData(data)\n",
    "jsonValueList = dataList(data, json_data)\n",
    "df5 = getinfo(jsonValueList)\n",
    "display(stylize_simple(df5.head(4), '国立市'))"
   ]
  },
  {
   "cell_type": "code",
   "execution_count": 47,
   "metadata": {},
   "outputs": [],
   "source": [
    "dataframeNameList = [f\"df{idx}\" for idx in range(1, len(result_list))]\n",
    "result = pd.DataFrame()\n",
    "for df in dataframeNameList:\n",
    "    result = pd.concat([result, eval(df)])"
   ]
  },
  {
   "cell_type": "code",
   "execution_count": 48,
   "metadata": {},
   "outputs": [],
   "source": [
    "result.rename(columns = {'dt' : 'occurred_date', 'cr' : 'recorded_date'}, inplace = True)\n",
    "result.reset_index(drop=True, inplace=True)"
   ]
  },
  {
   "cell_type": "code",
   "execution_count": 49,
   "metadata": {},
   "outputs": [],
   "source": [
    "#* \\n, \\r 제거\n",
    "def remove_newlines(text):\n",
    "    return text.replace('\\n', ' ').replace('\\r', ' ')"
   ]
  },
  {
   "cell_type": "code",
   "execution_count": 50,
   "metadata": {},
   "outputs": [
    {
     "data": {
      "text/html": [
       "<style type=\"text/css\">\n",
       "#T_b9f45 th {\n",
       "  font-size: 11pt;\n",
       "  background-color: #b57edc;\n",
       "  color: white;\n",
       "  font-weight: bold;\n",
       "  border-bottom: 0.1px solid white;\n",
       "  border-left: 0.1px solid white;\n",
       "  text-align: right;\n",
       "}\n",
       "#T_b9f45 th.blank.level0 {\n",
       "  font-weight: bold;\n",
       "  border-left: 1.7px solid white;\n",
       "  background-color: white;\n",
       "}\n",
       "#T_b9f45 td {\n",
       "  padding: 0.5em 1em;\n",
       "  text-align: right;\n",
       "}\n",
       "#T_b9f45 th:hover {\n",
       "  font-size: 14pt;\n",
       "}\n",
       "#T_b9f45 tr:hover td:hover {\n",
       "  max-width: 250px;\n",
       "  font-size: 14pt;\n",
       "  color: #b57edc;\n",
       "  font-weight: bold;\n",
       "  background-color: white;\n",
       "  border: 1px dashed #b57edc;\n",
       "}\n",
       "#T_b9f45 caption {\n",
       "  caption-side: bottom;\n",
       "}\n",
       "</style>\n",
       "<table id=\"T_b9f45\">\n",
       "  <caption>Total Dataset</caption>\n",
       "  <thead>\n",
       "    <tr>\n",
       "      <th class=\"blank level0\" >&nbsp;</th>\n",
       "      <th id=\"T_b9f45_level0_col0\" class=\"col_heading level0 col0\" >info</th>\n",
       "      <th id=\"T_b9f45_level0_col1\" class=\"col_heading level0 col1\" >address</th>\n",
       "      <th id=\"T_b9f45_level0_col2\" class=\"col_heading level0 col2\" >occurred_date</th>\n",
       "      <th id=\"T_b9f45_level0_col3\" class=\"col_heading level0 col3\" >recorded_date</th>\n",
       "    </tr>\n",
       "  </thead>\n",
       "  <tbody>\n",
       "    <tr>\n",
       "      <th id=\"T_b9f45_level0_row0\" class=\"row_heading level0 row0\" >0</th>\n",
       "      <td id=\"T_b9f45_row0_col0\" class=\"data row0 col0\" >今建っている家の前の平屋で男性が孤独死。後にミイラ化。</td>\n",
       "      <td id=\"T_b9f45_row0_col1\" class=\"data row0 col1\" >東京都清瀬市中清戸二丁目71855</td>\n",
       "      <td id=\"T_b9f45_row0_col2\" class=\"data row0 col2\" >2001年頃</td>\n",
       "      <td id=\"T_b9f45_row0_col3\" class=\"data row0 col3\" >令和5年3月14日</td>\n",
       "    </tr>\n",
       "    <tr>\n",
       "      <th id=\"T_b9f45_level0_row1\" class=\"row_heading level0 row1\" >1</th>\n",
       "      <td id=\"T_b9f45_row1_col0\" class=\"data row1 col0\" >101号室 角部屋\n",
       "告知事項有り</td>\n",
       "      <td id=\"T_b9f45_row1_col1\" class=\"data row1 col1\" >東京都清瀬市中里三丁目7910 東和コーポ</td>\n",
       "      <td id=\"T_b9f45_row1_col2\" class=\"data row1 col2\" >令和4年6月2日</td>\n",
       "      <td id=\"T_b9f45_row1_col3\" class=\"data row1 col3\" >令和4年6月2日</td>\n",
       "    </tr>\n",
       "    <tr>\n",
       "      <th id=\"T_b9f45_level0_row2\" class=\"row_heading level0 row2\" >2</th>\n",
       "      <td id=\"T_b9f45_row2_col0\" class=\"data row2 col0\" >ここに住んでた中学生が飛び降り死亡</td>\n",
       "      <td id=\"T_b9f45_row2_col1\" class=\"data row2 col1\" >東京都清瀬市中里五丁目28</td>\n",
       "      <td id=\"T_b9f45_row2_col2\" class=\"data row2 col2\" ></td>\n",
       "      <td id=\"T_b9f45_row2_col3\" class=\"data row2 col3\" >平成24年1月22日</td>\n",
       "    </tr>\n",
       "    <tr>\n",
       "      <th id=\"T_b9f45_level0_row3\" class=\"row_heading level0 row3\" >3</th>\n",
       "      <td id=\"T_b9f45_row3_col0\" class=\"data row3 col0\" >告知事項ありの記載</td>\n",
       "      <td id=\"T_b9f45_row3_col1\" class=\"data row3 col1\" >東京都清瀬市中清戸四丁目9092 グランディール 1階</td>\n",
       "      <td id=\"T_b9f45_row3_col2\" class=\"data row3 col2\" >不明</td>\n",
       "      <td id=\"T_b9f45_row3_col3\" class=\"data row3 col3\" >平成29年10月24日</td>\n",
       "    </tr>\n",
       "  </tbody>\n",
       "</table>\n"
      ],
      "text/plain": [
       "<pandas.io.formats.style.Styler at 0x7fac318832e0>"
      ]
     },
     "metadata": {},
     "output_type": "display_data"
    }
   ],
   "source": [
    "#* 특수문자 제거\n",
    "#* string.punctuation에 있는 특수문자를 모두 제거\n",
    "#* string.punctuation = '!\"#$%&\\'()*+,-./:;<=>?@[\\\\]^_`{|}~'\n",
    "# 특수문자를 제거하는 함수 정의\n",
    "def remove_special_characters(text):\n",
    "    # string.punctuation에 있는 특수문자를 빈 문자열('')로 대체하여 제거\n",
    "    for char in text:\n",
    "        if char in string.punctuation:\n",
    "            text = text.replace(char, '')\n",
    "    return text\n",
    "result = result.applymap(remove_special_characters)\n",
    "display(stylize_simple(result.head(4), 'Total Dataset'))"
   ]
  },
  {
   "cell_type": "code",
   "execution_count": 51,
   "metadata": {},
   "outputs": [],
   "source": [
    "# #* 특수문자 제거2\n",
    "# def remove_special_characters2(text):\n",
    "#     return text.replace('(', '').replace(')', '')\n",
    "\n",
    "# result = result.applymap(remove_special_characters2)\n",
    "# result\n",
    "#! (, ) 제거가 안됨\n",
    "#! 화살표도 존재"
   ]
  },
  {
   "cell_type": "code",
   "execution_count": 52,
   "metadata": {},
   "outputs": [],
   "source": [
    "result.to_csv('oshimaland_dataset2.csv', index = False)"
   ]
  }
 ],
 "metadata": {
  "kernelspec": {
   "display_name": "genie",
   "language": "python",
   "name": "python3"
  },
  "language_info": {
   "codemirror_mode": {
    "name": "ipython",
    "version": 3
   },
   "file_extension": ".py",
   "mimetype": "text/x-python",
   "name": "python",
   "nbconvert_exporter": "python",
   "pygments_lexer": "ipython3",
   "version": "3.8.16"
  },
  "orig_nbformat": 4
 },
 "nbformat": 4,
 "nbformat_minor": 2
}
