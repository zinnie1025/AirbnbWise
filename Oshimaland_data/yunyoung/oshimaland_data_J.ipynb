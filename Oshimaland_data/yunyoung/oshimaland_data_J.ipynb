{
 "cells": [
  {
   "attachments": {},
   "cell_type": "markdown",
   "metadata": {},
   "source": [
    "### 도쿄 부동산 사건 데이터 수집 \n",
    "출처 :  <a href = 'http://www.oshimaland.co.jp'> 오시마랜드 </a>\n",
    "\n",
    "사이트 정보 : 본 웹사이트는 자살사건, 시체유기사건, 살인사건 등 과거에 불미스러운 사건이 있었던 건물을 모아서 보여줍니다.\n",
    "\n",
    "####도쿄 \n",
    "\n",
    "```\n",
    "\n",
    "```\n"
   ]
  },
  {
   "cell_type": "code",
   "execution_count": null,
   "metadata": {},
   "outputs": [],
   "source": [
    "# !pip install googletrans==4.0.0-rc1\n",
    "# !pip install webdriver-manager\n",
    "# !pip install requests"
   ]
  },
  {
   "cell_type": "markdown",
   "metadata": {},
   "source": [
    "## 에어비앤비 주요 지역 탐색 "
   ]
  },
  {
   "cell_type": "markdown",
   "metadata": {},
   "source": [
    "#### 1. 영어로된 일본 지역 리스트 본어로 전처리 \n",
    "- 오시마랜드는 영오도 지원되나 일본어로 검색하는게 정확도가 높다 판단하여 일본어로 변경해준다 \n",
    "- googletrans를 이용해 번역할 경우 정확도가 떨어진다\n",
    "- 45개 지역 하드코딩으로 번역"
   ]
  },
  {
   "cell_type": "code",
   "execution_count": null,
   "metadata": {},
   "outputs": [],
   "source": [
    "from googletrans import Translator\n",
    "import pandas as pd\n",
    "\n",
    "main_district = pd.read_csv('C:\\\\Users\\\\lucky\\\\Documents\\\\COLLABORATION\\\\AirbnbWise\\\\Oshimaland_data\\\\jieun\\\\main_district_df2.csv')\n",
    "# district_list  = main_district['neighbourhood_cleansed'].values\n",
    "# translator = Translator()\n",
    "# jp_district_list = list(map(lambda district: translator.translate(district, src='en', dest='ja').text.replace(' ',''),district_list))\n",
    "# jp_district_list[: 10]\n"
   ]
  },
  {
   "cell_type": "markdown",
   "metadata": {},
   "source": [
    "#### Inside AIrbne 주요 지역"
   ]
  },
  {
   "cell_type": "code",
   "execution_count": null,
   "metadata": {},
   "outputs": [],
   "source": [
    "jp_district_list = [\n",
    "    '新宿区', '台東区', '墨田区', '豊島区', '渋谷区',\n",
    "    '港区', '世田谷区', '大田区', '中野区', '中央区',\n",
    "    '北区', '葛飾区', '杉並区', '江東区', '江戸川区',\n",
    "    '文京区', '荒川区', '板橋区', '品川区', '千代田区',\n",
    "    '足立区', '目黒区', '練馬区', '府中市', '八王子市',\n",
    "    '日野市', '国分寺市', '町田市', '青梅市', '調布市',\n",
    "    '武蔵野市', 'あきる野市', '三鷹市', '小金井市', '東村山市',\n",
    "    '多摩市', '国立市', '狛江市', '西東京市', '立川市',\n",
    "    '小平市', '羽村市', '武蔵村山市', '奥多摩町', '昭島市',\n",
    "    '福生市'\n",
    "]"
   ]
  },
  {
   "cell_type": "markdown",
   "metadata": {},
   "source": [
    "#### 2. geojosn 파일 이용\n",
    "InsideAirbnb 제공 geo 파일 사용"
   ]
  },
  {
   "cell_type": "code",
   "execution_count": null,
   "metadata": {},
   "outputs": [],
   "source": [
    "import json\n",
    "import pandas as pd"
   ]
  },
  {
   "cell_type": "code",
   "execution_count": null,
   "metadata": {},
   "outputs": [],
   "source": [
    "with open('C:\\\\Users\\\\lucky\\\\Documents\\\\COLLABORATION\\\\AirbnbWise\\\\Tokyo_Airbnb\\\\data\\\\neighbourhoods.geojson') as f:\n",
    "    json_f = json.loads(f.read()) # json 라이브러리 이용\n",
    "\n",
    "geo_df = pd.DataFrame(json_f)\n",
    "geo_df = pd.read_json('C:\\\\Users\\\\lucky\\\\Documents\\\\COLLABORATION\\\\AirbnbWise\\\\Tokyo_Airbnb\\\\data\\\\neighbourhoods.geojson') # pd.read_json 이용\n"
   ]
  },
  {
   "cell_type": "code",
   "execution_count": null,
   "metadata": {},
   "outputs": [],
   "source": [
    "geojson_path = 'C:\\\\Users\\\\lucky\\\\Documents\\\\COLLABORATION\\\\AirbnbWise\\\\Tokyo_Airbnb\\\\data\\\\neighbourhoods.geojson'\n",
    "# gdf = gpd.read_file(geojson_path)\n",
    "# gdf\n",
    "\n",
    "with open(geojson_path) as f:\n",
    "    geo_data = json.load(f)\n",
    "\n",
    "geo_data"
   ]
  },
  {
   "cell_type": "code",
   "execution_count": null,
   "metadata": {},
   "outputs": [],
   "source": [
    "features = geo_data['features']\n",
    "\n",
    "geo_dict = {}\n",
    "for feature in features:\n",
    "    coordinates = feature[\"geometry\"]['coordinates']\n",
    "    neighbourhood = feature[\"properties\"]['neighbourhood']\n",
    "    if neighbourhood in list(main_district['neighbourhood_cleansed'].values):\n",
    "          lat_lng = coordinates[0][len(coordinates[0])//2]\n",
    "          geo_dict[neighbourhood] = lat_lng\n",
    "\n",
    "geo_dict"
   ]
  },
  {
   "cell_type": "markdown",
   "metadata": {},
   "source": [
    "## 크롤링 \n",
    "- 크롤링 메서드 생성 "
   ]
  },
  {
   "cell_type": "code",
   "execution_count": null,
   "metadata": {},
   "outputs": [],
   "source": [
    "# 좌표값 리스트를 한 줄 만들기 \n",
    "flat_coordinates = [ring for sublist in geo_dict.values() for ring in sublist ]\n",
    "print(flat_coordinates)"
   ]
  },
  {
   "cell_type": "code",
   "execution_count": null,
   "metadata": {},
   "outputs": [],
   "source": [
    "import pandas as pd\n",
    "import numpy as np \n",
    "\n",
    "from selenium import webdriver\n",
    "from selenium.webdriver.chrome.service import Service\n",
    "from webdriver_manager.chrome import ChromeDriverManager\n",
    "from selenium.webdriver.common.by import By\n",
    "from selenium.webdriver.common.keys import Keys\n",
    "from selenium.webdriver.support.ui import WebDriverWait\n",
    "from selenium.webdriver.support import expected_conditions as EC\n",
    "from bs4 import BeautifulSoup\n",
    "\n",
    "import time"
   ]
  },
  {
   "cell_type": "markdown",
   "metadata": {},
   "source": [
    "####  1. oshimaland 웹사이트 불러오기\n"
   ]
  },
  {
   "cell_type": "code",
   "execution_count": null,
   "metadata": {},
   "outputs": [],
   "source": [
    "def loadWeb(driver, url):\n",
    "    # header 추가하기 \n",
    "\n",
    "    \n",
    "    # 화면 최대 크기 설정 \n",
    "    driver.get(url)\n",
    "    driver.maximize_window()\n",
    "    #모든 창이 로딩 될떄까지 기다려 줌 \n",
    "    time.sleep(3)\n",
    "    #팝업창 화면 전환 후 닫아주기\n",
    "    multi_window = driver.window_handles\n",
    "    if(len(multi_window)>1):\n",
    "        driver.switch_to.window(driver.window_handles[-1])\n",
    "        driver.close()\n",
    "        time.sleep(3)\n",
    "        # 접근 페이지 다시 요청\n",
    "        driver.switch_to.window(driver.window_handles[-1])\n",
    "        driver.get(url)\n",
    "    \n",
    "    # 전체 지도 축소 \n",
    "    # driver.execute_script(\"document.body.style.zoom='60%'\")    \n",
    "    # time.sleep(2)\n",
    "\n",
    "\n"
   ]
  },
  {
   "cell_type": "markdown",
   "metadata": {},
   "source": [
    "#### 2. 부동산 관련 사건 정보 수집"
   ]
  },
  {
   "cell_type": "code",
   "execution_count": null,
   "metadata": {},
   "outputs": [],
   "source": [
    "from selenium.webdriver.common.action_chains import ActionChains\n",
    "\n",
    "from selenium.common.exceptions import NoSuchElementException, NoSuchWindowException, MoveTargetOutOfBoundsException, StaleElementReferenceException, WebDriverException\n",
    "\n",
    "def get_fire(driver, tokyo_data_dict, district):\n",
    "        # fire 객체 수집 \n",
    "        fire_object_list = driver.find_element(By.CSS_SELECTOR, '#map-canvas > div.mk-map-view.mk-disable-all-gestures > div > div.mk-annotation-container')\n",
    "        fire_list = fire_object_list.find_elements(By.CSS_SELECTOR, '.map-fire')\n",
    "        print('fire 개수: ', len(fire_list))\n",
    "        for fire in fire_list:\n",
    "            try: \n",
    "                is_enabled = fire.is_enabled()\n",
    "                actions = ActionChains(driver)                 \n",
    "                if is_enabled:\n",
    "                    # 클릭이 가능하며 현재 화면에 표시 될 때 클릭 수행\n",
    "                    # print('click OK')\n",
    "                    if fire.is_displayed():\n",
    "                        # print('display OK')\n",
    "                        # x_offset = 200  # x 좌표를 조정할 값\n",
    "                        # y_offset = 200  # y 좌표를 조정할 값\n",
    "                        # driver.execute_script(\"arguments[0].scrollIntoView();\", fire)\n",
    "                        # actions.move_to_element_with_offset(fire, x_offset, y_offset)\n",
    "                        # actions.click()\n",
    "                        # actions.perform()\n",
    "\n",
    "                        # 팝업창 클릭                         \n",
    "                        actions = ActionChains(driver)                 \n",
    "                        actions.move_to_element(fire).click().perform()\n",
    "\n",
    "                        # 팝업 정보 가져오기 \n",
    "                        # time.sleep(5)\n",
    "                        WebDriverWait(driver, 7).until(EC.presence_of_element_located((By.CSS_SELECTOR, 'li.property-info-date > span')))\n",
    "                        info_date = driver.find_element(By.CSS_SELECTOR, 'li.property-info-date > span').text\n",
    "                        info_address = driver.find_element(By.CSS_SELECTOR, 'li.property-info-address').text\n",
    "                        info_content = driver.find_element(By.CSS_SELECTOR, 'div.popup-property-info > section > ul > li:nth-child(3)').text\n",
    "\n",
    "                        tokyo_data_dict.append({\n",
    "                            'district': district,\n",
    "                            'date': info_date,\n",
    "                            'address': info_address,\n",
    "                            'content': info_content\n",
    "                        })\n",
    "\n",
    "                        time.sleep(3)\n",
    "\n",
    "                    else:\n",
    "                        pass\n",
    "                        # print('display NOT')\n",
    "                else:\n",
    "                     pass\n",
    "                    # print('click not')\n",
    "\n",
    "            except (NoSuchElementException, NoSuchWindowException, MoveTargetOutOfBoundsException, StaleElementReferenceException, WebDriverException) as e:\n",
    "                # 에러 처리\n",
    "                print(f\"Error occurred: {e}\")\n",
    "\n",
    "                # 필요한 경우 WebDriver 인스턴스 재초기화 등의 작업 수행\n",
    "                # driver = initialize_driver()\n",
    "\n",
    "                continue\n"
   ]
  },
  {
   "cell_type": "markdown",
   "metadata": {},
   "source": [
    "#### 3. 지역 검색 \n",
    "\n",
    "3-1 도쿄 주요 지역 검색 "
   ]
  },
  {
   "cell_type": "code",
   "execution_count": null,
   "metadata": {},
   "outputs": [],
   "source": [
    "from tqdm import tqdm, tqdm_notebook\n",
    "\n",
    "tokyo_data_dict = []\n",
    "\n",
    "def search_fire_distrinct(driver, jp_district_list):\n",
    "    # 주요 지역 검색 \n",
    "    for district in tqdm_notebook(jp_district_list):\n",
    "        print(district)\n",
    "        region_search_tab = driver.find_element(By.CSS_SELECTOR, '#geocoder-text')\n",
    "        # 검색어 clear\n",
    "        region_search_tab.clear()\n",
    "        # 지역 검색\n",
    "        region_search_tab.send_keys(district)\n",
    "        time.sleep(2)\n",
    "        # 검색 버튼 클릭 \n",
    "        search_btn = driver.find_element(By.CSS_SELECTOR, \"#geocoder-button\")\n",
    "        search_btn.send_keys(Keys.ENTER)\n",
    "        # ElementClickInterceptedException: Message: element click intercepted: Element is not clickable at point (751, 3641)\n",
    "        time.sleep(8)\n",
    "        # fire 객체 정보 수집 \n",
    "        get_fire(driver,tokyo_data_dict, district)\n",
    "\n",
    "\n"
   ]
  },
  {
   "cell_type": "markdown",
   "metadata": {},
   "source": [
    "3-2 도쿄 지역 위도 경도 검색"
   ]
  },
  {
   "cell_type": "code",
   "execution_count": null,
   "metadata": {},
   "outputs": [],
   "source": [
    "tokyo_data_dict = []\n",
    "\n",
    "def search_fire_coordinate(driver, geo_dict):\n",
    "    # 주요 지역 위도 경도 검색 \n",
    "    for key, value in tqdm_notebook(geo_dict.items()):\n",
    "       \n",
    "        for lat_lng in tqdm_notebook(value):\n",
    "            print(key)\n",
    "            region_search_tab = driver.find_element(By.CSS_SELECTOR, '#geocoder-text')\n",
    "            region_search_tab.clear()  # 검색어 clear\n",
    "            lng = lat_lng[1]\n",
    "            lat = lat_lng[0]\n",
    "            #경도 위도 검색\n",
    "            search  = f'{lng} {lat}'\n",
    "            region_search_tab.send_keys(search)\n",
    "            time.sleep(2)\n",
    "            # 검색 버튼 클릭 \n",
    "            search_btn = driver.find_element(By.CSS_SELECTOR, \"#geocoder-button\")\n",
    "            search_btn.send_keys(Keys.ENTER)\n",
    "            # ElementClickInterceptedException: Message: element click intercepted: Element is not clickable at point (751, 3641)\n",
    "            time.sleep(8)\n",
    "            # fire 객체 정보 수집 \n",
    "            get_fire(driver,tokyo_data_dict, key)\n",
    "\n"
   ]
  },
  {
   "cell_type": "markdown",
   "metadata": {},
   "source": [
    "### 크롤링 "
   ]
  },
  {
   "cell_type": "code",
   "execution_count": null,
   "metadata": {},
   "outputs": [],
   "source": [
    "from selenium import webdriver\n",
    " \n",
    "url = 'https://www.oshimaland.co.jp/'\n",
    "\n",
    "# chrome 이용 \n",
    "#  WebDriverException: Message: unknown error: unhandled inspector error: {\"code\":-32000,\"message\":\"No node with given id found\"}\n",
    "# chrome_option = webdriver.ChromeOptions()\n",
    "# driver = webdriver.Chrome(ChromeDriverManager().install(), options=chrome_option)\n",
    "\n",
    "# firefox 이용 \n",
    "driver = webdriver.Firefox()\n",
    "loadWeb(driver, url)"
   ]
  },
  {
   "cell_type": "markdown",
   "metadata": {},
   "source": [
    "#### 발생 에러들\n",
    "\n",
    "1. WebDriverException: Message: unknown error: unhandled inspector error: {\"code\":-32000,\"message\":\"No node with given id found\"} : Chrome driver 문제\n",
    "2. StaleElementReferenceException: Message: The element with the reference b3212e1d-3be9-4d7a-9bd2-9f736fc42e4a is stale; either its node document is not the active document, or it is no longer connected to the DOM\n",
    "3. AttributeError: 'NoneType' object has no attribute 'text'\n",
    "4. MoveTargetOutOfBoundsException"
   ]
  },
  {
   "cell_type": "code",
   "execution_count": 1,
   "metadata": {},
   "outputs": [
    {
     "ename": "NameError",
     "evalue": "name 'geo_dict' is not defined",
     "output_type": "error",
     "traceback": [
      "\u001b[1;31m---------------------------------------------------------------------------\u001b[0m",
      "\u001b[1;31mNameError\u001b[0m                                 Traceback (most recent call last)",
      "Cell \u001b[1;32mIn[1], line 7\u001b[0m\n\u001b[0;32m      5\u001b[0m \u001b[39mimport\u001b[39;00m \u001b[39mwarnings\u001b[39;00m\n\u001b[0;32m      6\u001b[0m warnings\u001b[39m.\u001b[39mfilterwarnings(\u001b[39m\"\u001b[39m\u001b[39mignore\u001b[39m\u001b[39m\"\u001b[39m)\n\u001b[1;32m----> 7\u001b[0m dict_list \u001b[39m=\u001b[39m \u001b[39mlist\u001b[39m(geo_dict\u001b[39m.\u001b[39mkeys())[\u001b[39m8\u001b[39m:\u001b[39m30\u001b[39m]\n\u001b[0;32m      8\u001b[0m new_dict \u001b[39m=\u001b[39m {key: value \u001b[39mfor\u001b[39;00m key, value \u001b[39min\u001b[39;00m geo_dict\u001b[39m.\u001b[39mitems() \u001b[39mif\u001b[39;00m key \u001b[39mnot\u001b[39;00m \u001b[39min\u001b[39;00m dict_list}\n\u001b[0;32m      9\u001b[0m search_fire_coordinate(driver, new_dict)\n",
      "\u001b[1;31mNameError\u001b[0m: name 'geo_dict' is not defined"
     ]
    }
   ],
   "source": [
    "# 주요 지역명 검색 \n",
    "# search_fire(driver, jp_district_list) \n",
    "# 위도 경도 검색 \n",
    "# 지도를 60% 정도로 축소 뒤 수집 \n",
    "import warnings\n",
    "warnings.filterwarnings(\"ignore\")\n",
    "dict_list = list(geo_dict.keys())[8:30]\n",
    "new_dict = {key: value for key, value in geo_dict.items() if key not in dict_list}\n",
    "search_fire_coordinate(driver, new_dict)\n",
    "\n",
    "driver.quit()"
   ]
  },
  {
   "cell_type": "code",
   "execution_count": null,
   "metadata": {},
   "outputs": [],
   "source": [
    "tokyo_data_dict"
   ]
  },
  {
   "cell_type": "code",
   "execution_count": null,
   "metadata": {},
   "outputs": [],
   "source": [
    "driver.quit()"
   ]
  },
  {
   "cell_type": "markdown",
   "metadata": {},
   "source": [
    "### 크롤링 데이터 저장\n",
    "\n",
    "- 230725 Fussa Shi 지역 부터 데이터 수집 필요 ( 7개의 지역만 수집했음에도 2시간 이상 소요)\n",
    "\n",
    "```\n",
    " 'Fussa Shi', 'Bunkyo Ku', 'Shinjuku Ku', 'Adachi Ku', 'Sumida Ku', 'Nerima Ku', 'Taito Ku', 'Kodaira Shi', 'Koganei Shi', 'Higashimurayama Shi', 'Hino Shi', 'Kunitachi Shi', 'Kokubunji Shi', 'Itabashi Ku', 'Setagaya Ku', 'Ota Ku', 'Nakano Ku', 'Shibuya Ku', 'Toshima Ku', 'Chofu Shi', 'Suginami Ku', 'Tama Shi', 'Akishima Shi', 'Arakawa Ku', 'Machida Shi', 'Nishitokyo Shi', 'Meguro Ku', 'Fuchu Shi', 'Kita Ku', 'Tachikawa Shi', 'Hachioji Shi', 'Mitaka Shi', 'Okutama Machi', 'Musashino Shi', 'Musashimurayama Shi', 'Ome Shi', 'Akiruno Shi', 'Hamura Shi'\n",
    "```"
   ]
  },
  {
   "cell_type": "code",
   "execution_count": null,
   "metadata": {},
   "outputs": [],
   "source": [
    " # Chuo Ku 지역까지 수집 완료 \n",
    "geo_dict.keys()"
   ]
  },
  {
   "cell_type": "code",
   "execution_count": null,
   "metadata": {},
   "outputs": [],
   "source": [
    "tokyo_df = pd.DataFrame(tokyo_data_dict)\n",
    "tokyo_df = tokyo_df[tokyo_df['district']!='Fussa Shi']\n",
    "tokyo_df"
   ]
  },
  {
   "cell_type": "code",
   "execution_count": null,
   "metadata": {},
   "outputs": [],
   "source": [
    "# 결측치 제거 \n",
    "df_cleaned = tokyo_df.dropna(how='any', axis=0)\n",
    "\n",
    "for column in df_cleaned.columns:\n",
    "    df_cleaned = df_cleaned[df_cleaned[column] != '']\n",
    "\n",
    "# 중복데이터 제거 \n",
    "df_cleaned = df_cleaned.drop_duplicates()\n",
    "df_cleaned"
   ]
  },
  {
   "cell_type": "code",
   "execution_count": null,
   "metadata": {},
   "outputs": [],
   "source": [
    "df_cleaned.info()"
   ]
  },
  {
   "cell_type": "code",
   "execution_count": null,
   "metadata": {},
   "outputs": [],
   "source": [
    "# tokyo_df.to_excel('selenium_tokyo_data_geo.xlsx')\n",
    "df_cleaned.to_csv('selenium_tokyo_data_geo.csv')"
   ]
  },
  {
   "cell_type": "code",
   "execution_count": null,
   "metadata": {},
   "outputs": [],
   "source": [
    "df = pd.read_csv('selenium_tokyo_data_geo.csv', index_col=0)\n",
    "\n",
    "df"
   ]
  },
  {
   "cell_type": "markdown",
   "metadata": {},
   "source": [
    "#### 기존 오시마 데이터랑 중복 확인 "
   ]
  },
  {
   "cell_type": "code",
   "execution_count": null,
   "metadata": {},
   "outputs": [],
   "source": [
    "oshima_yun = pd.read_csv('../../Oshimaland_data/yunyoung/selenium_tokyo_data.csv', index_col=0)\n",
    "oshima_ji = pd.read_csv('../../Oshimaland_data/jieun/oshimaland_dataset_final.csv')\n"
   ]
  },
  {
   "cell_type": "code",
   "execution_count": null,
   "metadata": {},
   "outputs": [],
   "source": [
    "# 결측치 제거 \n",
    "oshima_yun = oshima_yun.dropna(how='any', axis=0)\n",
    "\n",
    "for column in oshima_yun.columns:\n",
    "    oshima_yun = oshima_yun[oshima_yun[column] != '']\n",
    "\n",
    "# 중복데이터 제거 \n",
    "oshima_yun = oshima_yun.drop_duplicates()\n",
    "oshima_yun = oshima_yun.reindex(columns=['district', 'address', 'content', 'date'])\n",
    "oshima_yun.rename(columns={'content': 'info'}, inplace=True)\n",
    "oshima_yun"
   ]
  },
  {
   "cell_type": "code",
   "execution_count": null,
   "metadata": {},
   "outputs": [],
   "source": [
    "oshima_ji_rename = oshima_ji.reindex(columns=[ 'address', 'info', 'occurred_date'])\n",
    "oshima_ji_rename.rename(columns={'occurred_date': 'date'}, inplace=True)\n",
    "oshima_ji_rename = oshima_ji_rename.drop_duplicates()\n",
    "oshima_ji_rename.reset_index(drop=True, inplace=True)\n",
    "oshima_ji_rename.dropna(inplace=True)\n",
    "oshima_ji_rename = oshima_ji_rename.reindex(columns = ['district', 'address', 'info', 'date'])\n",
    "oshima_ji_rename['district'] = oshima_ji_rename['address'].apply(lambda x: next((district for district in jp_district_list if district in x), x))\n",
    "oshima_ji_rename.reindex(columns=['district', 'address', 'info', 'occurred_date'])\n",
    "\n",
    "oshima_ji_rename\n"
   ]
  },
  {
   "cell_type": "code",
   "execution_count": null,
   "metadata": {},
   "outputs": [],
   "source": [
    "combined_df = pd.concat([oshima_yun, oshima_ji_rename], ignore_index=True)\n",
    "combined_df = combined_df.drop_duplicates()\n",
    "combined_df"
   ]
  },
  {
   "cell_type": "code",
   "execution_count": null,
   "metadata": {},
   "outputs": [],
   "source": [
    "new_oshima = df.reindex(columns=['district', 'address', 'content', 'date'])\n",
    "new_oshima.rename(columns={'content': 'info'}, inplace=True)\n",
    "new_oshima"
   ]
  },
  {
   "cell_type": "code",
   "execution_count": null,
   "metadata": {},
   "outputs": [],
   "source": [
    "combined_df2 = pd.concat([combined_df, new_oshima], ignore_index=True)\n",
    "combined_df2 = combined_df2.drop_duplicates()\n",
    "combined_df2"
   ]
  },
  {
   "cell_type": "markdown",
   "metadata": {},
   "source": [
    "#### 중복 데이터 확인 \n",
    "- 7개의 지역만 추가 트롤링 했을때 기존 807개의 데이터에서  1183개의 데이터 즉 376 개의 새로운 데이터 수집 \n",
    "- 대략적으로 46개의 지역을 다 크롤링 할 시 2000개 이상의 데이터 추가 수집 가능 "
   ]
  },
  {
   "cell_type": "code",
   "execution_count": null,
   "metadata": {},
   "outputs": [],
   "source": [
    "# address 컬럼의 값이 중복되면 하나만 남기고 제거\n",
    "combined_df2 = combined_df2.drop_duplicates(subset=['address'], keep='first')\n",
    "combined_df2"
   ]
  },
  {
   "cell_type": "markdown",
   "metadata": {},
   "source": [
    "#### 지도 내 줌인 줌아웃 실패 "
   ]
  },
  {
   "cell_type": "code",
   "execution_count": null,
   "metadata": {},
   "outputs": [],
   "source": [
    "# from selenium.webdriver.common.action_chains import ActionChains\n",
    "# # https://stackoverflow.com/questions/64474653/how-to-webscrape-a-canvas-element-with-python-selenium\n",
    "# canvas = driver.find_element(By.CSS_SELECTOR, '#map-canvas > div.mk-map-view.mk-disable-all-gestures > canvas.rt-root')\n",
    "# action = ActionChains(driver)\n",
    "\n",
    "# map_canvas = driver.find_element_by_css_selector(\"div.mk-map-view > canvas.rt-root\")\n",
    "\n",
    "# from selenium.webdriver.common.action_chains import ActionChains\n",
    "\n",
    "# # 지도 요소 위에서 마우스를 움직임\n",
    "# actions = ActionChains(driver)\n",
    "# actions.move_to_element(map_canvas).click().perform()\n",
    "\n",
    "# actions.move_by_offset(0, 200).perform() # 줌인만 가능 \n",
    "\n",
    "# #줌인 줌아웃 반복 \n",
    "# action.move_to_element(canvas).move_by_offset(0, 0).click_and_hold().perform()\n",
    "# action.move_by_offset(-200,0).release().perform()"
   ]
  },
  {
   "cell_type": "markdown",
   "metadata": {},
   "source": [
    "#### Request API 이용한 방법 "
   ]
  },
  {
   "cell_type": "code",
   "execution_count": null,
   "metadata": {},
   "outputs": [],
   "source": [
    "import json\n",
    "from  bs4 import BeautifulSoup\n",
    "from urllib.request import Request, urlopen\n",
    "import urllib.request as req\n",
    "from tqdm import tqdm, tqdm_notebook\n",
    "import time\n",
    "import requests"
   ]
  },
  {
   "cell_type": "code",
   "execution_count": null,
   "metadata": {},
   "outputs": [],
   "source": [
    "#TODO shinjuku ku test\n",
    "search_region = driver.find_element(By.CSS_SELECTOR, '#geocoder-text')\n",
    "search_region.send_keys(jp_district_list[20])\n",
    "time.sleep(2)\n",
    "# 검색 버튼 클릭 \n",
    "search_btn = driver.find_element(By.CSS_SELECTOR, \"#geocoder-button\")\n",
    "search_btn.send_keys(Keys.ENTER)\n",
    "\n",
    "time.sleep(2)"
   ]
  },
  {
   "cell_type": "code",
   "execution_count": null,
   "metadata": {},
   "outputs": [],
   "source": [
    "json_url = 'https://api.oshimaland.co.jp/map'\n",
    "headers = {\n",
    "    \"User-Agent\": \"Mozilla/5.0\",\n",
    "    \"Origin\": \"https://www.oshimaland.co.jp\"\n",
    "}\n",
    "data = {\n",
    "    # 'keys': [\"1330021123012133\", \"1330021123012311\", \"1330021123013022\", \"1330021123013200\"]\n",
    "    'keys' : ['1330021123013021',  '1330021123013023',  '1330021123013201']\n",
    "}\n",
    "\n",
    "response = requests.post(json_url, headers=headers, json=data)\n",
    "json_data = response.json()"
   ]
  },
  {
   "cell_type": "code",
   "execution_count": null,
   "metadata": {},
   "outputs": [],
   "source": [
    "from itertools import chain\n",
    "\n",
    "origin = list(data.values())\n",
    "flatten_list = list(chain(*origin))\n",
    "flatten_list"
   ]
  },
  {
   "cell_type": "code",
   "execution_count": null,
   "metadata": {},
   "outputs": [],
   "source": [
    "jsonValueList = []\n",
    "for idx in range(len(flatten_list)):\n",
    "    for idx2 in range(len(json_data['markers'][flatten_list[idx]])):\n",
    "        jsonValueList.append(json_data['markers'][flatten_list[idx]][idx2]['key'])"
   ]
  },
  {
   "cell_type": "code",
   "execution_count": null,
   "metadata": {},
   "outputs": [],
   "source": [
    "getDataList2 = []\n",
    "for idx in tqdm_notebook(range(len(jsonValueList))):\n",
    "    json_url = f'https://www.oshimaland.co.jp/d/{jsonValueList[idx]}.json'\n",
    "    url = req.Request(json_url, headers={\"User-Agent\": \"Mozilla/5.0\"})\n",
    "    code = req.urlopen(url)\n",
    "    soup = BeautifulSoup(code, 'html.parser')\n",
    "    json_data = json.loads(soup.text)\n",
    "    getDataList2.append({\n",
    "        'info' : json_data['info'],\n",
    "        'address' : json_data['ad'],\n",
    "        'dt' : json_data['dt'],\n",
    "        'cr' : json_data['cr'],\n",
    "     })"
   ]
  }
 ],
 "metadata": {
  "kernelspec": {
   "display_name": "Python 3",
   "language": "python",
   "name": "python3"
  },
  "language_info": {
   "codemirror_mode": {
    "name": "ipython",
    "version": 3
   },
   "file_extension": ".py",
   "mimetype": "text/x-python",
   "name": "python",
   "nbconvert_exporter": "python",
   "pygments_lexer": "ipython3",
   "version": "3.8.17"
  },
  "orig_nbformat": 4
 },
 "nbformat": 4,
 "nbformat_minor": 2
}
