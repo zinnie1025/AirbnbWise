{
 "cells": [
  {
   "attachments": {},
   "cell_type": "markdown",
   "metadata": {},
   "source": [
    "### 도쿄 부동산 사건 데이터 수집 \n",
    "출처 :  <a href = 'http://www.oshimaland.co.jp'> 오시마랜드 </a>\n",
    "\n",
    "사이트 정보 : 본 웹사이트는 자살사건, 시체유기사건, 살인사건 등 과거에 불미스러운 사건이 있었던 건물을 모아서 보여줍니다.\n",
    "\n",
    "도쿄 23구와 다마 지역 (26개의 도시) 데이터 수집 할 예정이다 \n",
    "\n",
    "특별도 각 구청 : https://good-luck-day.com/tokyo-district-list/\n",
    "```\n",
    "도쿄 23구 \n",
    "\n",
    "    가쓰시카구(葛飾区)\n",
    "    고토구(江東区)\n",
    "    기타구(北区)\n",
    "    나카노구(中野区)\n",
    "    네리마구(練馬区)\n",
    "    다이토구(台東区)\n",
    "    도시마구(豊島区)\n",
    "    미나토구(港区)\n",
    "    메구로구(目黒区)\n",
    "    스미다구(墨田区)\n",
    "    스기나미구(杉竝区)\n",
    "    신주쿠구(新宿区)\n",
    "    세타가야구(世田谷区)\n",
    "    시나가와구(品川区)\n",
    "    시부야구(渋谷区)\n",
    "    아다치구(足立区)\n",
    "    아라카와구(荒川区)\n",
    "    에도가와구(江戸川区)\n",
    "    이타바시구(板橋区)\n",
    "    오타구(大田区)\n",
    "    분쿄구(文京区)\n",
    "    주오구(中央区)\n",
    "    지요다구(千代田区)\n",
    "\n",
    "다마 지역\n",
    "\n",
    "    고가네이시(小金井市)\n",
    "    고다이라시(小平市)\n",
    "    고마에시(狛江市)\n",
    "    고쿠분지시(国分寺市)\n",
    "    구니타치시(国立市)\n",
    "    기요세시(清瀬市)\n",
    "    니시토쿄시(西東京市)\n",
    "    다마시(多摩市)\n",
    "    다치카와시(立川市)\n",
    "    마치다시(町田市)\n",
    "    무사시노시(武藏野市)\n",
    "    무사시무라야마시(武藏村山市)\n",
    "    미타카시(三鷹市)\n",
    "    아키루노시(あきる野市)\n",
    "    아키시마시(昭島市)\n",
    "    오메시(青梅市)\n",
    "    이나기시(稲城市)\n",
    "    조후시(調布市)\n",
    "    하무라시(羽村市)\n",
    "    하치오지시(八王子市)\n",
    "    후추시(府中市)\n",
    "    훗사시(福生市)\n",
    "    히가시무라야마시(東村山市)\n",
    "    히가시야마토시(東大和市)\n",
    "    히가시쿠루메시(東久留米市)\n",
    "    히노시(日野市)\n",
    "\n",
    "```\n",
    "\n",
    "\n"
   ]
  },
  {
   "cell_type": "code",
   "execution_count": null,
   "metadata": {},
   "outputs": [],
   "source": [
    "# !pip install webdriver-manager\n",
    "# !pip install requests"
   ]
  },
  {
   "cell_type": "code",
   "execution_count": 1,
   "metadata": {},
   "outputs": [],
   "source": [
    "import pandas as pd\n",
    "import numpy as np \n",
    "\n",
    "from selenium import webdriver\n",
    "from selenium.webdriver.chrome.service import Service\n",
    "from webdriver_manager.chrome import ChromeDriverManager\n",
    "from selenium.webdriver.common.by import By\n",
    "from selenium.webdriver.common.keys import Keys\n",
    "from selenium.webdriver.support.ui import WebDriverWait\n",
    "from selenium.webdriver.support import expected_conditions as EC\n",
    "from bs4 import BeautifulSoup\n",
    "\n",
    "import time"
   ]
  },
  {
   "cell_type": "code",
   "execution_count": 2,
   "metadata": {},
   "outputs": [],
   "source": [
    "#1. oshimaland 웹사이트 불러오기\n",
    "def loadWeb(driver, url):\n",
    "    # header 추가하기 \n",
    "\n",
    "    \n",
    "    # 화면 최대 크기 설정 \n",
    "    driver.get(url)\n",
    "    driver.maximize_window()\n",
    "    #모든 창이 로딩 될떄까지 기다려 줌 \n",
    "    time.sleep(3)\n",
    "    #팝업창 화면 전환 후 닫아주기\n",
    "    multi_window = driver.window_handles\n",
    "    if(len(multi_window)>1):\n",
    "        driver.switch_to.window(driver.window_handles[-1])\n",
    "        driver.close()\n",
    "        time.sleep(3)\n",
    "        # 접근 페이지 다시 요청\n",
    "        driver.switch_to.window(driver.window_handles[-1])\n",
    "        driver.get(url)\n",
    "    \n",
    "    # 전체 지도 축소 \n",
    "    # driver.execute_script(\"document.body.style.zoom='60%'\")    \n",
    "    # time.sleep(2)\n",
    "\n",
    "\n"
   ]
  },
  {
   "cell_type": "code",
   "execution_count": 11,
   "metadata": {},
   "outputs": [],
   "source": [
    "from selenium.webdriver.common.action_chains import ActionChains\n",
    "\n",
    "from selenium.common.exceptions import NoSuchElementException, NoSuchWindowException, MoveTargetOutOfBoundsException, StaleElementReferenceException, WebDriverException\n",
    "\n",
    "def get_fire(driver, tokyo_data_dict, district):\n",
    "        # fire 객체 수집 \n",
    "        fire_object_list = driver.find_element(By.CSS_SELECTOR, '#map-canvas > div.mk-map-view.mk-disable-all-gestures > div > div.mk-annotation-container')\n",
    "        fire_list = fire_object_list.find_elements(By.CSS_SELECTOR, '.map-fire')\n",
    "        print('fire 개수: ', len(fire_list))\n",
    "        for fire in fire_list:\n",
    "            try: \n",
    "                is_enabled = fire.is_enabled()\n",
    "                actions = ActionChains(driver)                 \n",
    "                if is_enabled:\n",
    "                    # 클릭이 가능하며 현재 화면에 표시 될 때 클릭 수행\n",
    "                    # print('click OK')\n",
    "                    if fire.is_displayed():\n",
    "                        # print('display OK')\n",
    "                        # x_offset = 200  # x 좌표를 조정할 값\n",
    "                        # y_offset = 200  # y 좌표를 조정할 값\n",
    "                        # driver.execute_script(\"arguments[0].scrollIntoView();\", fire)\n",
    "                        # actions.move_to_element_with_offset(fire, x_offset, y_offset)\n",
    "                        # actions.click()\n",
    "                        # actions.perform()\n",
    "\n",
    "                        # 팝업창 클릭                         \n",
    "                        actions = ActionChains(driver)                 \n",
    "                        actions.move_to_element(fire).click().perform()\n",
    "\n",
    "                        # 팝업 정보 가져오기 \n",
    "                        # time.sleep(5)\n",
    "                        WebDriverWait(driver, 7).until(EC.presence_of_element_located((By.CSS_SELECTOR, 'li.property-info-date > span')))\n",
    "                        info_date = driver.find_element(By.CSS_SELECTOR, 'li.property-info-date > span').text\n",
    "                        info_address = driver.find_element(By.CSS_SELECTOR, 'li.property-info-address').text\n",
    "                        info_content = driver.find_element(By.CSS_SELECTOR, 'div.popup-property-info > section > ul > li:nth-child(3)').text\n",
    "\n",
    "                        tokyo_data_dict.append({\n",
    "                            'district': district,\n",
    "                            'date': info_date,\n",
    "                            'address': info_address,\n",
    "                            'content': info_content\n",
    "                        })\n",
    "\n",
    "                        time.sleep(3)\n",
    "\n",
    "                    else:\n",
    "                        pass\n",
    "                        # print('display NOT')\n",
    "                else:\n",
    "                     pass\n",
    "                    # print('click not')\n",
    "\n",
    "            except (NoSuchElementException, NoSuchWindowException, MoveTargetOutOfBoundsException, StaleElementReferenceException, WebDriverException) as e:\n",
    "                # 에러 처리\n",
    "                print(f\"Error occurred: {e}\")\n",
    "\n",
    "                # 필요한 경우 WebDriver 인스턴스 재초기화 등의 작업 수행\n",
    "                # driver = initialize_driver()\n",
    "\n",
    "                continue\n"
   ]
  },
  {
   "cell_type": "code",
   "execution_count": 4,
   "metadata": {},
   "outputs": [],
   "source": [
    "# info_data = driver.find_element(By.CSS_SELECTOR, 'li.property-info-date > span').text\n",
    "# info_address = driver.find_element(By.CSS_SELECTOR, 'li.property-info-address').text\n",
    "# info_content = driver.find_element(By.CSS_SELECTOR, 'div.popup-property-info > section > ul > li:nth-child(3)').text\n"
   ]
  },
  {
   "cell_type": "code",
   "execution_count": 5,
   "metadata": {},
   "outputs": [],
   "source": [
    "from tqdm import tqdm, tqdm_notebook\n",
    "\n",
    "tokyo_data_dict = []\n",
    "\n",
    "def search_fire(driver, jp_district_list):\n",
    "    for district in tqdm(jp_district_list):\n",
    "        print(district)\n",
    "        region_search_tab = driver.find_element(By.CSS_SELECTOR, '#geocoder-text')\n",
    "        # 검색어 clear\n",
    "        region_search_tab.clear()\n",
    "        # 지역 검색\n",
    "        region_search_tab.send_keys(district)\n",
    "        time.sleep(2)\n",
    "        # 검색 버튼 클릭 \n",
    "        search_btn = driver.find_element(By.CSS_SELECTOR, \"#geocoder-button\")\n",
    "        search_btn.send_keys(Keys.ENTER)\n",
    "        # ElementClickInterceptedException: Message: element click intercepted: Element is not clickable at point (751, 3641)\n",
    "        time.sleep(8)\n",
    "        # fire 객체 정보 수집 \n",
    "        get_fire(driver,tokyo_data_dict, district)\n",
    "\n",
    "\n",
    "\n"
   ]
  },
  {
   "cell_type": "code",
   "execution_count": 6,
   "metadata": {},
   "outputs": [],
   "source": [
    "# !pip install googletrans==4.0.0-rc1"
   ]
  },
  {
   "cell_type": "markdown",
   "metadata": {},
   "source": [
    "#### 영어로된 일본 지역 리스트 본어로 전처리 \n",
    "- 오시마랜드는 영오도 지원되나 일본어로 검색하는게 정확도가 높다 판단하여 일본어로 변경해준다 \n",
    "- googletrans를 이용해 번역할 경우 정확도가 떨어진다\n",
    "- 45개 지역 하드코딩으로 번역"
   ]
  },
  {
   "cell_type": "code",
   "execution_count": 7,
   "metadata": {},
   "outputs": [],
   "source": [
    "from googletrans import Translator\n",
    "\n",
    "# main_district = pd.read_csv('../jieun/main_district_df2.csv')\n",
    "# district_list  = main_district['neighbourhood_cleansed'].values\n",
    "# translator = Translator()\n",
    "# jp_district_list = list(map(lambda district: translator.translate(district, src='en', dest='ja').text.replace(' ',''),district_list))\n",
    "# jp_district_list[: 10]\n"
   ]
  },
  {
   "cell_type": "code",
   "execution_count": 8,
   "metadata": {},
   "outputs": [],
   "source": [
    "jp_district_list = [\n",
    "    '新宿区', '台東区', '墨田区', '豊島区', '渋谷区',\n",
    "    '港区', '世田谷区', '大田区', '中野区', '中央区',\n",
    "    '北区', '葛飾区', '杉並区', '江東区', '江戸川区',\n",
    "    '文京区', '荒川区', '板橋区', '品川区', '千代田区',\n",
    "    '足立区', '目黒区', '練馬区', '府中市', '八王子市',\n",
    "    '日野市', '国分寺市', '町田市', '青梅市', '調布市',\n",
    "    '武蔵野市', 'あきる野市', '三鷹市', '小金井市', '東村山市',\n",
    "    '多摩市', '国立市', '狛江市', '西東京市', '立川市',\n",
    "    '小平市', '羽村市', '武蔵村山市', '奥多摩町', '昭島市',\n",
    "    '福生市'\n",
    "]"
   ]
  },
  {
   "cell_type": "code",
   "execution_count": 9,
   "metadata": {},
   "outputs": [],
   "source": [
    "from selenium import webdriver\n",
    " \n",
    "url = 'https://www.oshimaland.co.jp/'\n",
    "\n",
    "# chrome 이용 \n",
    "#  WebDriverException: Message: unknown error: unhandled inspector error: {\"code\":-32000,\"message\":\"No node with given id found\"}\n",
    "# chrome_option = webdriver.ChromeOptions()\n",
    "# driver = webdriver.Chrome(ChromeDriverManager().install(), options=chrome_option)\n",
    "\n",
    "# firefox 이용 \n",
    "driver = webdriver.Firefox()\n",
    "loadWeb(driver, url)"
   ]
  },
  {
   "cell_type": "markdown",
   "metadata": {},
   "source": [
    "#### 발생 에러들\n",
    "\n",
    "1. WebDriverException: Message: unknown error: unhandled inspector error: {\"code\":-32000,\"message\":\"No node with given id found\"} : Chrome driver 문제\n",
    "2. StaleElementReferenceException: Message: The element with the reference b3212e1d-3be9-4d7a-9bd2-9f736fc42e4a is stale; either its node document is not the active document, or it is no longer connected to the DOM\n",
    "3. AttributeError: 'NoneType' object has no attribute 'text'\n",
    "4. MoveTargetOutOfBoundsException"
   ]
  },
  {
   "cell_type": "code",
   "execution_count": 12,
   "metadata": {},
   "outputs": [
    {
     "name": "stderr",
     "output_type": "stream",
     "text": [
      "  0%|          | 0/46 [00:00<?, ?it/s]"
     ]
    },
    {
     "name": "stdout",
     "output_type": "stream",
     "text": [
      "新宿区\n",
      "fire 개수:  180\n",
      "Error occurred: Message: The element with the reference c825cfe5-1bf2-459b-802c-fe4810188868 is stale; either its node document is not the active document, or it is no longer connected to the DOM\n",
      "\n",
      "Error occurred: Message: The element with the reference 422a8c95-2de5-40b6-ac99-d9cba498ddea is stale; either its node document is not the active document, or it is no longer connected to the DOM\n",
      "\n",
      "Error occurred: Message: The element with the reference 2cf3ffa6-5d6e-44dc-b2a4-11d3ae28fb52 is stale; either its node document is not the active document, or it is no longer connected to the DOM\n",
      "\n",
      "Error occurred: Message: The element with the reference 8081fbc4-ddf0-4157-af7a-f39bc7219a12 is stale; either its node document is not the active document, or it is no longer connected to the DOM\n",
      "\n",
      "Error occurred: Message: The element with the reference 1e98a237-809d-4e06-8633-87ee1b15b56b is stale; either its node document is not the active document, or it is no longer connected to the DOM\n",
      "\n",
      "Error occurred: Message: The element with the reference 11bb4422-a373-4d77-abc6-51ae7fee27e7 is stale; either its node document is not the active document, or it is no longer connected to the DOM\n",
      "\n",
      "Error occurred: Message: The element with the reference 7837f8d8-fad5-4e01-bac9-49e53f8715ea is stale; either its node document is not the active document, or it is no longer connected to the DOM\n",
      "\n",
      "Error occurred: Message: The element with the reference e08b8a7b-1e1e-4e82-8e4a-764df578341d is stale; either its node document is not the active document, or it is no longer connected to the DOM\n",
      "\n",
      "Error occurred: Message: The element with the reference 9c9acabf-5410-443f-b82a-d9a14a597905 is stale; either its node document is not the active document, or it is no longer connected to the DOM\n",
      "\n",
      "Error occurred: Message: The element with the reference 5c5afe72-7e45-4680-9939-4b70030bafe7 is stale; either its node document is not the active document, or it is no longer connected to the DOM\n",
      "\n",
      "Error occurred: Message: The element with the reference 0d6c164c-1bfb-4ed7-997f-9576994e552b is stale; either its node document is not the active document, or it is no longer connected to the DOM\n",
      "\n",
      "Error occurred: Message: The element with the reference e1bb42f9-e626-4730-b2e3-1462ba555a1d is stale; either its node document is not the active document, or it is no longer connected to the DOM\n",
      "\n",
      "Error occurred: Message: The element with the reference d92b30cb-8e64-463a-aba8-513ea72e3e5a is stale; either its node document is not the active document, or it is no longer connected to the DOM\n",
      "\n"
     ]
    },
    {
     "name": "stderr",
     "output_type": "stream",
     "text": [
      "  2%|▏         | 1/46 [04:06<3:04:34, 246.10s/it]"
     ]
    },
    {
     "name": "stdout",
     "output_type": "stream",
     "text": [
      "Error occurred: Message: The element with the reference 1fa5deba-5b4b-4884-8500-4791f1a9a350 is stale; either its node document is not the active document, or it is no longer connected to the DOM\n",
      "\n",
      "Error occurred: Message: The element with the reference d7fe28ec-fee8-4739-ae85-a48822e23b60 is stale; either its node document is not the active document, or it is no longer connected to the DOM\n",
      "\n",
      "Error occurred: Message: The element with the reference 44ce10a7-7008-4abf-ab67-4cc6aa6e749a is stale; either its node document is not the active document, or it is no longer connected to the DOM\n",
      "\n",
      "Error occurred: Message: The element with the reference 1933f479-d2c0-4f66-9abb-5c4f96b8f714 is stale; either its node document is not the active document, or it is no longer connected to the DOM\n",
      "\n",
      "Error occurred: Message: The element with the reference 5dcd2b29-7c11-4d5a-ad17-3e27b94b691f is stale; either its node document is not the active document, or it is no longer connected to the DOM\n",
      "\n",
      "Error occurred: Message: The element with the reference 118c12ae-c31e-497d-a6e5-3ffa29358fd7 is stale; either its node document is not the active document, or it is no longer connected to the DOM\n",
      "\n",
      "Error occurred: Message: The element with the reference 6b4e91a5-0ee5-4042-82e4-87431b666e1b is stale; either its node document is not the active document, or it is no longer connected to the DOM\n",
      "\n",
      "Error occurred: Message: The element with the reference 2ccca88a-ecad-4389-b69f-0d99d97145e7 is stale; either its node document is not the active document, or it is no longer connected to the DOM\n",
      "\n",
      "Error occurred: Message: The element with the reference 2c289bfd-ca1c-4aa4-a82b-e623db292c37 is stale; either its node document is not the active document, or it is no longer connected to the DOM\n",
      "\n",
      "Error occurred: Message: The element with the reference da23f18e-d10b-4c98-aebd-7d618cb32ab4 is stale; either its node document is not the active document, or it is no longer connected to the DOM\n",
      "\n",
      "Error occurred: Message: The element with the reference 30b27eee-edd7-4aa7-9e3d-edbb9fb3b721 is stale; either its node document is not the active document, or it is no longer connected to the DOM\n",
      "\n",
      "Error occurred: Message: The element with the reference 1de7ecdd-9cc0-4e7b-bdf3-9bb04b711d0c is stale; either its node document is not the active document, or it is no longer connected to the DOM\n",
      "\n",
      "Error occurred: Message: The element with the reference 59c0fd08-38a2-4429-b117-e6ba3bef80c5 is stale; either its node document is not the active document, or it is no longer connected to the DOM\n",
      "\n",
      "Error occurred: Message: The element with the reference 4628e610-3a60-4158-ada9-a7e5827933d2 is stale; either its node document is not the active document, or it is no longer connected to the DOM\n",
      "\n",
      "Error occurred: Message: The element with the reference 853f4b6d-7c93-4b6a-88b6-0ec6a0596858 is stale; either its node document is not the active document, or it is no longer connected to the DOM\n",
      "\n",
      "Error occurred: Message: The element with the reference d7375c2d-4480-4034-9a0d-012e5615b5a9 is stale; either its node document is not the active document, or it is no longer connected to the DOM\n",
      "\n",
      "Error occurred: Message: The element with the reference 2b2578ea-ab19-4f06-8eec-1c7537acccc0 is stale; either its node document is not the active document, or it is no longer connected to the DOM\n",
      "\n",
      "Error occurred: Message: The element with the reference 95684019-6d34-4d20-b31b-5ad9aeb6324c is stale; either its node document is not the active document, or it is no longer connected to the DOM\n",
      "\n",
      "Error occurred: Message: The element with the reference c8ffe9e4-52c6-4d0b-bdee-6bde24cecb71 is stale; either its node document is not the active document, or it is no longer connected to the DOM\n",
      "\n",
      "Error occurred: Message: The element with the reference d46e8376-80a3-4acc-8db6-8746edf3aa6c is stale; either its node document is not the active document, or it is no longer connected to the DOM\n",
      "\n",
      "Error occurred: Message: The element with the reference 5bf0aace-304e-4db1-965d-d75673d5745b is stale; either its node document is not the active document, or it is no longer connected to the DOM\n",
      "\n",
      "Error occurred: Message: The element with the reference e791c7ed-61a7-4a8d-8e90-67c8c057c971 is stale; either its node document is not the active document, or it is no longer connected to the DOM\n",
      "\n",
      "Error occurred: Message: The element with the reference eb96fa8f-6b77-4ea3-8b91-5ab70967637d is stale; either its node document is not the active document, or it is no longer connected to the DOM\n",
      "\n",
      "Error occurred: Message: The element with the reference a1b6425b-a215-4301-a83d-9f7059de68c1 is stale; either its node document is not the active document, or it is no longer connected to the DOM\n",
      "\n",
      "Error occurred: Message: The element with the reference 5bcadc91-a85c-4e18-9b66-91bea223673e is stale; either its node document is not the active document, or it is no longer connected to the DOM\n",
      "\n",
      "Error occurred: Message: The element with the reference f4d390d7-bd0c-49fb-88d2-bae65c0dfaeb is stale; either its node document is not the active document, or it is no longer connected to the DOM\n",
      "\n",
      "Error occurred: Message: The element with the reference 83ae3100-f0a1-44a2-b8ee-73631540862f is stale; either its node document is not the active document, or it is no longer connected to the DOM\n",
      "\n",
      "台東区\n",
      "fire 개수:  40\n"
     ]
    },
    {
     "name": "stderr",
     "output_type": "stream",
     "text": [
      "  4%|▍         | 2/46 [04:58<1:37:02, 132.34s/it]"
     ]
    },
    {
     "name": "stdout",
     "output_type": "stream",
     "text": [
      "Error occurred: Message: The element with the reference a6397c55-ceb7-4789-a78b-7dad01048dc2 is stale; either its node document is not the active document, or it is no longer connected to the DOM\n",
      "\n",
      "Error occurred: Message: The element with the reference 51f91866-2e65-4ec2-830b-9d071bd393ea is stale; either its node document is not the active document, or it is no longer connected to the DOM\n",
      "\n",
      "Error occurred: Message: The element with the reference 179a54dc-7509-4900-99a0-995be20c9a8f is stale; either its node document is not the active document, or it is no longer connected to the DOM\n",
      "\n",
      "Error occurred: Message: The element with the reference ff9d8775-d881-42d5-acfb-7a57229e349d is stale; either its node document is not the active document, or it is no longer connected to the DOM\n",
      "\n",
      "Error occurred: Message: The element with the reference 23c0f98a-b58e-4260-aa47-4bb8fc4e6dbc is stale; either its node document is not the active document, or it is no longer connected to the DOM\n",
      "\n",
      "Error occurred: Message: The element with the reference be10044f-a31b-4c32-b318-0a6599f8fd35 is stale; either its node document is not the active document, or it is no longer connected to the DOM\n",
      "\n",
      "Error occurred: Message: The element with the reference e3de51aa-4c37-4963-bf58-6e7ae77b972e is stale; either its node document is not the active document, or it is no longer connected to the DOM\n",
      "\n",
      "Error occurred: Message: The element with the reference 956e4493-8dbb-4d24-b650-baa7ddebe4f3 is stale; either its node document is not the active document, or it is no longer connected to the DOM\n",
      "\n",
      "Error occurred: Message: The element with the reference d20e28e3-47f0-4ee2-b943-d6065b47296b is stale; either its node document is not the active document, or it is no longer connected to the DOM\n",
      "\n",
      "Error occurred: Message: The element with the reference bd37c57c-fbfa-48c8-8d69-cd06c2ac9e01 is stale; either its node document is not the active document, or it is no longer connected to the DOM\n",
      "\n",
      "Error occurred: Message: The element with the reference 16e36ee2-3ffe-4e5c-8170-22035a186db3 is stale; either its node document is not the active document, or it is no longer connected to the DOM\n",
      "\n",
      "Error occurred: Message: The element with the reference 85c6e3e9-3bab-4cd4-ba12-63c453373ccb is stale; either its node document is not the active document, or it is no longer connected to the DOM\n",
      "\n",
      "Error occurred: Message: The element with the reference 650397b5-35e3-4c94-9315-442f86bbe994 is stale; either its node document is not the active document, or it is no longer connected to the DOM\n",
      "\n",
      "Error occurred: Message: The element with the reference b75bf808-5047-4a5e-bfb9-c0cecdd1324a is stale; either its node document is not the active document, or it is no longer connected to the DOM\n",
      "\n",
      "Error occurred: Message: The element with the reference aa0e4cac-d3b3-4eb5-9761-956d95634706 is stale; either its node document is not the active document, or it is no longer connected to the DOM\n",
      "\n",
      "Error occurred: Message: The element with the reference 7aca8279-620f-4873-9775-a6c9cb1e2585 is stale; either its node document is not the active document, or it is no longer connected to the DOM\n",
      "\n",
      "Error occurred: Message: The element with the reference 22b1e062-5a0f-463c-855b-3f4170948251 is stale; either its node document is not the active document, or it is no longer connected to the DOM\n",
      "\n",
      "Error occurred: Message: The element with the reference ee1311d4-dd49-4b1b-ac2b-3f7ad571e742 is stale; either its node document is not the active document, or it is no longer connected to the DOM\n",
      "\n",
      "墨田区\n",
      "fire 개수:  17\n"
     ]
    },
    {
     "name": "stderr",
     "output_type": "stream",
     "text": [
      "  7%|▋         | 3/46 [05:31<1:02:15, 86.87s/it] "
     ]
    },
    {
     "name": "stdout",
     "output_type": "stream",
     "text": [
      "豊島区\n",
      "fire 개수:  30\n"
     ]
    },
    {
     "name": "stderr",
     "output_type": "stream",
     "text": [
      "  9%|▊         | 4/46 [06:40<55:48, 79.73s/it]  "
     ]
    },
    {
     "name": "stdout",
     "output_type": "stream",
     "text": [
      "渋谷区\n",
      "fire 개수:  18\n"
     ]
    },
    {
     "name": "stderr",
     "output_type": "stream",
     "text": [
      " 11%|█         | 5/46 [07:38<49:11, 71.98s/it]"
     ]
    },
    {
     "name": "stdout",
     "output_type": "stream",
     "text": [
      "港区\n",
      "fire 개수:  10\n"
     ]
    },
    {
     "name": "stderr",
     "output_type": "stream",
     "text": [
      " 13%|█▎        | 6/46 [08:02<37:05, 55.64s/it]"
     ]
    },
    {
     "name": "stdout",
     "output_type": "stream",
     "text": [
      "世田谷区\n",
      "fire 개수:  11\n"
     ]
    },
    {
     "name": "stderr",
     "output_type": "stream",
     "text": [
      " 15%|█▌        | 7/46 [08:26<29:27, 45.33s/it]"
     ]
    },
    {
     "name": "stdout",
     "output_type": "stream",
     "text": [
      "大田区\n",
      "fire 개수:  34\n"
     ]
    },
    {
     "name": "stderr",
     "output_type": "stream",
     "text": [
      " 17%|█▋        | 8/46 [08:54<25:14, 39.85s/it]"
     ]
    },
    {
     "name": "stdout",
     "output_type": "stream",
     "text": [
      "Error occurred: Message: The element with the reference 021b627c-bb57-438e-ad95-d6130f173d36 is stale; either its node document is not the active document, or it is no longer connected to the DOM\n",
      "\n",
      "Error occurred: Message: The element with the reference 19b65111-3ef8-4714-b620-2e26a1c1a636 is stale; either its node document is not the active document, or it is no longer connected to the DOM\n",
      "\n",
      "Error occurred: Message: The element with the reference e6d452f2-ba86-448b-8623-4c0b8c7c6181 is stale; either its node document is not the active document, or it is no longer connected to the DOM\n",
      "\n",
      "Error occurred: Message: The element with the reference 0dd1f582-d4f6-4eb1-b191-d8f6f3c8c8f1 is stale; either its node document is not the active document, or it is no longer connected to the DOM\n",
      "\n",
      "Error occurred: Message: The element with the reference 636254ed-2d45-47a8-8fc7-1e2ec01b328f is stale; either its node document is not the active document, or it is no longer connected to the DOM\n",
      "\n",
      "Error occurred: Message: The element with the reference 04710a4f-ed36-4d32-837d-4b47cfbdc3a7 is stale; either its node document is not the active document, or it is no longer connected to the DOM\n",
      "\n",
      "Error occurred: Message: The element with the reference fdfc85a7-5047-4c85-ac93-de4160991f13 is stale; either its node document is not the active document, or it is no longer connected to the DOM\n",
      "\n",
      "Error occurred: Message: The element with the reference 63698fdf-9ebc-4cf3-9078-ef1bb7d5f992 is stale; either its node document is not the active document, or it is no longer connected to the DOM\n",
      "\n",
      "Error occurred: Message: The element with the reference db5b1e5c-a631-4655-8ad5-f5eea81b8c84 is stale; either its node document is not the active document, or it is no longer connected to the DOM\n",
      "\n",
      "Error occurred: Message: The element with the reference 70dbce04-ec83-477c-9595-5b33d3256f68 is stale; either its node document is not the active document, or it is no longer connected to the DOM\n",
      "\n",
      "Error occurred: Message: The element with the reference c948b172-f14a-4ebf-8c00-7bc46fa3faf4 is stale; either its node document is not the active document, or it is no longer connected to the DOM\n",
      "\n",
      "中野区\n",
      "fire 개수:  28\n"
     ]
    },
    {
     "name": "stderr",
     "output_type": "stream",
     "text": [
      " 20%|█▉        | 9/46 [09:25<22:52, 37.10s/it]"
     ]
    },
    {
     "name": "stdout",
     "output_type": "stream",
     "text": [
      "Error occurred: Message: The element with the reference 36640e18-9abe-4e23-ad75-dbe57a91a0eb is stale; either its node document is not the active document, or it is no longer connected to the DOM\n",
      "\n",
      "Error occurred: Message: The element with the reference 86745377-4dde-4af8-a02f-2201fd3acf26 is stale; either its node document is not the active document, or it is no longer connected to the DOM\n",
      "\n",
      "Error occurred: Message: The element with the reference a9fd41ea-36fd-41ed-ad9b-92b7693ac6f5 is stale; either its node document is not the active document, or it is no longer connected to the DOM\n",
      "\n",
      "Error occurred: Message: The element with the reference 76f6581d-c620-4093-87bd-efcec6451d40 is stale; either its node document is not the active document, or it is no longer connected to the DOM\n",
      "\n",
      "Error occurred: Message: The element with the reference 20493458-d5c5-4616-a858-b3eaacb69461 is stale; either its node document is not the active document, or it is no longer connected to the DOM\n",
      "\n",
      "Error occurred: Message: The element with the reference 3ace12db-fc61-4719-a4ad-d82ea7217e58 is stale; either its node document is not the active document, or it is no longer connected to the DOM\n",
      "\n",
      "Error occurred: Message: The element with the reference 08fbe48a-d3c8-4ccf-bec9-e9d0eef0b78d is stale; either its node document is not the active document, or it is no longer connected to the DOM\n",
      "\n",
      "Error occurred: Message: The element with the reference aad4ff67-9580-4388-a899-4fc70fc14b88 is stale; either its node document is not the active document, or it is no longer connected to the DOM\n",
      "\n",
      "中央区\n",
      "fire 개수:  9\n"
     ]
    },
    {
     "name": "stderr",
     "output_type": "stream",
     "text": [
      " 22%|██▏       | 10/46 [09:54<20:41, 34.49s/it]"
     ]
    },
    {
     "name": "stdout",
     "output_type": "stream",
     "text": [
      "北区\n",
      "fire 개수:  7\n"
     ]
    },
    {
     "name": "stderr",
     "output_type": "stream",
     "text": [
      " 24%|██▍       | 11/46 [10:21<18:50, 32.31s/it]"
     ]
    },
    {
     "name": "stdout",
     "output_type": "stream",
     "text": [
      "葛飾区\n",
      "fire 개수:  36\n"
     ]
    },
    {
     "name": "stderr",
     "output_type": "stream",
     "text": [
      " 26%|██▌       | 12/46 [10:53<18:07, 31.98s/it]"
     ]
    },
    {
     "name": "stdout",
     "output_type": "stream",
     "text": [
      "Error occurred: Message: The element with the reference 309ed442-368f-4b8f-afa7-914afaf6b7b8 is stale; either its node document is not the active document, or it is no longer connected to the DOM\n",
      "\n",
      "Error occurred: Message: The element with the reference d03c16fa-1e1b-4d6d-96c1-0dd74ac1460f is stale; either its node document is not the active document, or it is no longer connected to the DOM\n",
      "\n",
      "Error occurred: Message: The element with the reference bd815cdc-5dc9-428d-889f-1c1b8d281507 is stale; either its node document is not the active document, or it is no longer connected to the DOM\n",
      "\n",
      "Error occurred: Message: The element with the reference 48708b2f-0c67-4f64-b23a-31ff309708c3 is stale; either its node document is not the active document, or it is no longer connected to the DOM\n",
      "\n",
      "Error occurred: Message: The element with the reference fead0fce-dc8e-457f-8d6a-c70c02dab005 is stale; either its node document is not the active document, or it is no longer connected to the DOM\n",
      "\n",
      "Error occurred: Message: The element with the reference bde52ce6-61a8-4aee-814f-3dc0a3093714 is stale; either its node document is not the active document, or it is no longer connected to the DOM\n",
      "\n",
      "Error occurred: Message: The element with the reference 6e4191b1-c26f-416b-a6ef-33d7be03ac31 is stale; either its node document is not the active document, or it is no longer connected to the DOM\n",
      "\n",
      "Error occurred: Message: The element with the reference 3b880912-7273-4063-bd7e-45fb6a398db8 is stale; either its node document is not the active document, or it is no longer connected to the DOM\n",
      "\n",
      "Error occurred: Message: The element with the reference 4db5d88d-76ad-467c-a9d9-f01956a179f5 is stale; either its node document is not the active document, or it is no longer connected to the DOM\n",
      "\n",
      "杉並区\n",
      "fire 개수:  15\n"
     ]
    },
    {
     "name": "stderr",
     "output_type": "stream",
     "text": [
      " 28%|██▊       | 13/46 [11:44<20:46, 37.78s/it]"
     ]
    },
    {
     "name": "stdout",
     "output_type": "stream",
     "text": [
      "江東区\n",
      "fire 개수:  14\n"
     ]
    },
    {
     "name": "stderr",
     "output_type": "stream",
     "text": [
      " 30%|███       | 14/46 [12:11<18:27, 34.61s/it]"
     ]
    },
    {
     "name": "stdout",
     "output_type": "stream",
     "text": [
      "Error occurred: Message: The element with the reference 9849ca35-6188-474b-8a4e-029d2c928c48 is stale; either its node document is not the active document, or it is no longer connected to the DOM\n",
      "\n",
      "Error occurred: Message: The element with the reference 5a460d9a-48b7-4620-a17b-a308f1da3224 is stale; either its node document is not the active document, or it is no longer connected to the DOM\n",
      "\n",
      "Error occurred: Message: The element with the reference 7e339ac5-4556-42d2-8702-a32a7980ec4b is stale; either its node document is not the active document, or it is no longer connected to the DOM\n",
      "\n",
      "Error occurred: Message: The element with the reference c7f96637-3b7d-4e5d-b240-baa0d38bda57 is stale; either its node document is not the active document, or it is no longer connected to the DOM\n",
      "\n",
      "Error occurred: Message: The element with the reference 0128f528-39b9-48f0-a549-a7202fc6e4bf is stale; either its node document is not the active document, or it is no longer connected to the DOM\n",
      "\n",
      "Error occurred: Message: The element with the reference c8d5011f-a0e7-4fdd-83ec-f4bac5a2685e is stale; either its node document is not the active document, or it is no longer connected to the DOM\n",
      "\n",
      "Error occurred: Message: The element with the reference 35955190-b541-4edf-ba6c-5478d73d8a5d is stale; either its node document is not the active document, or it is no longer connected to the DOM\n",
      "\n",
      "Error occurred: Message: The element with the reference dd7eb7b2-9c8f-4ce1-b58d-9c41cfa77775 is stale; either its node document is not the active document, or it is no longer connected to the DOM\n",
      "\n",
      "Error occurred: Message: The element with the reference 34aed87e-7945-4b4a-a34a-a0203e869265 is stale; either its node document is not the active document, or it is no longer connected to the DOM\n",
      "\n",
      "江戸川区\n",
      "fire 개수:  23\n"
     ]
    },
    {
     "name": "stderr",
     "output_type": "stream",
     "text": [
      " 33%|███▎      | 15/46 [12:32<15:45, 30.49s/it]"
     ]
    },
    {
     "name": "stdout",
     "output_type": "stream",
     "text": [
      "文京区\n",
      "fire 개수:  16\n"
     ]
    },
    {
     "name": "stderr",
     "output_type": "stream",
     "text": [
      " 35%|███▍      | 16/46 [13:00<14:53, 29.79s/it]"
     ]
    },
    {
     "name": "stdout",
     "output_type": "stream",
     "text": [
      "荒川区\n",
      "fire 개수:  20\n"
     ]
    },
    {
     "name": "stderr",
     "output_type": "stream",
     "text": [
      " 37%|███▋      | 17/46 [13:21<13:10, 27.27s/it]"
     ]
    },
    {
     "name": "stdout",
     "output_type": "stream",
     "text": [
      "板橋区\n",
      "fire 개수:  68\n",
      "Error occurred: Message: The element with the reference b2b304f1-74cd-4e20-923f-1c1557d31750 is stale; either its node document is not the active document, or it is no longer connected to the DOM\n",
      "\n",
      "Error occurred: Message: The element with the reference 20645489-ab18-442a-8f81-d2fac857143c is stale; either its node document is not the active document, or it is no longer connected to the DOM\n",
      "\n",
      "Error occurred: Message: The element with the reference 8deeec0b-fc7f-48fe-91fd-8b19dbc0abca is stale; either its node document is not the active document, or it is no longer connected to the DOM\n",
      "\n",
      "Error occurred: Message: The element with the reference 4ec27805-2d5f-4748-8589-6c85cdfae38a is stale; either its node document is not the active document, or it is no longer connected to the DOM\n",
      "\n",
      "Error occurred: Message: The element with the reference 2c82c778-2a75-45bf-b546-df9c2d8fd84b is stale; either its node document is not the active document, or it is no longer connected to the DOM\n",
      "\n",
      "Error occurred: Message: The element with the reference c26115e9-2d06-430f-bd15-07f6f95ac8b1 is stale; either its node document is not the active document, or it is no longer connected to the DOM\n",
      "\n",
      "Error occurred: Message: The element with the reference b3889b15-8748-4b09-82d5-ad8924a2a091 is stale; either its node document is not the active document, or it is no longer connected to the DOM\n",
      "\n",
      "Error occurred: Message: The element with the reference f6f75f39-7178-4346-9176-c71a93c44698 is stale; either its node document is not the active document, or it is no longer connected to the DOM\n",
      "\n",
      "Error occurred: Message: The element with the reference b3a07f7a-f420-484e-900d-a2abd0b1d34d is stale; either its node document is not the active document, or it is no longer connected to the DOM\n",
      "\n",
      "Error occurred: Message: The element with the reference add05a16-f6a9-47c4-a4a2-cab6e6f43770 is stale; either its node document is not the active document, or it is no longer connected to the DOM\n",
      "\n",
      "Error occurred: Message: The element with the reference 2a4a1641-5dd8-4922-87bd-165c80f3aa5d is stale; either its node document is not the active document, or it is no longer connected to the DOM\n",
      "\n",
      "Error occurred: Message: The element with the reference b311e767-d233-4e78-9593-a2a838210328 is stale; either its node document is not the active document, or it is no longer connected to the DOM\n",
      "\n",
      "Error occurred: Message: The element with the reference 1b0554ff-37c4-4a72-9b6c-48abf0274060 is stale; either its node document is not the active document, or it is no longer connected to the DOM\n",
      "\n",
      "Error occurred: Message: The element with the reference 95ca4b7b-1a8a-4d8f-b0ea-4f9c3e9e926b is stale; either its node document is not the active document, or it is no longer connected to the DOM\n",
      "\n",
      "Error occurred: Message: The element with the reference 7240580b-8183-45a1-88c1-6f70a6332048 is stale; either its node document is not the active document, or it is no longer connected to the DOM\n",
      "\n",
      "Error occurred: Message: The element with the reference 622e1935-a4f2-489a-bd76-5905b8aa20be is stale; either its node document is not the active document, or it is no longer connected to the DOM\n",
      "\n",
      "Error occurred: Message: The element with the reference 6d039cfc-d220-4f52-bfff-3227439960ba is stale; either its node document is not the active document, or it is no longer connected to the DOM\n",
      "\n",
      "Error occurred: Message: The element with the reference e886ecda-126f-4fe2-9f01-ec0f939db773 is stale; either its node document is not the active document, or it is no longer connected to the DOM\n",
      "\n",
      "Error occurred: Message: The element with the reference 01ce57f8-ba4f-40ba-8c0f-59bacd351607 is stale; either its node document is not the active document, or it is no longer connected to the DOM\n",
      "\n",
      "Error occurred: Message: The element with the reference 1a9c98cb-b026-464c-a3c8-8bd4341269b1 is stale; either its node document is not the active document, or it is no longer connected to the DOM\n",
      "\n",
      "Error occurred: Message: The element with the reference 61acd0b5-a196-4c6f-90f2-2639eadade31 is stale; either its node document is not the active document, or it is no longer connected to the DOM\n",
      "\n",
      "Error occurred: Message: The element with the reference a3326efa-fd63-4eba-a4df-8e19ac9d3370 is stale; either its node document is not the active document, or it is no longer connected to the DOM\n",
      "\n",
      "Error occurred: Message: The element with the reference f7cc4864-ef04-402a-87bd-6fa6b290a09e is stale; either its node document is not the active document, or it is no longer connected to the DOM\n",
      "\n",
      "Error occurred: Message: The element with the reference c983f91f-53cf-447e-82e8-249101d7a0ad is stale; either its node document is not the active document, or it is no longer connected to the DOM\n",
      "\n",
      "Error occurred: Message: The element with the reference 8898445b-7d54-410f-bf84-0f13986bce08 is stale; either its node document is not the active document, or it is no longer connected to the DOM\n",
      "\n",
      "Error occurred: Message: The element with the reference 66a91076-f68b-419e-9f34-c79f2bb9dae3 is stale; either its node document is not the active document, or it is no longer connected to the DOM\n",
      "\n",
      "Error occurred: Message: The element with the reference 7ea4cd16-232d-43b3-abc3-f4f464375d94 is stale; either its node document is not the active document, or it is no longer connected to the DOM\n",
      "\n",
      "Error occurred: Message: The element with the reference 96caa298-b2f7-4a05-8c06-2f1912d5babb is stale; either its node document is not the active document, or it is no longer connected to the DOM\n",
      "\n",
      "Error occurred: Message: The element with the reference 69dfdef9-6e14-4b88-b48e-a1294cd002f9 is stale; either its node document is not the active document, or it is no longer connected to the DOM\n",
      "\n",
      "Error occurred: Message: The element with the reference 871e0d0e-9bb7-4aeb-a8e3-f3997186d410 is stale; either its node document is not the active document, or it is no longer connected to the DOM\n",
      "\n",
      "Error occurred: Message: The element with the reference 1a0b5a0b-6600-49ac-807a-6a699efe27ed is stale; either its node document is not the active document, or it is no longer connected to the DOM\n",
      "\n",
      "Error occurred: Message: The element with the reference 30c16e29-43bc-497c-8993-ca40d59c862f is stale; either its node document is not the active document, or it is no longer connected to the DOM\n",
      "\n",
      "Error occurred: Message: The element with the reference 97ed8319-f2fc-4108-bbdf-b994a3c9ee4c is stale; either its node document is not the active document, or it is no longer connected to the DOM\n",
      "\n",
      "Error occurred: Message: The element with the reference 3f319992-7eeb-462c-8920-753dbdda3025 is stale; either its node document is not the active document, or it is no longer connected to the DOM\n",
      "\n",
      "Error occurred: Message: The element with the reference 6b843430-783a-48de-91dd-42627b5563d1 is stale; either its node document is not the active document, or it is no longer connected to the DOM\n",
      "\n",
      "Error occurred: Message: The element with the reference fd8afa46-991b-430c-9d5e-3728ff09f594 is stale; either its node document is not the active document, or it is no longer connected to the DOM\n",
      "\n",
      "Error occurred: Message: The element with the reference 55906c19-b6aa-4d56-942f-294a61241424 is stale; either its node document is not the active document, or it is no longer connected to the DOM\n",
      "\n",
      "Error occurred: Message: The element with the reference 771e15f9-4220-4f4c-88be-5b8951a6f750 is stale; either its node document is not the active document, or it is no longer connected to the DOM\n",
      "\n",
      "Error occurred: Message: The element with the reference 79365d4c-4043-49a2-be01-41640a2744c4 is stale; either its node document is not the active document, or it is no longer connected to the DOM\n",
      "\n",
      "Error occurred: Message: The element with the reference 9e61862d-0235-427f-a059-8fd06466cab4 is stale; either its node document is not the active document, or it is no longer connected to the DOM\n",
      "\n"
     ]
    },
    {
     "name": "stderr",
     "output_type": "stream",
     "text": [
      " 39%|███▉      | 18/46 [14:00<14:16, 30.61s/it]"
     ]
    },
    {
     "name": "stdout",
     "output_type": "stream",
     "text": [
      "Error occurred: Message: The element with the reference d5141797-1e26-47c2-93e1-03f5fdc4791a is stale; either its node document is not the active document, or it is no longer connected to the DOM\n",
      "\n",
      "Error occurred: Message: The element with the reference a7d00e1b-ea4c-41b2-a1c3-4eb2f3f6e778 is stale; either its node document is not the active document, or it is no longer connected to the DOM\n",
      "\n",
      "Error occurred: Message: The element with the reference 127bea81-aff5-4f8d-ac23-19ed9637d9ca is stale; either its node document is not the active document, or it is no longer connected to the DOM\n",
      "\n",
      "Error occurred: Message: The element with the reference 6f780566-e123-4da9-86c7-62bcb6495e38 is stale; either its node document is not the active document, or it is no longer connected to the DOM\n",
      "\n",
      "Error occurred: Message: The element with the reference c5274a3e-ac72-4103-b67f-d33439145789 is stale; either its node document is not the active document, or it is no longer connected to the DOM\n",
      "\n",
      "品川区\n",
      "fire 개수:  20\n"
     ]
    },
    {
     "name": "stderr",
     "output_type": "stream",
     "text": [
      " 41%|████▏     | 19/46 [14:31<13:50, 30.75s/it]"
     ]
    },
    {
     "name": "stdout",
     "output_type": "stream",
     "text": [
      "千代田区\n",
      "fire 개수:  8\n"
     ]
    },
    {
     "name": "stderr",
     "output_type": "stream",
     "text": [
      " 43%|████▎     | 20/46 [14:58<12:54, 29.78s/it]"
     ]
    },
    {
     "name": "stdout",
     "output_type": "stream",
     "text": [
      "Error occurred: Message: The element with the reference f0df3ff3-9834-4c67-a313-a8b6a0633a20 is stale; either its node document is not the active document, or it is no longer connected to the DOM\n",
      "\n",
      "Error occurred: Message: The element with the reference a77cfada-c995-47e2-87ee-2d2fdc088d8f is stale; either its node document is not the active document, or it is no longer connected to the DOM\n",
      "\n",
      "Error occurred: Message: The element with the reference ad18ad74-fee9-490f-9cde-6c200be52a99 is stale; either its node document is not the active document, or it is no longer connected to the DOM\n",
      "\n",
      "足立区\n",
      "fire 개수:  22\n"
     ]
    },
    {
     "name": "stderr",
     "output_type": "stream",
     "text": [
      " 46%|████▌     | 21/46 [15:23<11:42, 28.09s/it]"
     ]
    },
    {
     "name": "stdout",
     "output_type": "stream",
     "text": [
      "Error occurred: Message: The element with the reference 5c0e1031-9137-422c-8c48-3ab6c14ac702 is stale; either its node document is not the active document, or it is no longer connected to the DOM\n",
      "\n",
      "Error occurred: Message: The element with the reference 66e9879f-48ad-4287-b8b9-b195c0ff5123 is stale; either its node document is not the active document, or it is no longer connected to the DOM\n",
      "\n",
      "Error occurred: Message: The element with the reference e616380f-1a63-4f33-9daa-8cd3a4d92a1e is stale; either its node document is not the active document, or it is no longer connected to the DOM\n",
      "\n",
      "Error occurred: Message: The element with the reference d56436b3-96ee-4a3f-ba2a-fb849fc41ae6 is stale; either its node document is not the active document, or it is no longer connected to the DOM\n",
      "\n",
      "Error occurred: Message: The element with the reference bb03aa43-3b45-4fba-afe7-4d470aa04474 is stale; either its node document is not the active document, or it is no longer connected to the DOM\n",
      "\n",
      "Error occurred: Message: The element with the reference 850a3615-f9b9-4ac3-b2ad-97a20cb1f036 is stale; either its node document is not the active document, or it is no longer connected to the DOM\n",
      "\n",
      "Error occurred: Message: The element with the reference 36950b11-c787-4534-bd03-5a0ccbe11b43 is stale; either its node document is not the active document, or it is no longer connected to the DOM\n",
      "\n",
      "目黒区\n",
      "fire 개수:  12\n"
     ]
    },
    {
     "name": "stderr",
     "output_type": "stream",
     "text": [
      " 48%|████▊     | 22/46 [16:05<12:56, 32.33s/it]"
     ]
    },
    {
     "name": "stdout",
     "output_type": "stream",
     "text": [
      "Error occurred: Message: The element with the reference 371ce662-6d9d-48ea-9f8d-82ad6a0bfd3a is stale; either its node document is not the active document, or it is no longer connected to the DOM\n",
      "\n",
      "練馬区\n",
      "fire 개수:  24\n",
      "Error occurred: Message: The element with the reference 7115e66d-10c2-400a-af2f-795510785a17 is stale; either its node document is not the active document, or it is no longer connected to the DOM\n",
      "\n",
      "Error occurred: Message: Unable to locate element: div.popup-property-info > section > ul > li:nth-child(3)\n",
      "\n",
      "Error occurred: Message: The element with the reference cb79ea65-da73-4537-84be-a163755943c9 is stale; either its node document is not the active document, or it is no longer connected to the DOM\n",
      "\n",
      "Error occurred: Message: Unable to locate element: div.popup-property-info > section > ul > li:nth-child(3)\n",
      "\n"
     ]
    },
    {
     "name": "stderr",
     "output_type": "stream",
     "text": [
      " 50%|█████     | 23/46 [17:06<15:40, 40.91s/it]"
     ]
    },
    {
     "name": "stdout",
     "output_type": "stream",
     "text": [
      "府中市\n",
      "fire 개수:  19\n"
     ]
    },
    {
     "name": "stderr",
     "output_type": "stream",
     "text": [
      " 52%|█████▏    | 24/46 [17:30<13:08, 35.85s/it]"
     ]
    },
    {
     "name": "stdout",
     "output_type": "stream",
     "text": [
      "Error occurred: Message: The element with the reference 6f7fbe4e-d495-4989-81ad-d0231e2d0c01 is stale; either its node document is not the active document, or it is no longer connected to the DOM\n",
      "\n",
      "Error occurred: Message: The element with the reference 84f816ef-d747-4137-a71b-2ac1af6e5d79 is stale; either its node document is not the active document, or it is no longer connected to the DOM\n",
      "\n",
      "Error occurred: Message: The element with the reference ae1331ab-6b95-429a-9fec-f6c233826865 is stale; either its node document is not the active document, or it is no longer connected to the DOM\n",
      "\n",
      "Error occurred: Message: The element with the reference 4be33893-2759-495b-ad5b-000de40cade3 is stale; either its node document is not the active document, or it is no longer connected to the DOM\n",
      "\n",
      "Error occurred: Message: The element with the reference 319b6334-cdab-4118-b4b4-a2a898f791c8 is stale; either its node document is not the active document, or it is no longer connected to the DOM\n",
      "\n",
      "Error occurred: Message: The element with the reference e1f3e3da-4544-4afe-80a3-c225bda80e6a is stale; either its node document is not the active document, or it is no longer connected to the DOM\n",
      "\n",
      "Error occurred: Message: The element with the reference 8babce15-b9d4-4849-92b4-5664e6df33fe is stale; either its node document is not the active document, or it is no longer connected to the DOM\n",
      "\n",
      "Error occurred: Message: The element with the reference 32a1d97d-c71b-4bbb-9e0c-154183d7db21 is stale; either its node document is not the active document, or it is no longer connected to the DOM\n",
      "\n",
      "Error occurred: Message: The element with the reference f728f503-a8ca-4bc9-b34d-48d0282e203d is stale; either its node document is not the active document, or it is no longer connected to the DOM\n",
      "\n",
      "八王子市\n",
      "fire 개수:  13\n",
      "Error occurred: Message: The element with the reference 052a91a8-50d2-4cef-b64a-4c4525d12595 is stale; either its node document is not the active document, or it is no longer connected to the DOM\n",
      "\n",
      "Error occurred: Message: The element with the reference ae44785d-bf90-4cfe-9081-a36b26f9abdf is stale; either its node document is not the active document, or it is no longer connected to the DOM\n",
      "\n",
      "Error occurred: Message: The element with the reference e4225b27-7bc2-49b0-a232-1dbfce708dfe is stale; either its node document is not the active document, or it is no longer connected to the DOM\n",
      "\n"
     ]
    },
    {
     "name": "stderr",
     "output_type": "stream",
     "text": [
      " 54%|█████▍    | 25/46 [18:04<12:24, 35.43s/it]"
     ]
    },
    {
     "name": "stdout",
     "output_type": "stream",
     "text": [
      "日野市\n"
     ]
    },
    {
     "name": "stderr",
     "output_type": "stream",
     "text": [
      " 57%|█████▋    | 26/46 [18:15<09:18, 27.93s/it]"
     ]
    },
    {
     "name": "stdout",
     "output_type": "stream",
     "text": [
      "fire 개수:  4\n",
      "国分寺市\n",
      "fire 개수:  13\n"
     ]
    },
    {
     "name": "stderr",
     "output_type": "stream",
     "text": [
      " 59%|█████▊    | 27/46 [18:46<09:08, 28.88s/it]"
     ]
    },
    {
     "name": "stdout",
     "output_type": "stream",
     "text": [
      "町田市\n",
      "fire 개수:  11\n"
     ]
    },
    {
     "name": "stderr",
     "output_type": "stream",
     "text": [
      " 61%|██████    | 28/46 [19:06<07:55, 26.43s/it]"
     ]
    },
    {
     "name": "stdout",
     "output_type": "stream",
     "text": [
      "Error occurred: Message: The element with the reference fd0e9c1e-8493-45d7-bfdf-ae63a130abc9 is stale; either its node document is not the active document, or it is no longer connected to the DOM\n",
      "\n",
      "Error occurred: Message: The element with the reference 5855df96-13a7-431b-b368-e9e819548e24 is stale; either its node document is not the active document, or it is no longer connected to the DOM\n",
      "\n",
      "Error occurred: Message: The element with the reference 5f300876-8371-49f7-95a8-ac304adc7b9b is stale; either its node document is not the active document, or it is no longer connected to the DOM\n",
      "\n",
      "Error occurred: Message: The element with the reference d6beae62-2e43-46a5-aba8-318bc76e396d is stale; either its node document is not the active document, or it is no longer connected to the DOM\n",
      "\n",
      "Error occurred: Message: The element with the reference 48e7a822-9a5a-4a8b-8491-d48a3dd34638 is stale; either its node document is not the active document, or it is no longer connected to the DOM\n",
      "\n",
      "Error occurred: Message: The element with the reference f4a32364-dcd8-4c4e-8b38-f7759d9eeb85 is stale; either its node document is not the active document, or it is no longer connected to the DOM\n",
      "\n",
      "青梅市\n",
      "fire 개수:  20\n"
     ]
    },
    {
     "name": "stderr",
     "output_type": "stream",
     "text": [
      " 63%|██████▎   | 29/46 [19:34<07:34, 26.75s/it]"
     ]
    },
    {
     "name": "stdout",
     "output_type": "stream",
     "text": [
      "Error occurred: Message: The element with the reference cb92ad14-8de7-4ce9-a2a8-ddbb05452e49 is stale; either its node document is not the active document, or it is no longer connected to the DOM\n",
      "\n",
      "Error occurred: Message: The element with the reference 9a3eac0f-0331-459c-b15c-305563ab7c68 is stale; either its node document is not the active document, or it is no longer connected to the DOM\n",
      "\n",
      "Error occurred: Message: The element with the reference 229cdf11-341a-4688-8246-bad64923b93e is stale; either its node document is not the active document, or it is no longer connected to the DOM\n",
      "\n",
      "Error occurred: Message: The element with the reference 1923869a-e607-4cd9-8f08-273ee1060018 is stale; either its node document is not the active document, or it is no longer connected to the DOM\n",
      "\n",
      "Error occurred: Message: The element with the reference 8a1a2021-3635-48bf-9a40-f45ba03db59e is stale; either its node document is not the active document, or it is no longer connected to the DOM\n",
      "\n",
      "Error occurred: Message: The element with the reference 2b3466da-db49-4ccd-88e2-8908af019807 is stale; either its node document is not the active document, or it is no longer connected to the DOM\n",
      "\n",
      "Error occurred: Message: The element with the reference ea26be23-4f55-420a-9625-348ce4c9a0d7 is stale; either its node document is not the active document, or it is no longer connected to the DOM\n",
      "\n",
      "Error occurred: Message: The element with the reference 858e2a73-bf57-4875-9551-c4f69758776e is stale; either its node document is not the active document, or it is no longer connected to the DOM\n",
      "\n",
      "Error occurred: Message: The element with the reference f1f819ca-7a5c-4cd0-8cb1-e578ee1807d1 is stale; either its node document is not the active document, or it is no longer connected to the DOM\n",
      "\n",
      "Error occurred: Message: The element with the reference 623bbc64-41e4-4e2b-81cd-e966dbb83b00 is stale; either its node document is not the active document, or it is no longer connected to the DOM\n",
      "\n",
      "Error occurred: Message: The element with the reference 38fca8d3-8256-4f18-bbef-7cc333e2026b is stale; either its node document is not the active document, or it is no longer connected to the DOM\n",
      "\n",
      "調布市\n",
      "fire 개수:  12\n"
     ]
    },
    {
     "name": "stderr",
     "output_type": "stream",
     "text": [
      " 65%|██████▌   | 30/46 [20:01<07:10, 26.91s/it]"
     ]
    },
    {
     "name": "stdout",
     "output_type": "stream",
     "text": [
      "武蔵野市\n",
      "fire 개수:  7\n"
     ]
    },
    {
     "name": "stderr",
     "output_type": "stream",
     "text": [
      " 67%|██████▋   | 31/46 [20:18<05:58, 23.93s/it]"
     ]
    },
    {
     "name": "stdout",
     "output_type": "stream",
     "text": [
      "Error occurred: Message: The element with the reference 0a7e4ad8-8219-4878-a820-8427edbd1906 is stale; either its node document is not the active document, or it is no longer connected to the DOM\n",
      "\n",
      "Error occurred: Message: The element with the reference 837777f5-20ed-452b-918b-757883f8b958 is stale; either its node document is not the active document, or it is no longer connected to the DOM\n",
      "\n",
      "Error occurred: Message: The element with the reference b7e75794-c6d5-4852-816d-114513441ba8 is stale; either its node document is not the active document, or it is no longer connected to the DOM\n",
      "\n",
      "Error occurred: Message: The element with the reference ff50a88b-7877-4e5b-abca-3c87b8481c52 is stale; either its node document is not the active document, or it is no longer connected to the DOM\n",
      "\n",
      "あきる野市\n"
     ]
    },
    {
     "name": "stderr",
     "output_type": "stream",
     "text": [
      " 70%|██████▉   | 32/46 [20:29<04:37, 19.84s/it]"
     ]
    },
    {
     "name": "stdout",
     "output_type": "stream",
     "text": [
      "fire 개수:  4\n",
      "三鷹市\n",
      "fire 개수:  5\n"
     ]
    },
    {
     "name": "stderr",
     "output_type": "stream",
     "text": [
      " 72%|███████▏  | 33/46 [20:42<03:53, 17.97s/it]"
     ]
    },
    {
     "name": "stdout",
     "output_type": "stream",
     "text": [
      "小金井市\n",
      "fire 개수:  4\n"
     ]
    },
    {
     "name": "stderr",
     "output_type": "stream",
     "text": [
      " 74%|███████▍  | 34/46 [21:03<03:44, 18.70s/it]"
     ]
    },
    {
     "name": "stdout",
     "output_type": "stream",
     "text": [
      "東村山市\n",
      "fire 개수:  28\n"
     ]
    },
    {
     "name": "stderr",
     "output_type": "stream",
     "text": [
      " 76%|███████▌  | 35/46 [21:54<05:13, 28.46s/it]"
     ]
    },
    {
     "name": "stdout",
     "output_type": "stream",
     "text": [
      "Error occurred: Message: The element with the reference d1f0ff3a-32d7-481a-b9ad-a04bc644b78a is stale; either its node document is not the active document, or it is no longer connected to the DOM\n",
      "\n",
      "Error occurred: Message: The element with the reference 6fe1c5db-1970-475e-8d83-779261908d9d is stale; either its node document is not the active document, or it is no longer connected to the DOM\n",
      "\n",
      "Error occurred: Message: The element with the reference bbca2d68-522d-4bdc-96d2-d14749a6bad4 is stale; either its node document is not the active document, or it is no longer connected to the DOM\n",
      "\n",
      "Error occurred: Message: The element with the reference 83bbd661-3c08-4dab-ad47-f98f6ac42ba3 is stale; either its node document is not the active document, or it is no longer connected to the DOM\n",
      "\n",
      "Error occurred: Message: The element with the reference 86322397-5104-46b5-9739-3f1b9b24a262 is stale; either its node document is not the active document, or it is no longer connected to the DOM\n",
      "\n",
      "Error occurred: Message: The element with the reference 0e76b89a-d0e6-4511-86d6-95538ae22a24 is stale; either its node document is not the active document, or it is no longer connected to the DOM\n",
      "\n",
      "Error occurred: Message: The element with the reference 4ab45703-2306-48a9-97b7-36ed247cb96f is stale; either its node document is not the active document, or it is no longer connected to the DOM\n",
      "\n",
      "Error occurred: Message: The element with the reference 37762386-9079-4615-a0ed-afb2902a4eb8 is stale; either its node document is not the active document, or it is no longer connected to the DOM\n",
      "\n",
      "Error occurred: Message: The element with the reference e7ec0434-06d1-48d9-a84e-0e61579a66eb is stale; either its node document is not the active document, or it is no longer connected to the DOM\n",
      "\n",
      "Error occurred: Message: The element with the reference 2e1e27b3-5fde-4a40-8ab7-ee962386ca11 is stale; either its node document is not the active document, or it is no longer connected to the DOM\n",
      "\n",
      "Error occurred: Message: The element with the reference a077eb72-7855-4d4d-b193-6a7327cc19a7 is stale; either its node document is not the active document, or it is no longer connected to the DOM\n",
      "\n",
      "多摩市\n",
      "fire 개수:  4\n"
     ]
    },
    {
     "name": "stderr",
     "output_type": "stream",
     "text": [
      " 78%|███████▊  | 36/46 [22:11<04:10, 25.05s/it]"
     ]
    },
    {
     "name": "stdout",
     "output_type": "stream",
     "text": [
      "国立市\n",
      "fire 개수:  24\n"
     ]
    },
    {
     "name": "stderr",
     "output_type": "stream",
     "text": [
      " 80%|████████  | 37/46 [22:52<04:28, 29.80s/it]"
     ]
    },
    {
     "name": "stdout",
     "output_type": "stream",
     "text": [
      "狛江市\n",
      "fire 개수:  20\n",
      "Error occurred: Message: The element with the reference d29f706e-fd25-4528-91a9-e9b96b3a156b is stale; either its node document is not the active document, or it is no longer connected to the DOM\n",
      "\n",
      "Error occurred: Message: The element with the reference 7b83a9bb-1619-4ed9-a772-abdf01306341 is stale; either its node document is not the active document, or it is no longer connected to the DOM\n",
      "\n",
      "Error occurred: Message: The element with the reference 56d47a50-54da-484e-82b0-a22277d7b3bd is stale; either its node document is not the active document, or it is no longer connected to the DOM\n",
      "\n",
      "Error occurred: Message: The element with the reference de21c14d-74a4-4577-a103-128c7d4328cb is stale; either its node document is not the active document, or it is no longer connected to the DOM\n",
      "\n",
      "Error occurred: Message: The element with the reference aa3e8288-291e-4aac-9a60-3a3c3036e47b is stale; either its node document is not the active document, or it is no longer connected to the DOM\n",
      "\n",
      "Error occurred: Message: The element with the reference 00d612cb-b250-4269-9865-b8f33f58e82a is stale; either its node document is not the active document, or it is no longer connected to the DOM\n",
      "\n",
      "Error occurred: Message: The element with the reference a8f1a343-f4cb-450d-b990-eab0d6e6e21c is stale; either its node document is not the active document, or it is no longer connected to the DOM\n",
      "\n",
      "Error occurred: Message: The element with the reference f3a01a68-f8bf-4831-af2f-ece31a62ea69 is stale; either its node document is not the active document, or it is no longer connected to the DOM\n",
      "\n"
     ]
    },
    {
     "name": "stderr",
     "output_type": "stream",
     "text": [
      " 83%|████████▎ | 38/46 [23:33<04:25, 33.14s/it]"
     ]
    },
    {
     "name": "stdout",
     "output_type": "stream",
     "text": [
      "Error occurred: Message: The element with the reference dfad9e7a-1a36-4caf-b073-134a5606333d is stale; either its node document is not the active document, or it is no longer connected to the DOM\n",
      "\n",
      "西東京市\n",
      "fire 개수:  11\n"
     ]
    },
    {
     "name": "stderr",
     "output_type": "stream",
     "text": [
      " 85%|████████▍ | 39/46 [23:53<03:25, 29.34s/it]"
     ]
    },
    {
     "name": "stdout",
     "output_type": "stream",
     "text": [
      "Error occurred: Message: The element with the reference c6689261-90c7-47ac-90ac-f0cfdf707d2c is stale; either its node document is not the active document, or it is no longer connected to the DOM\n",
      "\n",
      "Error occurred: Message: The element with the reference 7382f227-1e52-42e1-943d-66cc11baf650 is stale; either its node document is not the active document, or it is no longer connected to the DOM\n",
      "\n",
      "立川市\n",
      "fire 개수:  1\n"
     ]
    },
    {
     "name": "stderr",
     "output_type": "stream",
     "text": [
      " 87%|████████▋ | 40/46 [24:07<02:27, 24.60s/it]"
     ]
    },
    {
     "name": "stdout",
     "output_type": "stream",
     "text": [
      "小平市\n",
      "fire 개수:  8\n"
     ]
    },
    {
     "name": "stderr",
     "output_type": "stream",
     "text": [
      " 89%|████████▉ | 41/46 [24:25<01:53, 22.74s/it]"
     ]
    },
    {
     "name": "stdout",
     "output_type": "stream",
     "text": [
      "Error occurred: Message: The element with the reference 3082b0c9-0fdc-44f8-a574-f3f6c9cf87dc is stale; either its node document is not the active document, or it is no longer connected to the DOM\n",
      "\n",
      "Error occurred: Message: The element with the reference bea53318-6348-4938-a8d0-55cba85a21c1 is stale; either its node document is not the active document, or it is no longer connected to the DOM\n",
      "\n",
      "羽村市\n",
      "fire 개수:  6\n"
     ]
    },
    {
     "name": "stderr",
     "output_type": "stream",
     "text": [
      " 91%|█████████▏| 42/46 [24:42<01:24, 21.11s/it]"
     ]
    },
    {
     "name": "stdout",
     "output_type": "stream",
     "text": [
      "武蔵村山市\n",
      "fire 개수:  3\n"
     ]
    },
    {
     "name": "stderr",
     "output_type": "stream",
     "text": [
      " 93%|█████████▎| 43/46 [24:56<00:56, 18.86s/it]"
     ]
    },
    {
     "name": "stdout",
     "output_type": "stream",
     "text": [
      "奥多摩町\n"
     ]
    },
    {
     "name": "stderr",
     "output_type": "stream",
     "text": [
      " 96%|█████████▌| 44/46 [25:06<00:32, 16.26s/it]"
     ]
    },
    {
     "name": "stdout",
     "output_type": "stream",
     "text": [
      "fire 개수:  0\n",
      "昭島市\n",
      "fire 개수:  8\n"
     ]
    },
    {
     "name": "stderr",
     "output_type": "stream",
     "text": [
      " 98%|█████████▊| 45/46 [25:20<00:15, 15.55s/it]"
     ]
    },
    {
     "name": "stdout",
     "output_type": "stream",
     "text": [
      "福生市\n",
      "fire 개수:  15\n"
     ]
    },
    {
     "name": "stderr",
     "output_type": "stream",
     "text": [
      "100%|██████████| 46/46 [25:37<00:00, 33.43s/it]"
     ]
    },
    {
     "name": "stdout",
     "output_type": "stream",
     "text": [
      "Error occurred: Message: The element with the reference e62442c6-cd17-4e43-8c23-2c1bc9e8c50f is stale; either its node document is not the active document, or it is no longer connected to the DOM\n",
      "\n",
      "Error occurred: Message: The element with the reference ab9fe42b-d212-4ed2-a4e0-d93990185287 is stale; either its node document is not the active document, or it is no longer connected to the DOM\n",
      "\n",
      "Error occurred: Message: The element with the reference 72bb58c8-f623-4ead-bf68-b6834098b6d1 is stale; either its node document is not the active document, or it is no longer connected to the DOM\n",
      "\n"
     ]
    },
    {
     "name": "stderr",
     "output_type": "stream",
     "text": [
      "\n"
     ]
    }
   ],
   "source": [
    "search_fire(driver, jp_district_list)"
   ]
  },
  {
   "cell_type": "code",
   "execution_count": 15,
   "metadata": {},
   "outputs": [],
   "source": [
    "driver.quit()"
   ]
  },
  {
   "cell_type": "code",
   "execution_count": 13,
   "metadata": {},
   "outputs": [
    {
     "data": {
      "text/html": [
       "<div>\n",
       "<style scoped>\n",
       "    .dataframe tbody tr th:only-of-type {\n",
       "        vertical-align: middle;\n",
       "    }\n",
       "\n",
       "    .dataframe tbody tr th {\n",
       "        vertical-align: top;\n",
       "    }\n",
       "\n",
       "    .dataframe thead th {\n",
       "        text-align: right;\n",
       "    }\n",
       "</style>\n",
       "<table border=\"1\" class=\"dataframe\">\n",
       "  <thead>\n",
       "    <tr style=\"text-align: right;\">\n",
       "      <th></th>\n",
       "      <th>district</th>\n",
       "      <th>date</th>\n",
       "      <th>address</th>\n",
       "      <th>content</th>\n",
       "    </tr>\n",
       "  </thead>\n",
       "  <tbody>\n",
       "    <tr>\n",
       "      <th>0</th>\n",
       "      <td>新宿区</td>\n",
       "      <td>平成24年11月5日</td>\n",
       "      <td>東京都新宿区新宿三丁目22-7指田ビル地下1階</td>\n",
       "      <td>死体発見</td>\n",
       "    </tr>\n",
       "    <tr>\n",
       "      <th>1</th>\n",
       "      <td>新宿区</td>\n",
       "      <td>平成24年11月5日</td>\n",
       "      <td>東京都新宿区新宿三丁目22-7指田ビル地下1階</td>\n",
       "      <td>死体発見</td>\n",
       "    </tr>\n",
       "    <tr>\n",
       "      <th>2</th>\n",
       "      <td>新宿区</td>\n",
       "      <td>令和4年</td>\n",
       "      <td>東京都新宿区西新宿一丁目3-9</td>\n",
       "      <td>飛び降り自殺</td>\n",
       "    </tr>\n",
       "    <tr>\n",
       "      <th>3</th>\n",
       "      <td>新宿区</td>\n",
       "      <td></td>\n",
       "      <td></td>\n",
       "      <td></td>\n",
       "    </tr>\n",
       "    <tr>\n",
       "      <th>4</th>\n",
       "      <td>新宿区</td>\n",
       "      <td>平成20年1月5日</td>\n",
       "      <td>東京都新宿区歌舞伎町一丁目27-5 中台ビル</td>\n",
       "      <td>2階サウナロイヤル 死体発見</td>\n",
       "    </tr>\n",
       "    <tr>\n",
       "      <th>...</th>\n",
       "      <td>...</td>\n",
       "      <td>...</td>\n",
       "      <td>...</td>\n",
       "      <td>...</td>\n",
       "    </tr>\n",
       "    <tr>\n",
       "      <th>298</th>\n",
       "      <td>羽村市</td>\n",
       "      <td>2005</td>\n",
       "      <td>東京都羽村市緑ヶ丘五丁目1-50</td>\n",
       "      <td>駐車スペース横の部屋で住民男性が首吊り自殺</td>\n",
       "    </tr>\n",
       "    <tr>\n",
       "      <th>299</th>\n",
       "      <td>武蔵村山市</td>\n",
       "      <td>不明</td>\n",
       "      <td>東京都羽村市羽中一丁目3-37</td>\n",
       "      <td>告知事項</td>\n",
       "    </tr>\n",
       "    <tr>\n",
       "      <th>300</th>\n",
       "      <td>昭島市</td>\n",
       "      <td>平成24年</td>\n",
       "      <td>東京都武蔵村山市中央一丁目24-3ハウスオブブーケA 1階</td>\n",
       "      <td>死体発見</td>\n",
       "    </tr>\n",
       "    <tr>\n",
       "      <th>301</th>\n",
       "      <td>福生市</td>\n",
       "      <td>令和2年9月7日</td>\n",
       "      <td>東京都昭島市田中町一丁目34-9</td>\n",
       "      <td>火災による死亡</td>\n",
       "    </tr>\n",
       "    <tr>\n",
       "      <th>302</th>\n",
       "      <td>福生市</td>\n",
       "      <td>2016年</td>\n",
       "      <td>東京都福生市志茂156-1</td>\n",
       "      <td>通路から駐車場へ男性が飛び下り自殺</td>\n",
       "    </tr>\n",
       "  </tbody>\n",
       "</table>\n",
       "<p>303 rows × 4 columns</p>\n",
       "</div>"
      ],
      "text/plain": [
       "    district        date                        address                content\n",
       "0        新宿区  平成24年11月5日        東京都新宿区新宿三丁目22-7指田ビル地下1階                   死体発見\n",
       "1        新宿区  平成24年11月5日        東京都新宿区新宿三丁目22-7指田ビル地下1階                   死体発見\n",
       "2        新宿区        令和4年                東京都新宿区西新宿一丁目3-9                 飛び降り自殺\n",
       "3        新宿区                                                                  \n",
       "4        新宿区   平成20年1月5日         東京都新宿区歌舞伎町一丁目27-5 中台ビル         2階サウナロイヤル 死体発見\n",
       "..       ...         ...                            ...                    ...\n",
       "298      羽村市        2005               東京都羽村市緑ヶ丘五丁目1-50  駐車スペース横の部屋で住民男性が首吊り自殺\n",
       "299    武蔵村山市          不明                東京都羽村市羽中一丁目3-37                   告知事項\n",
       "300      昭島市       平成24年  東京都武蔵村山市中央一丁目24-3ハウスオブブーケA 1階                   死体発見\n",
       "301      福生市    令和2年9月7日               東京都昭島市田中町一丁目34-9                火災による死亡\n",
       "302      福生市       2016年                  東京都福生市志茂156-1      通路から駐車場へ男性が飛び下り自殺\n",
       "\n",
       "[303 rows x 4 columns]"
      ]
     },
     "execution_count": 13,
     "metadata": {},
     "output_type": "execute_result"
    }
   ],
   "source": [
    "tokyo_df = pd.DataFrame(tokyo_data_dict)\n",
    "tokyo_df"
   ]
  },
  {
   "cell_type": "code",
   "execution_count": 14,
   "metadata": {},
   "outputs": [],
   "source": [
    "tokyo_df.to_csv('selenium_tokyo_data.csv')"
   ]
  },
  {
   "cell_type": "code",
   "execution_count": 19,
   "metadata": {},
   "outputs": [
    {
     "data": {
      "text/html": [
       "<div>\n",
       "<style scoped>\n",
       "    .dataframe tbody tr th:only-of-type {\n",
       "        vertical-align: middle;\n",
       "    }\n",
       "\n",
       "    .dataframe tbody tr th {\n",
       "        vertical-align: top;\n",
       "    }\n",
       "\n",
       "    .dataframe thead th {\n",
       "        text-align: right;\n",
       "    }\n",
       "</style>\n",
       "<table border=\"1\" class=\"dataframe\">\n",
       "  <thead>\n",
       "    <tr style=\"text-align: right;\">\n",
       "      <th></th>\n",
       "      <th>district</th>\n",
       "      <th>date</th>\n",
       "      <th>address</th>\n",
       "      <th>content</th>\n",
       "    </tr>\n",
       "  </thead>\n",
       "  <tbody>\n",
       "    <tr>\n",
       "      <th>0</th>\n",
       "      <td>新宿区</td>\n",
       "      <td>平成24年11月5日</td>\n",
       "      <td>東京都新宿区新宿三丁目22-7指田ビル地下1階</td>\n",
       "      <td>死体発見</td>\n",
       "    </tr>\n",
       "    <tr>\n",
       "      <th>1</th>\n",
       "      <td>新宿区</td>\n",
       "      <td>平成24年11月5日</td>\n",
       "      <td>東京都新宿区新宿三丁目22-7指田ビル地下1階</td>\n",
       "      <td>死体発見</td>\n",
       "    </tr>\n",
       "    <tr>\n",
       "      <th>2</th>\n",
       "      <td>新宿区</td>\n",
       "      <td>令和4年</td>\n",
       "      <td>東京都新宿区西新宿一丁目3-9</td>\n",
       "      <td>飛び降り自殺</td>\n",
       "    </tr>\n",
       "    <tr>\n",
       "      <th>3</th>\n",
       "      <td>新宿区</td>\n",
       "      <td>NaN</td>\n",
       "      <td>NaN</td>\n",
       "      <td>NaN</td>\n",
       "    </tr>\n",
       "    <tr>\n",
       "      <th>4</th>\n",
       "      <td>新宿区</td>\n",
       "      <td>平成20年1月5日</td>\n",
       "      <td>東京都新宿区歌舞伎町一丁目27-5 中台ビル</td>\n",
       "      <td>2階サウナロイヤル 死体発見</td>\n",
       "    </tr>\n",
       "    <tr>\n",
       "      <th>...</th>\n",
       "      <td>...</td>\n",
       "      <td>...</td>\n",
       "      <td>...</td>\n",
       "      <td>...</td>\n",
       "    </tr>\n",
       "    <tr>\n",
       "      <th>298</th>\n",
       "      <td>羽村市</td>\n",
       "      <td>2005</td>\n",
       "      <td>東京都羽村市緑ヶ丘五丁目1-50</td>\n",
       "      <td>駐車スペース横の部屋で住民男性が首吊り自殺</td>\n",
       "    </tr>\n",
       "    <tr>\n",
       "      <th>299</th>\n",
       "      <td>武蔵村山市</td>\n",
       "      <td>不明</td>\n",
       "      <td>東京都羽村市羽中一丁目3-37</td>\n",
       "      <td>告知事項</td>\n",
       "    </tr>\n",
       "    <tr>\n",
       "      <th>300</th>\n",
       "      <td>昭島市</td>\n",
       "      <td>平成24年</td>\n",
       "      <td>東京都武蔵村山市中央一丁目24-3ハウスオブブーケA 1階</td>\n",
       "      <td>死体発見</td>\n",
       "    </tr>\n",
       "    <tr>\n",
       "      <th>301</th>\n",
       "      <td>福生市</td>\n",
       "      <td>令和2年9月7日</td>\n",
       "      <td>東京都昭島市田中町一丁目34-9</td>\n",
       "      <td>火災による死亡</td>\n",
       "    </tr>\n",
       "    <tr>\n",
       "      <th>302</th>\n",
       "      <td>福生市</td>\n",
       "      <td>2016年</td>\n",
       "      <td>東京都福生市志茂156-1</td>\n",
       "      <td>通路から駐車場へ男性が飛び下り自殺</td>\n",
       "    </tr>\n",
       "  </tbody>\n",
       "</table>\n",
       "<p>303 rows × 4 columns</p>\n",
       "</div>"
      ],
      "text/plain": [
       "    district        date                        address                content\n",
       "0        新宿区  平成24年11月5日        東京都新宿区新宿三丁目22-7指田ビル地下1階                   死体発見\n",
       "1        新宿区  平成24年11月5日        東京都新宿区新宿三丁目22-7指田ビル地下1階                   死体発見\n",
       "2        新宿区        令和4年                東京都新宿区西新宿一丁目3-9                 飛び降り自殺\n",
       "3        新宿区         NaN                            NaN                    NaN\n",
       "4        新宿区   平成20年1月5日         東京都新宿区歌舞伎町一丁目27-5 中台ビル         2階サウナロイヤル 死体発見\n",
       "..       ...         ...                            ...                    ...\n",
       "298      羽村市        2005               東京都羽村市緑ヶ丘五丁目1-50  駐車スペース横の部屋で住民男性が首吊り自殺\n",
       "299    武蔵村山市          不明                東京都羽村市羽中一丁目3-37                   告知事項\n",
       "300      昭島市       平成24年  東京都武蔵村山市中央一丁目24-3ハウスオブブーケA 1階                   死体発見\n",
       "301      福生市    令和2年9月7日               東京都昭島市田中町一丁目34-9                火災による死亡\n",
       "302      福生市       2016年                  東京都福生市志茂156-1      通路から駐車場へ男性が飛び下り自殺\n",
       "\n",
       "[303 rows x 4 columns]"
      ]
     },
     "execution_count": 19,
     "metadata": {},
     "output_type": "execute_result"
    }
   ],
   "source": [
    "df = pd.read_csv('selenium_tokyo_data.csv', index_col=0)\n",
    "df"
   ]
  },
  {
   "cell_type": "markdown",
   "metadata": {},
   "source": [
    "#### 지도 내 줌인 줌아웃 실패 "
   ]
  },
  {
   "cell_type": "code",
   "execution_count": null,
   "metadata": {},
   "outputs": [],
   "source": [
    "# from selenium.webdriver.common.action_chains import ActionChains\n",
    "# # https://stackoverflow.com/questions/64474653/how-to-webscrape-a-canvas-element-with-python-selenium\n",
    "# canvas = driver.find_element(By.CSS_SELECTOR, '#map-canvas > div.mk-map-view.mk-disable-all-gestures > canvas.rt-root')\n",
    "# action = ActionChains(driver)\n",
    "\n",
    "# map_canvas = driver.find_element_by_css_selector(\"div.mk-map-view > canvas.rt-root\")\n",
    "\n",
    "# from selenium.webdriver.common.action_chains import ActionChains\n",
    "\n",
    "# # 지도 요소 위에서 마우스를 움직임\n",
    "# actions = ActionChains(driver)\n",
    "# actions.move_to_element(map_canvas).click().perform()\n",
    "\n",
    "# actions.move_by_offset(0, 200).perform() # 줌인만 가능 \n",
    "\n",
    "# #줌인 줌아웃 반복 \n",
    "# action.move_to_element(canvas).move_by_offset(0, 0).click_and_hold().perform()\n",
    "# action.move_by_offset(-200,0).release().perform()"
   ]
  },
  {
   "cell_type": "markdown",
   "metadata": {},
   "source": [
    "#### Request API 이용한 방법 "
   ]
  },
  {
   "cell_type": "code",
   "execution_count": null,
   "metadata": {},
   "outputs": [],
   "source": [
    "import json\n",
    "from  bs4 import BeautifulSoup\n",
    "from urllib.request import Request, urlopen\n",
    "import urllib.request as req\n",
    "from tqdm import tqdm, tqdm_notebook\n",
    "import time\n",
    "import requests"
   ]
  },
  {
   "cell_type": "code",
   "execution_count": null,
   "metadata": {},
   "outputs": [],
   "source": [
    "#TODO shinjuku ku test\n",
    "search_region = driver.find_element(By.CSS_SELECTOR, '#geocoder-text')\n",
    "search_region.send_keys(jp_district_list[20])\n",
    "time.sleep(2)\n",
    "# 검색 버튼 클릭 \n",
    "search_btn = driver.find_element(By.CSS_SELECTOR, \"#geocoder-button\")\n",
    "search_btn.send_keys(Keys.ENTER)\n",
    "\n",
    "time.sleep(2)"
   ]
  },
  {
   "cell_type": "code",
   "execution_count": null,
   "metadata": {},
   "outputs": [],
   "source": [
    "json_url = 'https://api.oshimaland.co.jp/map'\n",
    "headers = {\n",
    "    \"User-Agent\": \"Mozilla/5.0\",\n",
    "    \"Origin\": \"https://www.oshimaland.co.jp\"\n",
    "}\n",
    "data = {\n",
    "    # 'keys': [\"1330021123012133\", \"1330021123012311\", \"1330021123013022\", \"1330021123013200\"]\n",
    "    'keys' : ['1330021123013021',  '1330021123013023',  '1330021123013201']\n",
    "}\n",
    "\n",
    "response = requests.post(json_url, headers=headers, json=data)\n",
    "json_data = response.json()"
   ]
  },
  {
   "cell_type": "code",
   "execution_count": null,
   "metadata": {},
   "outputs": [],
   "source": [
    "from itertools import chain\n",
    "\n",
    "origin = list(data.values())\n",
    "flatten_list = list(chain(*origin))\n",
    "flatten_list"
   ]
  },
  {
   "cell_type": "code",
   "execution_count": null,
   "metadata": {},
   "outputs": [],
   "source": [
    "jsonValueList = []\n",
    "for idx in range(len(flatten_list)):\n",
    "    for idx2 in range(len(json_data['markers'][flatten_list[idx]])):\n",
    "        jsonValueList.append(json_data['markers'][flatten_list[idx]][idx2]['key'])"
   ]
  },
  {
   "cell_type": "code",
   "execution_count": null,
   "metadata": {},
   "outputs": [],
   "source": [
    "getDataList2 = []\n",
    "for idx in tqdm_notebook(range(len(jsonValueList))):\n",
    "    json_url = f'https://www.oshimaland.co.jp/d/{jsonValueList[idx]}.json'\n",
    "    url = req.Request(json_url, headers={\"User-Agent\": \"Mozilla/5.0\"})\n",
    "    code = req.urlopen(url)\n",
    "    soup = BeautifulSoup(code, 'html.parser')\n",
    "    json_data = json.loads(soup.text)\n",
    "    getDataList2.append({\n",
    "        'info' : json_data['info'],\n",
    "        'address' : json_data['ad'],\n",
    "        'dt' : json_data['dt'],\n",
    "        'cr' : json_data['cr'],\n",
    "     })"
   ]
  }
 ],
 "metadata": {
  "kernelspec": {
   "display_name": "Python 3",
   "language": "python",
   "name": "python3"
  },
  "language_info": {
   "codemirror_mode": {
    "name": "ipython",
    "version": 3
   },
   "file_extension": ".py",
   "mimetype": "text/x-python",
   "name": "python",
   "nbconvert_exporter": "python",
   "pygments_lexer": "ipython3",
   "version": "3.8.16"
  },
  "orig_nbformat": 4
 },
 "nbformat": 4,
 "nbformat_minor": 2
}
