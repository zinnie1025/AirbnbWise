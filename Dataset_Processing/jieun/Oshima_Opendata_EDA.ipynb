{
 "cells": [
  {
   "cell_type": "markdown",
   "metadata": {},
   "source": [
    "## <p style=\"font-family:JetBrains Mono; font-weight:normal; letter-spacing:2px; color:#b57edc; font-size:140%; text-align:left;padding: 0px; border-bottom: 3px solid #b57edc\">Libraries</p>"
   ]
  },
  {
   "cell_type": "code",
   "execution_count": null,
   "metadata": {},
   "outputs": [
    {
     "ename": "ModuleNotFoundError",
     "evalue": "No module named 'seaborn'",
     "output_type": "error",
     "traceback": [
      "\u001b[1;31m---------------------------------------------------------------------------\u001b[0m",
      "\u001b[1;31mModuleNotFoundError\u001b[0m                       Traceback (most recent call last)",
      "Cell \u001b[1;32mIn[2], line 5\u001b[0m\n\u001b[0;32m      2\u001b[0m \u001b[39mimport\u001b[39;00m \u001b[39mnumpy\u001b[39;00m \u001b[39mas\u001b[39;00m \u001b[39mnp\u001b[39;00m\n\u001b[0;32m      4\u001b[0m \u001b[39mimport\u001b[39;00m \u001b[39mmatplotlib\u001b[39;00m\u001b[39m.\u001b[39;00m\u001b[39mpyplot\u001b[39;00m \u001b[39mas\u001b[39;00m \u001b[39mplt\u001b[39;00m\n\u001b[1;32m----> 5\u001b[0m \u001b[39mimport\u001b[39;00m \u001b[39mseaborn\u001b[39;00m \u001b[39mas\u001b[39;00m \u001b[39msns\u001b[39;00m\n\u001b[0;32m      7\u001b[0m \u001b[39mfrom\u001b[39;00m \u001b[39mtqdm\u001b[39;00m \u001b[39mimport\u001b[39;00m tqdm_notebook\n\u001b[0;32m      9\u001b[0m \u001b[39mimport\u001b[39;00m \u001b[39mwarnings\u001b[39;00m\n",
      "\u001b[1;31mModuleNotFoundError\u001b[0m: No module named 'seaborn'"
     ]
    }
   ],
   "source": [
    "import pandas as pd\n",
    "import numpy as np\n",
    "\n",
    "import matplotlib.pyplot as plt\n",
    "\n",
    "from tqdm import tqdm_notebook\n",
    "\n",
    "import warnings\n",
    "warnings.filterwarnings('ignore')\n",
    "\n",
    "import re\n",
    "\n",
    "pd.options.display.max_rows = 1000"
   ]
  },
  {
   "cell_type": "markdown",
   "metadata": {},
   "source": [
    "## <p style=\"font-family:JetBrains Mono; font-weight:normal; letter-spacing:2px; color:#b57edc; font-size:140%; text-align:left;padding: 0px; border-bottom: 3px solid #b57edc\">Intro</p>"
   ]
  },
  {
   "cell_type": "markdown",
   "metadata": {},
   "source": [
    "도쿄의 **치안** 데이터와 **오시마랜드** 데이터를 활용하여 EDA(탐색적 데이터 분석)를 수행하고자 한다.\n",
    "\n",
    " <a href = 'http://www.oshimaland.co.jp'> 오시마랜드(Oshimaland)</a>\n",
    ">This website showcases buildings with unfortunate past incidents such as suicide cases, corpse disposal incidents, and murder cases.\n",
    "\n",
    "<a href = 'https://catalog.data.metro.tokyo.lg.jp/dataset?q=%E6%B2%BB%E5%AE%89&sort=score+desc%2C+metadata_modified+desc'>일본 도쿄 공공 데이터</a>"
   ]
  },
  {
   "cell_type": "markdown",
   "metadata": {},
   "source": [
    "## <p style=\"font-family:JetBrains Mono; font-weight:normal; letter-spacing:2px; color:#b57edc; font-size:140%; text-align:left;padding: 0px; border-bottom: 3px solid #b57edc\">EDA</p>"
   ]
  },
  {
   "cell_type": "markdown",
   "metadata": {},
   "source": [
    "## <p style=\"font-family:JetBrains Mono; font-weight:normal; letter-spacing:2px; color:#068FFF; font-size:80%; text-align:left;padding: 0px; border-bottom: 3px solid #068FFF\">Oshima Jieun Data Processing</p>"
   ]
  },
  {
   "cell_type": "markdown",
   "metadata": {},
   "source": [
    "## <p style=\"font-family:JetBrains Mono; font-weight:normal; letter-spacing:2px; color:#1A5D1A; font-size:75%; text-align:left;padding: 0px; border-bottom: 3px solid #1A5D1A\">Data info</p>"
   ]
  },
  {
   "cell_type": "markdown",
   "metadata": {},
   "source": [
    "There are 4 independent variables:\n",
    "<ul>\n",
    "<li><strong>oshimaland_dataset_final.csv</strong><ul>\n",
    "<br>\n",
    "<li><code>info</code> 사건 정보</li>\n",
    "<li><code>address</code> 사건이 발생한 주소</li>\n",
    "<li><code>occurred_date</code> 사건 발생 날짜</li>\n",
    "<li><code>recorede_date</code> 사건 기록 날짜</li>"
   ]
  },
  {
   "cell_type": "code",
   "execution_count": 4,
   "metadata": {},
   "outputs": [
    {
     "data": {
      "text/plain": [
       "(570, 4)"
      ]
     },
     "execution_count": 4,
     "metadata": {},
     "output_type": "execute_result"
    }
   ],
   "source": [
    "oshimaJ= pd.read_csv('C:\\\\Users\\\\lucky\\\\Documents\\\\COLLABORATION\\\\AirbnbWise\\\\Oshimaland_data\\\\jieun\\\\oshimaland_dataset_final.csv')\n",
    "oshimaJ.shape"
   ]
  },
  {
   "cell_type": "code",
   "execution_count": 144,
   "metadata": {},
   "outputs": [],
   "source": [
    "oshimaJ.drop(columns = ['recorded_date'], inplace = True) #* recorded_date(기록 날짜) 칼럼 제거\n",
    "oshimaJ.rename(columns = {'occurred_date': 'date'}, inplace = True) #* occured_date -> date 칼럼명 변경"
   ]
  },
  {
   "cell_type": "code",
   "execution_count": 145,
   "metadata": {},
   "outputs": [
    {
     "data": {
      "text/html": [
       "<div>\n",
       "<style scoped>\n",
       "    .dataframe tbody tr th:only-of-type {\n",
       "        vertical-align: middle;\n",
       "    }\n",
       "\n",
       "    .dataframe tbody tr th {\n",
       "        vertical-align: top;\n",
       "    }\n",
       "\n",
       "    .dataframe thead th {\n",
       "        text-align: right;\n",
       "    }\n",
       "</style>\n",
       "<table border=\"1\" class=\"dataframe\">\n",
       "  <thead>\n",
       "    <tr style=\"text-align: right;\">\n",
       "      <th></th>\n",
       "      <th>info</th>\n",
       "      <th>address</th>\n",
       "      <th>date</th>\n",
       "    </tr>\n",
       "  </thead>\n",
       "  <tbody>\n",
       "    <tr>\n",
       "      <th>565</th>\n",
       "      <td>死体発見</td>\n",
       "      <td>武蔵野市西久保三丁目75都築荘101</td>\n",
       "      <td>平成28年2月23日</td>\n",
       "    </tr>\n",
       "    <tr>\n",
       "      <th>566</th>\n",
       "      <td>5階 角部屋\\r\\n告知事項有り</td>\n",
       "      <td>国分寺市戸倉一丁目825 PlaceK</td>\n",
       "      <td>令和4年10月6日</td>\n",
       "    </tr>\n",
       "    <tr>\n",
       "      <th>567</th>\n",
       "      <td>6階 角部屋\\r\\n告知事項有り</td>\n",
       "      <td>国分寺市戸倉一丁目825 PlaceK</td>\n",
       "      <td>令和4年10月6日</td>\n",
       "    </tr>\n",
       "    <tr>\n",
       "      <th>568</th>\n",
       "      <td>206号室、506号室\\r\\n告知事項あり</td>\n",
       "      <td>国分寺市戸倉一丁目825 プレイスK</td>\n",
       "      <td>令和4年7月30日</td>\n",
       "    </tr>\n",
       "    <tr>\n",
       "      <th>569</th>\n",
       "      <td>606号室\\r\\n告知事項あり</td>\n",
       "      <td>国分寺市戸倉一丁目825 プレイスK</td>\n",
       "      <td>令和4年7月30日</td>\n",
       "    </tr>\n",
       "  </tbody>\n",
       "</table>\n",
       "</div>"
      ],
      "text/plain": [
       "                      info              address        date\n",
       "565                   死体発見   武蔵野市西久保三丁目75都築荘101  平成28年2月23日\n",
       "566       5階 角部屋\\r\\n告知事項有り  国分寺市戸倉一丁目825 PlaceK   令和4年10月6日\n",
       "567       6階 角部屋\\r\\n告知事項有り  国分寺市戸倉一丁目825 PlaceK   令和4年10月6日\n",
       "568  206号室、506号室\\r\\n告知事項あり   国分寺市戸倉一丁目825 プレイスK   令和4年7月30日\n",
       "569        606号室\\r\\n告知事項あり   国分寺市戸倉一丁目825 プレイスK   令和4年7月30日"
      ]
     },
     "execution_count": 145,
     "metadata": {},
     "output_type": "execute_result"
    }
   ],
   "source": [
    "#* address 칼럼 가공\n",
    "#! 일본어 주소는 일반적으로 '시' 또는 '구', '동/읍/면', '번지', 그리고 '건물명' 등의 정보로 구성\n",
    "#* (1) address의 모든 데이터에 '東京都(도쿄도)' 포함되어 있으므로 제거\n",
    "oshimaJ['address'] = oshimaJ['address'].str.replace('東京都','')\n",
    "oshimaJ.tail()"
   ]
  },
  {
   "cell_type": "code",
   "execution_count": 146,
   "metadata": {},
   "outputs": [
    {
     "data": {
      "text/html": [
       "<div>\n",
       "<style scoped>\n",
       "    .dataframe tbody tr th:only-of-type {\n",
       "        vertical-align: middle;\n",
       "    }\n",
       "\n",
       "    .dataframe tbody tr th {\n",
       "        vertical-align: top;\n",
       "    }\n",
       "\n",
       "    .dataframe thead th {\n",
       "        text-align: right;\n",
       "    }\n",
       "</style>\n",
       "<table border=\"1\" class=\"dataframe\">\n",
       "  <thead>\n",
       "    <tr style=\"text-align: right;\">\n",
       "      <th></th>\n",
       "      <th>info</th>\n",
       "      <th>address</th>\n",
       "      <th>date</th>\n",
       "      <th>shiku</th>\n",
       "    </tr>\n",
       "  </thead>\n",
       "  <tbody>\n",
       "    <tr>\n",
       "      <th>0</th>\n",
       "      <td>819号室で女性死亡</td>\n",
       "      <td>新宿区歌舞伎町一丁目202</td>\n",
       "      <td>平成30年5月23日</td>\n",
       "      <td>新宿区</td>\n",
       "    </tr>\n",
       "    <tr>\n",
       "      <th>1</th>\n",
       "      <td>飛び降り自殺</td>\n",
       "      <td>新宿区歌舞伎町一丁目202アパホテル新宿歌舞伎町タワー↓</td>\n",
       "      <td>令和3年5月18日</td>\n",
       "      <td>新宿区</td>\n",
       "    </tr>\n",
       "    <tr>\n",
       "      <th>2</th>\n",
       "      <td>告知事項あり\\r\\n※管理会社に直接確認済み\\r\\n\\r\\nハイム大成ビル 403号室\\r\\...</td>\n",
       "      <td>新宿区西新宿七丁目1813</td>\n",
       "      <td>1年以内</td>\n",
       "      <td>新宿区</td>\n",
       "    </tr>\n",
       "    <tr>\n",
       "      <th>3</th>\n",
       "      <td>１４Ｆから女性が飛び降り自殺</td>\n",
       "      <td>新宿区西新宿七丁目1713パレステュディオ新宿WEST</td>\n",
       "      <td>令和元年9月23日</td>\n",
       "      <td>新宿区</td>\n",
       "    </tr>\n",
       "    <tr>\n",
       "      <th>4</th>\n",
       "      <td>事故死</td>\n",
       "      <td>新宿区西新宿七丁目2231</td>\n",
       "      <td>2016</td>\n",
       "      <td>新宿区</td>\n",
       "    </tr>\n",
       "  </tbody>\n",
       "</table>\n",
       "</div>"
      ],
      "text/plain": [
       "                                                info  \\\n",
       "0                                         819号室で女性死亡   \n",
       "1                                             飛び降り自殺   \n",
       "2  告知事項あり\\r\\n※管理会社に直接確認済み\\r\\n\\r\\nハイム大成ビル 403号室\\r\\...   \n",
       "3                                     １４Ｆから女性が飛び降り自殺   \n",
       "4                                                事故死   \n",
       "\n",
       "                        address        date shiku  \n",
       "0                 新宿区歌舞伎町一丁目202  平成30年5月23日   新宿区  \n",
       "1  新宿区歌舞伎町一丁目202アパホテル新宿歌舞伎町タワー↓   令和3年5月18日   新宿区  \n",
       "2                 新宿区西新宿七丁目1813        1年以内   新宿区  \n",
       "3   新宿区西新宿七丁目1713パレステュディオ新宿WEST   令和元年9月23日   新宿区  \n",
       "4                 新宿区西新宿七丁目2231        2016   新宿区  "
      ]
     },
     "metadata": {},
     "output_type": "display_data"
    },
    {
     "data": {
      "text/html": [
       "<div>\n",
       "<style scoped>\n",
       "    .dataframe tbody tr th:only-of-type {\n",
       "        vertical-align: middle;\n",
       "    }\n",
       "\n",
       "    .dataframe tbody tr th {\n",
       "        vertical-align: top;\n",
       "    }\n",
       "\n",
       "    .dataframe thead th {\n",
       "        text-align: right;\n",
       "    }\n",
       "</style>\n",
       "<table border=\"1\" class=\"dataframe\">\n",
       "  <thead>\n",
       "    <tr style=\"text-align: right;\">\n",
       "      <th></th>\n",
       "      <th>info</th>\n",
       "      <th>address</th>\n",
       "      <th>date</th>\n",
       "      <th>shiku</th>\n",
       "    </tr>\n",
       "  </thead>\n",
       "  <tbody>\n",
       "    <tr>\n",
       "      <th>564</th>\n",
       "      <td>死体発見</td>\n",
       "      <td>武蔵野市西久保三丁目75都築荘101</td>\n",
       "      <td>平成28年2月23日</td>\n",
       "      <td>武蔵野市</td>\n",
       "    </tr>\n",
       "    <tr>\n",
       "      <th>565</th>\n",
       "      <td>5階 角部屋\\r\\n告知事項有り</td>\n",
       "      <td>国分寺市戸倉一丁目825 PlaceK</td>\n",
       "      <td>令和4年10月6日</td>\n",
       "      <td>国分寺市</td>\n",
       "    </tr>\n",
       "    <tr>\n",
       "      <th>566</th>\n",
       "      <td>6階 角部屋\\r\\n告知事項有り</td>\n",
       "      <td>国分寺市戸倉一丁目825 PlaceK</td>\n",
       "      <td>令和4年10月6日</td>\n",
       "      <td>国分寺市</td>\n",
       "    </tr>\n",
       "    <tr>\n",
       "      <th>567</th>\n",
       "      <td>206号室、506号室\\r\\n告知事項あり</td>\n",
       "      <td>国分寺市戸倉一丁目825 プレイスK</td>\n",
       "      <td>令和4年7月30日</td>\n",
       "      <td>国分寺市</td>\n",
       "    </tr>\n",
       "    <tr>\n",
       "      <th>568</th>\n",
       "      <td>606号室\\r\\n告知事項あり</td>\n",
       "      <td>国分寺市戸倉一丁目825 プレイスK</td>\n",
       "      <td>令和4年7月30日</td>\n",
       "      <td>国分寺市</td>\n",
       "    </tr>\n",
       "  </tbody>\n",
       "</table>\n",
       "</div>"
      ],
      "text/plain": [
       "                      info              address        date shiku\n",
       "564                   死体発見   武蔵野市西久保三丁目75都築荘101  平成28年2月23日  武蔵野市\n",
       "565       5階 角部屋\\r\\n告知事項有り  国分寺市戸倉一丁目825 PlaceK   令和4年10月6日  国分寺市\n",
       "566       6階 角部屋\\r\\n告知事項有り  国分寺市戸倉一丁目825 PlaceK   令和4年10月6日  国分寺市\n",
       "567  206号室、506号室\\r\\n告知事項あり   国分寺市戸倉一丁目825 プレイスK   令和4年7月30日  国分寺市\n",
       "568        606号室\\r\\n告知事項あり   国分寺市戸倉一丁目825 プレイスK   令和4年7月30日  国分寺市"
      ]
     },
     "metadata": {},
     "output_type": "display_data"
    }
   ],
   "source": [
    "#* (2) '시(市) / 구(区) 칼럼(shiku) 추가'\n",
    "#* oshimaJ['address'].str.contains('市').sum(), 주소에 市(시)가 포함되어 있는 주소는 186개\n",
    "#* 주소에 市(시)가 없다면 구(区)로 추출\n",
    "def districtExtract(address):\n",
    "    if '市' in address:\n",
    "        extracted_data = address[:address.index('市') + 1]\n",
    "    elif '市' not in address and '区' in address:\n",
    "        extracted_data = address[:address.index('区') + 1]\n",
    "    else: \n",
    "        extracted_data = address #* '外国外国板橋二丁目639' 데이터는 시, 구가 모두 없는 유일한 데이터로 삭제해준다.\n",
    "    return extracted_data\n",
    "\n",
    "oshimaJ['shiku'] = oshimaJ['address'].apply(districtExtract)\n",
    "\n",
    "drop_index = oshimaJ[oshimaJ['shiku'] == '外国外国板橋二丁目639'].index\n",
    "oshimaJ = oshimaJ.drop(drop_index).reset_index(drop=True)\n",
    "display(oshimaJ.head(), oshimaJ.tail())"
   ]
  },
  {
   "cell_type": "code",
   "execution_count": 147,
   "metadata": {},
   "outputs": [
    {
     "data": {
      "text/html": [
       "<div>\n",
       "<style scoped>\n",
       "    .dataframe tbody tr th:only-of-type {\n",
       "        vertical-align: middle;\n",
       "    }\n",
       "\n",
       "    .dataframe tbody tr th {\n",
       "        vertical-align: top;\n",
       "    }\n",
       "\n",
       "    .dataframe thead th {\n",
       "        text-align: right;\n",
       "    }\n",
       "</style>\n",
       "<table border=\"1\" class=\"dataframe\">\n",
       "  <thead>\n",
       "    <tr style=\"text-align: right;\">\n",
       "      <th></th>\n",
       "      <th>info</th>\n",
       "      <th>address</th>\n",
       "      <th>date</th>\n",
       "      <th>shiku</th>\n",
       "      <th>town</th>\n",
       "    </tr>\n",
       "  </thead>\n",
       "  <tbody>\n",
       "    <tr>\n",
       "      <th>0</th>\n",
       "      <td>819号室で女性死亡</td>\n",
       "      <td>新宿区歌舞伎町一丁目202</td>\n",
       "      <td>平成30年5月23日</td>\n",
       "      <td>新宿区</td>\n",
       "      <td>歌舞伎町一丁目202</td>\n",
       "    </tr>\n",
       "    <tr>\n",
       "      <th>1</th>\n",
       "      <td>飛び降り自殺</td>\n",
       "      <td>新宿区歌舞伎町一丁目202アパホテル新宿歌舞伎町タワー↓</td>\n",
       "      <td>令和3年5月18日</td>\n",
       "      <td>新宿区</td>\n",
       "      <td>歌舞伎町一丁目202アパホテル新宿歌舞伎町タワー↓</td>\n",
       "    </tr>\n",
       "    <tr>\n",
       "      <th>2</th>\n",
       "      <td>告知事項あり\\r\\n※管理会社に直接確認済み\\r\\n\\r\\nハイム大成ビル 403号室\\r\\...</td>\n",
       "      <td>新宿区西新宿七丁目1813</td>\n",
       "      <td>1年以内</td>\n",
       "      <td>新宿区</td>\n",
       "      <td>西新宿七丁目1813</td>\n",
       "    </tr>\n",
       "    <tr>\n",
       "      <th>3</th>\n",
       "      <td>１４Ｆから女性が飛び降り自殺</td>\n",
       "      <td>新宿区西新宿七丁目1713パレステュディオ新宿WEST</td>\n",
       "      <td>令和元年9月23日</td>\n",
       "      <td>新宿区</td>\n",
       "      <td>西新宿七丁目1713パレステュディオ新宿WEST</td>\n",
       "    </tr>\n",
       "    <tr>\n",
       "      <th>4</th>\n",
       "      <td>事故死</td>\n",
       "      <td>新宿区西新宿七丁目2231</td>\n",
       "      <td>2016</td>\n",
       "      <td>新宿区</td>\n",
       "      <td>西新宿七丁目2231</td>\n",
       "    </tr>\n",
       "  </tbody>\n",
       "</table>\n",
       "</div>"
      ],
      "text/plain": [
       "                                                info  \\\n",
       "0                                         819号室で女性死亡   \n",
       "1                                             飛び降り自殺   \n",
       "2  告知事項あり\\r\\n※管理会社に直接確認済み\\r\\n\\r\\nハイム大成ビル 403号室\\r\\...   \n",
       "3                                     １４Ｆから女性が飛び降り自殺   \n",
       "4                                                事故死   \n",
       "\n",
       "                        address        date shiku                       town  \n",
       "0                 新宿区歌舞伎町一丁目202  平成30年5月23日   新宿区                 歌舞伎町一丁目202  \n",
       "1  新宿区歌舞伎町一丁目202アパホテル新宿歌舞伎町タワー↓   令和3年5月18日   新宿区  歌舞伎町一丁目202アパホテル新宿歌舞伎町タワー↓  \n",
       "2                 新宿区西新宿七丁目1813        1年以内   新宿区                 西新宿七丁目1813  \n",
       "3   新宿区西新宿七丁目1713パレステュディオ新宿WEST   令和元年9月23日   新宿区   西新宿七丁目1713パレステュディオ新宿WEST  \n",
       "4                 新宿区西新宿七丁目2231        2016   新宿区                 西新宿七丁目2231  "
      ]
     },
     "metadata": {},
     "output_type": "display_data"
    },
    {
     "data": {
      "text/html": [
       "<div>\n",
       "<style scoped>\n",
       "    .dataframe tbody tr th:only-of-type {\n",
       "        vertical-align: middle;\n",
       "    }\n",
       "\n",
       "    .dataframe tbody tr th {\n",
       "        vertical-align: top;\n",
       "    }\n",
       "\n",
       "    .dataframe thead th {\n",
       "        text-align: right;\n",
       "    }\n",
       "</style>\n",
       "<table border=\"1\" class=\"dataframe\">\n",
       "  <thead>\n",
       "    <tr style=\"text-align: right;\">\n",
       "      <th></th>\n",
       "      <th>info</th>\n",
       "      <th>address</th>\n",
       "      <th>date</th>\n",
       "      <th>shiku</th>\n",
       "      <th>town</th>\n",
       "    </tr>\n",
       "  </thead>\n",
       "  <tbody>\n",
       "    <tr>\n",
       "      <th>564</th>\n",
       "      <td>死体発見</td>\n",
       "      <td>武蔵野市西久保三丁目75都築荘101</td>\n",
       "      <td>平成28年2月23日</td>\n",
       "      <td>武蔵野市</td>\n",
       "      <td>西久保三丁目75都築荘101</td>\n",
       "    </tr>\n",
       "    <tr>\n",
       "      <th>565</th>\n",
       "      <td>5階 角部屋\\r\\n告知事項有り</td>\n",
       "      <td>国分寺市戸倉一丁目825 PlaceK</td>\n",
       "      <td>令和4年10月6日</td>\n",
       "      <td>国分寺市</td>\n",
       "      <td>戸倉一丁目825 PlaceK</td>\n",
       "    </tr>\n",
       "    <tr>\n",
       "      <th>566</th>\n",
       "      <td>6階 角部屋\\r\\n告知事項有り</td>\n",
       "      <td>国分寺市戸倉一丁目825 PlaceK</td>\n",
       "      <td>令和4年10月6日</td>\n",
       "      <td>国分寺市</td>\n",
       "      <td>戸倉一丁目825 PlaceK</td>\n",
       "    </tr>\n",
       "    <tr>\n",
       "      <th>567</th>\n",
       "      <td>206号室、506号室\\r\\n告知事項あり</td>\n",
       "      <td>国分寺市戸倉一丁目825 プレイスK</td>\n",
       "      <td>令和4年7月30日</td>\n",
       "      <td>国分寺市</td>\n",
       "      <td>戸倉一丁目825 プレイスK</td>\n",
       "    </tr>\n",
       "    <tr>\n",
       "      <th>568</th>\n",
       "      <td>606号室\\r\\n告知事項あり</td>\n",
       "      <td>国分寺市戸倉一丁目825 プレイスK</td>\n",
       "      <td>令和4年7月30日</td>\n",
       "      <td>国分寺市</td>\n",
       "      <td>戸倉一丁目825 プレイスK</td>\n",
       "    </tr>\n",
       "  </tbody>\n",
       "</table>\n",
       "</div>"
      ],
      "text/plain": [
       "                      info              address        date shiku  \\\n",
       "564                   死体発見   武蔵野市西久保三丁目75都築荘101  平成28年2月23日  武蔵野市   \n",
       "565       5階 角部屋\\r\\n告知事項有り  国分寺市戸倉一丁目825 PlaceK   令和4年10月6日  国分寺市   \n",
       "566       6階 角部屋\\r\\n告知事項有り  国分寺市戸倉一丁目825 PlaceK   令和4年10月6日  国分寺市   \n",
       "567  206号室、506号室\\r\\n告知事項あり   国分寺市戸倉一丁目825 プレイスK   令和4年7月30日  国分寺市   \n",
       "568        606号室\\r\\n告知事項あり   国分寺市戸倉一丁目825 プレイスK   令和4年7月30日  国分寺市   \n",
       "\n",
       "                town  \n",
       "564   西久保三丁目75都築荘101  \n",
       "565  戸倉一丁目825 PlaceK  \n",
       "566  戸倉一丁目825 PlaceK  \n",
       "567   戸倉一丁目825 プレイスK  \n",
       "568   戸倉一丁目825 プレイスK  "
      ]
     },
     "metadata": {},
     "output_type": "display_data"
    }
   ],
   "source": [
    "#* (3) town(동/ 읍/ 면) 칼럼 추가 -> town 구역 + 건물 번호 모두 추출\n",
    "shikuList = list(oshimaJ['shiku'])\n",
    "def townExtract(address):\n",
    "    if isinstance(address, str):\n",
    "        for idx in range(len(shikuList)):\n",
    "            if shikuList[idx] in address:\n",
    "                find_data = address[address.find(shikuList[idx]) + len(shikuList[idx]):]\n",
    "                return find_data\n",
    "\n",
    "oshimaJ['town'] = oshimaJ['address'].apply(townExtract)\n",
    "display(oshimaJ.head(), oshimaJ.tail())\n"
   ]
  },
  {
   "cell_type": "code",
   "execution_count": 148,
   "metadata": {},
   "outputs": [],
   "source": [
    "#* (4) 'town' 내에서 구역이 존재하는 데이터 들의 구역 추출하여 칼럼 추가\n",
    "#* oshimaJ['town'].str.contains('丁目').sum(), '丁目' 이 존재하는 데이터는 542개, 존재하지 않는 데이터는 26개\n",
    "def partExtract(town):\n",
    "    if '丁目' in town:\n",
    "        extracted_data = town[:town.find('丁目')] + '丁目'\n",
    "    else:\n",
    "        extracted_data = np.nan #* 구역 없음\n",
    "    return extracted_data\n",
    "\n",
    "oshimaJ['townpart'] = oshimaJ['town'].apply(partExtract)"
   ]
  },
  {
   "cell_type": "code",
   "execution_count": 149,
   "metadata": {},
   "outputs": [],
   "source": [
    "#* (5) 'town'내에서 구역이 존재하지 않는 데이터들의 상세 주소 추출하여 칼럼 추가\n",
    "def detailExtract(town):\n",
    "    if '丁目' not in town:\n",
    "        extracted_data = town\n",
    "    else:\n",
    "        extracted_data = town[town.find('丁目') + 2:]\n",
    "    return extracted_data \n",
    "\n",
    "oshimaJ['detailpart'] = oshimaJ['town'].apply(detailExtract)"
   ]
  },
  {
   "cell_type": "code",
   "execution_count": 150,
   "metadata": {},
   "outputs": [],
   "source": [
    "#* oshimaJ['town'].str.contains('丁目').sum(), '丁目' 이 존재하는 데이터는 542개\n",
    "#* '丁目'이 존재하지 않는 경우, 주소에 숫자가 포함되어 있다면 숫자 이전 문자열 까지 구역으로 추출 하고, 숫자가 없다면 그대로 추출\n",
    "#! 숫자가 두개 이상 포함된 경우가 있으므로, 이 함수는 적용하지 않는다.\n",
    "# def partExtract(town):\n",
    "#     if '丁目' in town:\n",
    "#         extracted_data = town[:town.find('丁目')] + '丁目'\n",
    "#     else:\n",
    "#         for idx, char in enumerate(town):\n",
    "#             if any(char.isdigit() for char in town): #* town 주소에서 하나 이상의 숫자가 발견되었는지 확인\n",
    "#                 match = re.search(r'\\d+', town)\n",
    "#                 extracted_data = town[:match.start()]\n",
    "#             else:\n",
    "#                 extracted_data = town[idx]\n",
    "#     return extracted_data\n",
    "\n",
    "#oshimaJ['townpart'] = oshimaJ['town'].apply(partExtract)"
   ]
  },
  {
   "cell_type": "code",
   "execution_count": 151,
   "metadata": {},
   "outputs": [],
   "source": [
    "#* (4) 특수 문자 제거 -> 이 데이터의 경우 '\\r', '\\n', '↓' 를 제거해야 한다.\n",
    "def remove_special_characters(text):\n",
    "    if isinstance(text, str):  #* 문자열인 경우에만 정규표현식 적용\n",
    "        pattern = r'[\\r\\n↓]'\n",
    "        cleaned_text = re.sub(pattern, '', text)\n",
    "        return cleaned_text\n",
    "    return text\n",
    "\n",
    "oshimaJ_cleaned = oshimaJ.applymap(remove_special_characters)"
   ]
  },
  {
   "cell_type": "code",
   "execution_count": 152,
   "metadata": {},
   "outputs": [
    {
     "data": {
      "text/plain": [
       "(569, 7)"
      ]
     },
     "execution_count": 152,
     "metadata": {},
     "output_type": "execute_result"
    }
   ],
   "source": [
    "oshimaJ_cleaned.shape"
   ]
  },
  {
   "cell_type": "code",
   "execution_count": 153,
   "metadata": {},
   "outputs": [],
   "source": [
    "#* (5) 칼럼 순서 변경\n",
    "oshimaJ_cleaned = oshimaJ_cleaned.reindex(columns = ['info', 'date', 'address', 'shiku', 'town', 'townpart', 'detailpart'])"
   ]
  },
  {
   "cell_type": "markdown",
   "metadata": {},
   "source": [
    "## <p style=\"font-family:JetBrains Mono; font-weight:normal; letter-spacing:2px; color:#068FFF; font-size:80%; text-align:left;padding: 0px; border-bottom: 3px solid #068FFF\">Oshima Yunyoung Data Processing</p>"
   ]
  },
  {
   "cell_type": "code",
   "execution_count": 154,
   "metadata": {},
   "outputs": [
    {
     "data": {
      "text/html": [
       "<div>\n",
       "<style scoped>\n",
       "    .dataframe tbody tr th:only-of-type {\n",
       "        vertical-align: middle;\n",
       "    }\n",
       "\n",
       "    .dataframe tbody tr th {\n",
       "        vertical-align: top;\n",
       "    }\n",
       "\n",
       "    .dataframe thead th {\n",
       "        text-align: right;\n",
       "    }\n",
       "</style>\n",
       "<table border=\"1\" class=\"dataframe\">\n",
       "  <thead>\n",
       "    <tr style=\"text-align: right;\">\n",
       "      <th></th>\n",
       "      <th>district</th>\n",
       "      <th>date</th>\n",
       "      <th>address</th>\n",
       "      <th>content</th>\n",
       "    </tr>\n",
       "  </thead>\n",
       "  <tbody>\n",
       "    <tr>\n",
       "      <th>0</th>\n",
       "      <td>新宿区</td>\n",
       "      <td>平成24年11月5日</td>\n",
       "      <td>東京都新宿区新宿三丁目22-7指田ビル地下1階</td>\n",
       "      <td>死体発見</td>\n",
       "    </tr>\n",
       "    <tr>\n",
       "      <th>1</th>\n",
       "      <td>新宿区</td>\n",
       "      <td>平成24年11月5日</td>\n",
       "      <td>東京都新宿区新宿三丁目22-7指田ビル地下1階</td>\n",
       "      <td>死体発見</td>\n",
       "    </tr>\n",
       "    <tr>\n",
       "      <th>2</th>\n",
       "      <td>新宿区</td>\n",
       "      <td>令和4年</td>\n",
       "      <td>東京都新宿区西新宿一丁目3-9</td>\n",
       "      <td>飛び降り自殺</td>\n",
       "    </tr>\n",
       "    <tr>\n",
       "      <th>3</th>\n",
       "      <td>新宿区</td>\n",
       "      <td>NaN</td>\n",
       "      <td>NaN</td>\n",
       "      <td>NaN</td>\n",
       "    </tr>\n",
       "    <tr>\n",
       "      <th>4</th>\n",
       "      <td>新宿区</td>\n",
       "      <td>平成20年1月5日</td>\n",
       "      <td>東京都新宿区歌舞伎町一丁目27-5 中台ビル</td>\n",
       "      <td>2階サウナロイヤル 死体発見</td>\n",
       "    </tr>\n",
       "  </tbody>\n",
       "</table>\n",
       "</div>"
      ],
      "text/plain": [
       "  district        date                  address         content\n",
       "0      新宿区  平成24年11月5日  東京都新宿区新宿三丁目22-7指田ビル地下1階            死体発見\n",
       "1      新宿区  平成24年11月5日  東京都新宿区新宿三丁目22-7指田ビル地下1階            死体発見\n",
       "2      新宿区        令和4年          東京都新宿区西新宿一丁目3-9          飛び降り自殺\n",
       "3      新宿区         NaN                      NaN             NaN\n",
       "4      新宿区   平成20年1月5日   東京都新宿区歌舞伎町一丁目27-5 中台ビル  2階サウナロイヤル 死体発見"
      ]
     },
     "execution_count": 154,
     "metadata": {},
     "output_type": "execute_result"
    }
   ],
   "source": [
    "oshimaY = pd.read_csv('C:\\\\Users\\\\lucky\\\\Documents\\\\COLLABORATION\\\\AirbnbWise\\\\Oshimaland_data\\\\yunyoung\\\\selenium_tokyo_data.csv', index_col = 0)\n",
    "oshimaY.head()"
   ]
  },
  {
   "cell_type": "code",
   "execution_count": 155,
   "metadata": {},
   "outputs": [],
   "source": [
    "#! 일본어 주소는 일반적으로 '시' 또는 '구', '동/읍/면', '번지', 그리고 '건물명' 등의 정보로 구성\n",
    "#* (1) address의 모든 데이터에 '東京都(도쿄도)' 포함되어 있으므로 제거\n",
    "oshimaY['address'] = oshimaY['address'].str.replace('東京都','')"
   ]
  },
  {
   "cell_type": "code",
   "execution_count": 156,
   "metadata": {},
   "outputs": [
    {
     "data": {
      "text/html": [
       "<div>\n",
       "<style scoped>\n",
       "    .dataframe tbody tr th:only-of-type {\n",
       "        vertical-align: middle;\n",
       "    }\n",
       "\n",
       "    .dataframe tbody tr th {\n",
       "        vertical-align: top;\n",
       "    }\n",
       "\n",
       "    .dataframe thead th {\n",
       "        text-align: right;\n",
       "    }\n",
       "</style>\n",
       "<table border=\"1\" class=\"dataframe\">\n",
       "  <thead>\n",
       "    <tr style=\"text-align: right;\">\n",
       "      <th></th>\n",
       "      <th>info</th>\n",
       "      <th>date</th>\n",
       "      <th>address</th>\n",
       "      <th>shiku</th>\n",
       "    </tr>\n",
       "  </thead>\n",
       "  <tbody>\n",
       "    <tr>\n",
       "      <th>298</th>\n",
       "      <td>駐車スペース横の部屋で住民男性が首吊り自殺</td>\n",
       "      <td>2005</td>\n",
       "      <td>羽村市緑ヶ丘五丁目1-50</td>\n",
       "      <td>羽村市</td>\n",
       "    </tr>\n",
       "    <tr>\n",
       "      <th>299</th>\n",
       "      <td>告知事項</td>\n",
       "      <td>不明</td>\n",
       "      <td>羽村市羽中一丁目3-37</td>\n",
       "      <td>武蔵村山市</td>\n",
       "    </tr>\n",
       "    <tr>\n",
       "      <th>300</th>\n",
       "      <td>死体発見</td>\n",
       "      <td>平成24年</td>\n",
       "      <td>武蔵村山市中央一丁目24-3ハウスオブブーケA 1階</td>\n",
       "      <td>昭島市</td>\n",
       "    </tr>\n",
       "    <tr>\n",
       "      <th>301</th>\n",
       "      <td>火災による死亡</td>\n",
       "      <td>令和2年9月7日</td>\n",
       "      <td>昭島市田中町一丁目34-9</td>\n",
       "      <td>福生市</td>\n",
       "    </tr>\n",
       "    <tr>\n",
       "      <th>302</th>\n",
       "      <td>通路から駐車場へ男性が飛び下り自殺</td>\n",
       "      <td>2016年</td>\n",
       "      <td>福生市志茂156-1</td>\n",
       "      <td>福生市</td>\n",
       "    </tr>\n",
       "  </tbody>\n",
       "</table>\n",
       "</div>"
      ],
      "text/plain": [
       "                      info      date                     address  shiku\n",
       "298  駐車スペース横の部屋で住民男性が首吊り自殺      2005               羽村市緑ヶ丘五丁目1-50    羽村市\n",
       "299                   告知事項        不明                羽村市羽中一丁目3-37  武蔵村山市\n",
       "300                   死体発見     平成24年  武蔵村山市中央一丁目24-3ハウスオブブーケA 1階    昭島市\n",
       "301                火災による死亡  令和2年9月7日               昭島市田中町一丁目34-9    福生市\n",
       "302      通路から駐車場へ男性が飛び下り自殺     2016年                  福生市志茂156-1    福生市"
      ]
     },
     "execution_count": 156,
     "metadata": {},
     "output_type": "execute_result"
    }
   ],
   "source": [
    "oshimaY.rename(columns = {'content': 'info', 'district' : 'shiku'}, inplace = True) #* content -> info 칼럼명 변경\n",
    "oshimaY = oshimaY.reindex(columns = ['info', 'date','address', 'shiku'])\n",
    "oshimaY.tail()"
   ]
  },
  {
   "cell_type": "code",
   "execution_count": 157,
   "metadata": {},
   "outputs": [
    {
     "data": {
      "text/html": [
       "<div>\n",
       "<style scoped>\n",
       "    .dataframe tbody tr th:only-of-type {\n",
       "        vertical-align: middle;\n",
       "    }\n",
       "\n",
       "    .dataframe tbody tr th {\n",
       "        vertical-align: top;\n",
       "    }\n",
       "\n",
       "    .dataframe thead th {\n",
       "        text-align: right;\n",
       "    }\n",
       "</style>\n",
       "<table border=\"1\" class=\"dataframe\">\n",
       "  <thead>\n",
       "    <tr style=\"text-align: right;\">\n",
       "      <th></th>\n",
       "      <th>info</th>\n",
       "      <th>date</th>\n",
       "      <th>address</th>\n",
       "      <th>shiku</th>\n",
       "      <th>town</th>\n",
       "      <th>townpart</th>\n",
       "      <th>detailpart</th>\n",
       "    </tr>\n",
       "  </thead>\n",
       "  <tbody>\n",
       "    <tr>\n",
       "      <th>0</th>\n",
       "      <td>819号室で女性死亡</td>\n",
       "      <td>平成30年5月23日</td>\n",
       "      <td>新宿区歌舞伎町一丁目202</td>\n",
       "      <td>新宿区</td>\n",
       "      <td>歌舞伎町一丁目202</td>\n",
       "      <td>歌舞伎町一丁目</td>\n",
       "      <td>202</td>\n",
       "    </tr>\n",
       "  </tbody>\n",
       "</table>\n",
       "</div>"
      ],
      "text/plain": [
       "         info        date        address shiku        town townpart detailpart\n",
       "0  819号室で女性死亡  平成30年5月23日  新宿区歌舞伎町一丁目202   新宿区  歌舞伎町一丁目202  歌舞伎町一丁目        202"
      ]
     },
     "metadata": {},
     "output_type": "display_data"
    },
    {
     "data": {
      "text/html": [
       "<div>\n",
       "<style scoped>\n",
       "    .dataframe tbody tr th:only-of-type {\n",
       "        vertical-align: middle;\n",
       "    }\n",
       "\n",
       "    .dataframe tbody tr th {\n",
       "        vertical-align: top;\n",
       "    }\n",
       "\n",
       "    .dataframe thead th {\n",
       "        text-align: right;\n",
       "    }\n",
       "</style>\n",
       "<table border=\"1\" class=\"dataframe\">\n",
       "  <thead>\n",
       "    <tr style=\"text-align: right;\">\n",
       "      <th></th>\n",
       "      <th>info</th>\n",
       "      <th>date</th>\n",
       "      <th>address</th>\n",
       "      <th>shiku</th>\n",
       "    </tr>\n",
       "  </thead>\n",
       "  <tbody>\n",
       "    <tr>\n",
       "      <th>298</th>\n",
       "      <td>駐車スペース横の部屋で住民男性が首吊り自殺</td>\n",
       "      <td>2005</td>\n",
       "      <td>羽村市緑ヶ丘五丁目1-50</td>\n",
       "      <td>羽村市</td>\n",
       "    </tr>\n",
       "    <tr>\n",
       "      <th>299</th>\n",
       "      <td>告知事項</td>\n",
       "      <td>不明</td>\n",
       "      <td>羽村市羽中一丁目3-37</td>\n",
       "      <td>武蔵村山市</td>\n",
       "    </tr>\n",
       "    <tr>\n",
       "      <th>300</th>\n",
       "      <td>死体発見</td>\n",
       "      <td>平成24年</td>\n",
       "      <td>武蔵村山市中央一丁目24-3ハウスオブブーケA 1階</td>\n",
       "      <td>昭島市</td>\n",
       "    </tr>\n",
       "    <tr>\n",
       "      <th>301</th>\n",
       "      <td>火災による死亡</td>\n",
       "      <td>令和2年9月7日</td>\n",
       "      <td>昭島市田中町一丁目34-9</td>\n",
       "      <td>福生市</td>\n",
       "    </tr>\n",
       "    <tr>\n",
       "      <th>302</th>\n",
       "      <td>通路から駐車場へ男性が飛び下り自殺</td>\n",
       "      <td>2016年</td>\n",
       "      <td>福生市志茂156-1</td>\n",
       "      <td>福生市</td>\n",
       "    </tr>\n",
       "  </tbody>\n",
       "</table>\n",
       "</div>"
      ],
      "text/plain": [
       "                      info      date                     address  shiku\n",
       "298  駐車スペース横の部屋で住民男性が首吊り自殺      2005               羽村市緑ヶ丘五丁目1-50    羽村市\n",
       "299                   告知事項        不明                羽村市羽中一丁目3-37  武蔵村山市\n",
       "300                   死体発見     平成24年  武蔵村山市中央一丁目24-3ハウスオブブーケA 1階    昭島市\n",
       "301                火災による死亡  令和2年9月7日               昭島市田中町一丁目34-9    福生市\n",
       "302      通路から駐車場へ男性が飛び下り自殺     2016年                  福生市志茂156-1    福生市"
      ]
     },
     "metadata": {},
     "output_type": "display_data"
    }
   ],
   "source": [
    "#* oshimaJ_cleaned 데이터프레임에 맞춰 oshimaY 데이터프레임 변경\n",
    "display(oshimaJ_cleaned.head(1), oshimaY.tail())"
   ]
  },
  {
   "cell_type": "code",
   "execution_count": 158,
   "metadata": {},
   "outputs": [],
   "source": [
    "#* (2) 'town' 칼럼 추가\n",
    "shikuList = list(oshimaY['shiku'])\n",
    "oshimaY['town'] = oshimaY['address'].apply(townExtract)"
   ]
  },
  {
   "cell_type": "code",
   "execution_count": 159,
   "metadata": {},
   "outputs": [
    {
     "name": "stdout",
     "output_type": "stream",
     "text": [
      "기존 결측치 개수 : 13개\n"
     ]
    }
   ],
   "source": [
    "#* (3) 'town' 칼럼 결측치를 처리해야 다음 코드에서 에러가 나지 않는다.\n",
    "nullNum = oshimaY['town'].isnull().sum()\n",
    "print(f'기존 결측치 개수 : {nullNum}개')\n",
    "oshimaY['town'] = oshimaY['town'].fillna('Not data')"
   ]
  },
  {
   "cell_type": "code",
   "execution_count": 160,
   "metadata": {},
   "outputs": [],
   "source": [
    "#* (4) 'town' 내에서 구역이 존재하는 데이터 들의 구역 추출하여 칼럼 추가\n",
    "oshimaY['townpart'] = oshimaY['town'].apply(partExtract)"
   ]
  },
  {
   "cell_type": "code",
   "execution_count": 161,
   "metadata": {},
   "outputs": [],
   "source": [
    "#* (5) 'town'내에서 구역이 존재하지 않는 데이터들의 상세 주소 추출하여 칼럼 추가\n",
    "oshimaY['detailpart'] = oshimaY['town'].apply(detailExtract)"
   ]
  },
  {
   "cell_type": "code",
   "execution_count": 162,
   "metadata": {},
   "outputs": [],
   "source": [
    "#* (6) 특수문자 제거 \n",
    "oshimaY_cleaned = oshimaY.applymap(remove_special_characters)"
   ]
  },
  {
   "cell_type": "code",
   "execution_count": 163,
   "metadata": {},
   "outputs": [],
   "source": [
    "#* (7) oshimaY 데이터 중 None 값을 NaN으로 대체\n",
    "oshimaY_cleaned = oshimaY_cleaned.applymap(lambda x: np.nan if x is None else x)"
   ]
  },
  {
   "cell_type": "code",
   "execution_count": 164,
   "metadata": {},
   "outputs": [
    {
     "data": {
      "text/html": [
       "<div>\n",
       "<style scoped>\n",
       "    .dataframe tbody tr th:only-of-type {\n",
       "        vertical-align: middle;\n",
       "    }\n",
       "\n",
       "    .dataframe tbody tr th {\n",
       "        vertical-align: top;\n",
       "    }\n",
       "\n",
       "    .dataframe thead th {\n",
       "        text-align: right;\n",
       "    }\n",
       "</style>\n",
       "<table border=\"1\" class=\"dataframe\">\n",
       "  <thead>\n",
       "    <tr style=\"text-align: right;\">\n",
       "      <th></th>\n",
       "      <th>info</th>\n",
       "      <th>date</th>\n",
       "      <th>address</th>\n",
       "      <th>shiku</th>\n",
       "      <th>town</th>\n",
       "      <th>townpart</th>\n",
       "      <th>detailpart</th>\n",
       "    </tr>\n",
       "  </thead>\n",
       "  <tbody>\n",
       "    <tr>\n",
       "      <th>0</th>\n",
       "      <td>死体発見</td>\n",
       "      <td>平成24年11月5日</td>\n",
       "      <td>新宿区新宿三丁目22-7指田ビル地下1階</td>\n",
       "      <td>新宿区</td>\n",
       "      <td>新宿三丁目22-7指田ビル地下1階</td>\n",
       "      <td>新宿三丁目</td>\n",
       "      <td>22-7指田ビル地下1階</td>\n",
       "    </tr>\n",
       "    <tr>\n",
       "      <th>1</th>\n",
       "      <td>死体発見</td>\n",
       "      <td>平成24年11月5日</td>\n",
       "      <td>新宿区新宿三丁目22-7指田ビル地下1階</td>\n",
       "      <td>新宿区</td>\n",
       "      <td>新宿三丁目22-7指田ビル地下1階</td>\n",
       "      <td>新宿三丁目</td>\n",
       "      <td>22-7指田ビル地下1階</td>\n",
       "    </tr>\n",
       "    <tr>\n",
       "      <th>2</th>\n",
       "      <td>飛び降り自殺</td>\n",
       "      <td>令和4年</td>\n",
       "      <td>新宿区西新宿一丁目3-9</td>\n",
       "      <td>新宿区</td>\n",
       "      <td>西新宿一丁目3-9</td>\n",
       "      <td>西新宿一丁目</td>\n",
       "      <td>3-9</td>\n",
       "    </tr>\n",
       "    <tr>\n",
       "      <th>3</th>\n",
       "      <td>NaN</td>\n",
       "      <td>NaN</td>\n",
       "      <td>NaN</td>\n",
       "      <td>新宿区</td>\n",
       "      <td>NaN</td>\n",
       "      <td>NaN</td>\n",
       "      <td>NaN</td>\n",
       "    </tr>\n",
       "    <tr>\n",
       "      <th>4</th>\n",
       "      <td>2階サウナロイヤル 死体発見</td>\n",
       "      <td>平成20年1月5日</td>\n",
       "      <td>新宿区歌舞伎町一丁目27-5 中台ビル</td>\n",
       "      <td>新宿区</td>\n",
       "      <td>歌舞伎町一丁目27-5 中台ビル</td>\n",
       "      <td>歌舞伎町一丁目</td>\n",
       "      <td>27-5 中台ビル</td>\n",
       "    </tr>\n",
       "  </tbody>\n",
       "</table>\n",
       "</div>"
      ],
      "text/plain": [
       "             info        date               address shiku               town  \\\n",
       "0            死体発見  平成24年11月5日  新宿区新宿三丁目22-7指田ビル地下1階   新宿区  新宿三丁目22-7指田ビル地下1階   \n",
       "1            死体発見  平成24年11月5日  新宿区新宿三丁目22-7指田ビル地下1階   新宿区  新宿三丁目22-7指田ビル地下1階   \n",
       "2          飛び降り自殺        令和4年          新宿区西新宿一丁目3-9   新宿区          西新宿一丁目3-9   \n",
       "3             NaN         NaN                   NaN   新宿区                NaN   \n",
       "4  2階サウナロイヤル 死体発見   平成20年1月5日   新宿区歌舞伎町一丁目27-5 中台ビル   新宿区   歌舞伎町一丁目27-5 中台ビル   \n",
       "\n",
       "  townpart    detailpart  \n",
       "0    新宿三丁目  22-7指田ビル地下1階  \n",
       "1    新宿三丁目  22-7指田ビル地下1階  \n",
       "2   西新宿一丁目           3-9  \n",
       "3      NaN           NaN  \n",
       "4  歌舞伎町一丁目     27-5 中台ビル  "
      ]
     },
     "execution_count": 164,
     "metadata": {},
     "output_type": "execute_result"
    }
   ],
   "source": [
    "#* (8) oshimaY town 관련 데이터 중 'Not data' 값을 NaN으로 대체\n",
    "oshimaY_cleaned = oshimaY_cleaned.applymap(lambda x: np.nan if x == 'Not data' else x)\n",
    "oshimaY_cleaned.head()"
   ]
  },
  {
   "cell_type": "markdown",
   "metadata": {},
   "source": [
    "## <p style=\"font-family:JetBrains Mono; font-weight:normal; letter-spacing:2px; color:#068FFF; font-size:80%; text-align:left;padding: 0px; border-bottom: 3px solid #068FFF\">Data 탐색</p>"
   ]
  },
  {
   "cell_type": "code",
   "execution_count": 165,
   "metadata": {},
   "outputs": [
    {
     "name": "stdout",
     "output_type": "stream",
     "text": [
      "(569, 7) (303, 7)\n"
     ]
    }
   ],
   "source": [
    "#* 각 데이터 shape\n",
    "print(oshimaJ_cleaned.shape, oshimaY_cleaned.shape)"
   ]
  },
  {
   "cell_type": "code",
   "execution_count": 166,
   "metadata": {},
   "outputs": [
    {
     "name": "stdout",
     "output_type": "stream",
     "text": [
      "info           0\n",
      "date           3\n",
      "address        0\n",
      "shiku          0\n",
      "town           0\n",
      "townpart      28\n",
      "detailpart     0\n",
      "dtype: int64\n",
      "---------------\n",
      "info          17\n",
      "date          20\n",
      "address       13\n",
      "shiku          0\n",
      "town          13\n",
      "townpart      32\n",
      "detailpart    13\n",
      "dtype: int64\n"
     ]
    }
   ],
   "source": [
    "#* 각 데이터 결측치 확인\n",
    "print(oshimaJ_cleaned.isnull().sum())\n",
    "print('-' * 15)\n",
    "print(oshimaY_cleaned.isnull().sum())"
   ]
  },
  {
   "cell_type": "code",
   "execution_count": 167,
   "metadata": {},
   "outputs": [
    {
     "name": "stdout",
     "output_type": "stream",
     "text": [
      "4 44\n"
     ]
    }
   ],
   "source": [
    "#* 각 데이터 중복데이터 확인\n",
    "print(oshimaJ_cleaned.duplicated().sum(), oshimaY_cleaned.duplicated().sum())"
   ]
  },
  {
   "cell_type": "code",
   "execution_count": 168,
   "metadata": {},
   "outputs": [
    {
     "name": "stdout",
     "output_type": "stream",
     "text": [
      "(872, 7)\n"
     ]
    }
   ],
   "source": [
    "#* 두 데이터 병합\n",
    "oshima = pd.concat([oshimaJ_cleaned, oshimaY_cleaned]).reset_index(drop = True)\n",
    "print(oshima.shape)"
   ]
  },
  {
   "cell_type": "code",
   "execution_count": 169,
   "metadata": {},
   "outputs": [],
   "source": [
    "#* town 칼럼 삭제\n",
    "oshima = oshima.drop(columns = ['town'])"
   ]
  },
  {
   "cell_type": "markdown",
   "metadata": {},
   "source": [
    "## <p style=\"font-family:JetBrains Mono; font-weight:normal; letter-spacing:2px; color:#1A5D1A; font-size:75%; text-align:left;padding: 0px; border-bottom: 3px solid #1A5D1A\">Data info</p>"
   ]
  },
  {
   "cell_type": "markdown",
   "metadata": {},
   "source": [
    "There are 6 independent variables:\n",
    "<ul>\n",
    "<li><strong>oshima</strong><ul>\n",
    "<br>\n",
    "<li><code>info</code> 사건 정보</li>\n",
    "<li><code>date</code> 사건 발생 날짜</li>\n",
    "<li><code>address</code> 사건이 발생한 주소</li>\n",
    "<li><code>shiku</code> 시/구</li>\n",
    "<li><code>townpart</code> 동/읍/면</li>\n",
    "<li><code>detailpart</code> 상세 주소</li>"
   ]
  },
  {
   "cell_type": "code",
   "execution_count": 170,
   "metadata": {},
   "outputs": [
    {
     "name": "stdout",
     "output_type": "stream",
     "text": [
      "(818, 6)\n"
     ]
    }
   ],
   "source": [
    "#* 중복 데이터 제거\n",
    "oshima = oshima.drop_duplicates()\n",
    "oshima = oshima.reset_index(drop=True)\n",
    "print(oshima.shape)"
   ]
  },
  {
   "cell_type": "code",
   "execution_count": 171,
   "metadata": {},
   "outputs": [
    {
     "data": {
      "text/plain": [
       "info          10\n",
       "date          15\n",
       "address        6\n",
       "shiku          0\n",
       "townpart      51\n",
       "detailpart     6\n",
       "dtype: int64"
      ]
     },
     "execution_count": 171,
     "metadata": {},
     "output_type": "execute_result"
    }
   ],
   "source": [
    "oshima.isnull().sum() #! 결측치 처리 고민..."
   ]
  },
  {
   "cell_type": "code",
   "execution_count": 172,
   "metadata": {},
   "outputs": [],
   "source": [
    "oshima.to_csv('oshimaEDA.csv', index = False)"
   ]
  },
  {
   "cell_type": "code",
   "execution_count": 173,
   "metadata": {},
   "outputs": [
    {
     "data": {
      "text/html": [
       "<div>\n",
       "<style scoped>\n",
       "    .dataframe tbody tr th:only-of-type {\n",
       "        vertical-align: middle;\n",
       "    }\n",
       "\n",
       "    .dataframe tbody tr th {\n",
       "        vertical-align: top;\n",
       "    }\n",
       "\n",
       "    .dataframe thead th {\n",
       "        text-align: right;\n",
       "    }\n",
       "</style>\n",
       "<table border=\"1\" class=\"dataframe\">\n",
       "  <thead>\n",
       "    <tr style=\"text-align: right;\">\n",
       "      <th></th>\n",
       "      <th>info</th>\n",
       "      <th>date</th>\n",
       "      <th>address</th>\n",
       "      <th>shiku</th>\n",
       "      <th>townpart</th>\n",
       "      <th>detailpart</th>\n",
       "    </tr>\n",
       "  </thead>\n",
       "  <tbody>\n",
       "    <tr>\n",
       "      <th>0</th>\n",
       "      <td>819号室で女性死亡</td>\n",
       "      <td>平成30年5月23日</td>\n",
       "      <td>新宿区歌舞伎町一丁目202</td>\n",
       "      <td>新宿区</td>\n",
       "      <td>歌舞伎町一丁目</td>\n",
       "      <td>202</td>\n",
       "    </tr>\n",
       "    <tr>\n",
       "      <th>1</th>\n",
       "      <td>飛び降り自殺</td>\n",
       "      <td>令和3年5月18日</td>\n",
       "      <td>新宿区歌舞伎町一丁目202アパホテル新宿歌舞伎町タワー</td>\n",
       "      <td>新宿区</td>\n",
       "      <td>歌舞伎町一丁目</td>\n",
       "      <td>202アパホテル新宿歌舞伎町タワー</td>\n",
       "    </tr>\n",
       "    <tr>\n",
       "      <th>2</th>\n",
       "      <td>告知事項あり※管理会社に直接確認済みハイム大成ビル 403号室賃料¥78000 管理費¥20...</td>\n",
       "      <td>1年以内</td>\n",
       "      <td>新宿区西新宿七丁目1813</td>\n",
       "      <td>新宿区</td>\n",
       "      <td>西新宿七丁目</td>\n",
       "      <td>1813</td>\n",
       "    </tr>\n",
       "    <tr>\n",
       "      <th>3</th>\n",
       "      <td>１４Ｆから女性が飛び降り自殺</td>\n",
       "      <td>令和元年9月23日</td>\n",
       "      <td>新宿区西新宿七丁目1713パレステュディオ新宿WEST</td>\n",
       "      <td>新宿区</td>\n",
       "      <td>西新宿七丁目</td>\n",
       "      <td>1713パレステュディオ新宿WEST</td>\n",
       "    </tr>\n",
       "    <tr>\n",
       "      <th>4</th>\n",
       "      <td>事故死</td>\n",
       "      <td>2016</td>\n",
       "      <td>新宿区西新宿七丁目2231</td>\n",
       "      <td>新宿区</td>\n",
       "      <td>西新宿七丁目</td>\n",
       "      <td>2231</td>\n",
       "    </tr>\n",
       "  </tbody>\n",
       "</table>\n",
       "</div>"
      ],
      "text/plain": [
       "                                                info        date  \\\n",
       "0                                         819号室で女性死亡  平成30年5月23日   \n",
       "1                                             飛び降り自殺   令和3年5月18日   \n",
       "2  告知事項あり※管理会社に直接確認済みハイム大成ビル 403号室賃料¥78000 管理費¥20...        1年以内   \n",
       "3                                     １４Ｆから女性が飛び降り自殺   令和元年9月23日   \n",
       "4                                                事故死        2016   \n",
       "\n",
       "                       address shiku townpart          detailpart  \n",
       "0                新宿区歌舞伎町一丁目202   新宿区  歌舞伎町一丁目                 202  \n",
       "1  新宿区歌舞伎町一丁目202アパホテル新宿歌舞伎町タワー   新宿区  歌舞伎町一丁目   202アパホテル新宿歌舞伎町タワー  \n",
       "2                新宿区西新宿七丁目1813   新宿区   西新宿七丁目                1813  \n",
       "3  新宿区西新宿七丁目1713パレステュディオ新宿WEST   新宿区   西新宿七丁目  1713パレステュディオ新宿WEST  \n",
       "4                新宿区西新宿七丁目2231   新宿区   西新宿七丁目                2231  "
      ]
     },
     "execution_count": 173,
     "metadata": {},
     "output_type": "execute_result"
    }
   ],
   "source": [
    "oshima.head()"
   ]
  },
  {
   "cell_type": "markdown",
   "metadata": {},
   "source": [
    "## <p style=\"font-family:JetBrains Mono; font-weight:normal; letter-spacing:2px; color:#068FFF; font-size:80%; text-align:left;padding: 0px; border-bottom: 3px solid #068FFF\">Tokyo Open Data Processing</p>"
   ]
  },
  {
   "cell_type": "markdown",
   "metadata": {},
   "source": [
    "## <p style=\"font-family:JetBrains Mono; font-weight:normal; letter-spacing:2px; color:#1A5D1A; font-size:75%; text-align:left;padding: 0px; border-bottom: 3px solid #1A5D1A\">Data info</p>"
   ]
  },
  {
   "cell_type": "markdown",
   "metadata": {},
   "source": [
    "There are 20 independent variables:\n",
    "<ul>\n",
    "<li><strong>TokyoCrime.csv</strong><ul>\n",
    "<br>\n",
    "<li><code>罪名</code> 범죄의 종류 또는 범죄명</li>\n",
    "<li><code>手口</code> 범죄의 접근 방식 또는 행동</li>\n",
    "<li><code>管轄警察署（発生地）</code> 범죄가 발생한 지역의 관할 경찰서</li>\n",
    "<li><code>管轄交番・駐在所（発生地）</code> 범죄가 발생한 지역의 관할 파출소 또는 장애소</li>\n",
    "<li><code>市区町村コード（発生地）</code> 범죄가 발생한 지역의 시, 구, 동 등을 식별하는 코드</li>\n",
    "<li><code>都道府県（発生地）</code> 범죄가 발생한 지역의 도 또는 특별시</li>\n",
    "<li><code>市区町村（発生地）</code> 범죄가 발생한 지역의 시, 구, 동</li>\n",
    "<li><code>町丁目（発生地）</code> 범죄가 발생한 지역의 동 등 자세한 정보</li>\n",
    "<li><code>発生時（始期）</code> 범죄가 발생한 날짜</li>\n",
    "<li><code>発生年月日（始期）</code> 범죄가 발생한 시간</li>\n",
    "<li><code>発生場所の属性</code> 범죄가 발생한 장소의 특성</li>\n",
    "<li><code>現金以外の主な被害品</code> 현금 이외의 주요 피해 물품</li>\n",
    "<li><code>被害者の性別</code> 피해자의 성별</li>\n",
    "<li><code>被害者の年齢</code>  피해자의 나이</li>\n",
    "<li><code>現金被害の有無</code> 현금 피해의 여부</li>\n",
    "<li><code>施錠関係</code> 잠금 관련 정보</li>\n",
    "<li><code>盗難防止装置の有無</code> 도난 방지 장치의 여부</li>\n",
    "<li><code>被害者の職業</code> 피해자의 직업</li>\n",
    "<li><code>発生場所</code> 범죄가 발생한 장소</li>\n",
    "<li><code>発生場所の詳細</code> 범죄가 발생한 장소에 대한 자세한 정보</li>\n"
   ]
  },
  {
   "cell_type": "code",
   "execution_count": 174,
   "metadata": {},
   "outputs": [
    {
     "data": {
      "text/plain": [
       "(132320, 20)"
      ]
     },
     "execution_count": 174,
     "metadata": {},
     "output_type": "execute_result"
    }
   ],
   "source": [
    "openData = pd.read_csv('C:\\\\Users\\\\lucky\\\\Documents\\\\COLLABORATION\\\\AirbnbWise\\\\Tokyo_OpenData\\\\Integration of downloaded CSV files\\\\TokyoCrime.csv',  encoding='SHIFT_JIS', index_col=0)\n",
    "openData.shape"
   ]
  },
  {
   "cell_type": "code",
   "execution_count": 175,
   "metadata": {},
   "outputs": [],
   "source": [
    "#* : 칼럼명을 일본어에서 영어로 변경\n",
    "openData.columns = ['crimeType', 'criminalBehavior', 'policeStation', 'policeboxOrsubstation','crimeCode', \n",
    "                     'crimeAddressSido', 'crimeAddressDong', 'crimeDetailAddress', 'dateOfCrime', 'timeOfCrime', 'crimeSceneCharacteristics', \n",
    "                     'otherThanCash', 'genderOfVictim', 'ageOfVictim', 'cashDamagePresence', 'lockingInfo','preventionDevicePresence',\n",
    "                     'jobOfVictim', 'crimeScene', 'crimeDetailinfo']"
   ]
  },
  {
   "cell_type": "code",
   "execution_count": 176,
   "metadata": {},
   "outputs": [
    {
     "name": "stdout",
     "output_type": "stream",
     "text": [
      "<class 'pandas.core.frame.DataFrame'>\n",
      "Int64Index: 132320 entries, 0 to 132319\n",
      "Data columns (total 20 columns):\n",
      " #   Column                     Non-Null Count   Dtype  \n",
      "---  ------                     --------------   -----  \n",
      " 0   crimeType                  132320 non-null  object \n",
      " 1   criminalBehavior           132320 non-null  object \n",
      " 2   policeStation              132320 non-null  object \n",
      " 3   policeboxOrsubstation      132240 non-null  object \n",
      " 4   crimeCode                  132281 non-null  float64\n",
      " 5   crimeAddressSido           132288 non-null  object \n",
      " 6   crimeAddressDong           132288 non-null  object \n",
      " 7   crimeDetailAddress         132247 non-null  object \n",
      " 8   dateOfCrime                132320 non-null  object \n",
      " 9   timeOfCrime                132320 non-null  object \n",
      " 10  crimeSceneCharacteristics  80634 non-null   object \n",
      " 11  otherThanCash              11039 non-null   object \n",
      " 12  genderOfVictim             683 non-null     object \n",
      " 13  ageOfVictim                110764 non-null  object \n",
      " 14  cashDamagePresence         11200 non-null   object \n",
      " 15  lockingInfo                124069 non-null  object \n",
      " 16  preventionDevicePresence   4906 non-null    object \n",
      " 17  jobOfVictim                110081 non-null  object \n",
      " 18  crimeScene                 51686 non-null   object \n",
      " 19  crimeDetailinfo            51524 non-null   object \n",
      "dtypes: float64(1), object(19)\n",
      "memory usage: 21.2+ MB\n"
     ]
    }
   ],
   "source": [
    "openData.info() "
   ]
  },
  {
   "cell_type": "code",
   "execution_count": 177,
   "metadata": {},
   "outputs": [
    {
     "data": {
      "text/plain": [
       "(132320, 18)"
      ]
     },
     "execution_count": 177,
     "metadata": {},
     "output_type": "execute_result"
    }
   ],
   "source": [
    "#* 칼럼 중 '被害者の性別'(genderOfVictim) - 전체 데이터에서 0.5%\n",
    "# '盗難防止装置の有無'(preventionDevicePresence) - (전체 데이터의 3%)\n",
    "#  두 칼럼은 압도적으로 데이터가 적으므로 삭제한다. \n",
    "#TODO '現金以外の主な被害品'(otherThanCash 11039 Not Null) 칼럼은 전체 데이터의 8%, '現金被害の有無'(cashDamagePresence 11200 Not Null) 칼럼도 전체 데이터의 8% 이다. 이 두 칼럼은 삭제할지 말지 고민이다.\n",
    "openData = openData.drop(columns = ['genderOfVictim', 'preventionDevicePresence'])\n",
    "openData.shape"
   ]
  },
  {
   "cell_type": "code",
   "execution_count": 178,
   "metadata": {},
   "outputs": [],
   "source": [
    "# TODO: 'timeOfCrime' 칼럼 데이터 시간 양식이 동일하지 않다. 양식을 통일 하고, 데이터 타입을 datetime(ns)로 변경한다.\n",
    "# ex) 2023-07-18 , 2023/07/18\n",
    "# 추후 year, month, day 칼럼으로 분리하여 추가할 예정이다.\n",
    "def getDateOfCrime(date):\n",
    "    if '-' in date:\n",
    "        dateValue = pd.to_datetime(date, format='%Y-%m-%d')\n",
    "    elif '/' in date:\n",
    "        dateValue = pd.to_datetime(date, format='%Y-%m-%d')\n",
    "    else: \n",
    "        dateValue = pd.to_datetime(date, errors = 'coerce') #* 날짜가 잘못된 경우는 Nat(Not a Time)으로 처리\n",
    "    return dateValue\n",
    "\n",
    "openData['dateOfCrime'] = openData['dateOfCrime'].apply(getDateOfCrime)"
   ]
  },
  {
   "cell_type": "code",
   "execution_count": 179,
   "metadata": {},
   "outputs": [
    {
     "name": "stdout",
     "output_type": "stream",
     "text": [
      "窃盗    132320\n",
      "Name: crimeType, dtype: int64\n"
     ]
    }
   ],
   "source": [
    "# TODO : 이 데이터에서 'crimeType' 즉, 범죄 유형은 '窃盗'(절도)만 존재 하므로, 'crimeType' 칼럼은 삭제한다.\n",
    "print(openData['crimeType'].value_counts())\n",
    "openData = openData.drop(columns = ['crimeType'])"
   ]
  },
  {
   "cell_type": "code",
   "execution_count": 180,
   "metadata": {},
   "outputs": [
    {
     "data": {
      "text/html": [
       "<div>\n",
       "<style scoped>\n",
       "    .dataframe tbody tr th:only-of-type {\n",
       "        vertical-align: middle;\n",
       "    }\n",
       "\n",
       "    .dataframe tbody tr th {\n",
       "        vertical-align: top;\n",
       "    }\n",
       "\n",
       "    .dataframe thead th {\n",
       "        text-align: right;\n",
       "    }\n",
       "</style>\n",
       "<table border=\"1\" class=\"dataframe\">\n",
       "  <thead>\n",
       "    <tr style=\"text-align: right;\">\n",
       "      <th></th>\n",
       "      <th>criminalBehavior</th>\n",
       "      <th>policeStation</th>\n",
       "      <th>policeboxOrsubstation</th>\n",
       "      <th>crimeCode</th>\n",
       "      <th>crimeAddressSido</th>\n",
       "      <th>crimeAddressDong</th>\n",
       "      <th>crimeDetailAddress</th>\n",
       "      <th>dateOfCrime</th>\n",
       "      <th>timeOfCrime</th>\n",
       "      <th>crimeSceneCharacteristics</th>\n",
       "      <th>otherThanCash</th>\n",
       "      <th>ageOfVictim</th>\n",
       "      <th>cashDamagePresence</th>\n",
       "      <th>lockingInfo</th>\n",
       "      <th>jobOfVictim</th>\n",
       "      <th>crimeScene</th>\n",
       "      <th>crimeDetailinfo</th>\n",
       "      <th>crimeFullAddress</th>\n",
       "    </tr>\n",
       "  </thead>\n",
       "  <tbody>\n",
       "    <tr>\n",
       "      <th>0</th>\n",
       "      <td>部品ねらい</td>\n",
       "      <td>中央</td>\n",
       "      <td>本町交番</td>\n",
       "      <td>131024.0</td>\n",
       "      <td>東京都</td>\n",
       "      <td>中央区</td>\n",
       "      <td>日本橋本石町４丁目</td>\n",
       "      <td>2018-03-25</td>\n",
       "      <td>13</td>\n",
       "      <td>その他</td>\n",
       "      <td>ナンバープレート</td>\n",
       "      <td>NaN</td>\n",
       "      <td>NaN</td>\n",
       "      <td>NaN</td>\n",
       "      <td>NaN</td>\n",
       "      <td>NaN</td>\n",
       "      <td>NaN</td>\n",
       "      <td>東京都中央区日本橋本石町４丁目</td>\n",
       "    </tr>\n",
       "    <tr>\n",
       "      <th>1</th>\n",
       "      <td>部品ねらい</td>\n",
       "      <td>中央</td>\n",
       "      <td>日本橋交番</td>\n",
       "      <td>131024.0</td>\n",
       "      <td>東京都</td>\n",
       "      <td>中央区</td>\n",
       "      <td>日本橋１丁目</td>\n",
       "      <td>2018-01-22</td>\n",
       "      <td>09</td>\n",
       "      <td>道路上</td>\n",
       "      <td>その他</td>\n",
       "      <td>NaN</td>\n",
       "      <td>NaN</td>\n",
       "      <td>NaN</td>\n",
       "      <td>NaN</td>\n",
       "      <td>NaN</td>\n",
       "      <td>NaN</td>\n",
       "      <td>東京都中央区日本橋１丁目</td>\n",
       "    </tr>\n",
       "    <tr>\n",
       "      <th>2</th>\n",
       "      <td>部品ねらい</td>\n",
       "      <td>中央</td>\n",
       "      <td>日本橋交番</td>\n",
       "      <td>131024.0</td>\n",
       "      <td>東京都</td>\n",
       "      <td>中央区</td>\n",
       "      <td>日本橋室町１丁目</td>\n",
       "      <td>2018-05-01</td>\n",
       "      <td>15</td>\n",
       "      <td>道路上</td>\n",
       "      <td>その他</td>\n",
       "      <td>NaN</td>\n",
       "      <td>NaN</td>\n",
       "      <td>NaN</td>\n",
       "      <td>NaN</td>\n",
       "      <td>NaN</td>\n",
       "      <td>NaN</td>\n",
       "      <td>東京都中央区日本橋室町１丁目</td>\n",
       "    </tr>\n",
       "    <tr>\n",
       "      <th>3</th>\n",
       "      <td>部品ねらい</td>\n",
       "      <td>中央</td>\n",
       "      <td>八重洲通交番</td>\n",
       "      <td>131024.0</td>\n",
       "      <td>東京都</td>\n",
       "      <td>中央区</td>\n",
       "      <td>八重洲１丁目</td>\n",
       "      <td>2017-12-20</td>\n",
       "      <td>不明</td>\n",
       "      <td>道路上</td>\n",
       "      <td>ナンバープレート</td>\n",
       "      <td>NaN</td>\n",
       "      <td>NaN</td>\n",
       "      <td>NaN</td>\n",
       "      <td>NaN</td>\n",
       "      <td>NaN</td>\n",
       "      <td>NaN</td>\n",
       "      <td>東京都中央区八重洲１丁目</td>\n",
       "    </tr>\n",
       "    <tr>\n",
       "      <th>4</th>\n",
       "      <td>部品ねらい</td>\n",
       "      <td>中央</td>\n",
       "      <td>八重洲通交番</td>\n",
       "      <td>131024.0</td>\n",
       "      <td>東京都</td>\n",
       "      <td>中央区</td>\n",
       "      <td>八重洲２丁目</td>\n",
       "      <td>2018-11-09</td>\n",
       "      <td>11</td>\n",
       "      <td>駐車（輪）場</td>\n",
       "      <td>その他</td>\n",
       "      <td>NaN</td>\n",
       "      <td>NaN</td>\n",
       "      <td>NaN</td>\n",
       "      <td>NaN</td>\n",
       "      <td>NaN</td>\n",
       "      <td>NaN</td>\n",
       "      <td>東京都中央区八重洲２丁目</td>\n",
       "    </tr>\n",
       "  </tbody>\n",
       "</table>\n",
       "</div>"
      ],
      "text/plain": [
       "  criminalBehavior policeStation policeboxOrsubstation  crimeCode  \\\n",
       "0            部品ねらい            中央                  本町交番   131024.0   \n",
       "1            部品ねらい            中央                 日本橋交番   131024.0   \n",
       "2            部品ねらい            中央                 日本橋交番   131024.0   \n",
       "3            部品ねらい            中央                八重洲通交番   131024.0   \n",
       "4            部品ねらい            中央                八重洲通交番   131024.0   \n",
       "\n",
       "  crimeAddressSido crimeAddressDong crimeDetailAddress dateOfCrime  \\\n",
       "0              東京都              中央区          日本橋本石町４丁目  2018-03-25   \n",
       "1              東京都              中央区             日本橋１丁目  2018-01-22   \n",
       "2              東京都              中央区           日本橋室町１丁目  2018-05-01   \n",
       "3              東京都              中央区             八重洲１丁目  2017-12-20   \n",
       "4              東京都              中央区             八重洲２丁目  2018-11-09   \n",
       "\n",
       "  timeOfCrime crimeSceneCharacteristics otherThanCash ageOfVictim  \\\n",
       "0          13                       その他      ナンバープレート         NaN   \n",
       "1          09                       道路上           その他         NaN   \n",
       "2          15                       道路上           その他         NaN   \n",
       "3          不明                       道路上      ナンバープレート         NaN   \n",
       "4          11                    駐車（輪）場           その他         NaN   \n",
       "\n",
       "  cashDamagePresence lockingInfo jobOfVictim crimeScene crimeDetailinfo  \\\n",
       "0                NaN         NaN         NaN        NaN             NaN   \n",
       "1                NaN         NaN         NaN        NaN             NaN   \n",
       "2                NaN         NaN         NaN        NaN             NaN   \n",
       "3                NaN         NaN         NaN        NaN             NaN   \n",
       "4                NaN         NaN         NaN        NaN             NaN   \n",
       "\n",
       "  crimeFullAddress  \n",
       "0  東京都中央区日本橋本石町４丁目  \n",
       "1     東京都中央区日本橋１丁目  \n",
       "2   東京都中央区日本橋室町１丁目  \n",
       "3     東京都中央区八重洲１丁目  \n",
       "4     東京都中央区八重洲２丁目  "
      ]
     },
     "metadata": {},
     "output_type": "display_data"
    },
    {
     "data": {
      "text/html": [
       "<div>\n",
       "<style scoped>\n",
       "    .dataframe tbody tr th:only-of-type {\n",
       "        vertical-align: middle;\n",
       "    }\n",
       "\n",
       "    .dataframe tbody tr th {\n",
       "        vertical-align: top;\n",
       "    }\n",
       "\n",
       "    .dataframe thead th {\n",
       "        text-align: right;\n",
       "    }\n",
       "</style>\n",
       "<table border=\"1\" class=\"dataframe\">\n",
       "  <thead>\n",
       "    <tr style=\"text-align: right;\">\n",
       "      <th></th>\n",
       "      <th>info</th>\n",
       "      <th>date</th>\n",
       "      <th>address</th>\n",
       "      <th>shiku</th>\n",
       "      <th>townpart</th>\n",
       "      <th>detailpart</th>\n",
       "    </tr>\n",
       "  </thead>\n",
       "  <tbody>\n",
       "    <tr>\n",
       "      <th>0</th>\n",
       "      <td>819号室で女性死亡</td>\n",
       "      <td>平成30年5月23日</td>\n",
       "      <td>新宿区歌舞伎町一丁目202</td>\n",
       "      <td>新宿区</td>\n",
       "      <td>歌舞伎町一丁目</td>\n",
       "      <td>202</td>\n",
       "    </tr>\n",
       "    <tr>\n",
       "      <th>1</th>\n",
       "      <td>飛び降り自殺</td>\n",
       "      <td>令和3年5月18日</td>\n",
       "      <td>新宿区歌舞伎町一丁目202アパホテル新宿歌舞伎町タワー</td>\n",
       "      <td>新宿区</td>\n",
       "      <td>歌舞伎町一丁目</td>\n",
       "      <td>202アパホテル新宿歌舞伎町タワー</td>\n",
       "    </tr>\n",
       "    <tr>\n",
       "      <th>2</th>\n",
       "      <td>告知事項あり※管理会社に直接確認済みハイム大成ビル 403号室賃料¥78000 管理費¥20...</td>\n",
       "      <td>1年以内</td>\n",
       "      <td>新宿区西新宿七丁目1813</td>\n",
       "      <td>新宿区</td>\n",
       "      <td>西新宿七丁目</td>\n",
       "      <td>1813</td>\n",
       "    </tr>\n",
       "    <tr>\n",
       "      <th>3</th>\n",
       "      <td>１４Ｆから女性が飛び降り自殺</td>\n",
       "      <td>令和元年9月23日</td>\n",
       "      <td>新宿区西新宿七丁目1713パレステュディオ新宿WEST</td>\n",
       "      <td>新宿区</td>\n",
       "      <td>西新宿七丁目</td>\n",
       "      <td>1713パレステュディオ新宿WEST</td>\n",
       "    </tr>\n",
       "    <tr>\n",
       "      <th>4</th>\n",
       "      <td>事故死</td>\n",
       "      <td>2016</td>\n",
       "      <td>新宿区西新宿七丁目2231</td>\n",
       "      <td>新宿区</td>\n",
       "      <td>西新宿七丁目</td>\n",
       "      <td>2231</td>\n",
       "    </tr>\n",
       "  </tbody>\n",
       "</table>\n",
       "</div>"
      ],
      "text/plain": [
       "                                                info        date  \\\n",
       "0                                         819号室で女性死亡  平成30年5月23日   \n",
       "1                                             飛び降り自殺   令和3年5月18日   \n",
       "2  告知事項あり※管理会社に直接確認済みハイム大成ビル 403号室賃料¥78000 管理費¥20...        1年以内   \n",
       "3                                     １４Ｆから女性が飛び降り自殺   令和元年9月23日   \n",
       "4                                                事故死        2016   \n",
       "\n",
       "                       address shiku townpart          detailpart  \n",
       "0                新宿区歌舞伎町一丁目202   新宿区  歌舞伎町一丁目                 202  \n",
       "1  新宿区歌舞伎町一丁目202アパホテル新宿歌舞伎町タワー   新宿区  歌舞伎町一丁目   202アパホテル新宿歌舞伎町タワー  \n",
       "2                新宿区西新宿七丁目1813   新宿区   西新宿七丁目                1813  \n",
       "3  新宿区西新宿七丁目1713パレステュディオ新宿WEST   新宿区   西新宿七丁目  1713パレステュディオ新宿WEST  \n",
       "4                新宿区西新宿七丁目2231   新宿区   西新宿七丁目                2231  "
      ]
     },
     "metadata": {},
     "output_type": "display_data"
    },
    {
     "data": {
      "text/plain": [
       "None"
      ]
     },
     "metadata": {},
     "output_type": "display_data"
    }
   ],
   "source": [
    "# TODO 범죄 주소 시/도 + 동/읍/면 + 상세 주소 텍스트를 합쳐서 전체 주소 칼럼을 만들어서, oshimaland 데이터의 주소값과 비교할 수 있도록 한다.\n",
    "openData['crimeFullAddress'] = openData['crimeAddressSido'] + openData['crimeAddressDong'] + openData['crimeDetailAddress']\n",
    "display(oshima.head(), display(openData.head()) )\n",
    "#* oshima 데이터의 'townpart' 칼럼과 openData 데이터의 'crimeDetailAddrss' 칼럼 모두, 구역을 표현한다."
   ]
  },
  {
   "cell_type": "code",
   "execution_count": 181,
   "metadata": {},
   "outputs": [
    {
     "data": {
      "text/plain": [
       "20歳代           28685\n",
       "10歳代           23837\n",
       "30歳代           18404\n",
       "40歳代           15980\n",
       "50歳代           10557\n",
       "70歳以上           5867\n",
       "60-64歳          2865\n",
       "65-69歳          2794\n",
       "法人・団体、被害者なし      957\n",
       "10歳未満            818\n",
       "Name: ageOfVictim, dtype: int64"
      ]
     },
     "execution_count": 181,
     "metadata": {},
     "output_type": "execute_result"
    }
   ],
   "source": [
    "#TODO 숫자를 제외한 일본어 문자열 삭제, 60대는 하나의 value로 통일\n",
    "#* 法人・団体、被害者なし - 법인 / 단체가 관련되었으나 피해자 없음의 내용으로 이 값이 들어간 데이터는 제거 한다.\n",
    "openData['ageOfVictim'].value_counts()"
   ]
  },
  {
   "cell_type": "code",
   "execution_count": 182,
   "metadata": {},
   "outputs": [],
   "source": [
    "# 'ageOfVictim' 칼럼에서 \"法人・団体、被害者なし\" 값을 np.nan으로 바꿔줌\n",
    "openData['ageOfVictim'] = openData['ageOfVictim'].replace(\"法人・団体、被害者なし\", '0')"
   ]
  },
  {
   "cell_type": "code",
   "execution_count": 183,
   "metadata": {},
   "outputs": [],
   "source": [
    "#* \\D는 숫자가 아닌 모든 문자를 의미\n",
    "#! 歳代 ?세대, 歳以上 ?세 이상, 歳未満 ?세 미만\n",
    "def ageProcessing(age):\n",
    "    if '-' in age:\n",
    "        age = '60' #* 60-64, 65-69를 60대로 통일\n",
    "    else:\n",
    "        age = re.sub(r'\\D', '', age)\n",
    "    return age\n",
    "\n",
    "openData['ageOfVictim'] = openData['ageOfVictim'].apply(lambda x: np.nan if pd.isnull(x) else ageProcessing(x))  #! 10은 10세 미만"
   ]
  },
  {
   "cell_type": "code",
   "execution_count": 184,
   "metadata": {},
   "outputs": [],
   "source": [
    "#TODO timeOfCrime 칼럼의 '不明' 값의 의미는 미확인이다. 이 값을 어떻게 변경할지 고민중이다."
   ]
  }
 ],
 "metadata": {
  "kernelspec": {
   "display_name": "genie",
   "language": "python",
   "name": "python3"
  },
  "language_info": {
   "codemirror_mode": {
    "name": "ipython",
    "version": 3
   },
   "file_extension": ".py",
   "mimetype": "text/x-python",
   "name": "python",
   "nbconvert_exporter": "python",
   "pygments_lexer": "ipython3",
   "version": "3.8.16"
  },
  "orig_nbformat": 4
 },
 "nbformat": 4,
 "nbformat_minor": 2
}
