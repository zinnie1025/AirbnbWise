{
 "cells": [
  {
   "cell_type": "code",
   "execution_count": 1,
   "metadata": {},
   "outputs": [],
   "source": [
    "import pandas as pd\n",
    "import numpy as np"
   ]
  },
  {
   "cell_type": "code",
   "execution_count": 2,
   "metadata": {},
   "outputs": [
    {
     "data": {
      "text/html": [
       "<div>\n",
       "<style scoped>\n",
       "    .dataframe tbody tr th:only-of-type {\n",
       "        vertical-align: middle;\n",
       "    }\n",
       "\n",
       "    .dataframe tbody tr th {\n",
       "        vertical-align: top;\n",
       "    }\n",
       "\n",
       "    .dataframe thead th {\n",
       "        text-align: right;\n",
       "    }\n",
       "</style>\n",
       "<table border=\"1\" class=\"dataframe\">\n",
       "  <thead>\n",
       "    <tr style=\"text-align: right;\">\n",
       "      <th></th>\n",
       "      <th>district</th>\n",
       "      <th>address</th>\n",
       "      <th>info</th>\n",
       "      <th>date</th>\n",
       "      <th>full name</th>\n",
       "      <th>latitude</th>\n",
       "      <th>longitude</th>\n",
       "      <th>translate</th>\n",
       "    </tr>\n",
       "  </thead>\n",
       "  <tbody>\n",
       "    <tr>\n",
       "      <th>0</th>\n",
       "      <td>新宿区</td>\n",
       "      <td>東京都新宿区新宿三丁目22-7指田ビル地下1階</td>\n",
       "      <td>死体発見</td>\n",
       "      <td>平成24年11月5日</td>\n",
       "      <td>東京都 新宿区 新宿 三丁目 22番 7号</td>\n",
       "      <td>35.693264</td>\n",
       "      <td>139.701309</td>\n",
       "      <td>시체 발견</td>\n",
       "    </tr>\n",
       "    <tr>\n",
       "      <th>1</th>\n",
       "      <td>新宿区</td>\n",
       "      <td>東京都新宿区西新宿一丁目3-9</td>\n",
       "      <td>飛び降り自殺</td>\n",
       "      <td>令和4年</td>\n",
       "      <td>東京都 新宿区 西新宿 一丁目 3番 9号</td>\n",
       "      <td>35.693218</td>\n",
       "      <td>139.698166</td>\n",
       "      <td>뛰어 내리는 자살</td>\n",
       "    </tr>\n",
       "    <tr>\n",
       "      <th>2</th>\n",
       "      <td>新宿区</td>\n",
       "      <td>東京都新宿区歌舞伎町一丁目27-5 中台ビル</td>\n",
       "      <td>2階サウナロイヤル 死体発見</td>\n",
       "      <td>平成20年1月5日</td>\n",
       "      <td>東京都 新宿区 歌舞伎町 一丁目 27番 5号</td>\n",
       "      <td>35.695450</td>\n",
       "      <td>139.700623</td>\n",
       "      <td>2층 사우나 로얄 시체 발견</td>\n",
       "    </tr>\n",
       "    <tr>\n",
       "      <th>3</th>\n",
       "      <td>新宿区</td>\n",
       "      <td>東京都新宿区歌舞伎町一丁目20-2アパホテル新宿歌舞伎町タワー↓</td>\n",
       "      <td>飛び降り自殺</td>\n",
       "      <td>令和3年5月11日</td>\n",
       "      <td>東京都 新宿区 歌舞伎町 一丁目 20番 2号</td>\n",
       "      <td>35.695652</td>\n",
       "      <td>139.701401</td>\n",
       "      <td>뛰어 내리는 자살</td>\n",
       "    </tr>\n",
       "    <tr>\n",
       "      <th>4</th>\n",
       "      <td>新宿区</td>\n",
       "      <td>東京都新宿区西新宿七丁目5-9プロスペクト・アクス・ザ・タワー新宿2008</td>\n",
       "      <td>首吊り自殺</td>\n",
       "      <td>平成27年9月26日</td>\n",
       "      <td>東京都 新宿区 西新宿 七丁目 5番 9号</td>\n",
       "      <td>35.696812</td>\n",
       "      <td>139.698044</td>\n",
       "      <td>목 매달아 자살</td>\n",
       "    </tr>\n",
       "  </tbody>\n",
       "</table>\n",
       "</div>"
      ],
      "text/plain": [
       "  district                                address            info        date  \\\n",
       "0      新宿区                東京都新宿区新宿三丁目22-7指田ビル地下1階            死体発見  平成24年11月5日   \n",
       "1      新宿区                        東京都新宿区西新宿一丁目3-9          飛び降り自殺        令和4年   \n",
       "2      新宿区                 東京都新宿区歌舞伎町一丁目27-5 中台ビル  2階サウナロイヤル 死体発見   平成20年1月5日   \n",
       "3      新宿区       東京都新宿区歌舞伎町一丁目20-2アパホテル新宿歌舞伎町タワー↓          飛び降り自殺   令和3年5月11日   \n",
       "4      新宿区  東京都新宿区西新宿七丁目5-9プロスペクト・アクス・ザ・タワー新宿2008           首吊り自殺  平成27年9月26日   \n",
       "\n",
       "                 full name   latitude   longitude        translate  \n",
       "0    東京都 新宿区 新宿 三丁目 22番 7号  35.693264  139.701309            시체 발견  \n",
       "1    東京都 新宿区 西新宿 一丁目 3番 9号  35.693218  139.698166        뛰어 내리는 자살  \n",
       "2  東京都 新宿区 歌舞伎町 一丁目 27番 5号  35.695450  139.700623  2층 사우나 로얄 시체 발견  \n",
       "3  東京都 新宿区 歌舞伎町 一丁目 20番 2号  35.695652  139.701401        뛰어 내리는 자살  \n",
       "4    東京都 新宿区 西新宿 七丁目 5番 9号  35.696812  139.698044         목 매달아 자살  "
      ]
     },
     "metadata": {},
     "output_type": "display_data"
    }
   ],
   "source": [
    "oshima = pd.read_csv('/Users/genie/Documents/COLLABORATION/AirbnbWise/Dataset_Processing/yunyoung/data/translate.csv', index_col=0)\n",
    "display(oshima.head())"
   ]
  },
  {
   "cell_type": "code",
   "execution_count": 3,
   "metadata": {},
   "outputs": [
    {
     "data": {
      "text/plain": [
       "火災による死亡            317\n",
       "死体発見               238\n",
       "飛び降り自殺             168\n",
       "自殺                 142\n",
       "孤高死                101\n",
       "告知事項あり（不動産情報より）     94\n",
       "首吊り自殺               77\n",
       "転落死                 71\n",
       "刺殺                  64\n",
       "告知事項あり              60\n",
       "Name: info, dtype: int64"
      ]
     },
     "execution_count": 3,
     "metadata": {},
     "output_type": "execute_result"
    }
   ],
   "source": [
    "#pd.options.display.max_rows = 9999\n",
    "oshima['info'].value_counts().head(10)"
   ]
  },
  {
   "cell_type": "code",
   "execution_count": 4,
   "metadata": {},
   "outputs": [],
   "source": [
    "\n",
    "#TODO : oshima 범죄 카테고리 상위 10개 \n",
    "#TODO : < 1차적 목표 > 화재, 시체발견, 자살, 투신자살, 추락사, 부동산 고지사항 카테고리 범주 안에서 태깅 목표(완료)\n",
    "#TODO : < 2차적 목표 > 상위 10개 제외한 예외 경우 새로운 카테고리 만들어서 태깅\n",
    "#TODO : < 3차적 목표 > 고지사항의 경우 특정 죽음 키워드(사망, 자살)이 포함된 안내사항 인 경우 태깅하고 그렇지 않으면 데이터 삭제\n",
    "\n",
    "#? : 告知事項あり（不動産情報より）와 告知事項あり는 같은 부동산 고지사항인데 분류된 기준이 뭐일까? -> 부동산 고지사항에 해당하는 부분 좀 더 파보자.\n",
    "#* 火災による死亡           317 -> 火災 : 화재\n",
    "#* 死体発見               238 -> 시체 발견 -> 死体 : 시체 \n",
    "#* 飛び降り自殺             168 -> 높은 곳에서 뛰어 내려 자살(투신자살) -> 自殺 : 자살, 추가 info\n",
    "#* 自殺                 142 -> 자살 \n",
    "#* 孤高死                101 -> 고독사\n",
    "#* 告知事項あり（不動産情報より）     94 -> 부동산 정보로 나온 정보를 통해 거래 상대방에게 고지한 내용, 좀 더 강조된 걸까?\n",
    "#* 首吊り自殺               77 -> 목 매달아 자살 -> 자살, 추가 info\n",
    "#* 転落死                 71 -> 낙하사망(추락사)\n",
    "#* 刺殺                  64 -> 찔러서 죽인 행위 -> 타살\n",
    "#* 告知事項あり            60 -> -> 부동산 정보로 나온 정보를 통해 거래 상대방에게 고지한 내용 \n",
    "#! ['火災', '死体', '自殺', '孤高死', '告知事項あり', '転落死', '刺殺'] -> 화재, 시체, 자살, 고독사, 고지사항, 추락사, 타살"
   ]
  },
  {
   "cell_type": "code",
   "execution_count": 5,
   "metadata": {},
   "outputs": [
    {
     "data": {
      "text/plain": [
       "(4833, 8)"
      ]
     },
     "execution_count": 5,
     "metadata": {},
     "output_type": "execute_result"
    }
   ],
   "source": [
    "oshima.shape"
   ]
  },
  {
   "cell_type": "code",
   "execution_count": 6,
   "metadata": {},
   "outputs": [
    {
     "data": {
      "text/html": [
       "<div>\n",
       "<style scoped>\n",
       "    .dataframe tbody tr th:only-of-type {\n",
       "        vertical-align: middle;\n",
       "    }\n",
       "\n",
       "    .dataframe tbody tr th {\n",
       "        vertical-align: top;\n",
       "    }\n",
       "\n",
       "    .dataframe thead th {\n",
       "        text-align: right;\n",
       "    }\n",
       "</style>\n",
       "<table border=\"1\" class=\"dataframe\">\n",
       "  <thead>\n",
       "    <tr style=\"text-align: right;\">\n",
       "      <th></th>\n",
       "      <th>district</th>\n",
       "      <th>address</th>\n",
       "      <th>info</th>\n",
       "      <th>date</th>\n",
       "      <th>full name</th>\n",
       "      <th>latitude</th>\n",
       "      <th>longitude</th>\n",
       "      <th>translate</th>\n",
       "    </tr>\n",
       "  </thead>\n",
       "  <tbody>\n",
       "    <tr>\n",
       "      <th>0</th>\n",
       "      <td>新宿区</td>\n",
       "      <td>東京都新宿区新宿三丁目22-7指田ビル地下1階</td>\n",
       "      <td>死体発見</td>\n",
       "      <td>平成24年11月5日</td>\n",
       "      <td>東京都 新宿区 新宿 三丁目 22番 7号</td>\n",
       "      <td>35.693264</td>\n",
       "      <td>139.701309</td>\n",
       "      <td>시체 발견</td>\n",
       "    </tr>\n",
       "    <tr>\n",
       "      <th>1</th>\n",
       "      <td>新宿区</td>\n",
       "      <td>東京都新宿区西新宿一丁目3-9</td>\n",
       "      <td>飛び降り自殺</td>\n",
       "      <td>令和4年</td>\n",
       "      <td>東京都 新宿区 西新宿 一丁目 3番 9号</td>\n",
       "      <td>35.693218</td>\n",
       "      <td>139.698166</td>\n",
       "      <td>뛰어 내리는 자살</td>\n",
       "    </tr>\n",
       "    <tr>\n",
       "      <th>2</th>\n",
       "      <td>新宿区</td>\n",
       "      <td>東京都新宿区歌舞伎町一丁目27-5 中台ビル</td>\n",
       "      <td>2階サウナロイヤル 死体発見</td>\n",
       "      <td>平成20年1月5日</td>\n",
       "      <td>東京都 新宿区 歌舞伎町 一丁目 27番 5号</td>\n",
       "      <td>35.695450</td>\n",
       "      <td>139.700623</td>\n",
       "      <td>2층 사우나 로얄 시체 발견</td>\n",
       "    </tr>\n",
       "    <tr>\n",
       "      <th>3</th>\n",
       "      <td>新宿区</td>\n",
       "      <td>東京都新宿区歌舞伎町一丁目20-2アパホテル新宿歌舞伎町タワー↓</td>\n",
       "      <td>飛び降り自殺</td>\n",
       "      <td>令和3年5月11日</td>\n",
       "      <td>東京都 新宿区 歌舞伎町 一丁目 20番 2号</td>\n",
       "      <td>35.695652</td>\n",
       "      <td>139.701401</td>\n",
       "      <td>뛰어 내리는 자살</td>\n",
       "    </tr>\n",
       "    <tr>\n",
       "      <th>4</th>\n",
       "      <td>新宿区</td>\n",
       "      <td>東京都新宿区西新宿七丁目5-9プロスペクト・アクス・ザ・タワー新宿2008</td>\n",
       "      <td>首吊り自殺</td>\n",
       "      <td>平成27年9月26日</td>\n",
       "      <td>東京都 新宿区 西新宿 七丁目 5番 9号</td>\n",
       "      <td>35.696812</td>\n",
       "      <td>139.698044</td>\n",
       "      <td>목 매달아 자살</td>\n",
       "    </tr>\n",
       "    <tr>\n",
       "      <th>...</th>\n",
       "      <td>...</td>\n",
       "      <td>...</td>\n",
       "      <td>...</td>\n",
       "      <td>...</td>\n",
       "      <td>...</td>\n",
       "      <td>...</td>\n",
       "      <td>...</td>\n",
       "      <td>...</td>\n",
       "    </tr>\n",
       "    <tr>\n",
       "      <th>3639</th>\n",
       "      <td>杉並区</td>\n",
       "      <td>東京都杉並区善福寺三丁目6-13</td>\n",
       "      <td>心理的瑕疵あり</td>\n",
       "      <td>不明</td>\n",
       "      <td>東京都 杉並区 善福寺 三丁目 6番 13号</td>\n",
       "      <td>35.716324</td>\n",
       "      <td>139.592682</td>\n",
       "      <td>심리적 하자 있음</td>\n",
       "    </tr>\n",
       "    <tr>\n",
       "      <th>3640</th>\n",
       "      <td>杉並区</td>\n",
       "      <td>東京都杉並区上井草三丁目37-15プチコ－トＵ201号室</td>\n",
       "      <td>「心理的瑕疵あり」と説明あり (LIFULL HOME'S - エイブル上石神井店)</td>\n",
       "      <td>不明</td>\n",
       "      <td>東京都 杉並区 上井草 三丁目 37番 15号</td>\n",
       "      <td>35.723637</td>\n",
       "      <td>139.600052</td>\n",
       "      <td>\"심리적 하자 있음\"이라고 설명 있음 (LIFULL HOME'S - 에이블 카미이시...</td>\n",
       "    </tr>\n",
       "    <tr>\n",
       "      <th>3641</th>\n",
       "      <td>多摩市</td>\n",
       "      <td>東京都多摩市諏訪四丁目3-3都営諏訪団地4-3-3号棟105</td>\n",
       "      <td>自殺&amp;死体発見</td>\n",
       "      <td>平成24年8月7日</td>\n",
       "      <td>東京都 多摩市 諏訪 四丁目 3番</td>\n",
       "      <td>35.622181</td>\n",
       "      <td>139.458511</td>\n",
       "      <td>자살 &amp; 시체 발견</td>\n",
       "    </tr>\n",
       "    <tr>\n",
       "      <th>3642</th>\n",
       "      <td>多摩市</td>\n",
       "      <td>東京都多摩市永山四丁目3-14</td>\n",
       "      <td>多摩ニュータウン永山団地4-3-14号棟102号室\\r\\n特別募集住宅</td>\n",
       "      <td>不明</td>\n",
       "      <td>東京都 多摩市 永山 四丁目 3番</td>\n",
       "      <td>35.617443</td>\n",
       "      <td>139.450256</td>\n",
       "      <td>타마 뉴타운 영산단지 4-3-14호동 102호실\\r\\n특별 모집 주택</td>\n",
       "    </tr>\n",
       "    <tr>\n",
       "      <th>3643</th>\n",
       "      <td>多摩市</td>\n",
       "      <td>東京都多摩市永山四丁目2-22</td>\n",
       "      <td>多摩ニュータウン永山団地4-2-22号棟105号室\\r\\n特別募集住宅</td>\n",
       "      <td>不明</td>\n",
       "      <td>東京都 多摩市 永山 四丁目 2番</td>\n",
       "      <td>35.620960</td>\n",
       "      <td>139.449478</td>\n",
       "      <td>타마 뉴타운 영산단지 4-2-22호동 105호실\\r\\n특별 모집 주택</td>\n",
       "    </tr>\n",
       "  </tbody>\n",
       "</table>\n",
       "<p>3644 rows × 8 columns</p>\n",
       "</div>"
      ],
      "text/plain": [
       "     district                                address  \\\n",
       "0         新宿区                東京都新宿区新宿三丁目22-7指田ビル地下1階   \n",
       "1         新宿区                        東京都新宿区西新宿一丁目3-9   \n",
       "2         新宿区                 東京都新宿区歌舞伎町一丁目27-5 中台ビル   \n",
       "3         新宿区       東京都新宿区歌舞伎町一丁目20-2アパホテル新宿歌舞伎町タワー↓   \n",
       "4         新宿区  東京都新宿区西新宿七丁目5-9プロスペクト・アクス・ザ・タワー新宿2008   \n",
       "...       ...                                    ...   \n",
       "3639      杉並区                       東京都杉並区善福寺三丁目6-13   \n",
       "3640      杉並区           東京都杉並区上井草三丁目37-15プチコ－トＵ201号室   \n",
       "3641      多摩市         東京都多摩市諏訪四丁目3-3都営諏訪団地4-3-3号棟105   \n",
       "3642      多摩市                        東京都多摩市永山四丁目3-14   \n",
       "3643      多摩市                        東京都多摩市永山四丁目2-22   \n",
       "\n",
       "                                            info        date  \\\n",
       "0                                           死体発見  平成24年11月5日   \n",
       "1                                         飛び降り自殺        令和4年   \n",
       "2                                 2階サウナロイヤル 死体発見   平成20年1月5日   \n",
       "3                                         飛び降り自殺   令和3年5月11日   \n",
       "4                                          首吊り自殺  平成27年9月26日   \n",
       "...                                          ...         ...   \n",
       "3639                                     心理的瑕疵あり          不明   \n",
       "3640  「心理的瑕疵あり」と説明あり (LIFULL HOME'S - エイブル上石神井店)          不明   \n",
       "3641                                     自殺&死体発見   平成24年8月7日   \n",
       "3642         多摩ニュータウン永山団地4-3-14号棟102号室\\r\\n特別募集住宅          不明   \n",
       "3643         多摩ニュータウン永山団地4-2-22号棟105号室\\r\\n特別募集住宅          不明   \n",
       "\n",
       "                    full name   latitude   longitude  \\\n",
       "0       東京都 新宿区 新宿 三丁目 22番 7号  35.693264  139.701309   \n",
       "1       東京都 新宿区 西新宿 一丁目 3番 9号  35.693218  139.698166   \n",
       "2     東京都 新宿区 歌舞伎町 一丁目 27番 5号  35.695450  139.700623   \n",
       "3     東京都 新宿区 歌舞伎町 一丁目 20番 2号  35.695652  139.701401   \n",
       "4       東京都 新宿区 西新宿 七丁目 5番 9号  35.696812  139.698044   \n",
       "...                       ...        ...         ...   \n",
       "3639   東京都 杉並区 善福寺 三丁目 6番 13号  35.716324  139.592682   \n",
       "3640  東京都 杉並区 上井草 三丁目 37番 15号  35.723637  139.600052   \n",
       "3641        東京都 多摩市 諏訪 四丁目 3番  35.622181  139.458511   \n",
       "3642        東京都 多摩市 永山 四丁目 3番  35.617443  139.450256   \n",
       "3643        東京都 多摩市 永山 四丁目 2番  35.620960  139.449478   \n",
       "\n",
       "                                              translate  \n",
       "0                                                 시체 발견  \n",
       "1                                             뛰어 내리는 자살  \n",
       "2                                       2층 사우나 로얄 시체 발견  \n",
       "3                                             뛰어 내리는 자살  \n",
       "4                                              목 매달아 자살  \n",
       "...                                                 ...  \n",
       "3639                                          심리적 하자 있음  \n",
       "3640  \"심리적 하자 있음\"이라고 설명 있음 (LIFULL HOME'S - 에이블 카미이시...  \n",
       "3641                                         자살 & 시체 발견  \n",
       "3642             타마 뉴타운 영산단지 4-3-14호동 102호실\\r\\n특별 모집 주택  \n",
       "3643             타마 뉴타운 영산단지 4-2-22호동 105호실\\r\\n특별 모집 주택  \n",
       "\n",
       "[3644 rows x 8 columns]"
      ]
     },
     "execution_count": 6,
     "metadata": {},
     "output_type": "execute_result"
    }
   ],
   "source": [
    "#* 주소 중복 데이터 확인됨\n",
    "df_unique = oshima.drop_duplicates(subset=['address'])\n",
    "df_unique.reset_index(drop=True, inplace = True)\n",
    "df_unique"
   ]
  },
  {
   "cell_type": "code",
   "execution_count": 7,
   "metadata": {},
   "outputs": [],
   "source": [
    "# categoryList = oshima['info'].value_counts().head(10).index.tolist()\n",
    "# categoryList"
   ]
  },
  {
   "cell_type": "code",
   "execution_count": 8,
   "metadata": {},
   "outputs": [],
   "source": [
    "#* 상위 10개에 해당하는 데이터와 아닌 데이터로 구분\n",
    "# oshimaTop10 = oshima[oshima['info'].isin(categoryList)].reset_index(drop=True)\n",
    "# oshimaNotTop10 = oshima[~oshima['info'].isin(categoryList)].reset_index(drop=True)\n",
    "# print(oshimaTop10.shape, oshimaNotTop10.shape)"
   ]
  },
  {
   "cell_type": "code",
   "execution_count": 9,
   "metadata": {},
   "outputs": [],
   "source": [
    "# oshimaTop10.loc[:, 'crimeType'] = np.nan\n",
    "# oshimaNotTop10.loc[:, 'crimeType'] = np.nan"
   ]
  },
  {
   "cell_type": "code",
   "execution_count": 10,
   "metadata": {},
   "outputs": [],
   "source": [
    "main_keyword_mapping = {\n",
    "    \n",
    "    '火災': '화재',\n",
    "    'アパート火事' : '화재',\n",
    "    '火事' : \"화재\",\n",
    "    '火事が発生しました' : '화재',\n",
    "    '放火' : '화재',\n",
    "    '爆死' : '화재',\n",
    "    '焼死' : '화재',\n",
    "    '死体': '시체',\n",
    "    '遺体' : '시체',\n",
    "    'ミイラ' : '시체',\n",
    "    '入居者死亡を発見' : '시체',\n",
    "    '死亡しているのを発見' : '시체',\n",
    "    '腐敗臭' : '시체',\n",
    "    '屍体発見されました' : '시체',\n",
    "    '全身硬直腐乱' : '시체',\n",
    "    '司法解剖事案' : '시체',\n",
    "    '腐乱' : '시체',\n",
    "    '白骨化' : '시체',\n",
    "    '人骨発見' : '시체',\n",
    "    '自殺': '자살',\n",
    "    '首吊り' : '자살',\n",
    "    '飛び降り' : '자살',\n",
    "    '無理心中' : '자살',\n",
    "    '心中' : '자살',\n",
    "    '縊死' : '자살',\n",
    "    '患者死亡' : '자살',\n",
    "    'から投身' : '자살',\n",
    "    '首つり' : '자살',\n",
    "    '浴室で縊首' : '자살',\n",
    "    'お風呂場で自' : '자살',\n",
    "    '首を絞めて死亡' : '자살',\n",
    "    '首を吊って死んだ' : '자살',\n",
    "    '社会的死亡状態' : '고독사',\n",
    "    '社会死状態で発見され' : '고독사',\n",
    "    '社会死状態で発見' : '고독사',\n",
    "    '高齢者が衰弱死' : '고독사',\n",
    "    '孤高死': '고독사',\n",
    "    '孤独死' : '고독사',\n",
    "    'て独' : '고독사',\n",
    "    '餓死' : '고독사',\n",
    "    '独居' : '고독사',\n",
    "    '孤独市' : '고독사',\n",
    "    '一人で亡くなった' : '고독사',\n",
    "    '部屋で亡くなった' : '고독사',\n",
    "    '衰弱死' : '고독사',\n",
    "    '精神的瑕疵' : '부동산하자',\n",
    "    '心理的瑕' : '부동산하자',\n",
    "    '心理的瑕疵あり' : '부동산하자',\n",
    "    '心理的瑕疵' : '부동산하자',\n",
    "    '心理的瑕疵物件' : '부동산하자',\n",
    "    '心理的瑕疵' : '부동산하자',\n",
    "    '告知事項' : '부동산고지',\n",
    "    '不動産業者より告知物件との報告有' : '부동산고지',\n",
    "    '告知事项あり' : '부동산고지',\n",
    "    '告示事項有' : '부동산고지',\n",
    "    '告示事項あり' : '부동산고지',\n",
    "    '告知義務情報あり' : '부동산고지',\n",
    "    '告知有' : '부동산고지',\n",
    "    '瑕疵物件' : '부동산고지',\n",
    "    '事故物件' : '주택내사고',\n",
    "    '住民が死亡' : '주택내사고',\n",
    "    '事故住宅' : '주택내사고',\n",
    "    '事故物件' : '주택내사고',\n",
    "    '患者死亡' : '주택내사고',\n",
    "    '室内お亡くなり' : '주택내사고',\n",
    "    '転落死': '추락사',\n",
    "    'から転落' : '추락사',\n",
    "    '転落' : '추락사',\n",
    "    '飛降り' : '추락사',\n",
    "    '墜落死' : '추락사',\n",
    "    '薬物により落下事故' : '추락사',\n",
    "    '刺殺': '타살',\n",
    "    '絞殺' : '타살',\n",
    "    '射殺' : '타살',\n",
    "    '車両事故死' : '타살',\n",
    "    '傷害致死' : '타살',\n",
    "    '撲殺' : '타살',\n",
    "    '殺人' : '타살',\n",
    "    '殴殺' : '타살',\n",
    "    '虐待' : '타살',\n",
    "    '遺棄' : '타살',\n",
    "    '殺害' : '타살',\n",
    "    '殺傷事件' : '타살',\n",
    "    '斬殺' : '타살',\n",
    "    '窒息させて殺害' : '타살',\n",
    "    '生き埋めとなり死亡' : '타살',\n",
    "    '殴って首を絞めて殺した' : '타살',\n",
    "    '児投げ落とし事件' : '타살',\n",
    "    'stabbed' : '타살',\n",
    "    '幼児殺害' : '타살',\n",
    "    '暴行死' : '타살',\n",
    "    '息死' : '타살',\n",
    "    '病死' : '질병사',\n",
    "    '脳内出血' : '질병사',\n",
    "    '過労死' : '질병사',\n",
    "    '自然死' : '질병사',\n",
    "    '熱中症による死亡' : '질병사',\n",
    "    '業務上過失致死' : '질병사',\n",
    "    '患者死亡' : '질병사',\n",
    "    '倒れていて死亡' : '질병사',\n",
    "    'コロナ死' : '질병사',\n",
    "    '心筋梗塞' : '질병사',\n",
    "    '凍死' : '질병사',\n",
    "    '酸欠死' : '질병사',\n",
    "    '心臓発作による死' : '질병사',\n",
    "    '事故死' : '사고사',\n",
    "    '傷害のち死亡' : '사고사',\n",
    "    'エレベータと壁に挟まれ死亡' : '사고사',\n",
    "    '中毒' : '사고사',\n",
    "    '死亡事故' : '사고사',\n",
    "    'トラックの下敷きになり死亡' : '사고사',\n",
    "    '通行人をひき死亡する' : '사고사',\n",
    "    '圧死' : '사고사',\n",
    "    '溺死' : '사고사',\n",
    "    '水没' : '사고사',\n",
    "    '水死' : '사고사',\n",
    "    '溺殺' : '사고사',\n",
    "    '感電死' : '사고사',\n",
    "    '単身事故' : '사고사',\n",
    "    '変死' : '의문사',\n",
    "    '不審死' : '의문사',\n",
    "    '突然死' : '의문사',  \n",
    "    '原因不明の事故' : '의문사',\n",
    "    '突然死' : '의문사',\n",
    "    '未解決事件' : '의문사',\n",
    "    '不自然死' : '의문사',\n",
    "    '不明' : '의문사',\n",
    "    '半死状態' : '의문사',\n",
    "    '死亡' : '의문사',\n",
    "    '亡くなっている' : '의문사',\n",
    "    '不詳の死' : '의문사',\n",
    "    '失踪' : '의문사',\n",
    "\n",
    "  \n",
    "    }\n",
    "#! 부동산 고지 내용 중 사고가 아닌 것도 있음, 추후 빼야함\n",
    "#! 特別募集住宅 (특별모집주택)의 경우 사건과 무관한 용어"
   ]
  },
  {
   "cell_type": "code",
   "execution_count": 11,
   "metadata": {},
   "outputs": [],
   "source": [
    "sub_keyword_mapping = {\n",
    "    '15:00頃 90代男性が浴室で倒れる、家人が発見？。\\r\\n救急搬送はしたようだ。' : '질병사',\n",
    "    '新築住宅資材を積んだトラックが誘導員をひき殺した' : '사고사',\n",
    "    '検査トラックに頭引かれ即死' : '사고사',\n",
    "    'ンチン景品交換所店員が強殺。' : '타살',\n",
    "    '東大医局員が点滴をしたまま亡くなってるのが発見される' : '자살',\n",
    "    '18歳の子がマンションが飛び込みしぼうしました!' : '자살',\n",
    "    '午前1時55分頃、東京都立川市羽衣町' : '사고사',\n",
    "    '3階住民が死後５時間後に発見\\r\\n二階住民より' : '시체',\n",
    "    '室内死 3階角部屋' : '주택내사고',\n",
    "    '一階の部屋で事故' : '주택내사고',\n",
    "    'サンコート205号室で事故' : '주택내사고',\n",
    "    'メゾン江古田2階、告知事項有り。\\r\\n不動産から前の住人が亡くなっていると告知。死因' : '주택내사고',\n",
    "    '13階 死後3ヶ月後異臭で発見される' : '시체',\n",
    "    'ラウンドワン三宮店の女子トイレで産まれたばかりの胎児が放棄されてた事件がありました。' : '타살',\n",
    "    '御爺さん老衰し、その後御婆さん転居し転売される' : '질병사',\n",
    "     '１階女性 社会死状態にて発見' : '고독사',\n",
    "     \"納品のトラックに下敷きになったアルバイトの脳が飛び散っていたらしい\\r\\n心霊現象があるらしい\" : '초자연현상',\n",
    "     '402号室にて頭痛や耳鳴り、物が勝手に動く、ありえない落ち方をするなど心霊現象あり' : '초자연현상',\n",
    "     '隣室で謎の死。当時私が住んでいた307号室に謎の黒い影が頻繁に出て来るようになりました。' : '초자연현상',\n",
    "     '女性が亡くなられていた' : '의문사',\n",
    "     '2Fトイレで男性が亡くなる' : '의문사',\n",
    "     '205号室/5月2日に人が頭から倒れた様な大きな物音がし' : '고독사',\n",
    "     'ハイツブルースカイ103\\r\\n知人が安否確認て訪問、70代男性寝室で発見、死因は他殺の可能性ベランダの窓は開いていて、部屋は荒らされていた。' : '타살',\n",
    "     '最近住人が亡くなった' : '주택내사고',\n",
    "     '【青酸カリによる死者が出たそうです】' : '타살',\n",
    "     '学校不審者侵入事件\\r\\n死者3名' : '의문사',\n",
    "     '201号室。病死で室内で発見。告示事項あり。' : '질병사',\n",
    "     '取引関係のある自動車用品製造、卸売、小売会社の社長３人が首をつって死んでいるのが見つかった。' : '자살',\n",
    "     '201 告知事項有り 本部屋入居者が2人連続して亡くなられているとのこと。' : '의문사'\n",
    "}\n"
   ]
  },
  {
   "cell_type": "code",
   "execution_count": 12,
   "metadata": {},
   "outputs": [],
   "source": [
    "import warnings\n",
    "warnings.filterwarnings(\"ignore\")\n",
    "\n",
    "def taggingF(df, keywordMappingDict):\n",
    "    df.loc[:, 'crimeType'] = np.nan\n",
    "\n",
    "    for idx in range(df.shape[0]):\n",
    "        for key, value in keywordMappingDict.items():\n",
    "            try:\n",
    "                if key in str(df.loc[idx, 'info']):\n",
    "                    df.loc[idx, 'crimeType'] = value\n",
    "                    break\n",
    "            except KeyError:\n",
    "                continue\n",
    "    return df"
   ]
  },
  {
   "cell_type": "code",
   "execution_count": 13,
   "metadata": {},
   "outputs": [
    {
     "data": {
      "text/plain": [
       "99"
      ]
     },
     "execution_count": 13,
     "metadata": {},
     "output_type": "execute_result"
    }
   ],
   "source": [
    "df_unique2 = taggingF(df_unique, main_keyword_mapping)\n",
    "df_unique2['crimeType'].isnull().sum()"
   ]
  },
  {
   "cell_type": "code",
   "execution_count": 14,
   "metadata": {},
   "outputs": [],
   "source": [
    "def subtaggingF(df, keywordMappingDict):\n",
    "    for idx in range(df.shape[0]):\n",
    "        for key, value in keywordMappingDict.items():\n",
    "            try:\n",
    "                if key in str(df.loc[idx, 'info']):\n",
    "                    df.loc[idx, 'crimeType'] = value\n",
    "                    break\n",
    "            except KeyError:\n",
    "                continue\n",
    "    return df"
   ]
  },
  {
   "cell_type": "code",
   "execution_count": 15,
   "metadata": {},
   "outputs": [],
   "source": [
    "df_unique3 = subtaggingF(df_unique2, sub_keyword_mapping)"
   ]
  },
  {
   "cell_type": "code",
   "execution_count": 16,
   "metadata": {},
   "outputs": [],
   "source": [
    "# 'info' 열이 'https'로 시작하는 행 삭제\n",
    "#df_unique3 = df_unique3[~df_unique3['info'].str.startswith('https')]"
   ]
  },
  {
   "cell_type": "code",
   "execution_count": 17,
   "metadata": {},
   "outputs": [],
   "source": [
    "#* info 칼럼이 영어로 시작하는 행 삭제\n",
    "df_unique3 = df_unique3[~df_unique3['info'].str.match('^[a-zA-Z]')]"
   ]
  },
  {
   "cell_type": "code",
   "execution_count": 18,
   "metadata": {},
   "outputs": [
    {
     "data": {
      "text/plain": [
       "65"
      ]
     },
     "execution_count": 18,
     "metadata": {},
     "output_type": "execute_result"
    }
   ],
   "source": [
    "df_unique3['crimeType'].isnull().sum()"
   ]
  },
  {
   "cell_type": "code",
   "execution_count": 19,
   "metadata": {},
   "outputs": [],
   "source": [
    "# df_crime_na = df_unique3.loc[df_unique['crimeType'].isna(), ['info', 'translate', 'crimeType']]\n",
    "# df_crime_na['info'].value_counts().head(50)\n",
    "#? 사건과 무관한 사례"
   ]
  },
  {
   "cell_type": "code",
   "execution_count": 20,
   "metadata": {},
   "outputs": [
    {
     "data": {
      "text/plain": [
       "(3610, 9)"
      ]
     },
     "execution_count": 20,
     "metadata": {},
     "output_type": "execute_result"
    }
   ],
   "source": [
    "df_unique3.shape"
   ]
  },
  {
   "cell_type": "code",
   "execution_count": 21,
   "metadata": {},
   "outputs": [
    {
     "data": {
      "text/plain": [
       "(3582, 9)"
      ]
     },
     "execution_count": 21,
     "metadata": {},
     "output_type": "execute_result"
    }
   ],
   "source": [
    "#* 특별 모집 주택은 사건이 아니므로 삭제\n",
    "drop_index = df_unique3[df_unique3['info'].str.contains('特別募集')].index \n",
    "df_unique3.drop(drop_index, inplace=True)\n",
    "df_unique3.shape"
   ]
  },
  {
   "cell_type": "code",
   "execution_count": 22,
   "metadata": {},
   "outputs": [
    {
     "data": {
      "text/plain": [
       "(3545, 9)"
      ]
     },
     "execution_count": 22,
     "metadata": {},
     "output_type": "execute_result"
    }
   ],
   "source": [
    "#* 기타 info 중 사건이 아닌 행 삭제\n",
    "drop_index2 = df_unique3[df_unique3['crimeType'].isna()].index\n",
    "df_unique3.drop(drop_index2, inplace=True)\n",
    "df_unique3.shape"
   ]
  },
  {
   "cell_type": "code",
   "execution_count": 23,
   "metadata": {},
   "outputs": [
    {
     "data": {
      "text/plain": [
       "(2918, 9)"
      ]
     },
     "execution_count": 23,
     "metadata": {},
     "output_type": "execute_result"
    }
   ],
   "source": [
    "#* 부동산고지는 사건이 아니므로 삭제\n",
    "drop_index3 = df_unique3[df_unique3['crimeType'] == '부동산고지'].index\n",
    "df_unique3.drop(drop_index3, inplace=True)\n",
    "df_unique3.shape"
   ]
  },
  {
   "cell_type": "code",
   "execution_count": 24,
   "metadata": {},
   "outputs": [
    {
     "data": {
      "text/plain": [
       "(2918, 9)"
      ]
     },
     "execution_count": 24,
     "metadata": {},
     "output_type": "execute_result"
    }
   ],
   "source": [
    "df_unique3.reset_index(drop=True, inplace=True)\n",
    "df_unique3.shape"
   ]
  },
  {
   "cell_type": "code",
   "execution_count": 25,
   "metadata": {},
   "outputs": [
    {
     "data": {
      "text/plain": [
       "자살       916\n",
       "시체       478\n",
       "고독사      326\n",
       "화재       306\n",
       "부동산하자    282\n",
       "타살       198\n",
       "의문사      137\n",
       "질병사      112\n",
       "추락사      104\n",
       "사고사       39\n",
       "주택내사고     17\n",
       "초자연현상      3\n",
       "Name: crimeType, dtype: int64"
      ]
     },
     "execution_count": 25,
     "metadata": {},
     "output_type": "execute_result"
    }
   ],
   "source": [
    "df_unique3['crimeType'].value_counts()"
   ]
  },
  {
   "cell_type": "code",
   "execution_count": 26,
   "metadata": {},
   "outputs": [],
   "source": [
    "# pd.options.display.max_rows = 1000\n",
    "# pd.options.display.max_colwidth = 1000\n",
    "# df_unique3[df_unique3['crimeType'] == '사고사']"
   ]
  },
  {
   "cell_type": "code",
   "execution_count": 27,
   "metadata": {},
   "outputs": [
    {
     "name": "stdout",
     "output_type": "stream",
     "text": [
      "<class 'pandas.core.frame.DataFrame'>\n",
      "RangeIndex: 2918 entries, 0 to 2917\n",
      "Data columns (total 9 columns):\n",
      " #   Column     Non-Null Count  Dtype  \n",
      "---  ------     --------------  -----  \n",
      " 0   district   2918 non-null   object \n",
      " 1   address    2918 non-null   object \n",
      " 2   info       2918 non-null   object \n",
      " 3   date       2918 non-null   object \n",
      " 4   full name  2918 non-null   object \n",
      " 5   latitude   2918 non-null   float64\n",
      " 6   longitude  2918 non-null   float64\n",
      " 7   translate  2918 non-null   object \n",
      " 8   crimeType  2918 non-null   object \n",
      "dtypes: float64(2), object(7)\n",
      "memory usage: 205.3+ KB\n"
     ]
    }
   ],
   "source": [
    "df_unique3.info()"
   ]
  },
  {
   "cell_type": "code",
   "execution_count": 28,
   "metadata": {},
   "outputs": [],
   "source": [
    "df_unique3.to_csv('oshima_tagging_category.csv', index=False)"
   ]
  }
 ],
 "metadata": {
  "kernelspec": {
   "display_name": "genie",
   "language": "python",
   "name": "python3"
  },
  "language_info": {
   "codemirror_mode": {
    "name": "ipython",
    "version": 3
   },
   "file_extension": ".py",
   "mimetype": "text/x-python",
   "name": "python",
   "nbconvert_exporter": "python",
   "pygments_lexer": "ipython3",
   "version": "3.8.16"
  },
  "orig_nbformat": 4
 },
 "nbformat": 4,
 "nbformat_minor": 2
}
