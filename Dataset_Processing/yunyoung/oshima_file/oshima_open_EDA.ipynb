{
 "cells": [
  {
   "cell_type": "markdown",
   "metadata": {},
   "source": [
    "### 오시마 데이터와 Open Data EDA"
   ]
  },
  {
   "cell_type": "markdown",
   "metadata": {},
   "source": [
    "### oshima 데이터 전처리"
   ]
  },
  {
   "cell_type": "code",
   "execution_count": 1,
   "metadata": {},
   "outputs": [],
   "source": [
    "import pandas as pd"
   ]
  },
  {
   "cell_type": "code",
   "execution_count": 2,
   "metadata": {},
   "outputs": [
    {
     "data": {
      "text/html": [
       "<div>\n",
       "<style scoped>\n",
       "    .dataframe tbody tr th:only-of-type {\n",
       "        vertical-align: middle;\n",
       "    }\n",
       "\n",
       "    .dataframe tbody tr th {\n",
       "        vertical-align: top;\n",
       "    }\n",
       "\n",
       "    .dataframe thead th {\n",
       "        text-align: right;\n",
       "    }\n",
       "</style>\n",
       "<table border=\"1\" class=\"dataframe\">\n",
       "  <thead>\n",
       "    <tr style=\"text-align: right;\">\n",
       "      <th></th>\n",
       "      <th>district</th>\n",
       "      <th>address</th>\n",
       "      <th>info</th>\n",
       "      <th>date</th>\n",
       "    </tr>\n",
       "  </thead>\n",
       "  <tbody>\n",
       "    <tr>\n",
       "      <th>0</th>\n",
       "      <td>新宿区</td>\n",
       "      <td>東京都新宿区新宿三丁目22-7指田ビル地下1階</td>\n",
       "      <td>死体発見</td>\n",
       "      <td>平成24年11月5日</td>\n",
       "    </tr>\n",
       "    <tr>\n",
       "      <th>1</th>\n",
       "      <td>新宿区</td>\n",
       "      <td>東京都新宿区西新宿一丁目3-9</td>\n",
       "      <td>飛び降り自殺</td>\n",
       "      <td>令和4年</td>\n",
       "    </tr>\n",
       "    <tr>\n",
       "      <th>2</th>\n",
       "      <td>新宿区</td>\n",
       "      <td>東京都新宿区歌舞伎町一丁目27-5 中台ビル</td>\n",
       "      <td>2階サウナロイヤル 死体発見</td>\n",
       "      <td>平成20年1月5日</td>\n",
       "    </tr>\n",
       "    <tr>\n",
       "      <th>3</th>\n",
       "      <td>新宿区</td>\n",
       "      <td>東京都新宿区歌舞伎町一丁目20-2アパホテル新宿歌舞伎町タワー↓</td>\n",
       "      <td>飛び降り自殺</td>\n",
       "      <td>令和3年5月11日</td>\n",
       "    </tr>\n",
       "    <tr>\n",
       "      <th>4</th>\n",
       "      <td>新宿区</td>\n",
       "      <td>東京都新宿区西新宿七丁目5-9プロスペクト・アクス・ザ・タワー新宿2008</td>\n",
       "      <td>首吊り自殺</td>\n",
       "      <td>平成27年9月26日</td>\n",
       "    </tr>\n",
       "  </tbody>\n",
       "</table>\n",
       "</div>"
      ],
      "text/plain": [
       "  district                                address            info        date\n",
       "0      新宿区                東京都新宿区新宿三丁目22-7指田ビル地下1階            死体発見  平成24年11月5日\n",
       "1      新宿区                        東京都新宿区西新宿一丁目3-9          飛び降り自殺        令和4年\n",
       "2      新宿区                 東京都新宿区歌舞伎町一丁目27-5 中台ビル  2階サウナロイヤル 死体発見   平成20年1月5日\n",
       "3      新宿区       東京都新宿区歌舞伎町一丁目20-2アパホテル新宿歌舞伎町タワー↓          飛び降り自殺   令和3年5月11日\n",
       "4      新宿区  東京都新宿区西新宿七丁目5-9プロスペクト・アクス・ザ・タワー新宿2008           首吊り自殺  平成27年9月26日"
      ]
     },
     "execution_count": 2,
     "metadata": {},
     "output_type": "execute_result"
    }
   ],
   "source": [
    "oshima_data = pd.read_csv('final_data.csv', index_col=0)\n",
    "oshima_data.head()"
   ]
  },
  {
   "cell_type": "code",
   "execution_count": 3,
   "metadata": {},
   "outputs": [
    {
     "data": {
      "text/plain": [
       "array(['新宿区', '台東区', '墨田区', '豊島区', '渋谷区', '港区', '世田谷区', '大田区', '中野区',\n",
       "       '中央区', '北区', '葛飾区', '杉並区', '江東区', '江戸川区', '文京区', '荒川区', '板橋区',\n",
       "       '品川区', '千代田区', '足立区', '目黒区', '練馬区', '府中市', '八王子市', '国分寺市', '町田市',\n",
       "       '青梅市', '調布市', '武蔵野市', '三鷹市', '小金井市', '東村山市', '多摩市', '国立市', '狛江市',\n",
       "       '西東京市', '小平市', '羽村市', '武蔵村山市', '昭島市', '福生市', '外国外国板橋二丁目639', '日野市',\n",
       "       '神奈川県相模原市南区鵜野森二丁目276鵜野森団地F棟402', '神奈川県相模原市南区鵜野森三丁目32−２７', '立川市',\n",
       "       '東京都清瀬市中清戸二丁目71855', '東京都清瀬市中里三丁目7910 東和コーポ',\n",
       "       '東京都清瀬市中清戸四丁目9092 グランディール 1階', '東京都清瀬市中清戸四丁目1031',\n",
       "       '東京都清瀬市中清戸四丁目847都営中清戸四丁目アパート8号棟3階', 'Katsushika Ku',\n",
       "       'Shinagawa Ku', 'Koto Ku', 'Chiyoda Ku', 'Minato Ku', 'Komae Shi',\n",
       "       'Chuo Ku', 'Akishima Shi', 'Arakawa Ku', 'Machida Shi',\n",
       "       'Nishitokyo Shi', 'Meguro Ku', 'Fuchu Shi', 'Kita Ku',\n",
       "       'Tachikawa Shi', 'Hachioji Shi', 'Mitaka Shi', 'Musashino Shi',\n",
       "       'Musashimurayama Shi', 'Ome Shi', 'Akiruno Shi', 'Hamura Shi',\n",
       "       'Fussa Shi', 'Bunkyo Ku', 'Shinjuku Ku', 'Adachi Ku', 'Sumida Ku',\n",
       "       'Nerima Ku', 'Taito Ku', 'Kodaira Shi', 'Koganei Shi',\n",
       "       'Higashimurayama Shi', 'Hino Shi', 'Kunitachi Shi',\n",
       "       'Kokubunji Shi', 'Itabashi Ku', 'Setagaya Ku', 'Ota Ku',\n",
       "       'Nakano Ku', 'Shibuya Ku', 'Toshima Ku', 'Chofu Shi',\n",
       "       'Suginami Ku', 'Tama Shi'], dtype=object)"
      ]
     },
     "execution_count": 3,
     "metadata": {},
     "output_type": "execute_result"
    }
   ],
   "source": [
    "oshima_data.district.unique()"
   ]
  },
  {
   "cell_type": "code",
   "execution_count": 4,
   "metadata": {},
   "outputs": [
    {
     "name": "stdout",
     "output_type": "stream",
     "text": [
      "<class 'pandas.core.frame.DataFrame'>\n",
      "Int64Index: 4849 entries, 0 to 4848\n",
      "Data columns (total 4 columns):\n",
      " #   Column    Non-Null Count  Dtype \n",
      "---  ------    --------------  ----- \n",
      " 0   district  4849 non-null   object\n",
      " 1   address   4849 non-null   object\n",
      " 2   info      4849 non-null   object\n",
      " 3   date      4849 non-null   object\n",
      "dtypes: object(4)\n",
      "memory usage: 189.4+ KB\n"
     ]
    }
   ],
   "source": [
    "oshima_data.info()"
   ]
  },
  {
   "cell_type": "markdown",
   "metadata": {},
   "source": [
    "#### district 컬럼 확인\n",
    "district 는 address 컬럼에서 추출하면 되므로 우선 drop"
   ]
  },
  {
   "cell_type": "code",
   "execution_count": 5,
   "metadata": {},
   "outputs": [
    {
     "data": {
      "text/plain": [
       "array(['新宿区', '台東区', '墨田区', '豊島区', '渋谷区', '港区', '世田谷区', '大田区', '中野区',\n",
       "       '中央区', '北区', '葛飾区', '杉並区', '江東区', '江戸川区', '文京区', '荒川区', '板橋区',\n",
       "       '品川区', '千代田区', '足立区', '目黒区', '練馬区', '府中市', '八王子市', '国分寺市', '町田市',\n",
       "       '青梅市', '調布市', '武蔵野市', '三鷹市', '小金井市', '東村山市', '多摩市', '国立市', '狛江市',\n",
       "       '西東京市', '小平市', '羽村市', '武蔵村山市', '昭島市', '福生市', '外国外国板橋二丁目639', '日野市',\n",
       "       '神奈川県相模原市南区鵜野森二丁目276鵜野森団地F棟402', '神奈川県相模原市南区鵜野森三丁目32−２７', '立川市',\n",
       "       '東京都清瀬市中清戸二丁目71855', '東京都清瀬市中里三丁目7910 東和コーポ',\n",
       "       '東京都清瀬市中清戸四丁目9092 グランディール 1階', '東京都清瀬市中清戸四丁目1031',\n",
       "       '東京都清瀬市中清戸四丁目847都営中清戸四丁目アパート8号棟3階', 'Katsushika Ku',\n",
       "       'Shinagawa Ku', 'Koto Ku', 'Chiyoda Ku', 'Minato Ku', 'Komae Shi',\n",
       "       'Chuo Ku', 'Akishima Shi', 'Arakawa Ku', 'Machida Shi',\n",
       "       'Nishitokyo Shi', 'Meguro Ku', 'Fuchu Shi', 'Kita Ku',\n",
       "       'Tachikawa Shi', 'Hachioji Shi', 'Mitaka Shi', 'Musashino Shi',\n",
       "       'Musashimurayama Shi', 'Ome Shi', 'Akiruno Shi', 'Hamura Shi',\n",
       "       'Fussa Shi', 'Bunkyo Ku', 'Shinjuku Ku', 'Adachi Ku', 'Sumida Ku',\n",
       "       'Nerima Ku', 'Taito Ku', 'Kodaira Shi', 'Koganei Shi',\n",
       "       'Higashimurayama Shi', 'Hino Shi', 'Kunitachi Shi',\n",
       "       'Kokubunji Shi', 'Itabashi Ku', 'Setagaya Ku', 'Ota Ku',\n",
       "       'Nakano Ku', 'Shibuya Ku', 'Toshima Ku', 'Chofu Shi',\n",
       "       'Suginami Ku', 'Tama Shi'], dtype=object)"
      ]
     },
     "execution_count": 5,
     "metadata": {},
     "output_type": "execute_result"
    }
   ],
   "source": [
    "oshima_data.district.unique()"
   ]
  },
  {
   "cell_type": "code",
   "execution_count": 6,
   "metadata": {},
   "outputs": [
    {
     "data": {
      "text/html": [
       "<div>\n",
       "<style scoped>\n",
       "    .dataframe tbody tr th:only-of-type {\n",
       "        vertical-align: middle;\n",
       "    }\n",
       "\n",
       "    .dataframe tbody tr th {\n",
       "        vertical-align: top;\n",
       "    }\n",
       "\n",
       "    .dataframe thead th {\n",
       "        text-align: right;\n",
       "    }\n",
       "</style>\n",
       "<table border=\"1\" class=\"dataframe\">\n",
       "  <thead>\n",
       "    <tr style=\"text-align: right;\">\n",
       "      <th></th>\n",
       "      <th>district</th>\n",
       "      <th>address</th>\n",
       "      <th>info</th>\n",
       "      <th>date</th>\n",
       "    </tr>\n",
       "  </thead>\n",
       "  <tbody>\n",
       "    <tr>\n",
       "      <th>576</th>\n",
       "      <td>外国外国板橋二丁目639</td>\n",
       "      <td>外国外国板橋二丁目639</td>\n",
       "      <td>1008心理的瑕疵あり</td>\n",
       "      <td>20163</td>\n",
       "    </tr>\n",
       "    <tr>\n",
       "      <th>654</th>\n",
       "      <td>神奈川県相模原市南区鵜野森二丁目276鵜野森団地F棟402</td>\n",
       "      <td>神奈川県相模原市南区鵜野森二丁目276鵜野森団地F棟402</td>\n",
       "      <td>心中</td>\n",
       "      <td>平成28年2月18日</td>\n",
       "    </tr>\n",
       "    <tr>\n",
       "      <th>738</th>\n",
       "      <td>東京都清瀬市中清戸二丁目71855</td>\n",
       "      <td>東京都清瀬市中清戸二丁目71855</td>\n",
       "      <td>今建っている家の前の平屋で男性が孤独死。後にミイラ化。</td>\n",
       "      <td>2001年頃</td>\n",
       "    </tr>\n",
       "    <tr>\n",
       "      <th>739</th>\n",
       "      <td>東京都清瀬市中里三丁目7910 東和コーポ</td>\n",
       "      <td>東京都清瀬市中里三丁目7910 東和コーポ</td>\n",
       "      <td>101号室 角部屋\\r\\n告知事項有り</td>\n",
       "      <td>令和4年6月2日</td>\n",
       "    </tr>\n",
       "    <tr>\n",
       "      <th>740</th>\n",
       "      <td>東京都清瀬市中清戸四丁目9092 グランディール 1階</td>\n",
       "      <td>東京都清瀬市中清戸四丁目9092 グランディール 1階</td>\n",
       "      <td>告知事項ありの記載</td>\n",
       "      <td>不明</td>\n",
       "    </tr>\n",
       "    <tr>\n",
       "      <th>741</th>\n",
       "      <td>東京都清瀬市中清戸四丁目1031</td>\n",
       "      <td>東京都清瀬市中清戸四丁目1031</td>\n",
       "      <td>死体発見</td>\n",
       "      <td>平成28年8月11日</td>\n",
       "    </tr>\n",
       "    <tr>\n",
       "      <th>742</th>\n",
       "      <td>東京都清瀬市中清戸四丁目847都営中清戸四丁目アパート8号棟3階</td>\n",
       "      <td>東京都清瀬市中清戸四丁目847都営中清戸四丁目アパート8号棟3階</td>\n",
       "      <td>火災による死亡</td>\n",
       "      <td>平成30年10月25日</td>\n",
       "    </tr>\n",
       "    <tr>\n",
       "      <th>2862</th>\n",
       "      <td>外国外国板橋二丁目639</td>\n",
       "      <td>外国外国板橋二丁目639</td>\n",
       "      <td>1008心理的瑕疵あり</td>\n",
       "      <td>20163</td>\n",
       "    </tr>\n",
       "    <tr>\n",
       "      <th>2940</th>\n",
       "      <td>神奈川県相模原市南区鵜野森二丁目276鵜野森団地F棟402</td>\n",
       "      <td>神奈川県相模原市南区鵜野森二丁目276鵜野森団地F棟402</td>\n",
       "      <td>心中</td>\n",
       "      <td>平成28年2月18日</td>\n",
       "    </tr>\n",
       "    <tr>\n",
       "      <th>3024</th>\n",
       "      <td>東京都清瀬市中清戸二丁目71855</td>\n",
       "      <td>東京都清瀬市中清戸二丁目71855</td>\n",
       "      <td>今建っている家の前の平屋で男性が孤独死。後にミイラ化。</td>\n",
       "      <td>2001年頃</td>\n",
       "    </tr>\n",
       "    <tr>\n",
       "      <th>3025</th>\n",
       "      <td>東京都清瀬市中里三丁目7910 東和コーポ</td>\n",
       "      <td>東京都清瀬市中里三丁目7910 東和コーポ</td>\n",
       "      <td>101号室 角部屋\\r\\n告知事項有り</td>\n",
       "      <td>令和4年6月2日</td>\n",
       "    </tr>\n",
       "    <tr>\n",
       "      <th>3026</th>\n",
       "      <td>東京都清瀬市中清戸四丁目9092 グランディール 1階</td>\n",
       "      <td>東京都清瀬市中清戸四丁目9092 グランディール 1階</td>\n",
       "      <td>告知事項ありの記載</td>\n",
       "      <td>不明</td>\n",
       "    </tr>\n",
       "    <tr>\n",
       "      <th>3027</th>\n",
       "      <td>東京都清瀬市中清戸四丁目1031</td>\n",
       "      <td>東京都清瀬市中清戸四丁目1031</td>\n",
       "      <td>死体発見</td>\n",
       "      <td>平成28年8月11日</td>\n",
       "    </tr>\n",
       "    <tr>\n",
       "      <th>3028</th>\n",
       "      <td>東京都清瀬市中清戸四丁目847都営中清戸四丁目アパート8号棟3階</td>\n",
       "      <td>東京都清瀬市中清戸四丁目847都営中清戸四丁目アパート8号棟3階</td>\n",
       "      <td>火災による死亡</td>\n",
       "      <td>平成30年10月25日</td>\n",
       "    </tr>\n",
       "  </tbody>\n",
       "</table>\n",
       "</div>"
      ],
      "text/plain": [
       "                              district                           address  \\\n",
       "576                       外国外国板橋二丁目639                      外国外国板橋二丁目639   \n",
       "654      神奈川県相模原市南区鵜野森二丁目276鵜野森団地F棟402     神奈川県相模原市南区鵜野森二丁目276鵜野森団地F棟402   \n",
       "738                  東京都清瀬市中清戸二丁目71855                 東京都清瀬市中清戸二丁目71855   \n",
       "739              東京都清瀬市中里三丁目7910 東和コーポ             東京都清瀬市中里三丁目7910 東和コーポ   \n",
       "740        東京都清瀬市中清戸四丁目9092 グランディール 1階       東京都清瀬市中清戸四丁目9092 グランディール 1階   \n",
       "741                   東京都清瀬市中清戸四丁目1031                  東京都清瀬市中清戸四丁目1031   \n",
       "742   東京都清瀬市中清戸四丁目847都営中清戸四丁目アパート8号棟3階  東京都清瀬市中清戸四丁目847都営中清戸四丁目アパート8号棟3階   \n",
       "2862                      外国外国板橋二丁目639                      外国外国板橋二丁目639   \n",
       "2940     神奈川県相模原市南区鵜野森二丁目276鵜野森団地F棟402     神奈川県相模原市南区鵜野森二丁目276鵜野森団地F棟402   \n",
       "3024                 東京都清瀬市中清戸二丁目71855                 東京都清瀬市中清戸二丁目71855   \n",
       "3025             東京都清瀬市中里三丁目7910 東和コーポ             東京都清瀬市中里三丁目7910 東和コーポ   \n",
       "3026       東京都清瀬市中清戸四丁目9092 グランディール 1階       東京都清瀬市中清戸四丁目9092 グランディール 1階   \n",
       "3027                  東京都清瀬市中清戸四丁目1031                  東京都清瀬市中清戸四丁目1031   \n",
       "3028  東京都清瀬市中清戸四丁目847都営中清戸四丁目アパート8号棟3階  東京都清瀬市中清戸四丁目847都営中清戸四丁目アパート8号棟3階   \n",
       "\n",
       "                             info         date  \n",
       "576                   1008心理的瑕疵あり        20163  \n",
       "654                            心中   平成28年2月18日  \n",
       "738   今建っている家の前の平屋で男性が孤独死。後にミイラ化。       2001年頃  \n",
       "739           101号室 角部屋\\r\\n告知事項有り     令和4年6月2日  \n",
       "740                     告知事項ありの記載           不明  \n",
       "741                          死体発見   平成28年8月11日  \n",
       "742                       火災による死亡  平成30年10月25日  \n",
       "2862                  1008心理的瑕疵あり        20163  \n",
       "2940                           心中   平成28年2月18日  \n",
       "3024  今建っている家の前の平屋で男性が孤独死。後にミイラ化。       2001年頃  \n",
       "3025          101号室 角部屋\\r\\n告知事項有り     令和4年6月2日  \n",
       "3026                    告知事項ありの記載           不明  \n",
       "3027                         死体発見   平成28年8月11日  \n",
       "3028                      火災による死亡  平成30年10月25日  "
      ]
     },
     "execution_count": 6,
     "metadata": {},
     "output_type": "execute_result"
    }
   ],
   "source": [
    "oshima_data[oshima_data.district.isin(['外国外国板橋二丁目639', '神奈川県相模原市南区鵜野森二丁目276鵜野森団地F棟402','神奈川県相模原市南区鵜野森三丁目32−２', '東京都清瀬市中清戸二丁目71855', '東京都清瀬市中里三丁目7910 東和コーポ',\\\n",
    "'東京都清瀬市中清戸四丁目9092 グランディール 1階' , '東京都清瀬市中清戸四丁目1031','東京都清瀬市中清戸四丁目847都営中清戸四丁目アパート8号棟3階'])]"
   ]
  },
  {
   "cell_type": "code",
   "execution_count": 7,
   "metadata": {},
   "outputs": [
    {
     "data": {
      "text/plain": [
       "array(['新宿区', '台東区', '墨田区', '豊島区', '渋谷区', '港区', '世田谷区', '大田区', '中野区',\n",
       "       '中央区', '北区', '葛飾区', '杉並区', '江東区', '江戸川区', '文京区', '荒川区', '板橋区',\n",
       "       '品川区', '千代田区', '足立区', '目黒区', '練馬区', '府中市', '八王子市', '国分寺市', '町田市',\n",
       "       '青梅市', '調布市', '武蔵野市', '三鷹市', '小金井市', '東村山市', '多摩市', '国立市', '狛江市',\n",
       "       '西東京市', '小平市', '羽村市', '武蔵村山市', '昭島市', '福生市', '日野市', '立川市',\n",
       "       'Katsushika Ku', 'Shinagawa Ku', 'Koto Ku', 'Chiyoda Ku',\n",
       "       'Minato Ku', 'Komae Shi', 'Chuo Ku', 'Akishima Shi', 'Arakawa Ku',\n",
       "       'Machida Shi', 'Nishitokyo Shi', 'Meguro Ku', 'Fuchu Shi',\n",
       "       'Kita Ku', 'Tachikawa Shi', 'Hachioji Shi', 'Mitaka Shi',\n",
       "       'Musashino Shi', 'Musashimurayama Shi', 'Ome Shi', 'Akiruno Shi',\n",
       "       'Hamura Shi', 'Fussa Shi', 'Bunkyo Ku', 'Shinjuku Ku', 'Adachi Ku',\n",
       "       'Sumida Ku', 'Nerima Ku', 'Taito Ku', 'Kodaira Shi', 'Koganei Shi',\n",
       "       'Higashimurayama Shi', 'Hino Shi', 'Kunitachi Shi',\n",
       "       'Kokubunji Shi', 'Itabashi Ku', 'Setagaya Ku', 'Ota Ku',\n",
       "       'Nakano Ku', 'Shibuya Ku', 'Toshima Ku', 'Chofu Shi',\n",
       "       'Suginami Ku', 'Tama Shi'], dtype=object)"
      ]
     },
     "execution_count": 7,
     "metadata": {},
     "output_type": "execute_result"
    }
   ],
   "source": [
    "# 제거할 district 값\n",
    "remove_districts = [\n",
    "    '外国外国板橋二丁目639',\n",
    "    '神奈川県相模原市南区鵜野森二丁目276鵜野森団地F棟402',\n",
    "    '神奈川県相模原市南区鵜野森三丁目32−２',\n",
    "    '東京都清瀬市中清戸二丁目71855',\n",
    "    '東京都清瀬市中里三丁目7910 東和コーポ',\n",
    "    '東京都清瀬市中清戸四丁目9092 グランディール 1階',\n",
    "    '東京都清瀬市中清戸四丁目1031',\n",
    "    '東京都清瀬市中清戸四丁目847都営中清戸四丁目アパート8号棟3階',\n",
    "    '神奈川県相模原市南区鵜野森三丁目32−２７'\n",
    "]\n",
    "\n",
    "filtered_oshima_data = oshima_data[~oshima_data['district'].isin(remove_districts)].copy()\n",
    "\n",
    "filtered_oshima_data.district.unique()"
   ]
  },
  {
   "cell_type": "markdown",
   "metadata": {},
   "source": [
    "### District 컬럼 정리"
   ]
  },
  {
   "cell_type": "code",
   "execution_count": 8,
   "metadata": {},
   "outputs": [],
   "source": [
    "jp_district_list = [\n",
    "    '新宿区', '台東区', '墨田区', '豊島区', '渋谷区',\n",
    "    '港区', '世田谷区', '大田区', '中野区', '中央区',\n",
    "    '北区', '葛飾区', '杉並区', '江東区', '江戸川区',\n",
    "    '文京区', '荒川区', '板橋区', '品川区', '千代田区',\n",
    "    '足立区', '目黒区', '練馬区', '府中市', '八王子市',\n",
    "    '日野市', '国分寺市', '町田市', '青梅市', '調布市',\n",
    "    '武蔵野市', 'あきる野市', '三鷹市', '小金井市', '東村山市',\n",
    "    '多摩市', '国立市', '狛江市', '西東京市', '立川市',\n",
    "    '小平市', '羽村市', '武蔵村山市', '奥多摩町', '昭島市',\n",
    "    '福生市'\n",
    "]"
   ]
  },
  {
   "cell_type": "code",
   "execution_count": 9,
   "metadata": {},
   "outputs": [
    {
     "name": "stdout",
     "output_type": "stream",
     "text": [
      "{'Edogawa Ku': '江戸川区', 'Katsushika Ku': '葛飾区', 'Shinagawa Ku': '品川区', 'Koto Ku': '江東区', 'Chiyoda Ku': '千代田区', 'Minato Ku': '港区', 'Komae Shi': '狛江市', 'Chuo Ku': '中央区', 'Fussa Shi': '福生市', 'Bunkyo Ku': '文京区', 'Shinjuku Ku': '新宿区', 'Adachi Ku': '足立区', 'Sumida Ku': '墨田区', 'Nerima Ku': '練馬区', 'Taito Ku': '台東区', 'Kodaira Shi': '小平市', 'Koganei Shi': '小金井市', 'Higashimurayama Shi': '東村山市', 'Hino Shi': '日野市', 'Kunitachi Shi': '国立市', 'Kokubunji Shi': '国分寺市', 'Itabashi Ku': '板橋区', 'Setagaya Ku': '世田谷区', 'Ota Ku': '大田区', 'Nakano Ku': '中野区', 'Shibuya Ku': '渋谷区', 'Toshima Ku': '豊島区', 'Chofu Shi': '調布市', 'Suginami Ku': '杉並区', 'Tama Shi': '多摩市', 'Akishima Shi': '昭島市', 'Arakawa Ku': '荒川区', 'Machida Shi': '町田市', 'Nishitokyo Shi': '西東京市', 'Meguro Ku': '目黒区', 'Fuchu Shi': '府中市', 'Kita Ku': '北区', 'Tachikawa Shi': '立川市', 'Hachioji Shi': '八王子市', 'Mitaka Shi': '三鷹市', 'Okutama Machi': '奥多摩町', 'Musashino Shi': '武蔵野市', 'Musashimurayama Shi': '武蔵村山市', 'Ome Shi': '青梅市', 'Akiruno Shi': 'あきる野市', 'Hamura Shi': '羽村市'}\n"
     ]
    }
   ],
   "source": [
    "eng_geo_district = [\n",
    "    'Edogawa Ku', 'Katsushika Ku', 'Shinagawa Ku', 'Koto Ku',\n",
    "    'Chiyoda Ku', 'Minato Ku', 'Komae Shi', 'Chuo Ku',\n",
    "    'Fussa Shi', 'Bunkyo Ku', 'Shinjuku Ku', 'Adachi Ku',\n",
    "    'Sumida Ku', 'Nerima Ku', 'Taito Ku', 'Kodaira Shi',\n",
    "    'Koganei Shi', 'Higashimurayama Shi', 'Hino Shi', 'Kunitachi Shi',\n",
    "    'Kokubunji Shi', 'Itabashi Ku', 'Setagaya Ku', 'Ota Ku',\n",
    "    'Nakano Ku', 'Shibuya Ku', 'Toshima Ku', 'Chofu Shi',\n",
    "    'Suginami Ku', 'Tama Shi', 'Akishima Shi', 'Arakawa Ku',\n",
    "    'Machida Shi', 'Nishitokyo Shi', 'Meguro Ku', 'Fuchu Shi',\n",
    "    'Kita Ku', 'Tachikawa Shi', 'Hachioji Shi', 'Mitaka Shi',\n",
    "    'Okutama Machi', 'Musashino Shi', 'Musashimurayama Shi', 'Ome Shi',\n",
    "    'Akiruno Shi', 'Hamura Shi'\n",
    "]\n",
    "\n",
    "jp_geo_district = [\n",
    "    '江戸川区', '葛飾区', '品川区', '江東区',\n",
    "    '千代田区', '港区', '狛江市', '中央区',\n",
    "    '福生市', '文京区', '新宿区', '足立区',\n",
    "    '墨田区', '練馬区', '台東区', '小平市',\n",
    "    '小金井市', '東村山市', '日野市', '国立市',\n",
    "    '国分寺市', '板橋区', '世田谷区', '大田区',\n",
    "    '中野区', '渋谷区', '豊島区', '調布市',\n",
    "    '杉並区', '多摩市', '昭島市', '荒川区',\n",
    "    '町田市', '西東京市', '目黒区', '府中市',\n",
    "    '北区', '立川市', '八王子市', '三鷹市',\n",
    "    '奥多摩町', '武蔵野市', '武蔵村山市', '青梅市',\n",
    "    'あきる野市', '羽村市'\n",
    "]\n",
    "\n",
    "jp_eng_dict = dict(zip(eng_geo_district, jp_geo_district))\n",
    "\n",
    "print(jp_eng_dict)"
   ]
  },
  {
   "cell_type": "code",
   "execution_count": 10,
   "metadata": {},
   "outputs": [],
   "source": [
    "def convert_to_jp(district):\n",
    "    return jp_eng_dict[district] if district in eng_geo_district else district\n"
   ]
  },
  {
   "cell_type": "code",
   "execution_count": 11,
   "metadata": {},
   "outputs": [
    {
     "data": {
      "text/plain": [
       "array(['新宿区', '台東区', '墨田区', '豊島区', '渋谷区', '港区', '世田谷区', '大田区', '中野区',\n",
       "       '中央区', '北区', '葛飾区', '杉並区', '江東区', '江戸川区', '文京区', '荒川区', '板橋区',\n",
       "       '品川区', '千代田区', '足立区', '目黒区', '練馬区', '府中市', '八王子市', '国分寺市', '町田市',\n",
       "       '青梅市', '調布市', '武蔵野市', '三鷹市', '小金井市', '東村山市', '多摩市', '国立市', '狛江市',\n",
       "       '西東京市', '小平市', '羽村市', '武蔵村山市', '昭島市', '福生市', '日野市', '立川市', 'あきる野市'],\n",
       "      dtype=object)"
      ]
     },
     "execution_count": 11,
     "metadata": {},
     "output_type": "execute_result"
    }
   ],
   "source": [
    "filtered_oshima_data['district'] = filtered_oshima_data['district'].apply(convert_to_jp)\n",
    "filtered_oshima_data.district.unique()"
   ]
  },
  {
   "cell_type": "code",
   "execution_count": 12,
   "metadata": {},
   "outputs": [
    {
     "data": {
      "text/html": [
       "<div>\n",
       "<style scoped>\n",
       "    .dataframe tbody tr th:only-of-type {\n",
       "        vertical-align: middle;\n",
       "    }\n",
       "\n",
       "    .dataframe tbody tr th {\n",
       "        vertical-align: top;\n",
       "    }\n",
       "\n",
       "    .dataframe thead th {\n",
       "        text-align: right;\n",
       "    }\n",
       "</style>\n",
       "<table border=\"1\" class=\"dataframe\">\n",
       "  <thead>\n",
       "    <tr style=\"text-align: right;\">\n",
       "      <th></th>\n",
       "      <th>district</th>\n",
       "      <th>address</th>\n",
       "      <th>info</th>\n",
       "      <th>date</th>\n",
       "    </tr>\n",
       "  </thead>\n",
       "  <tbody>\n",
       "    <tr>\n",
       "      <th>4844</th>\n",
       "      <td>多摩市</td>\n",
       "      <td>東京都八王子市大塚640-13ハウスオブパレ</td>\n",
       "      <td>隣室で謎の死。当時私が住んでいた307号室に謎の黒い影が頻繁に出て来るようになりました。</td>\n",
       "      <td>2006年4月頃</td>\n",
       "    </tr>\n",
       "    <tr>\n",
       "      <th>4845</th>\n",
       "      <td>多摩市</td>\n",
       "      <td>東京都八王子市大塚769-8</td>\n",
       "      <td>代表取締役が恋人のゲイと喧嘩し、刺殺事故</td>\n",
       "      <td>2015年頃</td>\n",
       "    </tr>\n",
       "    <tr>\n",
       "      <th>4846</th>\n",
       "      <td>多摩市</td>\n",
       "      <td>東京都多摩市和田2009-1</td>\n",
       "      <td>飛び降り自殺</td>\n",
       "      <td>2018年2月</td>\n",
       "    </tr>\n",
       "    <tr>\n",
       "      <th>4847</th>\n",
       "      <td>多摩市</td>\n",
       "      <td>東京都八王子市大塚</td>\n",
       "      <td>1993年ごろかな。10号館あたりで学生が飛び降り自殺をした。何階からかは忘れたけど、渡り廊...</td>\n",
       "      <td>平成24年10月1日</td>\n",
       "    </tr>\n",
       "    <tr>\n",
       "      <th>4848</th>\n",
       "      <td>多摩市</td>\n",
       "      <td>東京都日野市程久保820</td>\n",
       "      <td>水死</td>\n",
       "      <td>平成15年1月8日</td>\n",
       "    </tr>\n",
       "  </tbody>\n",
       "</table>\n",
       "</div>"
      ],
      "text/plain": [
       "     district                 address  \\\n",
       "4844      多摩市  東京都八王子市大塚640-13ハウスオブパレ   \n",
       "4845      多摩市          東京都八王子市大塚769-8   \n",
       "4846      多摩市          東京都多摩市和田2009-1   \n",
       "4847      多摩市               東京都八王子市大塚   \n",
       "4848      多摩市            東京都日野市程久保820   \n",
       "\n",
       "                                                   info        date  \n",
       "4844       隣室で謎の死。当時私が住んでいた307号室に謎の黒い影が頻繁に出て来るようになりました。    2006年4月頃  \n",
       "4845                               代表取締役が恋人のゲイと喧嘩し、刺殺事故      2015年頃  \n",
       "4846                                             飛び降り自殺     2018年2月  \n",
       "4847  1993年ごろかな。10号館あたりで学生が飛び降り自殺をした。何階からかは忘れたけど、渡り廊...  平成24年10月1日  \n",
       "4848                                                 水死   平成15年1月8日  "
      ]
     },
     "execution_count": 12,
     "metadata": {},
     "output_type": "execute_result"
    }
   ],
   "source": [
    "filtered_oshima_data.tail()\n"
   ]
  },
  {
   "cell_type": "markdown",
   "metadata": {},
   "source": [
    "### 위도 경도 컬럼 생성 \n",
    "<b>추후 사용자가 선택한 숙소의 반경 내 부동산 사건 사고 정보를 제공하기 위해서는 위도 경도 정보가 필요하다 </b>\n",
    "\n",
    "<b>haversine 라이브러리를 이용하여  위도 경도 기준 두 위치간 거리를 계산 가능  </b>\n",
    " \n",
    "<b>jageocoder 라이브러리 이용</b> : https://jageocoder.readthedocs.io/ja/latest/index.html\n",
    "\n",
    "- id: ID in the database\n",
    "- name: Address notation\n",
    "- x: longitude\n",
    "- y: latitude\n",
    "- level: Address level (1:Prefecture, 2:County, 3:City and 23 district, 4:Ward, 5:Oaza, 6:Aza and - Chome, 7:Block, 8:Building)-\n",
    "- note: Notes such as city codes\n",
    "- fullname: List of address notations from the prefecture level to this node"
   ]
  },
  {
   "cell_type": "code",
   "execution_count": 16,
   "metadata": {},
   "outputs": [
    {
     "name": "stderr",
     "output_type": "stream",
     "text": [
      "INFO:jageocoder.module:218:Please read 'c:\\Users\\YUN\\miniconda3\\envs\\ds_study\\jageocoder\\db2\\README.md' for terms and conditions of use.\n",
      "INFO:jageocoder.module:222:Installation completed.\n"
     ]
    }
   ],
   "source": [
    "# pip install jageocoder\n",
    "!jageocoder install-dictionary jukyo_all_v20.zip\n",
    "\n"
   ]
  },
  {
   "cell_type": "code",
   "execution_count": 18,
   "metadata": {},
   "outputs": [
    {
     "name": "stdout",
     "output_type": "stream",
     "text": [
      "c:\\Users\\YUN\\miniconda3\\envs\\ds_study\\jageocoder\\db2\n"
     ]
    }
   ],
   "source": [
    "!jageocoder get-db-dir\n"
   ]
  },
  {
   "cell_type": "code",
   "execution_count": 19,
   "metadata": {},
   "outputs": [],
   "source": [
    "import jageocoder\n",
    "jageocoder.init()\n"
   ]
  },
  {
   "cell_type": "code",
   "execution_count": 32,
   "metadata": {},
   "outputs": [],
   "source": [
    "longitude_list = []\n",
    "latitude_list = []\n",
    "full_name_list = []\n",
    "\n",
    "# 위도,경도  \n",
    "def get_coordinate(address):\n",
    "    full_name = address\n",
    "    lat = 0\n",
    "    lng = 0\n",
    "    result = jageocoder.search(address)\n",
    "    candidates = result['candidates'][0]\n",
    "    full_name = candidates['fullname']\n",
    "    lng = candidates['x']\n",
    "    lat = candidates['y']\n",
    "    longitude_list.append(lng)\n",
    "    latitude_list.append(lat)\n",
    "    full_name_list.append(' '.join(full_name))\n"
   ]
  },
  {
   "cell_type": "code",
   "execution_count": 34,
   "metadata": {},
   "outputs": [
    {
     "data": {
      "text/html": [
       "<div>\n",
       "<style scoped>\n",
       "    .dataframe tbody tr th:only-of-type {\n",
       "        vertical-align: middle;\n",
       "    }\n",
       "\n",
       "    .dataframe tbody tr th {\n",
       "        vertical-align: top;\n",
       "    }\n",
       "\n",
       "    .dataframe thead th {\n",
       "        text-align: right;\n",
       "    }\n",
       "</style>\n",
       "<table border=\"1\" class=\"dataframe\">\n",
       "  <thead>\n",
       "    <tr style=\"text-align: right;\">\n",
       "      <th></th>\n",
       "      <th>district</th>\n",
       "      <th>address</th>\n",
       "      <th>info</th>\n",
       "      <th>date</th>\n",
       "      <th>full name</th>\n",
       "      <th>latitude</th>\n",
       "      <th>longitude</th>\n",
       "    </tr>\n",
       "  </thead>\n",
       "  <tbody>\n",
       "    <tr>\n",
       "      <th>4844</th>\n",
       "      <td>多摩市</td>\n",
       "      <td>東京都八王子市大塚640-13ハウスオブパレ</td>\n",
       "      <td>隣室で謎の死。当時私が住んでいた307号室に謎の黒い影が頻繁に出て来るようになりました。</td>\n",
       "      <td>2006年4月頃</td>\n",
       "      <td>東京都 八王子市 大塚 640番地</td>\n",
       "      <td>35.637493</td>\n",
       "      <td>139.422913</td>\n",
       "    </tr>\n",
       "    <tr>\n",
       "      <th>4845</th>\n",
       "      <td>多摩市</td>\n",
       "      <td>東京都八王子市大塚769-8</td>\n",
       "      <td>代表取締役が恋人のゲイと喧嘩し、刺殺事故</td>\n",
       "      <td>2015年頃</td>\n",
       "      <td>東京都 八王子市 大塚 769番地</td>\n",
       "      <td>35.638660</td>\n",
       "      <td>139.424469</td>\n",
       "    </tr>\n",
       "    <tr>\n",
       "      <th>4846</th>\n",
       "      <td>多摩市</td>\n",
       "      <td>東京都多摩市和田2009-1</td>\n",
       "      <td>飛び降り自殺</td>\n",
       "      <td>2018年2月</td>\n",
       "      <td>東京都 多摩市 和田 2009番地</td>\n",
       "      <td>35.639858</td>\n",
       "      <td>139.427063</td>\n",
       "    </tr>\n",
       "    <tr>\n",
       "      <th>4847</th>\n",
       "      <td>多摩市</td>\n",
       "      <td>東京都八王子市大塚</td>\n",
       "      <td>1993年ごろかな。10号館あたりで学生が飛び降り自殺をした。何階からかは忘れたけど、渡り廊...</td>\n",
       "      <td>平成24年10月1日</td>\n",
       "      <td>東京都 八王子市 大塚</td>\n",
       "      <td>35.639523</td>\n",
       "      <td>139.418701</td>\n",
       "    </tr>\n",
       "    <tr>\n",
       "      <th>4848</th>\n",
       "      <td>多摩市</td>\n",
       "      <td>東京都日野市程久保820</td>\n",
       "      <td>水死</td>\n",
       "      <td>平成15年1月8日</td>\n",
       "      <td>東京都 日野市 程久保 820番地</td>\n",
       "      <td>35.646976</td>\n",
       "      <td>139.413376</td>\n",
       "    </tr>\n",
       "  </tbody>\n",
       "</table>\n",
       "</div>"
      ],
      "text/plain": [
       "     district                 address  \\\n",
       "4844      多摩市  東京都八王子市大塚640-13ハウスオブパレ   \n",
       "4845      多摩市          東京都八王子市大塚769-8   \n",
       "4846      多摩市          東京都多摩市和田2009-1   \n",
       "4847      多摩市               東京都八王子市大塚   \n",
       "4848      多摩市            東京都日野市程久保820   \n",
       "\n",
       "                                                   info        date  \\\n",
       "4844       隣室で謎の死。当時私が住んでいた307号室に謎の黒い影が頻繁に出て来るようになりました。    2006年4月頃   \n",
       "4845                               代表取締役が恋人のゲイと喧嘩し、刺殺事故      2015年頃   \n",
       "4846                                             飛び降り自殺     2018年2月   \n",
       "4847  1993年ごろかな。10号館あたりで学生が飛び降り自殺をした。何階からかは忘れたけど、渡り廊...  平成24年10月1日   \n",
       "4848                                                 水死   平成15年1月8日   \n",
       "\n",
       "              full name   latitude   longitude  \n",
       "4844  東京都 八王子市 大塚 640番地  35.637493  139.422913  \n",
       "4845  東京都 八王子市 大塚 769番地  35.638660  139.424469  \n",
       "4846  東京都 多摩市 和田 2009番地  35.639858  139.427063  \n",
       "4847        東京都 八王子市 大塚  35.639523  139.418701  \n",
       "4848  東京都 日野市 程久保 820番地  35.646976  139.413376  "
      ]
     },
     "execution_count": 34,
     "metadata": {},
     "output_type": "execute_result"
    }
   ],
   "source": [
    "filtered_oshima_data['address'].apply(get_coordinate)\n",
    "filtered_oshima_data['full name'] = full_name_list\n",
    "filtered_oshima_data['latitude'] = latitude_list\n",
    "filtered_oshima_data['longitude'] = longitude_list\n",
    "filtered_oshima_data.tail()"
   ]
  },
  {
   "cell_type": "markdown",
   "metadata": {},
   "source": [
    "#### 에어비앤비 주소 기준 10m 반경 부동산 사건사고 찾기 "
   ]
  },
  {
   "cell_type": "code",
   "execution_count": 38,
   "metadata": {},
   "outputs": [
    {
     "name": "stdout",
     "output_type": "stream",
     "text": [
      "['東京都', '八王子市', '大塚']\n"
     ]
    }
   ],
   "source": [
    "triangle = jageocoder.reverse(139.422913, 35.637493)\n",
    "if len(triangle) > 0:\n",
    "    print(triangle[0]['candidate']['fullname']) # 東京都 八王子市 大塚 640番地\t"
   ]
  },
  {
   "cell_type": "code",
   "execution_count": null,
   "metadata": {},
   "outputs": [],
   "source": []
  }
 ],
 "metadata": {
  "kernelspec": {
   "display_name": "ds_study",
   "language": "python",
   "name": "python3"
  },
  "language_info": {
   "codemirror_mode": {
    "name": "ipython",
    "version": 3
   },
   "file_extension": ".py",
   "mimetype": "text/x-python",
   "name": "python",
   "nbconvert_exporter": "python",
   "pygments_lexer": "ipython3",
   "version": "3.8.16"
  },
  "orig_nbformat": 4
 },
 "nbformat": 4,
 "nbformat_minor": 2
}
