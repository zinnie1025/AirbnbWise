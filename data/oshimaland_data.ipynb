{
 "cells": [
  {
   "attachments": {},
   "cell_type": "markdown",
   "metadata": {},
   "source": [
    "### 도쿄 부동산 사건 데이터 수집 \n",
    "출처 :  <a href = 'http://www.oshimaland.co.jp'> 오시마랜드 </a>\n",
    "\n",
    "사이트 정보 : 본 웹사이트는 자살사건, 시체유기사건, 살인사건 등 과거에 불미스러운 사건이 있었던 건물을 모아서 보여줍니다.\n",
    "\n",
    "도쿄 23구와 다마 지역 (26개의 도시) 데이터 수집 할 예정이다 \n",
    "\n",
    "특별도 각 구청 : https://good-luck-day.com/tokyo-district-list/\n",
    "\n",
    "도쿄 23구 \n",
    "\n",
    "    가쓰시카구(葛飾区)\n",
    "    고토구(江東区)\n",
    "    기타구(北区)\n",
    "    나카노구(中野区)\n",
    "    네리마구(練馬区)\n",
    "    다이토구(台東区)\n",
    "    도시마구(豊島区)\n",
    "    미나토구(港区)\n",
    "    메구로구(目黒区)\n",
    "    스미다구(墨田区)\n",
    "    스기나미구(杉竝区)\n",
    "    신주쿠구(新宿区)\n",
    "    세타가야구(世田谷区)\n",
    "    시나가와구(品川区)\n",
    "    시부야구(渋谷区)\n",
    "    아다치구(足立区)\n",
    "    아라카와구(荒川区)\n",
    "    에도가와구(江戸川区)\n",
    "    이타바시구(板橋区)\n",
    "    오타구(大田区)\n",
    "    분쿄구(文京区)\n",
    "    주오구(中央区)\n",
    "    지요다구(千代田区)\n",
    "\n",
    "\n",
    "다마 지역\n",
    "\n",
    "    고가네이시(小金井市)\n",
    "    고다이라시(小平市)\n",
    "    고마에시(狛江市)\n",
    "    고쿠분지시(国分寺市)\n",
    "    구니타치시(国立市)\n",
    "    기요세시(清瀬市)\n",
    "    니시토쿄시(西東京市)\n",
    "    다마시(多摩市)\n",
    "    다치카와시(立川市)\n",
    "    마치다시(町田市)\n",
    "    무사시노시(武藏野市)\n",
    "    무사시무라야마시(武藏村山市)\n",
    "    미타카시(三鷹市)\n",
    "    아키루노시(あきる野市)\n",
    "    아키시마시(昭島市)\n",
    "    오메시(青梅市)\n",
    "    이나기시(稲城市)\n",
    "    조후시(調布市)\n",
    "    하무라시(羽村市)\n",
    "    하치오지시(八王子市)\n",
    "    후추시(府中市)\n",
    "    훗사시(福生市)\n",
    "    히가시무라야마시(東村山市)\n",
    "    히가시야마토시(東大和市)\n",
    "    히가시쿠루메시(東久留米市)\n",
    "    히노시(日野市)"
   ]
  },
  {
   "cell_type": "code",
   "execution_count": null,
   "metadata": {},
   "outputs": [],
   "source": [
    "!pip install webdriver-manager"
   ]
  },
  {
   "cell_type": "code",
   "execution_count": 1,
   "metadata": {},
   "outputs": [],
   "source": [
    "import pandas as pd\n",
    "import numpy as np \n",
    "\n",
    "from selenium import webdriver\n",
    "from selenium.webdriver.chrome.service import Service\n",
    "from webdriver_manager.chrome import ChromeDriverManager\n",
    "from selenium.webdriver.common.by import By\n",
    "from selenium.webdriver.common.keys import Keys\n",
    "from selenium.webdriver.support.ui import WebDriverWait\n",
    "from selenium.webdriver.support import expected_conditions as EC\n",
    "\n",
    "import time"
   ]
  },
  {
   "cell_type": "code",
   "execution_count": 2,
   "metadata": {},
   "outputs": [],
   "source": [
    "#1. oshimaland 웹사이트 불러오기\n",
    "def loadWeb(driver, url):\n",
    "    \n",
    "    # 화면 최대 크기 설정 \n",
    "    driver.maximize_window()\n",
    "    driver.get(url)\n",
    "    #모든 창이 로딩 될떄까지 기다려 줌 \n",
    "    time.sleep(3)\n",
    "    #팝업창 화면 전환 후 닫아주기\n",
    "    multi_window = driver.window_handles\n",
    "    if(len(multi_window)>1):\n",
    "        driver.switch_to.window(driver.window_handles[-1])\n",
    "        driver.close()\n",
    "        time.sleep(3)\n",
    "        # 접근 페이지 다시 요청\n",
    "        driver.switch_to.window(driver.window_handles[-1])\n",
    "   \n",
    "    driver.get(url)"
   ]
  },
  {
   "cell_type": "code",
   "execution_count": 3,
   "metadata": {},
   "outputs": [],
   "source": [
    "def searchFire(driver, region_list):\n",
    "    search_region = driver.find_element(By.CSS_SELECTOR, '#geocoder-text')\n",
    "\n",
    "    for i in range(1,5):\n",
    "        serach = region_list[0]+region_list[i]\n",
    "        search_region.clear()\n",
    "        search_region.send_keys(serach)\n",
    "        time.sleep(2)\n",
    "        search_btn = driver.find_element(By.ID, \"geocoder-button\")\n",
    "        search_btn.click()\n",
    "        time.sleep(2)\n",
    "        # 지도 줌인 \n",
    "        # map_zomm_in = driver.find_element(By.CSS_SELECTOR,'div.mk-bottom-right-controls-container.mk-controls-container-controls-normal > div > div.mk-zoom-in')\n",
    "        # map_zomm_in.click()\n",
    "        # 지도 줌 아웃 \n",
    "        # map_zom_out.click()\n",
    "\n"
   ]
  },
  {
   "cell_type": "code",
   "execution_count": 4,
   "metadata": {},
   "outputs": [],
   "source": [
    "region_list = ['足立区 ', '中央本町', '伊興', '梅田', '本木', '小台', '江北', '佐野', '鹿浜', '新田', '千住', '竹の塚', '入谷', '中川', '西新井', '花畑', '東綾瀬', '保塚']\n"
   ]
  },
  {
   "cell_type": "code",
   "execution_count": 284,
   "metadata": {},
   "outputs": [
    {
     "name": "stderr",
     "output_type": "stream",
     "text": [
      "[WDM] - Downloading: 100%|██████████| 6.30M/6.30M [00:02<00:00, 2.42MB/s]\n"
     ]
    }
   ],
   "source": [
    "url = 'https://www.oshimaland.co.jp/'\n",
    "chrome_option = webdriver.ChromeOptions()\n",
    "driver = webdriver.Chrome(ChromeDriverManager().install(), options=chrome_option)\n",
    "loadWeb(driver, url)\n"
   ]
  },
  {
   "cell_type": "code",
   "execution_count": 285,
   "metadata": {},
   "outputs": [],
   "source": [
    "searchFire(driver, region_list) "
   ]
  },
  {
   "cell_type": "code",
   "execution_count": 291,
   "metadata": {},
   "outputs": [],
   "source": [
    "from selenium.webdriver.common.action_chains import ActionChains\n",
    "# https://stackoverflow.com/questions/64474653/how-to-webscrape-a-canvas-element-with-python-selenium\n",
    "canvas = driver.find_element(By.CSS_SELECTOR, '#map-canvas > div.mk-map-view.mk-disable-all-gestures > canvas.rt-root')\n",
    "action = ActionChains(driver)\n"
   ]
  },
  {
   "cell_type": "code",
   "execution_count": 297,
   "metadata": {},
   "outputs": [],
   "source": [
    "map_canvas = driver.find_element_by_css_selector(\"div.mk-map-view > canvas.rt-root\")\n",
    "\n",
    "from selenium.webdriver.common.action_chains import ActionChains\n",
    "\n",
    "# 지도 요소 위에서 마우스를 움직임\n",
    "actions = ActionChains(driver)\n",
    "actions.move_to_element(map_canvas).click().perform()\n",
    "\n",
    "actions.move_by_offset(0, 200).perform() # 줌인만 가능 "
   ]
  },
  {
   "cell_type": "code",
   "execution_count": 309,
   "metadata": {},
   "outputs": [],
   "source": [
    "from selenium.common.exceptions import  WebDriverException \n",
    "def wheel_element(element, deltaY=120, offsetX=0, offsetY=0):\n",
    "    error = element.parent.execute_script(\"\"\"\n",
    "        var element = arguments[0];\n",
    "        var deltaY = arguments[1];\n",
    "        var box = element.getBoundingClientRect();\n",
    "        var clientX = box.left + (arguments[2] || box.width / 2);\n",
    "        var clientY = box.top + (arguments[3] || box.height / 2);\n",
    "        var target = element.ownerDocument.elementFromPoint(clientX, clientY);\n",
    "\n",
    "        for (var e = target; e; e = e.parentElement) {\n",
    "            if (e === element) {\n",
    "                target.dispatchEvent(new MouseEvent('mouseover', {view: window, bubbles: true, cancelable: true, clientX: clientX, clientY: clientY}));\n",
    "                target.dispatchEvent(new MouseEvent('mousemove', {view: window, bubbles: true, cancelable: true, clientX: clientX, clientY: clientY}));\n",
    "                target.dispatchEvent(new WheelEvent('wheel', {view: window, bubbles: true, cancelable: true, clientX: clientX, clientY: clientY, deltaY: deltaY}));\n",
    "                return;\n",
    "            }\n",
    "        }    \n",
    "        return \"Element is not interactable\";\n",
    "    \"\"\", element, deltaY, offsetX, offsetY)\n",
    "    if error:\n",
    "        raise WebDriverException(error)"
   ]
  },
  {
   "cell_type": "code",
   "execution_count": 311,
   "metadata": {},
   "outputs": [],
   "source": [
    "canvas = driver.find_element_by_css_selector(\"div.mk-map-view > canvas.rt-root\")\n",
    "action.move_to_element(canvas).perform()\n",
    "# zoom in with mouse wheel\n",
    "wheel_element(canvas, -120)"
   ]
  },
  {
   "cell_type": "code",
   "execution_count": 306,
   "metadata": {},
   "outputs": [],
   "source": [
    "canvas = driver.find_element(By.CSS_SELECTOR, \"div.mk-map-view > canvas.rt-root\")\n",
    "from selenium.webdriver.common.action_chains import ActionChains\n",
    "\n",
    "# 지도 요소 위에서 마우스를 움직임\n",
    "actions = ActionChains(driver)\n",
    "actions.move_to_element(canvas).click().perform()\n",
    "actions.move_by_offset(0, -100).perform()\n"
   ]
  },
  {
   "cell_type": "code",
   "execution_count": 327,
   "metadata": {},
   "outputs": [],
   "source": [
    "#줌인 줌아웃 반복 \n",
    "action.move_to_element(canvas).move_by_offset(0, 0).click_and_hold().perform()\n",
    "action.move_by_offset(-200,0).release().perform()"
   ]
  },
  {
   "cell_type": "code",
   "execution_count": 328,
   "metadata": {},
   "outputs": [],
   "source": [
    "action.move_to_element(canvas).click().perform()\n",
    "action.move_to_element_with_offset(canvas, 0, 0).perform()\n",
    "action.move_by_offset(0, -50).perform()\n",
    "action.send_keys(Keys.CONTROL, Keys.SUBTRACT).perform()"
   ]
  },
  {
   "cell_type": "code",
   "execution_count": null,
   "metadata": {},
   "outputs": [],
   "source": [
    "#### git error test"
   ]
  }
 ],
 "metadata": {
  "kernelspec": {
   "display_name": "Python 3",
   "language": "python",
   "name": "python3"
  },
  "language_info": {
   "codemirror_mode": {
    "name": "ipython",
    "version": 3
   },
   "file_extension": ".py",
   "mimetype": "text/x-python",
   "name": "python",
   "nbconvert_exporter": "python",
   "pygments_lexer": "ipython3",
   "version": "3.8.16"
  },
  "orig_nbformat": 4
 },
 "nbformat": 4,
 "nbformat_minor": 2
}
