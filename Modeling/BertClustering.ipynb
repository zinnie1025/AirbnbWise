{
 "cells": [
  {
   "cell_type": "code",
   "execution_count": 1,
   "metadata": {
    "executionInfo": {
     "elapsed": 8283,
     "status": "ok",
     "timestamp": 1692255240265,
     "user": {
      "displayName": "진현두",
      "userId": "16930706332906801095"
     },
     "user_tz": -540
    },
    "id": "DDwhRF7xCJjb"
   },
   "outputs": [],
   "source": [
    "import os\n",
    "import torch\n",
    "import pandas as pd\n",
    "import numpy as np\n",
    "import math\n",
    "from tqdm import tqdm\n",
    "from geopy.distance import geodesic\n",
    "from transformers import AutoModel, AutoTokenizer, Trainer, TrainingArguments, BertTokenizerFast, PreTrainedTokenizerFast, EncoderDecoderModel\n",
    "from scipy.sparse import csr_matrix"
   ]
  },
  {
   "cell_type": "code",
   "execution_count": 2,
   "metadata": {
    "executionInfo": {
     "elapsed": 4,
     "status": "ok",
     "timestamp": 1692255287602,
     "user": {
      "displayName": "진현두",
      "userId": "16930706332906801095"
     },
     "user_tz": -540
    },
    "id": "RqFcHbi7EdIp"
   },
   "outputs": [],
   "source": [
    "data_path = '../Data'"
   ]
  },
  {
   "cell_type": "code",
   "execution_count": 3,
   "metadata": {
    "executionInfo": {
     "elapsed": 6095,
     "status": "ok",
     "timestamp": 1692255293693,
     "user": {
      "displayName": "진현두",
      "userId": "16930706332906801095"
     },
     "user_tz": -540
    },
    "id": "Ou5apWD_F-Us"
   },
   "outputs": [],
   "source": [
    "airbnb_data = pd.read_csv(os.path.join(data_path, 'Tokyo_Airbnb', 'airbnb_data_add_latlng.csv'))\n",
    "oshima_data = pd.read_csv(os.path.join(data_path, 'Oshima', 'oshima_data_translated.csv'))\n",
    "open_data = pd.read_csv(os.path.join(data_path, 'OpenData', 'open_data_translated.csv'))"
   ]
  },
  {
   "cell_type": "code",
   "execution_count": 4,
   "metadata": {
    "executionInfo": {
     "elapsed": 9,
     "status": "ok",
     "timestamp": 1692255293693,
     "user": {
      "displayName": "진현두",
      "userId": "16930706332906801095"
     },
     "user_tz": -540
    },
    "id": "MagUcuUCINAO"
   },
   "outputs": [],
   "source": [
    "device = 'cuda' if torch.cuda.is_available() else 'cpu'"
   ]
  },
  {
   "cell_type": "markdown",
   "metadata": {
    "id": "Q32s-yFlNMpF"
   },
   "source": [
    "----"
   ]
  },
  {
   "cell_type": "code",
   "execution_count": 5,
   "metadata": {
    "executionInfo": {
     "elapsed": 733,
     "status": "ok",
     "timestamp": 1692255294421,
     "user": {
      "displayName": "진현두",
      "userId": "16930706332906801095"
     },
     "user_tz": -540
    },
    "id": "EhhVjaYUYZxJ"
   },
   "outputs": [],
   "source": [
    "open_data.columns = ['Unnamed', 'method', 'state', 'town', 'date', 'time', 'full name', 'latitude', 'longitude', 'translated']"
   ]
  },
  {
   "cell_type": "markdown",
   "metadata": {
    "id": "JnCIAxcPUSeu"
   },
   "source": [
    "### 일본어 -> 한국어 번역"
   ]
  },
  {
   "cell_type": "code",
   "execution_count": 6,
   "metadata": {},
   "outputs": [],
   "source": [
    "# mapper = {\n",
    "#     '部品ねらい':'부품 목표',\n",
    "#     'ひったくり':'끈적끈적',\n",
    "#     'オートバイ':'오토바이 절도',\n",
    "#     '車上ねらい':'차상 목표',\n",
    "#     '自動販売機ねらい':'자판기 목표',\n",
    "#     '自動車盗':'차량절도',\n",
    "#     '自転車盗':'자전거 도둑\n",
    "# }"
   ]
  },
  {
   "cell_type": "code",
   "execution_count": 7,
   "metadata": {
    "executionInfo": {
     "elapsed": 547,
     "status": "ok",
     "timestamp": 1692279515218,
     "user": {
      "displayName": "진현두",
      "userId": "16930706332906801095"
     },
     "user_tz": -540
    },
    "id": "kiUYRtMHVNSw"
   },
   "outputs": [],
   "source": [
    "# def translate(text_src):\n",
    "#     embeddings = src_tokenizer(text_src, return_attention_mask=False, return_token_type_ids=False, return_tensors='pt')\n",
    "#     embeddings = {k: v for k, v in embeddings.items()}\n",
    "#     output = model.generate(**embeddings)[0, 1:-1]\n",
    "#     text_trg = trg_tokenizer.decode(output.cpu())\n",
    "#     return text_trg"
   ]
  },
  {
   "cell_type": "code",
   "execution_count": 8,
   "metadata": {
    "executionInfo": {
     "elapsed": 2,
     "status": "ok",
     "timestamp": 1692279516340,
     "user": {
      "displayName": "진현두",
      "userId": "16930706332906801095"
     },
     "user_tz": -540
    },
    "id": "evrIy2gBVLe5"
   },
   "outputs": [],
   "source": [
    "# encoder_model_name = \"cl-tohoku/bert-base-japanese-v2\"\n",
    "# decoder_model_name = \"skt/kogpt2-base-v2\"\n",
    "\n",
    "# src_tokenizer = BertTokenizerFast.from_pretrained(encoder_model_name)\n",
    "# trg_tokenizer = PreTrainedTokenizerFast.from_pretrained(decoder_model_name)\n",
    "# model = EncoderDecoderModel.from_pretrained(\"figuringoutmine/translator-for-travel-jp-to-kr\").to(device)"
   ]
  },
  {
   "cell_type": "code",
   "execution_count": 9,
   "metadata": {
    "executionInfo": {
     "elapsed": 3,
     "status": "ok",
     "timestamp": 1692279517836,
     "user": {
      "displayName": "진현두",
      "userId": "16930706332906801095"
     },
     "user_tz": -540
    },
    "id": "Ueg6jVpJW2p8"
   },
   "outputs": [],
   "source": [
    "# translated = list()\n",
    "# with torch.no_grad():\n",
    "#     for info in tqdm(oshima_data['info'].values):\n",
    "#         encoded = src_tokenizer(info, return_attention_mask=False, return_token_type_ids=False, return_tensors='pt')\n",
    "#         encoded = {k:v.to(device) for k, v in encoded.items()}\n",
    "#         output = model.generate(**encoded)[0, 1:-1]\n",
    "#         translated.append(trg_tokenizer.decode(output.cpu()))"
   ]
  },
  {
   "cell_type": "code",
   "execution_count": 10,
   "metadata": {
    "executionInfo": {
     "elapsed": 1,
     "status": "ok",
     "timestamp": 1692279519149,
     "user": {
      "displayName": "진현두",
      "userId": "16930706332906801095"
     },
     "user_tz": -540
    },
    "id": "SQkgXzNDXL1V"
   },
   "outputs": [],
   "source": [
    "# oshima_data['translated'] = translated"
   ]
  },
  {
   "cell_type": "code",
   "execution_count": 11,
   "metadata": {
    "executionInfo": {
     "elapsed": 3,
     "status": "ok",
     "timestamp": 1692279523402,
     "user": {
      "displayName": "진현두",
      "userId": "16930706332906801095"
     },
     "user_tz": -540
    },
    "id": "XiIH7LcDh0uh"
   },
   "outputs": [],
   "source": [
    "# oshima_data.to_csv(os.path.join(data_path, 'oshima_data_translated.csv'), index=False)"
   ]
  },
  {
   "cell_type": "code",
   "execution_count": 12,
   "metadata": {
    "executionInfo": {
     "elapsed": 2,
     "status": "ok",
     "timestamp": 1692279523402,
     "user": {
      "displayName": "진현두",
      "userId": "16930706332906801095"
     },
     "user_tz": -540
    },
    "id": "VKqFqPktdi6u"
   },
   "outputs": [],
   "source": [
    "# translated = list()\n",
    "# with torch.no_grad():\n",
    "#     for method in tqdm(open_data['method'].values):\n",
    "#         encoded = src_tokenizer(method, return_attention_mask=False, return_token_type_ids=False, return_tensors='pt')\n",
    "#         encoded = {k:v.to(device) for k, v in encoded.items()}\n",
    "#         output = model.generate(**encoded)[0, 1:-1]\n",
    "#         translated.append(trg_tokenizer.decode(output.cpu()))"
   ]
  },
  {
   "cell_type": "code",
   "execution_count": 13,
   "metadata": {
    "executionInfo": {
     "elapsed": 1,
     "status": "ok",
     "timestamp": 1692279525300,
     "user": {
      "displayName": "진현두",
      "userId": "16930706332906801095"
     },
     "user_tz": -540
    },
    "id": "WHLoljdbdrRg"
   },
   "outputs": [],
   "source": [
    "# open_data['translated'] = translated"
   ]
  },
  {
   "cell_type": "code",
   "execution_count": 14,
   "metadata": {
    "executionInfo": {
     "elapsed": 1,
     "status": "ok",
     "timestamp": 1692279528087,
     "user": {
      "displayName": "진현두",
      "userId": "16930706332906801095"
     },
     "user_tz": -540
    },
    "id": "K1AuJp2thx5_"
   },
   "outputs": [],
   "source": [
    "# open_data.to_csv(os.path.join(data_path, 'open_data_translated.csv'), index=False)"
   ]
  },
  {
   "cell_type": "markdown",
   "metadata": {
    "id": "wViEUcJBNN7B"
   },
   "source": [
    "### Bert Embedding Base Clustering"
   ]
  },
  {
   "cell_type": "code",
   "execution_count": 15,
   "metadata": {
    "id": "In-gmuJaS_tu"
   },
   "outputs": [],
   "source": [
    "from soyclustering import SphericalKMeans"
   ]
  },
  {
   "cell_type": "code",
   "execution_count": 16,
   "metadata": {
    "id": "hwGcU-hRNUJU"
   },
   "outputs": [],
   "source": [
    "model = AutoModel.from_pretrained('cl-tohoku/bert-base-japanese')\n",
    "tokenizer = AutoTokenizer.from_pretrained('cl-tohoku/bert-base-japanese')"
   ]
  },
  {
   "cell_type": "code",
   "execution_count": 17,
   "metadata": {
    "id": "1_o4Jo-8O8kt"
   },
   "outputs": [],
   "source": [
    "embeddings = list()"
   ]
  },
  {
   "cell_type": "code",
   "execution_count": 18,
   "metadata": {
    "id": "1_o4Jo-8O8kt"
   },
   "outputs": [
    {
     "name": "stderr",
     "output_type": "stream",
     "text": [
      "100%|███████████████████████████████████████████████████████████████████████████████| 4833/4833 [01:34<00:00, 51.31it/s]\n"
     ]
    }
   ],
   "source": [
    "# oshima\n",
    "with torch.no_grad():\n",
    "    for info in tqdm(oshima_data['info'].values):\n",
    "        encoded = tokenizer(info, return_tensors='pt')\n",
    "        output = model(**encoded)\n",
    "        embedding = output.pooler_output[0].detach().cpu().numpy().tolist()\n",
    "        embeddings.append(embedding)"
   ]
  },
  {
   "cell_type": "code",
   "execution_count": 19,
   "metadata": {},
   "outputs": [],
   "source": [
    "# # opendata\n",
    "# with torch.no_grad():\n",
    "#     for info in tqdm(open_data['info'].values):\n",
    "#         encoded = tokenizer(info, return_tensors='pt')\n",
    "#         output = model(**encoded)\n",
    "#         embedding = output.pooler_output[0].detach().cpu().numpy().tolist()\n",
    "#         embeddings.append(embedding)"
   ]
  },
  {
   "cell_type": "code",
   "execution_count": 20,
   "metadata": {},
   "outputs": [],
   "source": [
    "embeddings = csr_matrix(embeddings)"
   ]
  },
  {
   "cell_type": "code",
   "execution_count": 21,
   "metadata": {
    "id": "RiNOcFCrOuth"
   },
   "outputs": [],
   "source": [
    "spherical_kmeans = SphericalKMeans(\n",
    "    n_clusters=7,    #  7개의 군집으로 군집화\n",
    "    max_iter=100,    # 최대 Iteration 수\n",
    "    verbose=1,\n",
    "    init='similar_cut'\n",
    ")"
   ]
  },
  {
   "cell_type": "code",
   "execution_count": 22,
   "metadata": {
    "colab": {
     "base_uri": "https://localhost:8080/"
    },
    "executionInfo": {
     "elapsed": 11170,
     "status": "ok",
     "timestamp": 1691584638262,
     "user": {
      "displayName": "진현두",
      "userId": "16930706332906801095"
     },
     "user_tz": -540
    },
    "id": "05LTn13PS7Pc",
    "outputId": "1f74efa4-cdce-4e04-c9cc-82adc28c2d04"
   },
   "outputs": [
    {
     "name": "stdout",
     "output_type": "stream",
     "text": [
      "initialization_time=0.001360 sec, sparsity=0.999\n",
      "n_iter=1, changed=4181, inertia=793.826, iter_time=1.043 sec, sparsity=1.0\n",
      "n_iter=2, changed=712, inertia=486.143, iter_time=1.010 sec, sparsity=1.0\n",
      "n_iter=3, changed=350, inertia=462.051, iter_time=1.030 sec, sparsity=1.0\n",
      "n_iter=4, changed=225, inertia=456.034, iter_time=1.011 sec, sparsity=1.0\n",
      "n_iter=5, changed=130, inertia=454.284, iter_time=1.017 sec, sparsity=1.0\n",
      "n_iter=6, changed=88, inertia=453.503, iter_time=1.009 sec, sparsity=1.0\n",
      "n_iter=7, changed=60, inertia=453.215, iter_time=1.007 sec, sparsity=1.0\n",
      "n_iter=8, changed=26, inertia=453.115, iter_time=0.999 sec, sparsity=1.0\n",
      "n_iter=9, changed=25, inertia=453.109, iter_time=0.995 sec, sparsity=1.0\n",
      "n_iter=10, changed=15, inertia=453.094, iter_time=0.995 sec, sparsity=1.0\n",
      "n_iter=11, changed=24, inertia=453.085, iter_time=1.024 sec, sparsity=1.0\n",
      "n_iter=12, changed=16, inertia=453.081, iter_time=1.017 sec, sparsity=1.0\n",
      "n_iter=13, changed=13, inertia=453.084, iter_time=0.997 sec, sparsity=1.0\n",
      "n_iter=14, changed=14, inertia=453.078, iter_time=1.005 sec, sparsity=1.0\n",
      "n_iter=15, changed=17, inertia=453.068, iter_time=1.002 sec, sparsity=1.0\n",
      "n_iter=16, changed=9, inertia=453.072, iter_time=0.996 sec, sparsity=1.0\n",
      "n_iter=17, changed=7, inertia=453.075, iter_time=1.028 sec, sparsity=1.0\n",
      "n_iter=18, changed=2, inertia=453.085, iter_time=1.015 sec, sparsity=1.0\n",
      "n_iter=19, changed=6, inertia=453.087, iter_time=1.026 sec, sparsity=1.0\n",
      "n_iter=20, changed=9, inertia=453.089, iter_time=1.009 sec, sparsity=1.0\n",
      "n_iter=21, changed=9, inertia=453.085, iter_time=1.007 sec, sparsity=1.0\n",
      "n_iter=22, changed=8, inertia=453.089, iter_time=1.010 sec, sparsity=1.0\n",
      "n_iter=23, changed=8, inertia=453.088, iter_time=1.024 sec, sparsity=1.0\n",
      "n_iter=24, changed=20, inertia=453.083, iter_time=1.018 sec, sparsity=1.0\n",
      "n_iter=25, changed=12, inertia=453.009, iter_time=1.018 sec, sparsity=1.0\n",
      "n_iter=26, changed=6, inertia=452.993, iter_time=1.008 sec, sparsity=1.0\n",
      "n_iter=27, changed=5, inertia=452.993, iter_time=1.021 sec, sparsity=1.0\n",
      "n_iter=28, changed=9, inertia=453.000, iter_time=1.012 sec, sparsity=1.0\n",
      "n_iter=29, changed=4, inertia=453.003, iter_time=1.017 sec, sparsity=1.0\n",
      "n_iter=30, changed=2, inertia=453.005, iter_time=1.005 sec, sparsity=1.0\n",
      "n_iter=31, changed=0, inertia=453.008, iter_time=1.027 sec, sparsity=1.0\n",
      "Early converged.\n"
     ]
    }
   ],
   "source": [
    "labels = spherical_kmeans.fit_predict(embeddings)"
   ]
  },
  {
   "cell_type": "code",
   "execution_count": 23,
   "metadata": {
    "id": "2YobGcYrTCrO"
   },
   "outputs": [],
   "source": [
    "oshima_kmeans = oshima_data.copy()\n",
    "oshima_kmeans['labels'] = labels"
   ]
  },
  {
   "cell_type": "code",
   "execution_count": 40,
   "metadata": {
    "colab": {
     "base_uri": "https://localhost:8080/",
     "height": 702
    },
    "executionInfo": {
     "elapsed": 266,
     "status": "ok",
     "timestamp": 1691586914222,
     "user": {
      "displayName": "진현두",
      "userId": "16930706332906801095"
     },
     "user_tz": -540
    },
    "id": "_B0E1-zxb41l",
    "outputId": "5e81c5ed-015d-4f91-edf6-e113fdc1af3b"
   },
   "outputs": [
    {
     "data": {
      "text/html": [
       "<div>\n",
       "<style scoped>\n",
       "    .dataframe tbody tr th:only-of-type {\n",
       "        vertical-align: middle;\n",
       "    }\n",
       "\n",
       "    .dataframe tbody tr th {\n",
       "        vertical-align: top;\n",
       "    }\n",
       "\n",
       "    .dataframe thead th {\n",
       "        text-align: right;\n",
       "    }\n",
       "</style>\n",
       "<table border=\"1\" class=\"dataframe\">\n",
       "  <thead>\n",
       "    <tr style=\"text-align: right;\">\n",
       "      <th></th>\n",
       "      <th>Unnamed: 0</th>\n",
       "      <th>district</th>\n",
       "      <th>address</th>\n",
       "      <th>info</th>\n",
       "      <th>date</th>\n",
       "      <th>full name</th>\n",
       "      <th>latitude</th>\n",
       "      <th>longitude</th>\n",
       "      <th>translated</th>\n",
       "      <th>labels</th>\n",
       "    </tr>\n",
       "  </thead>\n",
       "  <tbody>\n",
       "    <tr>\n",
       "      <th>2723</th>\n",
       "      <td>2731</td>\n",
       "      <td>中野区</td>\n",
       "      <td>東京都中野区中野三丁目2321 コーポ池田</td>\n",
       "      <td>2階 角部屋 心理的瑕疵あり 2018年6月内装一部リフォーム済み</td>\n",
       "      <td>平成30年4月22日</td>\n",
       "      <td>東京都 中野区 中野 三丁目</td>\n",
       "      <td>35.702892</td>\n",
       "      <td>139.663330</td>\n",
       "      <td>2층 가방적용적하적 있어 2018년 6월 인테리어 일부 리모델링 완료</td>\n",
       "      <td>0</td>\n",
       "    </tr>\n",
       "    <tr>\n",
       "      <th>775</th>\n",
       "      <td>783</td>\n",
       "      <td>葛飾区</td>\n",
       "      <td>千葉県松戸市栗山121-24. 102号室</td>\n",
       "      <td>告知事項有り</td>\n",
       "      <td>平成28年5月</td>\n",
       "      <td>千葉県 松戸市 栗山 121番地</td>\n",
       "      <td>35.756519</td>\n",
       "      <td>139.898697</td>\n",
       "      <td>공고사항 있음</td>\n",
       "      <td>0</td>\n",
       "    </tr>\n",
       "    <tr>\n",
       "      <th>2961</th>\n",
       "      <td>2972</td>\n",
       "      <td>東村山市</td>\n",
       "      <td>東京都東村山市本町一丁目1324</td>\n",
       "      <td>２２２号室は告知事項あり、室内全体の補修工事が行われたらしいが、どのようなことがあったのか不...</td>\n",
       "      <td>令和2年2月1日</td>\n",
       "      <td>東京都 東村山市 本町 一丁目</td>\n",
       "      <td>35.754921</td>\n",
       "      <td>139.467194</td>\n",
       "      <td>1호실은 공지사항이며 실내 전체 보수공사가 이루어졌다고 하는데 어떤 일이 있었는지 알 수</td>\n",
       "      <td>0</td>\n",
       "    </tr>\n",
       "    <tr>\n",
       "      <th>3241</th>\n",
       "      <td>3257</td>\n",
       "      <td>新宿区</td>\n",
       "      <td>東京都新宿区南元町4-57 アクサスレジデンス外苑 1階</td>\n",
       "      <td>告知事項あり</td>\n",
       "      <td>2020年頃</td>\n",
       "      <td>東京都 新宿区 南元町 4番地</td>\n",
       "      <td>35.681904</td>\n",
       "      <td>139.723328</td>\n",
       "      <td>공고사항</td>\n",
       "      <td>0</td>\n",
       "    </tr>\n",
       "    <tr>\n",
       "      <th>702</th>\n",
       "      <td>705</td>\n",
       "      <td>狛江市</td>\n",
       "      <td>東京都狛江市岩戸北三丁目196（フラットえびす）</td>\n",
       "      <td>警察が来て、ブルーシートに遺体を乗せてワゴン車で運び出した。事件性の可否は不明。</td>\n",
       "      <td>2016２月か３月頃</td>\n",
       "      <td>東京都 狛江市 岩戸 北三丁目</td>\n",
       "      <td>35.633904</td>\n",
       "      <td>139.583282</td>\n",
       "      <td>경찰이 와서 블루 시트에 시신을 태우고 와곡 차로 옮겼다.사건 가능성은 불투명.</td>\n",
       "      <td>0</td>\n",
       "    </tr>\n",
       "    <tr>\n",
       "      <th>2058</th>\n",
       "      <td>2066</td>\n",
       "      <td>八王子市</td>\n",
       "      <td>東京都八王子市南大沢二丁目206-21</td>\n",
       "      <td>グランツ フリーデ 303号室 アパマンショップ橋本店より\\r\\n告知事項あり</td>\n",
       "      <td>不明</td>\n",
       "      <td>東京都 八王子市 南大沢 二丁目 206番地</td>\n",
       "      <td>35.612087</td>\n",
       "      <td>139.384445</td>\n",
       "      <td>그란츠 프리데 303호실 아파마시 숍하모토점에서 공지</td>\n",
       "      <td>0</td>\n",
       "    </tr>\n",
       "    <tr>\n",
       "      <th>2527</th>\n",
       "      <td>2535</td>\n",
       "      <td>新宿区</td>\n",
       "      <td>東京都新宿区歌舞伎町二丁目396</td>\n",
       "      <td>1F 首吊り</td>\n",
       "      <td>2010年頃</td>\n",
       "      <td>東京都 新宿区 歌舞伎町 二丁目</td>\n",
       "      <td>35.696556</td>\n",
       "      <td>139.703827</td>\n",
       "      <td>1F 목살</td>\n",
       "      <td>0</td>\n",
       "    </tr>\n",
       "    <tr>\n",
       "      <th>2196</th>\n",
       "      <td>2204</td>\n",
       "      <td>武蔵野市</td>\n",
       "      <td>東京都武蔵野市桜堤一丁目6-31 ハイツエイト2</td>\n",
       "      <td>2階 角部屋 南向き1K（洋室7帖、K3帖） 専有面積23㎡\\r\\n告知事項あり\\r\\n20...</td>\n",
       "      <td>令和4年6月1日</td>\n",
       "      <td>東京都 武蔵野市 桜堤 一丁目 6番 31号</td>\n",
       "      <td>35.709641</td>\n",
       "      <td>139.537628</td>\n",
       "      <td>2층 각방 남향 1K, 1룸 7첩, K3쪽(전유</td>\n",
       "      <td>0</td>\n",
       "    </tr>\n",
       "    <tr>\n",
       "      <th>2943</th>\n",
       "      <td>2954</td>\n",
       "      <td>青梅市</td>\n",
       "      <td>東京都青梅市東青梅三丁目85</td>\n",
       "      <td>告知事項あり。業者は全オーナーが病死と伝えてきたが、正確には前々オーナーが自殺、全オーナーが...</td>\n",
       "      <td>2018年時点での情報</td>\n",
       "      <td>東京都 青梅市 東青梅 三丁目</td>\n",
       "      <td>35.789589</td>\n",
       "      <td>139.277374</td>\n",
       "      <td>공지사항 있음. 업체는 전 주인이 사망이라고 전했지만, 정확하게는 전 주인이 자살하고</td>\n",
       "      <td>0</td>\n",
       "    </tr>\n",
       "    <tr>\n",
       "      <th>1021</th>\n",
       "      <td>1029</td>\n",
       "      <td>千代田区</td>\n",
       "      <td>東京都千代田区飯田橋四丁目5-14 飯田橋サンポーロハイツ</td>\n",
       "      <td>10階 分譲賃貸 南西向き1LDK（LDK10帖、洋室6帖） 専有面積37.39㎡ 賃料12...</td>\n",
       "      <td>令和4年9月24日</td>\n",
       "      <td>東京都 千代田区 飯田橋 四丁目 5番 14号</td>\n",
       "      <td>35.700638</td>\n",
       "      <td>139.747498</td>\n",
       "      <td>10층 분양 임대남향NDWLK 1L(DLK10권,</td>\n",
       "      <td>0</td>\n",
       "    </tr>\n",
       "  </tbody>\n",
       "</table>\n",
       "</div>"
      ],
      "text/plain": [
       "      Unnamed: 0 district                        address  \\\n",
       "2723        2731      中野区          東京都中野区中野三丁目2321 コーポ池田   \n",
       "775          783      葛飾区          千葉県松戸市栗山121-24. 102号室   \n",
       "2961        2972     東村山市               東京都東村山市本町一丁目1324   \n",
       "3241        3257      新宿区   東京都新宿区南元町4-57 アクサスレジデンス外苑 1階   \n",
       "702          705      狛江市       東京都狛江市岩戸北三丁目196（フラットえびす）   \n",
       "2058        2066     八王子市            東京都八王子市南大沢二丁目206-21   \n",
       "2527        2535      新宿区               東京都新宿区歌舞伎町二丁目396   \n",
       "2196        2204     武蔵野市       東京都武蔵野市桜堤一丁目6-31 ハイツエイト2   \n",
       "2943        2954      青梅市                 東京都青梅市東青梅三丁目85   \n",
       "1021        1029     千代田区  東京都千代田区飯田橋四丁目5-14 飯田橋サンポーロハイツ   \n",
       "\n",
       "                                                   info         date  \\\n",
       "2723                  2階 角部屋 心理的瑕疵あり 2018年6月内装一部リフォーム済み   平成30年4月22日   \n",
       "775                                              告知事項有り      平成28年5月   \n",
       "2961  ２２２号室は告知事項あり、室内全体の補修工事が行われたらしいが、どのようなことがあったのか不...     令和2年2月1日   \n",
       "3241                                             告知事項あり       2020年頃   \n",
       "702            警察が来て、ブルーシートに遺体を乗せてワゴン車で運び出した。事件性の可否は不明。   2016２月か３月頃   \n",
       "2058            グランツ フリーデ 303号室 アパマンショップ橋本店より\\r\\n告知事項あり           不明   \n",
       "2527                                             1F 首吊り       2010年頃   \n",
       "2196  2階 角部屋 南向き1K（洋室7帖、K3帖） 専有面積23㎡\\r\\n告知事項あり\\r\\n20...     令和4年6月1日   \n",
       "2943  告知事項あり。業者は全オーナーが病死と伝えてきたが、正確には前々オーナーが自殺、全オーナーが...  2018年時点での情報   \n",
       "1021  10階 分譲賃貸 南西向き1LDK（LDK10帖、洋室6帖） 専有面積37.39㎡ 賃料12...    令和4年9月24日   \n",
       "\n",
       "                    full name   latitude   longitude  \\\n",
       "2723           東京都 中野区 中野 三丁目  35.702892  139.663330   \n",
       "775          千葉県 松戸市 栗山 121番地  35.756519  139.898697   \n",
       "2961          東京都 東村山市 本町 一丁目  35.754921  139.467194   \n",
       "3241          東京都 新宿区 南元町 4番地  35.681904  139.723328   \n",
       "702           東京都 狛江市 岩戸 北三丁目  35.633904  139.583282   \n",
       "2058   東京都 八王子市 南大沢 二丁目 206番地  35.612087  139.384445   \n",
       "2527         東京都 新宿区 歌舞伎町 二丁目  35.696556  139.703827   \n",
       "2196   東京都 武蔵野市 桜堤 一丁目 6番 31号  35.709641  139.537628   \n",
       "2943          東京都 青梅市 東青梅 三丁目  35.789589  139.277374   \n",
       "1021  東京都 千代田区 飯田橋 四丁目 5番 14号  35.700638  139.747498   \n",
       "\n",
       "                                             translated  labels  \n",
       "2723             2층 가방적용적하적 있어 2018년 6월 인테리어 일부 리모델링 완료       0  \n",
       "775                                             공고사항 있음       0  \n",
       "2961  1호실은 공지사항이며 실내 전체 보수공사가 이루어졌다고 하는데 어떤 일이 있었는지 알 수       0  \n",
       "3241                                               공고사항       0  \n",
       "702        경찰이 와서 블루 시트에 시신을 태우고 와곡 차로 옮겼다.사건 가능성은 불투명.       0  \n",
       "2058                      그란츠 프리데 303호실 아파마시 숍하모토점에서 공지       0  \n",
       "2527                                              1F 목살       0  \n",
       "2196                         2층 각방 남향 1K, 1룸 7첩, K3쪽(전유       0  \n",
       "2943    공지사항 있음. 업체는 전 주인이 사망이라고 전했지만, 정확하게는 전 주인이 자살하고       0  \n",
       "1021                        10층 분양 임대남향NDWLK 1L(DLK10권,       0  "
      ]
     },
     "execution_count": 40,
     "metadata": {},
     "output_type": "execute_result"
    }
   ],
   "source": [
    "oshima_kmeans[oshima_kmeans['labels']==0].sample(10)    # 기타"
   ]
  },
  {
   "cell_type": "code",
   "execution_count": 44,
   "metadata": {
    "colab": {
     "base_uri": "https://localhost:8080/",
     "height": 563
    },
    "executionInfo": {
     "elapsed": 275,
     "status": "ok",
     "timestamp": 1691586927354,
     "user": {
      "displayName": "진현두",
      "userId": "16930706332906801095"
     },
     "user_tz": -540
    },
    "id": "0_PkMJvgTUXh",
    "outputId": "9596620c-acab-4b5a-8701-c16dde07d0f7"
   },
   "outputs": [
    {
     "data": {
      "text/html": [
       "<div>\n",
       "<style scoped>\n",
       "    .dataframe tbody tr th:only-of-type {\n",
       "        vertical-align: middle;\n",
       "    }\n",
       "\n",
       "    .dataframe tbody tr th {\n",
       "        vertical-align: top;\n",
       "    }\n",
       "\n",
       "    .dataframe thead th {\n",
       "        text-align: right;\n",
       "    }\n",
       "</style>\n",
       "<table border=\"1\" class=\"dataframe\">\n",
       "  <thead>\n",
       "    <tr style=\"text-align: right;\">\n",
       "      <th></th>\n",
       "      <th>Unnamed: 0</th>\n",
       "      <th>district</th>\n",
       "      <th>address</th>\n",
       "      <th>info</th>\n",
       "      <th>date</th>\n",
       "      <th>full name</th>\n",
       "      <th>latitude</th>\n",
       "      <th>longitude</th>\n",
       "      <th>translated</th>\n",
       "      <th>labels</th>\n",
       "    </tr>\n",
       "  </thead>\n",
       "  <tbody>\n",
       "    <tr>\n",
       "      <th>4425</th>\n",
       "      <td>4441</td>\n",
       "      <td>大田区</td>\n",
       "      <td>神奈川県川崎市川崎区堀之内町13−41</td>\n",
       "      <td>105号室にて腐乱死体発見</td>\n",
       "      <td>平成30年7月9日</td>\n",
       "      <td>神奈川県 川崎市 川崎区 堀之内町 13番</td>\n",
       "      <td>35.534088</td>\n",
       "      <td>139.706467</td>\n",
       "      <td>105호실에서 부패사체 발견</td>\n",
       "      <td>1</td>\n",
       "    </tr>\n",
       "    <tr>\n",
       "      <th>318</th>\n",
       "      <td>318</td>\n",
       "      <td>新宿区</td>\n",
       "      <td>東京都新宿区新宿五丁目189 シンエイ商会</td>\n",
       "      <td>倉庫2階 腐乱死体発見</td>\n",
       "      <td>平成22年5月31日</td>\n",
       "      <td>東京都 新宿区 新宿 五丁目</td>\n",
       "      <td>35.693169</td>\n",
       "      <td>139.707870</td>\n",
       "      <td>창고 2층 부패사체 발견</td>\n",
       "      <td>1</td>\n",
       "    </tr>\n",
       "    <tr>\n",
       "      <th>38</th>\n",
       "      <td>38</td>\n",
       "      <td>新宿区</td>\n",
       "      <td>東京都新宿区歌舞伎町二丁目9−１５</td>\n",
       "      <td>401号、病死</td>\n",
       "      <td>26年5月</td>\n",
       "      <td>東京都 新宿区 歌舞伎町 二丁目 9番 15号</td>\n",
       "      <td>35.695618</td>\n",
       "      <td>139.705643</td>\n",
       "      <td>401호, 병살</td>\n",
       "      <td>1</td>\n",
       "    </tr>\n",
       "    <tr>\n",
       "      <th>3802</th>\n",
       "      <td>3818</td>\n",
       "      <td>台東区</td>\n",
       "      <td>東京都台東区浅草橋四丁目14-4</td>\n",
       "      <td>リブラン今井303号\\r\\n孤高死</td>\n",
       "      <td>2017年6月7日</td>\n",
       "      <td>東京都 台東区 浅草橋 四丁目 14番 4号</td>\n",
       "      <td>35.698448</td>\n",
       "      <td>139.780853</td>\n",
       "      <td>립란 이마이303호 고고사</td>\n",
       "      <td>1</td>\n",
       "    </tr>\n",
       "    <tr>\n",
       "      <th>1605</th>\n",
       "      <td>1613</td>\n",
       "      <td>目黒区</td>\n",
       "      <td>東京都品川区小山六丁目1第5開成荘</td>\n",
       "      <td>近所の人の話\\r\\n灯油をかぶって焼身自殺があったそうです。</td>\n",
       "      <td>15年位前</td>\n",
       "      <td>東京都 品川区 小山 六丁目 1番</td>\n",
       "      <td>35.614887</td>\n",
       "      <td>139.698029</td>\n",
       "      <td>이웃 사람의 화투불을 피워서 불산 자살이 있었다고 합니다.</td>\n",
       "      <td>1</td>\n",
       "    </tr>\n",
       "    <tr>\n",
       "      <th>4196</th>\n",
       "      <td>4212</td>\n",
       "      <td>世田谷区</td>\n",
       "      <td>東京都世田谷区南烏山四丁目14-22</td>\n",
       "      <td>201号室で亡くなった方がいたという告知事項あり。</td>\n",
       "      <td>2022年6月</td>\n",
       "      <td>東京都 世田谷区 南烏山 四丁目 14番 22号</td>\n",
       "      <td>35.670574</td>\n",
       "      <td>139.600952</td>\n",
       "      <td>201호실에서 돌아가신 분이 있었다는 공지사항 있습니다.</td>\n",
       "      <td>1</td>\n",
       "    </tr>\n",
       "    <tr>\n",
       "      <th>3404</th>\n",
       "      <td>3420</td>\n",
       "      <td>足立区</td>\n",
       "      <td>東京都足立区花畑八丁目五丁目21-410</td>\n",
       "      <td>一人暮らしの年配の男性がトイレで首吊り自殺</td>\n",
       "      <td>2000年～2010年の間</td>\n",
       "      <td>東京都 足立区 花畑 八丁目 5番</td>\n",
       "      <td>35.813137</td>\n",
       "      <td>139.821381</td>\n",
       "      <td>혼자 사는 나이든 남자가 화장실에서 숨지고 자살한</td>\n",
       "      <td>1</td>\n",
       "    </tr>\n",
       "    <tr>\n",
       "      <th>4608</th>\n",
       "      <td>4624</td>\n",
       "      <td>渋谷区</td>\n",
       "      <td>東京都港区白金五丁目10-8</td>\n",
       "      <td>一人暮らしの女性の腐乱死体が発見</td>\n",
       "      <td>2020年3月</td>\n",
       "      <td>東京都 港区 白金 五丁目 10番</td>\n",
       "      <td>35.644810</td>\n",
       "      <td>139.724747</td>\n",
       "      <td>혼자 사는 여성의 부패사체가 발견</td>\n",
       "      <td>1</td>\n",
       "    </tr>\n",
       "    <tr>\n",
       "      <th>3407</th>\n",
       "      <td>3423</td>\n",
       "      <td>足立区</td>\n",
       "      <td>東京都足立区花畑八丁目8番地２１号棟</td>\n",
       "      <td>飛び降り自殺数件</td>\n",
       "      <td>2001年 9月 他</td>\n",
       "      <td>東京都 足立区 花畑 八丁目 8番</td>\n",
       "      <td>35.811661</td>\n",
       "      <td>139.823578</td>\n",
       "      <td>비명 자살 몇 건</td>\n",
       "      <td>1</td>\n",
       "    </tr>\n",
       "    <tr>\n",
       "      <th>649</th>\n",
       "      <td>650</td>\n",
       "      <td>国分寺市</td>\n",
       "      <td>東京都国分寺市戸倉一丁目825 PlaceK</td>\n",
       "      <td>5階 角部屋\\r\\n告知事項有り</td>\n",
       "      <td>令和4年10月6日</td>\n",
       "      <td>東京都 国分寺市 戸倉 一丁目</td>\n",
       "      <td>35.712097</td>\n",
       "      <td>139.461227</td>\n",
       "      <td>5층 각방고시사항 있음</td>\n",
       "      <td>1</td>\n",
       "    </tr>\n",
       "  </tbody>\n",
       "</table>\n",
       "</div>"
      ],
      "text/plain": [
       "      Unnamed: 0 district                 address  \\\n",
       "4425        4441      大田区     神奈川県川崎市川崎区堀之内町13−41   \n",
       "318          318      新宿区   東京都新宿区新宿五丁目189 シンエイ商会   \n",
       "38            38      新宿区       東京都新宿区歌舞伎町二丁目9−１５   \n",
       "3802        3818      台東区        東京都台東区浅草橋四丁目14-4   \n",
       "1605        1613      目黒区       東京都品川区小山六丁目1第5開成荘   \n",
       "4196        4212     世田谷区      東京都世田谷区南烏山四丁目14-22   \n",
       "3404        3420      足立区    東京都足立区花畑八丁目五丁目21-410   \n",
       "4608        4624      渋谷区          東京都港区白金五丁目10-8   \n",
       "3407        3423      足立区      東京都足立区花畑八丁目8番地２１号棟   \n",
       "649          650     国分寺市  東京都国分寺市戸倉一丁目825 PlaceK   \n",
       "\n",
       "                                info           date                 full name  \\\n",
       "4425                   105号室にて腐乱死体発見      平成30年7月9日     神奈川県 川崎市 川崎区 堀之内町 13番   \n",
       "318                      倉庫2階 腐乱死体発見     平成22年5月31日            東京都 新宿区 新宿 五丁目   \n",
       "38                           401号、病死          26年5月   東京都 新宿区 歌舞伎町 二丁目 9番 15号   \n",
       "3802               リブラン今井303号\\r\\n孤高死      2017年6月7日    東京都 台東区 浅草橋 四丁目 14番 4号   \n",
       "1605  近所の人の話\\r\\n灯油をかぶって焼身自殺があったそうです。          15年位前         東京都 品川区 小山 六丁目 1番   \n",
       "4196       201号室で亡くなった方がいたという告知事項あり。        2022年6月  東京都 世田谷区 南烏山 四丁目 14番 22号   \n",
       "3404           一人暮らしの年配の男性がトイレで首吊り自殺  2000年～2010年の間         東京都 足立区 花畑 八丁目 5番   \n",
       "4608                一人暮らしの女性の腐乱死体が発見        2020年3月         東京都 港区 白金 五丁目 10番   \n",
       "3407                        飛び降り自殺数件     2001年 9月 他         東京都 足立区 花畑 八丁目 8番   \n",
       "649                 5階 角部屋\\r\\n告知事項有り      令和4年10月6日           東京都 国分寺市 戸倉 一丁目   \n",
       "\n",
       "       latitude   longitude                        translated  labels  \n",
       "4425  35.534088  139.706467                   105호실에서 부패사체 발견       1  \n",
       "318   35.693169  139.707870                     창고 2층 부패사체 발견       1  \n",
       "38    35.695618  139.705643                          401호, 병살       1  \n",
       "3802  35.698448  139.780853                    립란 이마이303호 고고사       1  \n",
       "1605  35.614887  139.698029  이웃 사람의 화투불을 피워서 불산 자살이 있었다고 합니다.       1  \n",
       "4196  35.670574  139.600952   201호실에서 돌아가신 분이 있었다는 공지사항 있습니다.       1  \n",
       "3404  35.813137  139.821381       혼자 사는 나이든 남자가 화장실에서 숨지고 자살한       1  \n",
       "4608  35.644810  139.724747                혼자 사는 여성의 부패사체가 발견       1  \n",
       "3407  35.811661  139.823578                         비명 자살 몇 건       1  \n",
       "649   35.712097  139.461227                      5층 각방고시사항 있음       1  "
      ]
     },
     "execution_count": 44,
     "metadata": {},
     "output_type": "execute_result"
    }
   ],
   "source": [
    "oshima_kmeans[oshima_kmeans['labels']==1].sample(10)    # 사체 발견"
   ]
  },
  {
   "cell_type": "code",
   "execution_count": 36,
   "metadata": {
    "colab": {
     "base_uri": "https://localhost:8080/",
     "height": 667
    },
    "executionInfo": {
     "elapsed": 251,
     "status": "ok",
     "timestamp": 1691586942672,
     "user": {
      "displayName": "진현두",
      "userId": "16930706332906801095"
     },
     "user_tz": -540
    },
    "id": "Ktzm5eq6TyQP",
    "outputId": "865c9cb3-0529-4ba3-bfdb-ee4627f2afa4"
   },
   "outputs": [
    {
     "data": {
      "text/html": [
       "<div>\n",
       "<style scoped>\n",
       "    .dataframe tbody tr th:only-of-type {\n",
       "        vertical-align: middle;\n",
       "    }\n",
       "\n",
       "    .dataframe tbody tr th {\n",
       "        vertical-align: top;\n",
       "    }\n",
       "\n",
       "    .dataframe thead th {\n",
       "        text-align: right;\n",
       "    }\n",
       "</style>\n",
       "<table border=\"1\" class=\"dataframe\">\n",
       "  <thead>\n",
       "    <tr style=\"text-align: right;\">\n",
       "      <th></th>\n",
       "      <th>Unnamed: 0</th>\n",
       "      <th>district</th>\n",
       "      <th>address</th>\n",
       "      <th>info</th>\n",
       "      <th>date</th>\n",
       "      <th>full name</th>\n",
       "      <th>latitude</th>\n",
       "      <th>longitude</th>\n",
       "      <th>translated</th>\n",
       "      <th>labels</th>\n",
       "    </tr>\n",
       "  </thead>\n",
       "  <tbody>\n",
       "    <tr>\n",
       "      <th>4638</th>\n",
       "      <td>4654</td>\n",
       "      <td>渋谷区</td>\n",
       "      <td>東京都渋谷区笹塚一丁目23-7コーポ万栄206</td>\n",
       "      <td>火災による死亡</td>\n",
       "      <td>令和4年10月12日</td>\n",
       "      <td>東京都 渋谷区 笹塚 一丁目 23番 7号</td>\n",
       "      <td>35.673145</td>\n",
       "      <td>139.667847</td>\n",
       "      <td>화재로 인한 사망</td>\n",
       "      <td>2</td>\n",
       "    </tr>\n",
       "    <tr>\n",
       "      <th>4572</th>\n",
       "      <td>4588</td>\n",
       "      <td>中野区</td>\n",
       "      <td>東京都練馬区豊玉南三丁目4-1豊玉南住宅1401</td>\n",
       "      <td>火災による死亡</td>\n",
       "      <td>平成19年11月28日</td>\n",
       "      <td>東京都 練馬区 豊玉 南三丁目 4番 1号</td>\n",
       "      <td>35.727222</td>\n",
       "      <td>139.653763</td>\n",
       "      <td>화재로 인한 사망</td>\n",
       "      <td>2</td>\n",
       "    </tr>\n",
       "    <tr>\n",
       "      <th>3895</th>\n",
       "      <td>3911</td>\n",
       "      <td>小平市</td>\n",
       "      <td>東京都小平市上水本町五丁目12</td>\n",
       "      <td>火災による死亡</td>\n",
       "      <td>平成23年2月19日</td>\n",
       "      <td>東京都 小平市 上水本町 五丁目 12番</td>\n",
       "      <td>35.710178</td>\n",
       "      <td>139.478500</td>\n",
       "      <td>화재로 인한 사망</td>\n",
       "      <td>2</td>\n",
       "    </tr>\n",
       "    <tr>\n",
       "      <th>132</th>\n",
       "      <td>132</td>\n",
       "      <td>板橋区</td>\n",
       "      <td>東京都荒川区荒川三丁目30-4</td>\n",
       "      <td>火災による死亡</td>\n",
       "      <td>平成21年12月24日</td>\n",
       "      <td>東京都 荒川区 荒川 三丁目 30番 4号</td>\n",
       "      <td>35.734417</td>\n",
       "      <td>139.781876</td>\n",
       "      <td>화재로 인한 사망</td>\n",
       "      <td>2</td>\n",
       "    </tr>\n",
       "    <tr>\n",
       "      <th>872</th>\n",
       "      <td>880</td>\n",
       "      <td>葛飾区</td>\n",
       "      <td>東京都足立区東綾瀬二丁目3-22シルバーピア東綾瀬6階</td>\n",
       "      <td>熱中症による死亡</td>\n",
       "      <td>平成25年7月14日</td>\n",
       "      <td>東京都 足立区 東綾瀬 二丁目 3番 22号</td>\n",
       "      <td>35.767567</td>\n",
       "      <td>139.829987</td>\n",
       "      <td>열사병에 의한 사망</td>\n",
       "      <td>2</td>\n",
       "    </tr>\n",
       "    <tr>\n",
       "      <th>3984</th>\n",
       "      <td>4000</td>\n",
       "      <td>東村山市</td>\n",
       "      <td>埼玉県所沢市下安松379-1森田コーポ305</td>\n",
       "      <td>火災による死亡</td>\n",
       "      <td>平成29年6月30日</td>\n",
       "      <td>埼玉県 所沢市 大字下安松 379番地</td>\n",
       "      <td>35.782562</td>\n",
       "      <td>139.498962</td>\n",
       "      <td>화재로 인한 사망</td>\n",
       "      <td>2</td>\n",
       "    </tr>\n",
       "    <tr>\n",
       "      <th>1810</th>\n",
       "      <td>1818</td>\n",
       "      <td>北区</td>\n",
       "      <td>東京都北区豊島五丁目4-2 UR豊島五丁目団地2号棟223</td>\n",
       "      <td>火災による死亡</td>\n",
       "      <td>平成28年7月20日</td>\n",
       "      <td>東京都 北区 豊島 五丁目 4番 2号</td>\n",
       "      <td>35.764240</td>\n",
       "      <td>139.752029</td>\n",
       "      <td>화재로 인한 사망</td>\n",
       "      <td>2</td>\n",
       "    </tr>\n",
       "    <tr>\n",
       "      <th>2203</th>\n",
       "      <td>2211</td>\n",
       "      <td>武蔵村山市</td>\n",
       "      <td>東京都武蔵村山市緑が丘一丁目都営村山アパート1126号棟203</td>\n",
       "      <td>火災による死亡</td>\n",
       "      <td>平成29年5月3日</td>\n",
       "      <td>東京都 武蔵村山市 緑が丘</td>\n",
       "      <td>35.742924</td>\n",
       "      <td>139.407913</td>\n",
       "      <td>화재로 인한 사망</td>\n",
       "      <td>2</td>\n",
       "    </tr>\n",
       "    <tr>\n",
       "      <th>2110</th>\n",
       "      <td>2118</td>\n",
       "      <td>三鷹市</td>\n",
       "      <td>東京都世田谷区北烏山七丁目28-11</td>\n",
       "      <td>火災による死亡</td>\n",
       "      <td>平成18年7月26日</td>\n",
       "      <td>東京都 世田谷区 北烏山 七丁目 28番 11号</td>\n",
       "      <td>35.681889</td>\n",
       "      <td>139.588333</td>\n",
       "      <td>화재로 인한 사망</td>\n",
       "      <td>2</td>\n",
       "    </tr>\n",
       "    <tr>\n",
       "      <th>1859</th>\n",
       "      <td>1867</td>\n",
       "      <td>北区</td>\n",
       "      <td>東京都豊島区駒込六丁目5-1アルス駒込405</td>\n",
       "      <td>火災による死亡</td>\n",
       "      <td>平成19年2月2日</td>\n",
       "      <td>東京都 豊島区 駒込 六丁目 5番 1号</td>\n",
       "      <td>35.737934</td>\n",
       "      <td>139.740631</td>\n",
       "      <td>화재로 인한 사망</td>\n",
       "      <td>2</td>\n",
       "    </tr>\n",
       "  </tbody>\n",
       "</table>\n",
       "</div>"
      ],
      "text/plain": [
       "      Unnamed: 0 district                          address      info  \\\n",
       "4638        4654      渋谷区          東京都渋谷区笹塚一丁目23-7コーポ万栄206   火災による死亡   \n",
       "4572        4588      中野区         東京都練馬区豊玉南三丁目4-1豊玉南住宅1401   火災による死亡   \n",
       "3895        3911      小平市                  東京都小平市上水本町五丁目12   火災による死亡   \n",
       "132          132      板橋区                  東京都荒川区荒川三丁目30-4   火災による死亡   \n",
       "872          880      葛飾区      東京都足立区東綾瀬二丁目3-22シルバーピア東綾瀬6階  熱中症による死亡   \n",
       "3984        4000     東村山市           埼玉県所沢市下安松379-1森田コーポ305   火災による死亡   \n",
       "1810        1818       北区    東京都北区豊島五丁目4-2 UR豊島五丁目団地2号棟223   火災による死亡   \n",
       "2203        2211    武蔵村山市  東京都武蔵村山市緑が丘一丁目都営村山アパート1126号棟203   火災による死亡   \n",
       "2110        2118      三鷹市               東京都世田谷区北烏山七丁目28-11   火災による死亡   \n",
       "1859        1867       北区           東京都豊島区駒込六丁目5-1アルス駒込405   火災による死亡   \n",
       "\n",
       "             date                 full name   latitude   longitude  \\\n",
       "4638   令和4年10月12日     東京都 渋谷区 笹塚 一丁目 23番 7号  35.673145  139.667847   \n",
       "4572  平成19年11月28日     東京都 練馬区 豊玉 南三丁目 4番 1号  35.727222  139.653763   \n",
       "3895   平成23年2月19日      東京都 小平市 上水本町 五丁目 12番  35.710178  139.478500   \n",
       "132   平成21年12月24日     東京都 荒川区 荒川 三丁目 30番 4号  35.734417  139.781876   \n",
       "872    平成25年7月14日    東京都 足立区 東綾瀬 二丁目 3番 22号  35.767567  139.829987   \n",
       "3984   平成29年6月30日       埼玉県 所沢市 大字下安松 379番地  35.782562  139.498962   \n",
       "1810   平成28年7月20日       東京都 北区 豊島 五丁目 4番 2号  35.764240  139.752029   \n",
       "2203    平成29年5月3日             東京都 武蔵村山市 緑が丘  35.742924  139.407913   \n",
       "2110   平成18年7月26日  東京都 世田谷区 北烏山 七丁目 28番 11号  35.681889  139.588333   \n",
       "1859    平成19年2月2日      東京都 豊島区 駒込 六丁目 5番 1号  35.737934  139.740631   \n",
       "\n",
       "      translated  labels  \n",
       "4638   화재로 인한 사망       2  \n",
       "4572   화재로 인한 사망       2  \n",
       "3895   화재로 인한 사망       2  \n",
       "132    화재로 인한 사망       2  \n",
       "872   열사병에 의한 사망       2  \n",
       "3984   화재로 인한 사망       2  \n",
       "1810   화재로 인한 사망       2  \n",
       "2203   화재로 인한 사망       2  \n",
       "2110   화재로 인한 사망       2  \n",
       "1859   화재로 인한 사망       2  "
      ]
     },
     "execution_count": 36,
     "metadata": {},
     "output_type": "execute_result"
    }
   ],
   "source": [
    "oshima_kmeans[oshima_kmeans['labels']==2].sample(10)    # 화재로 인한 사망"
   ]
  },
  {
   "cell_type": "code",
   "execution_count": 37,
   "metadata": {
    "colab": {
     "base_uri": "https://localhost:8080/",
     "height": 545
    },
    "executionInfo": {
     "elapsed": 263,
     "status": "ok",
     "timestamp": 1691586966152,
     "user": {
      "displayName": "진현두",
      "userId": "16930706332906801095"
     },
     "user_tz": -540
    },
    "id": "MxhOXeOrcDWX",
    "outputId": "bcc9fb61-08e8-4076-d5ae-93fa6060bcd9"
   },
   "outputs": [
    {
     "data": {
      "text/html": [
       "<div>\n",
       "<style scoped>\n",
       "    .dataframe tbody tr th:only-of-type {\n",
       "        vertical-align: middle;\n",
       "    }\n",
       "\n",
       "    .dataframe tbody tr th {\n",
       "        vertical-align: top;\n",
       "    }\n",
       "\n",
       "    .dataframe thead th {\n",
       "        text-align: right;\n",
       "    }\n",
       "</style>\n",
       "<table border=\"1\" class=\"dataframe\">\n",
       "  <thead>\n",
       "    <tr style=\"text-align: right;\">\n",
       "      <th></th>\n",
       "      <th>Unnamed: 0</th>\n",
       "      <th>district</th>\n",
       "      <th>address</th>\n",
       "      <th>info</th>\n",
       "      <th>date</th>\n",
       "      <th>full name</th>\n",
       "      <th>latitude</th>\n",
       "      <th>longitude</th>\n",
       "      <th>translated</th>\n",
       "      <th>labels</th>\n",
       "    </tr>\n",
       "  </thead>\n",
       "  <tbody>\n",
       "    <tr>\n",
       "      <th>316</th>\n",
       "      <td>316</td>\n",
       "      <td>新宿区</td>\n",
       "      <td>東京都新宿区歌舞伎町二丁目185プラーズタワー東新宿↓</td>\n",
       "      <td>飛び降り自殺</td>\n",
       "      <td>平成25年3月9日</td>\n",
       "      <td>東京都 新宿区 歌舞伎町 二丁目</td>\n",
       "      <td>35.696556</td>\n",
       "      <td>139.703827</td>\n",
       "      <td>뛰어내리 자살</td>\n",
       "      <td>3</td>\n",
       "    </tr>\n",
       "    <tr>\n",
       "      <th>2890</th>\n",
       "      <td>2899</td>\n",
       "      <td>目黒区</td>\n",
       "      <td>東京都目黒区上目黒二丁目1720</td>\n",
       "      <td>心理的瑕疵</td>\n",
       "      <td>2012</td>\n",
       "      <td>東京都 目黒区 上目黒 二丁目</td>\n",
       "      <td>35.641190</td>\n",
       "      <td>139.696899</td>\n",
       "      <td>심리적 하자</td>\n",
       "      <td>3</td>\n",
       "    </tr>\n",
       "    <tr>\n",
       "      <th>663</th>\n",
       "      <td>666</td>\n",
       "      <td>青梅市</td>\n",
       "      <td>東京都青梅市東青梅二丁目1913 ホーユウコンフォルト東青梅 3階</td>\n",
       "      <td>心理的瑕疵有</td>\n",
       "      <td>時期不明</td>\n",
       "      <td>東京都 青梅市 東青梅 二丁目</td>\n",
       "      <td>35.791119</td>\n",
       "      <td>139.272705</td>\n",
       "      <td>심리적 하자유무</td>\n",
       "      <td>3</td>\n",
       "    </tr>\n",
       "    <tr>\n",
       "      <th>104</th>\n",
       "      <td>104</td>\n",
       "      <td>北区</td>\n",
       "      <td>大阪府堺市北区長曽根町545-1</td>\n",
       "      <td>飛び降り自殺</td>\n",
       "      <td>平成23年5月5日</td>\n",
       "      <td>大阪府 堺市 北区 長曽根町 545番地</td>\n",
       "      <td>34.563553</td>\n",
       "      <td>135.514175</td>\n",
       "      <td>뛰어내리 자살</td>\n",
       "      <td>3</td>\n",
       "    </tr>\n",
       "    <tr>\n",
       "      <th>478</th>\n",
       "      <td>478</td>\n",
       "      <td>中央区</td>\n",
       "      <td>兵庫県神戸市中央区雲井通三丁目6</td>\n",
       "      <td>自殺</td>\n",
       "      <td>2001年3月以降</td>\n",
       "      <td>兵庫県 神戸市 中央区 雲井通 三丁目 6番</td>\n",
       "      <td>34.696602</td>\n",
       "      <td>135.199570</td>\n",
       "      <td>자살</td>\n",
       "      <td>3</td>\n",
       "    </tr>\n",
       "    <tr>\n",
       "      <th>1022</th>\n",
       "      <td>1030</td>\n",
       "      <td>千代田区</td>\n",
       "      <td>東京都千代田区飯田橋四丁目4-13</td>\n",
       "      <td>自殺</td>\n",
       "      <td>2017年初旬</td>\n",
       "      <td>東京都 千代田区 飯田橋 四丁目 4番 13号</td>\n",
       "      <td>35.700062</td>\n",
       "      <td>139.747330</td>\n",
       "      <td>자살</td>\n",
       "      <td>3</td>\n",
       "    </tr>\n",
       "    <tr>\n",
       "      <th>2226</th>\n",
       "      <td>2234</td>\n",
       "      <td>青梅市</td>\n",
       "      <td>東京都羽村市小作台五丁目24-1</td>\n",
       "      <td>孤高死</td>\n",
       "      <td>2017~2018</td>\n",
       "      <td>東京都 羽村市 小作台 五丁目 24番</td>\n",
       "      <td>35.773674</td>\n",
       "      <td>139.304138</td>\n",
       "      <td>고고사</td>\n",
       "      <td>3</td>\n",
       "    </tr>\n",
       "    <tr>\n",
       "      <th>4730</th>\n",
       "      <td>4746</td>\n",
       "      <td>調布市</td>\n",
       "      <td>東京都調布市仙川町二丁目7-22マンション仙川アゼリア9階共用通路↓</td>\n",
       "      <td>飛び降り自殺</td>\n",
       "      <td>平成25年1月30日</td>\n",
       "      <td>東京都 調布市 仙川町 二丁目 7番</td>\n",
       "      <td>35.662502</td>\n",
       "      <td>139.581192</td>\n",
       "      <td>뛰어내리 자살</td>\n",
       "      <td>3</td>\n",
       "    </tr>\n",
       "    <tr>\n",
       "      <th>2588</th>\n",
       "      <td>2596</td>\n",
       "      <td>新宿区</td>\n",
       "      <td>東京都新宿区歌舞伎町二丁目215</td>\n",
       "      <td>飛び降り自殺</td>\n",
       "      <td>平成30年10月12日</td>\n",
       "      <td>東京都 新宿区 歌舞伎町 二丁目</td>\n",
       "      <td>35.696556</td>\n",
       "      <td>139.703827</td>\n",
       "      <td>뛰어내리 자살</td>\n",
       "      <td>3</td>\n",
       "    </tr>\n",
       "    <tr>\n",
       "      <th>987</th>\n",
       "      <td>995</td>\n",
       "      <td>千代田区</td>\n",
       "      <td>東京都港区新橋一丁目18-6</td>\n",
       "      <td>飛び降り自殺？</td>\n",
       "      <td>平成30年1月5日</td>\n",
       "      <td>東京都 港区 新橋 一丁目 18番</td>\n",
       "      <td>35.668629</td>\n",
       "      <td>139.755844</td>\n",
       "      <td>뛰어내리는 자살!</td>\n",
       "      <td>3</td>\n",
       "    </tr>\n",
       "  </tbody>\n",
       "</table>\n",
       "</div>"
      ],
      "text/plain": [
       "      Unnamed: 0 district                             address     info  \\\n",
       "316          316      新宿区         東京都新宿区歌舞伎町二丁目185プラーズタワー東新宿↓   飛び降り自殺   \n",
       "2890        2899      目黒区                    東京都目黒区上目黒二丁目1720    心理的瑕疵   \n",
       "663          666      青梅市   東京都青梅市東青梅二丁目1913 ホーユウコンフォルト東青梅 3階   心理的瑕疵有   \n",
       "104          104       北区                    大阪府堺市北区長曽根町545-1   飛び降り自殺   \n",
       "478          478      中央区                    兵庫県神戸市中央区雲井通三丁目6       自殺   \n",
       "1022        1030     千代田区                   東京都千代田区飯田橋四丁目4-13       自殺   \n",
       "2226        2234      青梅市                    東京都羽村市小作台五丁目24-1      孤高死   \n",
       "4730        4746      調布市  東京都調布市仙川町二丁目7-22マンション仙川アゼリア9階共用通路↓   飛び降り自殺   \n",
       "2588        2596      新宿区                    東京都新宿区歌舞伎町二丁目215   飛び降り自殺   \n",
       "987          995     千代田区                      東京都港区新橋一丁目18-6  飛び降り自殺？   \n",
       "\n",
       "             date                full name   latitude   longitude translated  \\\n",
       "316     平成25年3月9日         東京都 新宿区 歌舞伎町 二丁目  35.696556  139.703827    뛰어내리 자살   \n",
       "2890         2012          東京都 目黒区 上目黒 二丁目  35.641190  139.696899     심리적 하자   \n",
       "663          時期不明          東京都 青梅市 東青梅 二丁目  35.791119  139.272705   심리적 하자유무   \n",
       "104     平成23年5月5日     大阪府 堺市 北区 長曽根町 545番地  34.563553  135.514175    뛰어내리 자살   \n",
       "478     2001年3月以降   兵庫県 神戸市 中央区 雲井通 三丁目 6番  34.696602  135.199570         자살   \n",
       "1022      2017年初旬  東京都 千代田区 飯田橋 四丁目 4番 13号  35.700062  139.747330         자살   \n",
       "2226    2017~2018      東京都 羽村市 小作台 五丁目 24番  35.773674  139.304138        고고사   \n",
       "4730   平成25年1月30日       東京都 調布市 仙川町 二丁目 7番  35.662502  139.581192    뛰어내리 자살   \n",
       "2588  平成30年10月12日         東京都 新宿区 歌舞伎町 二丁目  35.696556  139.703827    뛰어내리 자살   \n",
       "987     平成30年1月5日        東京都 港区 新橋 一丁目 18番  35.668629  139.755844  뛰어내리는 자살!   \n",
       "\n",
       "      labels  \n",
       "316        3  \n",
       "2890       3  \n",
       "663        3  \n",
       "104        3  \n",
       "478        3  \n",
       "1022       3  \n",
       "2226       3  \n",
       "4730       3  \n",
       "2588       3  \n",
       "987        3  "
      ]
     },
     "execution_count": 37,
     "metadata": {},
     "output_type": "execute_result"
    }
   ],
   "source": [
    "oshima_kmeans[oshima_kmeans['labels']==3].sample(10)    # 투신자살"
   ]
  },
  {
   "cell_type": "code",
   "execution_count": 42,
   "metadata": {
    "colab": {
     "base_uri": "https://localhost:8080/",
     "height": 493
    },
    "executionInfo": {
     "elapsed": 2,
     "status": "ok",
     "timestamp": 1691586994062,
     "user": {
      "displayName": "진현두",
      "userId": "16930706332906801095"
     },
     "user_tz": -540
    },
    "id": "53GvdTd-cIub",
    "outputId": "8bd8b346-e2b4-46ca-ca47-22a44a677bb1"
   },
   "outputs": [
    {
     "data": {
      "text/html": [
       "<div>\n",
       "<style scoped>\n",
       "    .dataframe tbody tr th:only-of-type {\n",
       "        vertical-align: middle;\n",
       "    }\n",
       "\n",
       "    .dataframe tbody tr th {\n",
       "        vertical-align: top;\n",
       "    }\n",
       "\n",
       "    .dataframe thead th {\n",
       "        text-align: right;\n",
       "    }\n",
       "</style>\n",
       "<table border=\"1\" class=\"dataframe\">\n",
       "  <thead>\n",
       "    <tr style=\"text-align: right;\">\n",
       "      <th></th>\n",
       "      <th>Unnamed: 0</th>\n",
       "      <th>district</th>\n",
       "      <th>address</th>\n",
       "      <th>info</th>\n",
       "      <th>date</th>\n",
       "      <th>full name</th>\n",
       "      <th>latitude</th>\n",
       "      <th>longitude</th>\n",
       "      <th>translated</th>\n",
       "      <th>labels</th>\n",
       "    </tr>\n",
       "  </thead>\n",
       "  <tbody>\n",
       "    <tr>\n",
       "      <th>1814</th>\n",
       "      <td>1822</td>\n",
       "      <td>北区</td>\n",
       "      <td>東京都北区豊島五丁目5-8号棟５１２</td>\n",
       "      <td>特別募集</td>\n",
       "      <td>不明</td>\n",
       "      <td>東京都 北区 豊島 五丁目 5番 8号</td>\n",
       "      <td>35.763367</td>\n",
       "      <td>139.753998</td>\n",
       "      <td>특별모집</td>\n",
       "      <td>4</td>\n",
       "    </tr>\n",
       "    <tr>\n",
       "      <th>1289</th>\n",
       "      <td>1297</td>\n",
       "      <td>荒川区</td>\n",
       "      <td>東京都荒川区東尾久一丁目5-22</td>\n",
       "      <td>老人男性の孤高死</td>\n",
       "      <td>2013年夏頃</td>\n",
       "      <td>東京都 荒川区 東尾久 一丁目 5番 22号</td>\n",
       "      <td>35.738865</td>\n",
       "      <td>139.772888</td>\n",
       "      <td>노인성 고고령사</td>\n",
       "      <td>4</td>\n",
       "    </tr>\n",
       "    <tr>\n",
       "      <th>214</th>\n",
       "      <td>214</td>\n",
       "      <td>狛江市</td>\n",
       "      <td>東京都狛江市和泉本町一丁目13-16</td>\n",
       "      <td>遺体発見</td>\n",
       "      <td>平成30年1月28日</td>\n",
       "      <td>東京都 狛江市 和泉本町 一丁目 13番 16号</td>\n",
       "      <td>35.638565</td>\n",
       "      <td>139.579391</td>\n",
       "      <td>시신 발견</td>\n",
       "      <td>4</td>\n",
       "    </tr>\n",
       "    <tr>\n",
       "      <th>788</th>\n",
       "      <td>796</td>\n",
       "      <td>葛飾区</td>\n",
       "      <td>東京都江戸川区北小岩七丁目19-2</td>\n",
       "      <td>心理的瑕疵物件あり</td>\n",
       "      <td>平成17年9月1日</td>\n",
       "      <td>東京都 江戸川区 北小岩 七丁目 19番 2号</td>\n",
       "      <td>35.744682</td>\n",
       "      <td>139.891098</td>\n",
       "      <td>심리적 하자물건</td>\n",
       "      <td>4</td>\n",
       "    </tr>\n",
       "    <tr>\n",
       "      <th>1945</th>\n",
       "      <td>1953</td>\n",
       "      <td>立川市</td>\n",
       "      <td>東京都立川市幸町六丁目34-10ＵＲ立川幸町団地12号棟203号室</td>\n",
       "      <td>特別募集住宅</td>\n",
       "      <td>不明</td>\n",
       "      <td>東京都 立川市 幸町 六丁目 34番</td>\n",
       "      <td>35.727779</td>\n",
       "      <td>139.426849</td>\n",
       "      <td>특별모집주택</td>\n",
       "      <td>4</td>\n",
       "    </tr>\n",
       "    <tr>\n",
       "      <th>1416</th>\n",
       "      <td>1424</td>\n",
       "      <td>町田市</td>\n",
       "      <td>神奈川県大和市下鶴間806-18ブルーメゾンつきみ野201</td>\n",
       "      <td>傷害致死</td>\n",
       "      <td>平成30年8月22日</td>\n",
       "      <td>神奈川県 大和市 下鶴間 806番地</td>\n",
       "      <td>35.506287</td>\n",
       "      <td>139.463959</td>\n",
       "      <td>상해치사</td>\n",
       "      <td>4</td>\n",
       "    </tr>\n",
       "    <tr>\n",
       "      <th>1819</th>\n",
       "      <td>1827</td>\n",
       "      <td>北区</td>\n",
       "      <td>東京都北区豊島五丁目五丁目9-919</td>\n",
       "      <td>老人の孤高死</td>\n",
       "      <td>2012年か2013年</td>\n",
       "      <td>東京都 北区 豊島 五丁目 5番</td>\n",
       "      <td>35.766319</td>\n",
       "      <td>139.752853</td>\n",
       "      <td>노인의 고독사</td>\n",
       "      <td>4</td>\n",
       "    </tr>\n",
       "    <tr>\n",
       "      <th>234</th>\n",
       "      <td>234</td>\n",
       "      <td>新宿区</td>\n",
       "      <td>東京都新宿区西新宿七丁目2231</td>\n",
       "      <td>事故死</td>\n",
       "      <td>2016</td>\n",
       "      <td>東京都 新宿区 西新宿 七丁目</td>\n",
       "      <td>35.695580</td>\n",
       "      <td>139.697235</td>\n",
       "      <td>사고</td>\n",
       "      <td>4</td>\n",
       "    </tr>\n",
       "    <tr>\n",
       "      <th>958</th>\n",
       "      <td>966</td>\n",
       "      <td>千代田区</td>\n",
       "      <td>東京都千代田区神田佐久間町一丁目27石鍋ビル↓</td>\n",
       "      <td>転落死</td>\n",
       "      <td>令和3年7月2日</td>\n",
       "      <td>東京都 千代田区 神田佐久間町 一丁目 27番地</td>\n",
       "      <td>35.698475</td>\n",
       "      <td>139.775192</td>\n",
       "      <td>회전사</td>\n",
       "      <td>4</td>\n",
       "    </tr>\n",
       "    <tr>\n",
       "      <th>3470</th>\n",
       "      <td>3486</td>\n",
       "      <td>足立区</td>\n",
       "      <td>東京都葛飾区小菅四丁目五丁目13-202</td>\n",
       "      <td>腐敗臭により発見</td>\n",
       "      <td>平成27年10月27日</td>\n",
       "      <td>東京都 葛飾区 小菅 四丁目 5番</td>\n",
       "      <td>35.759567</td>\n",
       "      <td>139.824432</td>\n",
       "      <td>부패로 인해 발견</td>\n",
       "      <td>4</td>\n",
       "    </tr>\n",
       "  </tbody>\n",
       "</table>\n",
       "</div>"
      ],
      "text/plain": [
       "      Unnamed: 0 district                            address       info  \\\n",
       "1814        1822       北区                 東京都北区豊島五丁目5-8号棟５１２       特別募集   \n",
       "1289        1297      荒川区                   東京都荒川区東尾久一丁目5-22   老人男性の孤高死   \n",
       "214          214      狛江市                 東京都狛江市和泉本町一丁目13-16       遺体発見   \n",
       "788          796      葛飾区                  東京都江戸川区北小岩七丁目19-2  心理的瑕疵物件あり   \n",
       "1945        1953      立川市  東京都立川市幸町六丁目34-10ＵＲ立川幸町団地12号棟203号室     特別募集住宅   \n",
       "1416        1424      町田市      神奈川県大和市下鶴間806-18ブルーメゾンつきみ野201       傷害致死   \n",
       "1819        1827       北区                 東京都北区豊島五丁目五丁目9-919     老人の孤高死   \n",
       "234          234      新宿区                   東京都新宿区西新宿七丁目2231        事故死   \n",
       "958          966     千代田区            東京都千代田区神田佐久間町一丁目27石鍋ビル↓        転落死   \n",
       "3470        3486      足立区               東京都葛飾区小菅四丁目五丁目13-202   腐敗臭により発見   \n",
       "\n",
       "             date                 full name   latitude   longitude translated  \\\n",
       "1814           不明       東京都 北区 豊島 五丁目 5番 8号  35.763367  139.753998       특별모집   \n",
       "1289      2013年夏頃    東京都 荒川区 東尾久 一丁目 5番 22号  35.738865  139.772888   노인성 고고령사   \n",
       "214    平成30年1月28日  東京都 狛江市 和泉本町 一丁目 13番 16号  35.638565  139.579391      시신 발견   \n",
       "788     平成17年9月1日   東京都 江戸川区 北小岩 七丁目 19番 2号  35.744682  139.891098   심리적 하자물건   \n",
       "1945           不明        東京都 立川市 幸町 六丁目 34番  35.727779  139.426849     특별모집주택   \n",
       "1416   平成30年8月22日        神奈川県 大和市 下鶴間 806番地  35.506287  139.463959       상해치사   \n",
       "1819  2012年か2013年          東京都 北区 豊島 五丁目 5番  35.766319  139.752853    노인의 고독사   \n",
       "234          2016           東京都 新宿区 西新宿 七丁目  35.695580  139.697235         사고   \n",
       "958      令和3年7月2日  東京都 千代田区 神田佐久間町 一丁目 27番地  35.698475  139.775192        회전사   \n",
       "3470  平成27年10月27日         東京都 葛飾区 小菅 四丁目 5番  35.759567  139.824432  부패로 인해 발견   \n",
       "\n",
       "      labels  \n",
       "1814       4  \n",
       "1289       4  \n",
       "214        4  \n",
       "788        4  \n",
       "1945       4  \n",
       "1416       4  \n",
       "1819       4  \n",
       "234        4  \n",
       "958        4  \n",
       "3470       4  "
      ]
     },
     "execution_count": 42,
     "metadata": {},
     "output_type": "execute_result"
    }
   ],
   "source": [
    "oshima_kmeans[oshima_kmeans['labels']==4].sample(10)    # 고독사"
   ]
  },
  {
   "cell_type": "code",
   "execution_count": 47,
   "metadata": {},
   "outputs": [
    {
     "data": {
      "text/html": [
       "<div>\n",
       "<style scoped>\n",
       "    .dataframe tbody tr th:only-of-type {\n",
       "        vertical-align: middle;\n",
       "    }\n",
       "\n",
       "    .dataframe tbody tr th {\n",
       "        vertical-align: top;\n",
       "    }\n",
       "\n",
       "    .dataframe thead th {\n",
       "        text-align: right;\n",
       "    }\n",
       "</style>\n",
       "<table border=\"1\" class=\"dataframe\">\n",
       "  <thead>\n",
       "    <tr style=\"text-align: right;\">\n",
       "      <th></th>\n",
       "      <th>Unnamed: 0</th>\n",
       "      <th>district</th>\n",
       "      <th>address</th>\n",
       "      <th>info</th>\n",
       "      <th>date</th>\n",
       "      <th>full name</th>\n",
       "      <th>latitude</th>\n",
       "      <th>longitude</th>\n",
       "      <th>translated</th>\n",
       "      <th>labels</th>\n",
       "    </tr>\n",
       "  </thead>\n",
       "  <tbody>\n",
       "    <tr>\n",
       "      <th>3997</th>\n",
       "      <td>4013</td>\n",
       "      <td>日野市</td>\n",
       "      <td>東京都多摩市和田1261-29</td>\n",
       "      <td>午前5時半ごろ最上階11階から女性飛び降り自殺。2階の踊り場に直撃。</td>\n",
       "      <td>6、7年前</td>\n",
       "      <td>東京都 多摩市 和田 1261番地</td>\n",
       "      <td>35.645988</td>\n",
       "      <td>139.415894</td>\n",
       "      <td>오전 5시 반경 최상층 11층에서 여성 뛰어내리며 자살. 2층 무도장에</td>\n",
       "      <td>5</td>\n",
       "    </tr>\n",
       "    <tr>\n",
       "      <th>4148</th>\n",
       "      <td>4164</td>\n",
       "      <td>板橋区</td>\n",
       "      <td>東京都豊島区池袋二丁目32-9 カーサナカムラ101号室</td>\n",
       "      <td>リビングにて首吊り自殺</td>\n",
       "      <td>令和3年3月1日</td>\n",
       "      <td>東京都 豊島区 池袋 二丁目 32番 9号</td>\n",
       "      <td>35.734432</td>\n",
       "      <td>139.706238</td>\n",
       "      <td>거실에서 목을 졸라 자살한</td>\n",
       "      <td>5</td>\n",
       "    </tr>\n",
       "    <tr>\n",
       "      <th>1104</th>\n",
       "      <td>1112</td>\n",
       "      <td>狛江市</td>\n",
       "      <td>東京都狛江市猪方四丁目12-1ビューハイツ・多摩川206</td>\n",
       "      <td>首吊り自殺</td>\n",
       "      <td>平成23年10月9日</td>\n",
       "      <td>東京都 狛江市 猪方 四丁目 12番</td>\n",
       "      <td>35.623280</td>\n",
       "      <td>139.580505</td>\n",
       "      <td>목살 자살</td>\n",
       "      <td>5</td>\n",
       "    </tr>\n",
       "    <tr>\n",
       "      <th>2541</th>\n",
       "      <td>2549</td>\n",
       "      <td>新宿区</td>\n",
       "      <td>東京都新宿区西新宿一丁目1</td>\n",
       "      <td>首吊り自殺</td>\n",
       "      <td>令和2年1月7日</td>\n",
       "      <td>東京都 新宿区 西新宿 一丁目 1番</td>\n",
       "      <td>35.688580</td>\n",
       "      <td>139.699432</td>\n",
       "      <td>목살 자살</td>\n",
       "      <td>5</td>\n",
       "    </tr>\n",
       "    <tr>\n",
       "      <th>2249</th>\n",
       "      <td>2257</td>\n",
       "      <td>あきる野市</td>\n",
       "      <td>東京都福生市南田園三丁目6-12</td>\n",
       "      <td>2013年頃\\r\\n男性 睡眠薬を飲み\\r\\n首吊り自殺</td>\n",
       "      <td>2013年頃</td>\n",
       "      <td>東京都 福生市 南田園 三丁目 6番</td>\n",
       "      <td>35.730122</td>\n",
       "      <td>139.331039</td>\n",
       "      <td>2013년경 남성 수면제를 먹고 목졸라 자살</td>\n",
       "      <td>5</td>\n",
       "    </tr>\n",
       "    <tr>\n",
       "      <th>2551</th>\n",
       "      <td>2559</td>\n",
       "      <td>新宿区</td>\n",
       "      <td>東京都新宿区歌舞伎町二丁目1414コスモ佐藤4F</td>\n",
       "      <td>首吊り自殺</td>\n",
       "      <td>平成17年</td>\n",
       "      <td>東京都 新宿区 歌舞伎町 二丁目</td>\n",
       "      <td>35.696556</td>\n",
       "      <td>139.703827</td>\n",
       "      <td>목살 자살</td>\n",
       "      <td>5</td>\n",
       "    </tr>\n",
       "    <tr>\n",
       "      <th>516</th>\n",
       "      <td>516</td>\n",
       "      <td>杉並区</td>\n",
       "      <td>東京都杉並区阿佐谷南一丁目125</td>\n",
       "      <td>高層階から中庭に飛び降り自殺</td>\n",
       "      <td>2007年ごろ</td>\n",
       "      <td>東京都 杉並区 阿佐谷 南一丁目</td>\n",
       "      <td>35.701118</td>\n",
       "      <td>139.639847</td>\n",
       "      <td>고층층에서 중당으로 뛰어내리고 자살</td>\n",
       "      <td>5</td>\n",
       "    </tr>\n",
       "    <tr>\n",
       "      <th>2500</th>\n",
       "      <td>2508</td>\n",
       "      <td>小平市</td>\n",
       "      <td>東京都立川市泉町1156-4</td>\n",
       "      <td>薬使用後に７階位の踊り場から飛び降り自殺。\\r\\n１８歳位の男性</td>\n",
       "      <td>８年位前</td>\n",
       "      <td>東京都 立川市 泉町 1156番地</td>\n",
       "      <td>35.715286</td>\n",
       "      <td>139.406281</td>\n",
       "      <td>약 사용 후 1층 높이에서 뛰어내리며 자살.</td>\n",
       "      <td>5</td>\n",
       "    </tr>\n",
       "    <tr>\n",
       "      <th>3581</th>\n",
       "      <td>3597</td>\n",
       "      <td>墨田区</td>\n",
       "      <td>東京都墨田区菊川3-3-22パレドール芙美102</td>\n",
       "      <td>首吊り自殺</td>\n",
       "      <td>2019年</td>\n",
       "      <td>東京都 墨田区 菊川 三丁目 3番 22号</td>\n",
       "      <td>35.686905</td>\n",
       "      <td>139.807724</td>\n",
       "      <td>목살 자살</td>\n",
       "      <td>5</td>\n",
       "    </tr>\n",
       "    <tr>\n",
       "      <th>2205</th>\n",
       "      <td>2213</td>\n",
       "      <td>武蔵村山市</td>\n",
       "      <td>東京都武蔵村山市緑が丘2542</td>\n",
       "      <td>深夜2時頃、マンションの８階から飛び降り自殺。\\r\\n転落防止用の金網を貫きバリアフリー用の...</td>\n",
       "      <td>2012年頃</td>\n",
       "      <td>東京都 武蔵村山市 緑が丘 2542番地</td>\n",
       "      <td>35.738750</td>\n",
       "      <td>139.407654</td>\n",
       "      <td>심야 2시쯤 1층부터 뛰어내려 자살. 추락 방지를 위한 철망 너머로</td>\n",
       "      <td>5</td>\n",
       "    </tr>\n",
       "  </tbody>\n",
       "</table>\n",
       "</div>"
      ],
      "text/plain": [
       "      Unnamed: 0 district                       address  \\\n",
       "3997        4013      日野市               東京都多摩市和田1261-29   \n",
       "4148        4164      板橋区  東京都豊島区池袋二丁目32-9 カーサナカムラ101号室   \n",
       "1104        1112      狛江市  東京都狛江市猪方四丁目12-1ビューハイツ・多摩川206   \n",
       "2541        2549      新宿区                 東京都新宿区西新宿一丁目1   \n",
       "2249        2257    あきる野市              東京都福生市南田園三丁目6-12   \n",
       "2551        2559      新宿区      東京都新宿区歌舞伎町二丁目1414コスモ佐藤4F   \n",
       "516          516      杉並区              東京都杉並区阿佐谷南一丁目125   \n",
       "2500        2508      小平市                東京都立川市泉町1156-4   \n",
       "3581        3597      墨田区      東京都墨田区菊川3-3-22パレドール芙美102   \n",
       "2205        2213    武蔵村山市               東京都武蔵村山市緑が丘2542   \n",
       "\n",
       "                                                   info        date  \\\n",
       "3997                 午前5時半ごろ最上階11階から女性飛び降り自殺。2階の踊り場に直撃。       6、7年前   \n",
       "4148                                        リビングにて首吊り自殺    令和3年3月1日   \n",
       "1104                                              首吊り自殺  平成23年10月9日   \n",
       "2541                                              首吊り自殺    令和2年1月7日   \n",
       "2249                       2013年頃\\r\\n男性 睡眠薬を飲み\\r\\n首吊り自殺      2013年頃   \n",
       "2551                                              首吊り自殺       平成17年   \n",
       "516                                      高層階から中庭に飛び降り自殺     2007年ごろ   \n",
       "2500                   薬使用後に７階位の踊り場から飛び降り自殺。\\r\\n１８歳位の男性        ８年位前   \n",
       "3581                                              首吊り自殺       2019年   \n",
       "2205  深夜2時頃、マンションの８階から飛び降り自殺。\\r\\n転落防止用の金網を貫きバリアフリー用の...      2012年頃   \n",
       "\n",
       "                  full name   latitude   longitude  \\\n",
       "3997      東京都 多摩市 和田 1261番地  35.645988  139.415894   \n",
       "4148  東京都 豊島区 池袋 二丁目 32番 9号  35.734432  139.706238   \n",
       "1104     東京都 狛江市 猪方 四丁目 12番  35.623280  139.580505   \n",
       "2541     東京都 新宿区 西新宿 一丁目 1番  35.688580  139.699432   \n",
       "2249     東京都 福生市 南田園 三丁目 6番  35.730122  139.331039   \n",
       "2551       東京都 新宿区 歌舞伎町 二丁目  35.696556  139.703827   \n",
       "516        東京都 杉並区 阿佐谷 南一丁目  35.701118  139.639847   \n",
       "2500      東京都 立川市 泉町 1156番地  35.715286  139.406281   \n",
       "3581  東京都 墨田区 菊川 三丁目 3番 22号  35.686905  139.807724   \n",
       "2205   東京都 武蔵村山市 緑が丘 2542番地  35.738750  139.407654   \n",
       "\n",
       "                                   translated  labels  \n",
       "3997  오전 5시 반경 최상층 11층에서 여성 뛰어내리며 자살. 2층 무도장에       5  \n",
       "4148                           거실에서 목을 졸라 자살한       5  \n",
       "1104                                    목살 자살       5  \n",
       "2541                                    목살 자살       5  \n",
       "2249                 2013년경 남성 수면제를 먹고 목졸라 자살       5  \n",
       "2551                                    목살 자살       5  \n",
       "516                       고층층에서 중당으로 뛰어내리고 자살       5  \n",
       "2500                 약 사용 후 1층 높이에서 뛰어내리며 자살.       5  \n",
       "3581                                    목살 자살       5  \n",
       "2205    심야 2시쯤 1층부터 뛰어내려 자살. 추락 방지를 위한 철망 너머로       5  "
      ]
     },
     "execution_count": 47,
     "metadata": {},
     "output_type": "execute_result"
    }
   ],
   "source": [
    "oshima_kmeans[oshima_kmeans['labels']==5].sample(10)    # 실내에서 자살(목졸라 사망)"
   ]
  },
  {
   "cell_type": "code",
   "execution_count": 50,
   "metadata": {},
   "outputs": [
    {
     "data": {
      "text/html": [
       "<div>\n",
       "<style scoped>\n",
       "    .dataframe tbody tr th:only-of-type {\n",
       "        vertical-align: middle;\n",
       "    }\n",
       "\n",
       "    .dataframe tbody tr th {\n",
       "        vertical-align: top;\n",
       "    }\n",
       "\n",
       "    .dataframe thead th {\n",
       "        text-align: right;\n",
       "    }\n",
       "</style>\n",
       "<table border=\"1\" class=\"dataframe\">\n",
       "  <thead>\n",
       "    <tr style=\"text-align: right;\">\n",
       "      <th></th>\n",
       "      <th>Unnamed: 0</th>\n",
       "      <th>district</th>\n",
       "      <th>address</th>\n",
       "      <th>info</th>\n",
       "      <th>date</th>\n",
       "      <th>full name</th>\n",
       "      <th>latitude</th>\n",
       "      <th>longitude</th>\n",
       "      <th>translated</th>\n",
       "      <th>labels</th>\n",
       "    </tr>\n",
       "  </thead>\n",
       "  <tbody>\n",
       "    <tr>\n",
       "      <th>514</th>\n",
       "      <td>514</td>\n",
       "      <td>杉並区</td>\n",
       "      <td>東京都杉並区成田東四丁目3518 メゾン中里</td>\n",
       "      <td>1階 心理的瑕疵あり</td>\n",
       "      <td>平成30年11月6日</td>\n",
       "      <td>東京都 杉並区 成田 東四丁目</td>\n",
       "      <td>35.696785</td>\n",
       "      <td>139.636108</td>\n",
       "      <td>1층 심리적 하자 있음.</td>\n",
       "      <td>6</td>\n",
       "    </tr>\n",
       "    <tr>\n",
       "      <th>1537</th>\n",
       "      <td>1545</td>\n",
       "      <td>西東京市</td>\n",
       "      <td>東京都小平市花小金井南町二丁目九丁目34-4</td>\n",
       "      <td>孤高死があった模様</td>\n",
       "      <td>2020年6月</td>\n",
       "      <td>東京都 小平市 花小金井南町 二丁目 9番</td>\n",
       "      <td>35.721313</td>\n",
       "      <td>139.517654</td>\n",
       "      <td>고고한 죽음이 있었던 모양입니다.</td>\n",
       "      <td>6</td>\n",
       "    </tr>\n",
       "    <tr>\n",
       "      <th>64</th>\n",
       "      <td>64</td>\n",
       "      <td>豊島区</td>\n",
       "      <td>東京都豊島区南池袋二丁目9-17ニッシンパレステージ池袋804</td>\n",
       "      <td>男性の変死体発見</td>\n",
       "      <td>2018年６月</td>\n",
       "      <td>東京都 豊島区 南池袋 二丁目 9番 17号</td>\n",
       "      <td>35.725307</td>\n",
       "      <td>139.714676</td>\n",
       "      <td>남성의 변사체 발견</td>\n",
       "      <td>6</td>\n",
       "    </tr>\n",
       "    <tr>\n",
       "      <th>1832</th>\n",
       "      <td>1840</td>\n",
       "      <td>北区</td>\n",
       "      <td>東京都北区豊島一丁目21-13 新橋ハイツ</td>\n",
       "      <td>201号室 角部屋\\r\\n告知事項あり</td>\n",
       "      <td>令和4年9月16日</td>\n",
       "      <td>東京都 北区 豊島 一丁目 21番 13号</td>\n",
       "      <td>35.758060</td>\n",
       "      <td>139.740738</td>\n",
       "      <td>2016호실 각 방안내사항</td>\n",
       "      <td>6</td>\n",
       "    </tr>\n",
       "    <tr>\n",
       "      <th>606</th>\n",
       "      <td>607</td>\n",
       "      <td>足立区</td>\n",
       "      <td>東京都足立区梅島一丁目246 シティーフラッツ</td>\n",
       "      <td>203号室\\r\\n告知事項有</td>\n",
       "      <td>令和4年5月24日</td>\n",
       "      <td>東京都 足立区 梅島 一丁目</td>\n",
       "      <td>35.772495</td>\n",
       "      <td>139.800705</td>\n",
       "      <td>203호실 공지사항유</td>\n",
       "      <td>6</td>\n",
       "    </tr>\n",
       "    <tr>\n",
       "      <th>1387</th>\n",
       "      <td>1395</td>\n",
       "      <td>町田市</td>\n",
       "      <td>東京都町田市能ヶ谷一丁目15-22 コーポ神蔵</td>\n",
       "      <td>202号室\\r\\n告知事項あり</td>\n",
       "      <td>令和4年5月30日</td>\n",
       "      <td>東京都 町田市 能ヶ谷 一丁目 15番</td>\n",
       "      <td>35.582630</td>\n",
       "      <td>139.481049</td>\n",
       "      <td>202호실 공지사항</td>\n",
       "      <td>6</td>\n",
       "    </tr>\n",
       "    <tr>\n",
       "      <th>1420</th>\n",
       "      <td>1428</td>\n",
       "      <td>町田市</td>\n",
       "      <td>東京都町田市南町田三丁目9-35 ゴールドバーデン</td>\n",
       "      <td>孤高死・203号室</td>\n",
       "      <td>令和元年7月23日</td>\n",
       "      <td>東京都 町田市 南町田 三丁目 9番</td>\n",
       "      <td>35.517132</td>\n",
       "      <td>139.466400</td>\n",
       "      <td>고고사 203호실</td>\n",
       "      <td>6</td>\n",
       "    </tr>\n",
       "    <tr>\n",
       "      <th>52</th>\n",
       "      <td>52</td>\n",
       "      <td>台東区</td>\n",
       "      <td>東京都台東区東上野一丁目14タイムズ東上野第27</td>\n",
       "      <td>死体発見</td>\n",
       "      <td>平成24年12月4日</td>\n",
       "      <td>東京都 台東区 東上野 一丁目 14番</td>\n",
       "      <td>35.707973</td>\n",
       "      <td>139.776810</td>\n",
       "      <td>시체 발견</td>\n",
       "      <td>6</td>\n",
       "    </tr>\n",
       "    <tr>\n",
       "      <th>4745</th>\n",
       "      <td>4761</td>\n",
       "      <td>調布市</td>\n",
       "      <td>東京都調布市西つつじケ丘四丁目二三丁目20-504</td>\n",
       "      <td>玄関で松田さんの遺体発見</td>\n",
       "      <td>平成20年5月15日</td>\n",
       "      <td>東京都 調布市 西つつじケ丘 四丁目 23番</td>\n",
       "      <td>35.654198</td>\n",
       "      <td>139.573532</td>\n",
       "      <td>현관에서 마쓰다 씨의 시신 발견</td>\n",
       "      <td>6</td>\n",
       "    </tr>\n",
       "    <tr>\n",
       "      <th>2474</th>\n",
       "      <td>2482</td>\n",
       "      <td>東村山市</td>\n",
       "      <td>東京都東村山市栄町三丁目1-28 久米川マンション 5階</td>\n",
       "      <td>告知事項あり（不動産情報より）</td>\n",
       "      <td>2020年2月現在</td>\n",
       "      <td>東京都 東村山市 栄町 三丁目 1番</td>\n",
       "      <td>35.751610</td>\n",
       "      <td>139.467377</td>\n",
       "      <td>공지사항 있습니다~ 부동산 정보부터!</td>\n",
       "      <td>6</td>\n",
       "    </tr>\n",
       "  </tbody>\n",
       "</table>\n",
       "</div>"
      ],
      "text/plain": [
       "      Unnamed: 0 district                          address  \\\n",
       "514          514      杉並区           東京都杉並区成田東四丁目3518 メゾン中里   \n",
       "1537        1545     西東京市           東京都小平市花小金井南町二丁目九丁目34-4   \n",
       "64            64      豊島区  東京都豊島区南池袋二丁目9-17ニッシンパレステージ池袋804   \n",
       "1832        1840       北区            東京都北区豊島一丁目21-13 新橋ハイツ   \n",
       "606          607      足立区          東京都足立区梅島一丁目246 シティーフラッツ   \n",
       "1387        1395      町田市          東京都町田市能ヶ谷一丁目15-22 コーポ神蔵   \n",
       "1420        1428      町田市        東京都町田市南町田三丁目9-35 ゴールドバーデン   \n",
       "52            52      台東区         東京都台東区東上野一丁目14タイムズ東上野第27   \n",
       "4745        4761      調布市        東京都調布市西つつじケ丘四丁目二三丁目20-504   \n",
       "2474        2482     東村山市     東京都東村山市栄町三丁目1-28 久米川マンション 5階   \n",
       "\n",
       "                     info        date               full name   latitude  \\\n",
       "514            1階 心理的瑕疵あり  平成30年11月6日         東京都 杉並区 成田 東四丁目  35.696785   \n",
       "1537            孤高死があった模様     2020年6月   東京都 小平市 花小金井南町 二丁目 9番  35.721313   \n",
       "64               男性の変死体発見     2018年６月  東京都 豊島区 南池袋 二丁目 9番 17号  35.725307   \n",
       "1832  201号室 角部屋\\r\\n告知事項あり   令和4年9月16日   東京都 北区 豊島 一丁目 21番 13号  35.758060   \n",
       "606        203号室\\r\\n告知事項有   令和4年5月24日          東京都 足立区 梅島 一丁目  35.772495   \n",
       "1387      202号室\\r\\n告知事項あり   令和4年5月30日     東京都 町田市 能ヶ谷 一丁目 15番  35.582630   \n",
       "1420            孤高死・203号室   令和元年7月23日      東京都 町田市 南町田 三丁目 9番  35.517132   \n",
       "52                   死体発見  平成24年12月4日     東京都 台東区 東上野 一丁目 14番  35.707973   \n",
       "4745         玄関で松田さんの遺体発見  平成20年5月15日  東京都 調布市 西つつじケ丘 四丁目 23番  35.654198   \n",
       "2474      告知事項あり（不動産情報より）   2020年2月現在      東京都 東村山市 栄町 三丁目 1番  35.751610   \n",
       "\n",
       "       longitude            translated  labels  \n",
       "514   139.636108         1층 심리적 하자 있음.       6  \n",
       "1537  139.517654    고고한 죽음이 있었던 모양입니다.       6  \n",
       "64    139.714676            남성의 변사체 발견       6  \n",
       "1832  139.740738        2016호실 각 방안내사항       6  \n",
       "606   139.800705           203호실 공지사항유       6  \n",
       "1387  139.481049            202호실 공지사항       6  \n",
       "1420  139.466400             고고사 203호실       6  \n",
       "52    139.776810                 시체 발견       6  \n",
       "4745  139.573532     현관에서 마쓰다 씨의 시신 발견       6  \n",
       "2474  139.467377  공지사항 있습니다~ 부동산 정보부터!       6  "
      ]
     },
     "execution_count": 50,
     "metadata": {},
     "output_type": "execute_result"
    }
   ],
   "source": [
    "oshima_kmeans[oshima_kmeans['labels']==6].sample(10)    # 공지사항"
   ]
  },
  {
   "cell_type": "markdown",
   "metadata": {
    "id": "jvxb_27Zcdhl"
   },
   "source": [
    "----"
   ]
  },
  {
   "cell_type": "markdown",
   "metadata": {},
   "source": [
    "### 번역된 사건내용으로 LDA 학습"
   ]
  },
  {
   "cell_type": "code",
   "execution_count": 24,
   "metadata": {},
   "outputs": [],
   "source": [
    "from gensim import corpora\n",
    "from gensim.models import LdaModel\n",
    "from gensim.models.coherencemodel import CoherenceModel\n",
    "\n",
    "import matplotlib.pyplot as plt\n",
    "from konlpy.tag import Mecab"
   ]
  },
  {
   "cell_type": "code",
   "execution_count": 25,
   "metadata": {},
   "outputs": [],
   "source": [
    "def compute_evaluation_values(dictionary, corpus, texts, limit, start=2, step=3):\n",
    "    coherence_values = []\n",
    "    perplexity_values=[]\n",
    "    model_list = []\n",
    "    for num_topics in range(start, limit+1, step):\n",
    "        model = LdaModel(corpus=corpus, id2word=dictionary, num_topics=num_topics, passes=10)\n",
    "        model_list.append(model)\n",
    "        coherencemodel = CoherenceModel(model=model, texts=texts, dictionary=dictionary, coherence='c_v')\n",
    "        coherence_values.append(coherencemodel.get_coherence())\n",
    "        perplexity_values.append(model.log_perplexity(corpus))\n",
    "    return model_list, coherence_values, perplexity_values"
   ]
  },
  {
   "cell_type": "code",
   "execution_count": 31,
   "metadata": {},
   "outputs": [],
   "source": [
    "def find_optimal_number_of_topics(dictionary, corpus, processed_data):\n",
    "    limit = 20\n",
    "    start = 2\n",
    "    step=1\n",
    "\n",
    "    model_list, coherence_values, perplexity_values = compute_evaluation_values(dictionary=dictionary, corpus=corpus, texts=processed_data, start=start, limit=limit, step=step)\n",
    "\n",
    "    x = list(range(start, limit+1))\n",
    "    plt.plot(x, coherence_values)\n",
    "    plt.xlabel(\"Num Topics\")\n",
    "    plt.ylabel(\"Coherence score\")\n",
    "    plt.title(\"Coherence Scores\")\n",
    "    plt.legend((\"coherence_values\"), loc='best')\n",
    "    plt.show()\n",
    "\n",
    "    plt.plot(x, perplexity_values)\n",
    "    plt.xlabel(\"Num Topics\")\n",
    "    plt.ylabel(\"Perplexity score\")\n",
    "    plt.title(\"Perplexity Scores\")\n",
    "    plt.legend((\"Perplexity_values\"), loc='best')\n",
    "    plt.show()"
   ]
  },
  {
   "cell_type": "code",
   "execution_count": 16,
   "metadata": {},
   "outputs": [],
   "source": [
    "mecab = Mecab()"
   ]
  },
  {
   "cell_type": "code",
   "execution_count": 21,
   "metadata": {},
   "outputs": [],
   "source": [
    "tokens = list()\n",
    "for trans in oshima_data.translated:\n",
    "    tokens.append(mecab.nouns(trans))"
   ]
  },
  {
   "cell_type": "code",
   "execution_count": 27,
   "metadata": {},
   "outputs": [],
   "source": [
    "id2word = corpora.Dictionary(tokens)\n",
    "corpus = [id2word.doc2bow(crime_tokens) for crime_tokens in tokens]"
   ]
  },
  {
   "cell_type": "code",
   "execution_count": 32,
   "metadata": {},
   "outputs": [
    {
     "data": {
      "image/png": "[encoded data removed]",
      "text/plain": [
       "<Figure size 640x480 with 1 Axes>"
      ]
     },
     "metadata": {},
     "output_type": "display_data"
    },
    {
     "data": {
      "image/png": "[encoded data removed]",
      "text/plain": [
       "<Figure size 640x480 with 1 Axes>"
      ]
     },
     "metadata": {},
     "output_type": "display_data"
    }
   ],
   "source": [
    "find_optimal_number_of_topics(dictionary=id2word, corpus=corpus, processed_data=tokens)"
   ]
  },
  {
   "cell_type": "code",
   "execution_count": 33,
   "metadata": {},
   "outputs": [],
   "source": [
    "num_topics = 6"
   ]
  },
  {
   "cell_type": "code",
   "execution_count": 34,
   "metadata": {},
   "outputs": [],
   "source": [
    "lda = LdaModel(corpus=corpus, num_topics=num_topics, id2word=id2word, iterations=500, passes=10)"
   ]
  },
  {
   "cell_type": "code",
   "execution_count": 35,
   "metadata": {},
   "outputs": [
    {
     "name": "stdout",
     "output_type": "stream",
     "text": [
      "(0, '0.321*\"자살\" + 0.059*\"고사\" + 0.034*\"층\" + 0.022*\"사체\" + 0.021*\"회전\" + 0.019*\"사고\" + 0.017*\"남자\" + 0.017*\"부패\" + 0.012*\"목\" + 0.009*\"비옷\" + 0.008*\"아파트\" + 0.008*\"사망자\" + 0.007*\"주민\" + 0.007*\"中\" + 0.006*\"주차장\" + 0.006*\"무리\" + 0.005*\"백골\" + 0.005*\"안\" + 0.005*\"중심\" + 0.005*\"당시\"')\n",
      "(1, '0.126*\"사항\" + 0.122*\"공지\" + 0.056*\"부동산\" + 0.052*\"정보\" + 0.048*\"호실\" + 0.025*\"층\" + 0.024*\"년\" + 0.015*\"방\" + 0.014*\"심리\" + 0.013*\"월\" + 0.013*\"기재\" + 0.010*\"면적\" + 0.009*\"사이트\" + 0.009*\"번호\" + 0.008*\"델\" + 0.008*\"리모\" + 0.008*\"전용\" + 0.007*\"중\" + 0.007*\"임대\" + 0.006*\"원룸\"')\n",
      "(2, '0.230*\"발견\" + 0.135*\"시체\" + 0.030*\"시신\" + 0.025*\"병살\" + 0.025*\"호\" + 0.017*\"모집\" + 0.017*\"층\" + 0.013*\"주택\" + 0.012*\"특별\" + 0.012*\"남성\" + 0.012*\"고비\" + 0.010*\"후\" + 0.009*\"부패\" + 0.009*\"호동\" + 0.007*\"만\" + 0.007*\"입주자\" + 0.007*\"유채\" + 0.006*\"부지\" + 0.005*\"욕실\" + 0.005*\"계단\"')\n",
      "(3, '0.178*\"사망\" + 0.110*\"화재\" + 0.084*\"심리\" + 0.038*\"목살\" + 0.027*\"물건\" + 0.026*\"노인\" + 0.020*\"고독사\" + 0.018*\"후\" + 0.016*\"유무\" + 0.014*\"사건\" + 0.010*\"남성\" + 0.010*\"여자\" + 0.010*\"층\" + 0.008*\"번호\" + 0.007*\"독거\" + 0.007*\"여성\" + 0.007*\"방\" + 0.006*\"연탄\" + 0.006*\"살\" + 0.006*\"불명\"')\n",
      "(4, '0.107*\"호실\" + 0.040*\"방\" + 0.031*\"년\" + 0.031*\"사항\" + 0.029*\"일\" + 0.027*\"여성\" + 0.024*\"대\" + 0.023*\"사망\" + 0.023*\"월\" + 0.021*\"층\" + 0.017*\"사시미\" + 0.017*\"남성\" + 0.017*\"아파트\" + 0.015*\"임대\" + 0.012*\"실내\" + 0.012*\"옥상\" + 0.011*\"안내\" + 0.011*\"임대료\" + 0.010*\"고지\" + 0.010*\"후\"')\n",
      "(5, '0.107*\"층\" + 0.052*\"사항\" + 0.041*\"방\" + 0.039*\"공고\" + 0.023*\"남성\" + 0.019*\"살\" + 0.019*\"남향\" + 0.014*\"고고\" + 0.013*\"불명\" + 0.013*\"경찰\" + 0.012*\"컷\" + 0.009*\"세\" + 0.008*\"칸\" + 0.008*\"첩\" + 0.007*\"고지\" + 0.007*\"사체\" + 0.007*\"남자\" + 0.007*\"중앙\" + 0.006*\"치사\" + 0.006*\"헤이세이\"')\n"
     ]
    }
   ],
   "source": [
    "topics = lda.print_topics(num_words=20)\n",
    "topic_keywords = list()\n",
    "for topic in topics:\n",
    "    topic_num, keywords = topic\n",
    "    topic_row = [topic_num+1]\n",
    "    for keyword in keywords.split('+'):\n",
    "        score, kw = keyword.split('*')\n",
    "        kw = kw.replace('\"', '').strip()\n",
    "        topic_row.append(kw)\n",
    "    topic_keywords.append(topic_row)\n",
    "    print(topic)"
   ]
  },
  {
   "cell_type": "markdown",
   "metadata": {
    "id": "5scLCmmJce68"
   },
   "source": [
    "### 각 숙소별 반경 nKm 내 사고 발생 건수"
   ]
  },
  {
   "cell_type": "code",
   "execution_count": null,
   "metadata": {
    "id": "ndTlVyBLfgsw"
   },
   "outputs": [],
   "source": [
    "def get_distances(locs_1, locs_2):\n",
    "    n_rows_1 = locs_1.shape[0]\n",
    "    n_rows_2 = locs_2.shape[0]\n",
    "    dists = np.empty((n_rows_1, n_rows_2))\n",
    "    # The loops here are inefficient\n",
    "    for i in range(n_rows_1):\n",
    "        for j in range(n_rows_2):\n",
    "            dists[i, j] = geodesic(locs_1[i], locs_2[j]).km\n",
    "    return dists"
   ]
  },
  {
   "cell_type": "code",
   "execution_count": null,
   "metadata": {
    "id": "9HbYuRHZcq5F"
   },
   "outputs": [],
   "source": [
    "oshima_with_location = pd.read_csv(os.path.join(data_path, 'oshima_data_sample.csv'))"
   ]
  },
  {
   "cell_type": "code",
   "execution_count": null,
   "metadata": {
    "id": "i4LJHowDczXo"
   },
   "outputs": [],
   "source": [
    "crime_locations = oshima_with_location[['latitude', 'longitude']].values"
   ]
  },
  {
   "cell_type": "code",
   "execution_count": null,
   "metadata": {
    "id": "0BI_oy-Kc7sg"
   },
   "outputs": [],
   "source": [
    "# 에어비앤비 데이터 사용하여 사고 건수 계산\n",
    "airbnb_locations = airbnb_data[['latitude', 'longitude']].values"
   ]
  },
  {
   "cell_type": "code",
   "execution_count": null,
   "metadata": {
    "id": "Dbk9WSQUej6s"
   },
   "outputs": [],
   "source": [
    "distance_matrix = get_distances(airbnb_locations, crime_locations)"
   ]
  },
  {
   "cell_type": "code",
   "execution_count": null,
   "metadata": {
    "id": "ugPYLNjVgzoJ"
   },
   "outputs": [],
   "source": [
    "n_km = 3    # 3km 이내 범죄 발생 건수"
   ]
  },
  {
   "cell_type": "code",
   "execution_count": null,
   "metadata": {
    "id": "-mkJxauEgshL"
   },
   "outputs": [],
   "source": [
    "n_crimes = np.sum((distance_matrix < n_km), axis=1)"
   ]
  },
  {
   "cell_type": "code",
   "execution_count": null,
   "metadata": {
    "id": "2n018CS4gNIN"
   },
   "outputs": [],
   "source": [
    "airbnb_data['n_crimes'] = n_crimes"
   ]
  },
  {
   "cell_type": "code",
   "execution_count": null,
   "metadata": {
    "colab": {
     "base_uri": "https://localhost:8080/",
     "height": 1000
    },
    "executionInfo": {
     "elapsed": 424,
     "status": "ok",
     "timestamp": 1691588347178,
     "user": {
      "displayName": "진현두",
      "userId": "16930706332906801095"
     },
     "user_tz": -540
    },
    "id": "G839-OtMhQNE",
    "outputId": "e028462b-e183-4a12-b00b-7dedbbe6613b"
   },
   "outputs": [],
   "source": [
    "airbnb_data"
   ]
  },
  {
   "cell_type": "code",
   "execution_count": null,
   "metadata": {
    "id": "jCjZGGnjhQap"
   },
   "outputs": [],
   "source": []
  }
 ],
 "metadata": {
  "accelerator": "GPU",
  "colab": {
   "authorship_tag": "ABX9TyMF+PKs2xFrnfpsEaCy37Y+",
   "provenance": []
  },
  "kernelspec": {
   "display_name": "Python 3 (ipykernel)",
   "language": "python",
   "name": "python3"
  },
  "language_info": {
   "codemirror_mode": {
    "name": "ipython",
    "version": 3
   },
   "file_extension": ".py",
   "mimetype": "text/x-python",
   "name": "python",
   "nbconvert_exporter": "python",
   "pygments_lexer": "ipython3",
   "version": "3.11.4"
  }
 },
 "nbformat": 4,
 "nbformat_minor": 4
}
