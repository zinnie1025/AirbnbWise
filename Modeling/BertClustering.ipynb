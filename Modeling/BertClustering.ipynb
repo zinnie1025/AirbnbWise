{
  "cells": [
    {
      "cell_type": "code",
      "execution_count": null,
      "metadata": {
        "colab": {
          "base_uri": "https://localhost:8080/"
        },
        "id": "Xgn3eLgNCs3j",
        "outputId": "89ff2761-210e-4b32-b267-e61196d59814"
      },
      "outputs": [],
      "source": [
        "!pip install -U transformers\n",
        "!pip install geopy\n",
        "!pip install fugashi[unidic-lite]\n",
        "!pip install ipadic\n",
        "!pip install soyclustering"
      ]
    },
    {
      "cell_type": "code",
      "execution_count": null,
      "metadata": {
        "id": "DDwhRF7xCJjb"
      },
      "outputs": [],
      "source": [
        "import os\n",
        "import torch\n",
        "import pandas as pd\n",
        "import numpy as np\n",
        "import math\n",
        "from geopy.distance import geodesic\n",
        "from google.colab import drive\n",
        "from transformers import AutoModel, AutoTokenizer, Trainer, TrainingArguments, BertTokenizerFast, PreTrainedTokenizerFast, EncoderDecoderModel\n",
        "from scipy.sparse import csr_matrix"
      ]
    },
    {
      "cell_type": "code",
      "execution_count": null,
      "metadata": {
        "colab": {
          "base_uri": "https://localhost:8080/"
        },
        "id": "IFFJVFcbk83f",
        "outputId": "8d5af573-7e34-4fb0-a305-6145eccc6528"
      },
      "outputs": [],
      "source": [
        "drive.mount('/content/drive')"
      ]
    },
    {
      "cell_type": "code",
      "execution_count": null,
      "metadata": {
        "colab": {
          "base_uri": "https://localhost:8080/",
          "height": 270
        },
        "id": "Ou5apWD_F-Us",
        "outputId": "b7590bc6-5421-4dce-ed2a-4e38b82c9fdb"
      },
      "outputs": [],
      "source": [
        "airbnb_data = pd.read_csv('/content/drive/MyDrive/Colab Notebooks/airbnb_data_sample.csv')\n",
        "oshima_data = pd.read_csv('/content/drive/MyDrive/Colab Notebooks/oshimaland_dataset_final.csv')\n",
        "open_data = pd.read_csv('/content/drive/MyDrive/Colab Notebooks/open_data_sample.csv')"
      ]
    },
    {
      "cell_type": "code",
      "execution_count": null,
      "metadata": {
        "id": "MagUcuUCINAO"
      },
      "outputs": [],
      "source": [
        "device = 'cuda' if torch.cuda.is_available() else 'cpu'"
      ]
    },
    {
      "cell_type": "markdown",
      "metadata": {
        "id": "Q32s-yFlNMpF"
      },
      "source": [
        "----"
      ]
    },
    {
      "cell_type": "markdown",
      "metadata": {
        "id": "JnCIAxcPUSeu"
      },
      "source": [
        "### 일본어 -> 한국어 번역"
      ]
    },
    {
      "cell_type": "code",
      "execution_count": null,
      "metadata": {
        "id": "kiUYRtMHVNSw"
      },
      "outputs": [],
      "source": [
        "def translate(text_src):\n",
        "    embeddings = src_tokenizer(text_src, return_attention_mask=False, return_token_type_ids=False, return_tensors='pt')\n",
        "    embeddings = {k: v for k, v in embeddings.items()}\n",
        "    output = model.generate(**embeddings)[0, 1:-1]\n",
        "    text_trg = trg_tokenizer.decode(output.cpu())\n",
        "    return text_trg"
      ]
    },
    {
      "cell_type": "code",
      "execution_count": null,
      "metadata": {
        "colab": {
          "base_uri": "https://localhost:8080/"
        },
        "id": "evrIy2gBVLe5",
        "outputId": "d6b9609f-a6f6-483e-d685-74e812726b6f"
      },
      "outputs": [],
      "source": [
        "encoder_model_name = \"cl-tohoku/bert-base-japanese-v2\"\n",
        "decoder_model_name = \"skt/kogpt2-base-v2\"\n",
        "\n",
        "src_tokenizer = BertTokenizerFast.from_pretrained(encoder_model_name)\n",
        "trg_tokenizer = PreTrainedTokenizerFast.from_pretrained(decoder_model_name)\n",
        "model = EncoderDecoderModel.from_pretrained(\"figuringoutmine/translator-for-travel-jp-to-kr\").to(device)"
      ]
    },
    {
      "cell_type": "code",
      "execution_count": null,
      "metadata": {
        "colab": {
          "base_uri": "https://localhost:8080/"
        },
        "id": "Ueg6jVpJW2p8",
        "outputId": "00dcd7fb-a621-484c-ee03-f61629e12e2d"
      },
      "outputs": [],
      "source": [
        "translated = list()\n",
        "with torch.no_grad():\n",
        "    for info in oshima_data['info'].values:\n",
        "        encoded = src_tokenizer(info, return_attention_mask=False, return_token_type_ids=False, return_tensors='pt')\n",
        "        encoded = {k:v.to(device) for k, v in encoded.items()}\n",
        "        output = model.generate(**encoded)[0, 1:-1]\n",
        "        translated.append(trg_tokenizer.decode(output.cpu()))"
      ]
    },
    {
      "cell_type": "code",
      "execution_count": null,
      "metadata": {
        "id": "SQkgXzNDXL1V"
      },
      "outputs": [],
      "source": [
        "oshima_data['translated'] = translated"
      ]
    },
    {
      "cell_type": "markdown",
      "metadata": {
        "id": "wViEUcJBNN7B"
      },
      "source": [
        "### Bert Embedding Base Clustering"
      ]
    },
    {
      "cell_type": "code",
      "execution_count": null,
      "metadata": {
        "id": "In-gmuJaS_tu"
      },
      "outputs": [],
      "source": [
        "from soyclustering import SphericalKMeans"
      ]
    },
    {
      "cell_type": "code",
      "execution_count": null,
      "metadata": {
        "id": "hwGcU-hRNUJU"
      },
      "outputs": [],
      "source": [
        "model = AutoModel.from_pretrained('cl-tohoku/bert-base-japanese')\n",
        "tokenizer = AutoTokenizer.from_pretrained('cl-tohoku/bert-base-japanese')"
      ]
    },
    {
      "cell_type": "code",
      "execution_count": null,
      "metadata": {
        "id": "1_o4Jo-8O8kt"
      },
      "outputs": [],
      "source": [
        "embeddings = list()\n",
        "with torch.no_grad():\n",
        "    for info in oshima_data['info'].values:\n",
        "        encoded = tokenizer(info, return_tensors='pt')\n",
        "        output = model(**encoded)\n",
        "        embedding = output.pooler_output[0].detach().cpu().numpy().tolist()\n",
        "        embeddings.append(embedding)\n",
        "embeddings = csr_matrix(embeddings)"
      ]
    },
    {
      "cell_type": "code",
      "execution_count": null,
      "metadata": {
        "id": "RiNOcFCrOuth"
      },
      "outputs": [],
      "source": [
        "spherical_kmeans = SphericalKMeans(\n",
        "    n_clusters=5,    #  5개의 군집으로 군집화\n",
        "    max_iter=100,    # 최대 Iteration 수\n",
        "    verbose=1,\n",
        "    init='similar_cut'\n",
        ")"
      ]
    },
    {
      "cell_type": "code",
      "execution_count": null,
      "metadata": {
        "colab": {
          "base_uri": "https://localhost:8080/"
        },
        "id": "05LTn13PS7Pc",
        "outputId": "1f74efa4-cdce-4e04-c9cc-82adc28c2d04"
      },
      "outputs": [],
      "source": [
        "labels = spherical_kmeans.fit_predict(embeddings)"
      ]
    },
    {
      "cell_type": "code",
      "execution_count": null,
      "metadata": {
        "id": "2YobGcYrTCrO"
      },
      "outputs": [],
      "source": [
        "oshima_kmeans = oshima_data.copy()\n",
        "oshima_kmeans['labels'] = labels"
      ]
    },
    {
      "cell_type": "code",
      "execution_count": null,
      "metadata": {
        "colab": {
          "base_uri": "https://localhost:8080/",
          "height": 702
        },
        "id": "_B0E1-zxb41l",
        "outputId": "5e81c5ed-015d-4f91-edf6-e113fdc1af3b"
      },
      "outputs": [],
      "source": [
        "oshima_kmeans[oshima_kmeans['labels']==0].sample(10)    # 투신자살..?"
      ]
    },
    {
      "cell_type": "code",
      "execution_count": null,
      "metadata": {
        "colab": {
          "base_uri": "https://localhost:8080/",
          "height": 563
        },
        "id": "0_PkMJvgTUXh",
        "outputId": "9596620c-acab-4b5a-8701-c16dde07d0f7"
      },
      "outputs": [],
      "source": [
        "oshima_kmeans[oshima_kmeans['labels']==1].sample(10)    # 자살"
      ]
    },
    {
      "cell_type": "code",
      "execution_count": null,
      "metadata": {
        "colab": {
          "base_uri": "https://localhost:8080/",
          "height": 667
        },
        "id": "Ktzm5eq6TyQP",
        "outputId": "865c9cb3-0529-4ba3-bfdb-ee4627f2afa4"
      },
      "outputs": [],
      "source": [
        "oshima_kmeans[oshima_kmeans['labels']==2].sample(10)    # 사고사 / 고독사"
      ]
    },
    {
      "cell_type": "code",
      "execution_count": null,
      "metadata": {
        "colab": {
          "base_uri": "https://localhost:8080/",
          "height": 545
        },
        "id": "MxhOXeOrcDWX",
        "outputId": "bcc9fb61-08e8-4076-d5ae-93fa6060bcd9"
      },
      "outputs": [],
      "source": [
        "oshima_kmeans[oshima_kmeans['labels']==3].sample(10)    # 화재 / 투신 자살"
      ]
    },
    {
      "cell_type": "code",
      "execution_count": null,
      "metadata": {
        "colab": {
          "base_uri": "https://localhost:8080/",
          "height": 493
        },
        "id": "53GvdTd-cIub",
        "outputId": "8bd8b346-e2b4-46ca-ca47-22a44a677bb1"
      },
      "outputs": [],
      "source": [
        "oshima_kmeans[oshima_kmeans['labels']==4].sample(10)    # 칼...?"
      ]
    },
    {
      "cell_type": "markdown",
      "metadata": {
        "id": "jvxb_27Zcdhl"
      },
      "source": [
        "----"
      ]
    },
    {
      "cell_type": "markdown",
      "metadata": {
        "id": "5scLCmmJce68"
      },
      "source": [
        "### 각 숙소별 반경 nKm 내 사고 발생 건수"
      ]
    },
    {
      "cell_type": "code",
      "execution_count": null,
      "metadata": {
        "id": "ndTlVyBLfgsw"
      },
      "outputs": [],
      "source": [
        "def get_distances(locs_1, locs_2):\n",
        "    n_rows_1 = locs_1.shape[0]\n",
        "    n_rows_2 = locs_2.shape[0]\n",
        "    dists = np.empty((n_rows_1, n_rows_2))\n",
        "    # The loops here are inefficient\n",
        "    for i in range(n_rows_1):\n",
        "        for j in range(n_rows_2):\n",
        "            dists[i, j] = geodesic(locs_1[i], locs_2[j]).km\n",
        "    return dists"
      ]
    },
    {
      "cell_type": "code",
      "execution_count": null,
      "metadata": {
        "id": "9HbYuRHZcq5F"
      },
      "outputs": [],
      "source": [
        "oshima_with_location = pd.read_csv(os.path.join(data_path, 'oshima_data_sample.csv'))"
      ]
    },
    {
      "cell_type": "code",
      "execution_count": null,
      "metadata": {
        "id": "i4LJHowDczXo"
      },
      "outputs": [],
      "source": [
        "crime_locations = oshima_with_location[['latitude', 'longitude']].values"
      ]
    },
    {
      "cell_type": "code",
      "execution_count": null,
      "metadata": {
        "id": "0BI_oy-Kc7sg"
      },
      "outputs": [],
      "source": [
        "# 에어비앤비 데이터 사용하여 사고 건수 계산\n",
        "airbnb_locations = airbnb_data[['latitude', 'longitude']].values"
      ]
    },
    {
      "cell_type": "code",
      "execution_count": null,
      "metadata": {
        "id": "Dbk9WSQUej6s"
      },
      "outputs": [],
      "source": [
        "distance_matrix = get_distances(airbnb_locations, crime_locations)"
      ]
    },
    {
      "cell_type": "code",
      "execution_count": null,
      "metadata": {
        "id": "ugPYLNjVgzoJ"
      },
      "outputs": [],
      "source": [
        "n_km = 3    # 3km 이내 범죄 발생 건수"
      ]
    },
    {
      "cell_type": "code",
      "execution_count": null,
      "metadata": {
        "id": "-mkJxauEgshL"
      },
      "outputs": [],
      "source": [
        "n_crimes = np.sum((distance_matrix < n_km), axis=1)"
      ]
    },
    {
      "cell_type": "code",
      "execution_count": null,
      "metadata": {
        "id": "2n018CS4gNIN"
      },
      "outputs": [],
      "source": [
        "airbnb_data['n_crimes'] = n_crimes"
      ]
    },
    {
      "cell_type": "code",
      "execution_count": null,
      "metadata": {
        "colab": {
          "base_uri": "https://localhost:8080/",
          "height": 1000
        },
        "id": "G839-OtMhQNE",
        "outputId": "e028462b-e183-4a12-b00b-7dedbbe6613b"
      },
      "outputs": [],
      "source": [
        "airbnb_data"
      ]
    }
  ],
  "metadata": {
    "accelerator": "GPU",
    "colab": {
      "gpuType": "T4",
      "provenance": []
    },
    "kernelspec": {
      "display_name": "Python 3",
      "name": "python3"
    },
    "language_info": {
      "name": "python"
    }
  },
  "nbformat": 4,
  "nbformat_minor": 0
}
