{
 "cells": [
  {
   "cell_type": "markdown",
   "metadata": {},
   "source": [
    "## <p style=\"font-family:JetBrains Mono; font-weight:normal; letter-spacing:2px; color:#b57edc; font-size:140%; text-align:left;padding: 0px; border-bottom: 3px solid #b57edc\">Libraries</p>"
   ]
  },
  {
   "cell_type": "code",
   "execution_count": 1,
   "metadata": {},
   "outputs": [],
   "source": [
    "import pandas as pd\n",
    "import numpy as np\n",
    "\n",
    "import matplotlib.pyplot as plt\n",
    "import seaborn as sns\n",
    "\n",
    "from tqdm import tqdm_notebook\n",
    "\n",
    "import warnings\n",
    "warnings.filterwarnings('ignore')\n",
    "\n",
    "import re\n",
    "\n",
    "pd.options.display.max_rows = 1000"
   ]
  },
  {
   "cell_type": "markdown",
   "metadata": {},
   "source": [
    "## <p style=\"font-family:JetBrains Mono; font-weight:normal; letter-spacing:2px; color:#b57edc; font-size:140%; text-align:left;padding: 0px; border-bottom: 3px solid #b57edc\">Intro</p>"
   ]
  },
  {
   "cell_type": "markdown",
   "metadata": {},
   "source": [
    "도쿄의 **치안** 데이터와 **오시마랜드** 데이터를 활용하여 EDA(탐색적 데이터 분석)를 수행하고자 한다.\n",
    "\n",
    " <a href = 'http://www.oshimaland.co.jp'> 오시마랜드(Oshimaland)</a>\n",
    ">This website showcases buildings with unfortunate past incidents such as suicide cases, corpse disposal incidents, and murder cases.\n",
    "\n",
    "<a href = 'https://catalog.data.metro.tokyo.lg.jp/dataset?q=%E6%B2%BB%E5%AE%89&sort=score+desc%2C+metadata_modified+desc'>일본 도쿄 공공 데이터</a>"
   ]
  },
  {
   "cell_type": "markdown",
   "metadata": {},
   "source": [
    "## <p style=\"font-family:JetBrains Mono; font-weight:normal; letter-spacing:2px; color:#b57edc; font-size:140%; text-align:left;padding: 0px; border-bottom: 3px solid #b57edc\">EDA</p>"
   ]
  },
  {
   "cell_type": "markdown",
   "metadata": {},
   "source": [
    "## <p style=\"font-family:JetBrains Mono; font-weight:normal; letter-spacing:2px; color:#068FFF; font-size:80%; text-align:left;padding: 0px; border-bottom: 3px solid #068FFF\">Oshima Jieun Data Processing</p>"
   ]
  },
  {
   "cell_type": "code",
   "execution_count": 2,
   "metadata": {},
   "outputs": [
    {
     "data": {
      "text/html": [
       "<div>\n",
       "<style scoped>\n",
       "    .dataframe tbody tr th:only-of-type {\n",
       "        vertical-align: middle;\n",
       "    }\n",
       "\n",
       "    .dataframe tbody tr th {\n",
       "        vertical-align: top;\n",
       "    }\n",
       "\n",
       "    .dataframe thead th {\n",
       "        text-align: right;\n",
       "    }\n",
       "</style>\n",
       "<table border=\"1\" class=\"dataframe\">\n",
       "  <thead>\n",
       "    <tr style=\"text-align: right;\">\n",
       "      <th></th>\n",
       "      <th>info</th>\n",
       "      <th>address</th>\n",
       "      <th>occurred_date</th>\n",
       "      <th>recorded_date</th>\n",
       "    </tr>\n",
       "  </thead>\n",
       "  <tbody>\n",
       "    <tr>\n",
       "      <th>0</th>\n",
       "      <td>819号室で女性死亡</td>\n",
       "      <td>東京都新宿区歌舞伎町一丁目202</td>\n",
       "      <td>平成30年5月23日</td>\n",
       "      <td>平成30年7月4日</td>\n",
       "    </tr>\n",
       "    <tr>\n",
       "      <th>1</th>\n",
       "      <td>飛び降り自殺</td>\n",
       "      <td>東京都新宿区歌舞伎町一丁目202アパホテル新宿歌舞伎町タワー↓</td>\n",
       "      <td>令和3年5月18日</td>\n",
       "      <td>令和3年5月26日</td>\n",
       "    </tr>\n",
       "    <tr>\n",
       "      <th>2</th>\n",
       "      <td>告知事項あり\\r\\n※管理会社に直接確認済み\\r\\n\\r\\nハイム大成ビル 403号室\\r\\...</td>\n",
       "      <td>東京都新宿区西新宿七丁目1813</td>\n",
       "      <td>1年以内</td>\n",
       "      <td>令和3年2月23日</td>\n",
       "    </tr>\n",
       "    <tr>\n",
       "      <th>3</th>\n",
       "      <td>１４Ｆから女性が飛び降り自殺</td>\n",
       "      <td>東京都新宿区西新宿七丁目1713パレステュディオ新宿WEST</td>\n",
       "      <td>令和元年9月23日</td>\n",
       "      <td>令和元年9月23日</td>\n",
       "    </tr>\n",
       "    <tr>\n",
       "      <th>4</th>\n",
       "      <td>事故死</td>\n",
       "      <td>東京都新宿区西新宿七丁目2231</td>\n",
       "      <td>2016</td>\n",
       "      <td>平成28年12月4日</td>\n",
       "    </tr>\n",
       "  </tbody>\n",
       "</table>\n",
       "</div>"
      ],
      "text/plain": [
       "                                                info  \\\n",
       "0                                         819号室で女性死亡   \n",
       "1                                             飛び降り自殺   \n",
       "2  告知事項あり\\r\\n※管理会社に直接確認済み\\r\\n\\r\\nハイム大成ビル 403号室\\r\\...   \n",
       "3                                     １４Ｆから女性が飛び降り自殺   \n",
       "4                                                事故死   \n",
       "\n",
       "                           address occurred_date recorded_date  \n",
       "0                 東京都新宿区歌舞伎町一丁目202    平成30年5月23日     平成30年7月4日  \n",
       "1  東京都新宿区歌舞伎町一丁目202アパホテル新宿歌舞伎町タワー↓     令和3年5月18日     令和3年5月26日  \n",
       "2                 東京都新宿区西新宿七丁目1813          1年以内     令和3年2月23日  \n",
       "3   東京都新宿区西新宿七丁目1713パレステュディオ新宿WEST     令和元年9月23日     令和元年9月23日  \n",
       "4                 東京都新宿区西新宿七丁目2231          2016    平成28年12月4日  "
      ]
     },
     "execution_count": 2,
     "metadata": {},
     "output_type": "execute_result"
    }
   ],
   "source": [
    "oshimaJ= pd.read_csv('/Users/genie/Documents/COLLABORATION/AirbnbWise/Oshimaland_data/jieun/oshimaland_dataset_final.csv')\n",
    "oshimaJ.head()"
   ]
  },
  {
   "cell_type": "code",
   "execution_count": 3,
   "metadata": {},
   "outputs": [],
   "source": [
    "oshimaJ.drop(columns = ['recorded_date'], inplace = True) #* recorded_date(기록 날짜) 칼럼 제거\n",
    "oshimaJ.rename(columns = {'occurred_date': 'date'}, inplace = True) #* occured_date -> date 칼럼명 변경"
   ]
  },
  {
   "cell_type": "code",
   "execution_count": 4,
   "metadata": {},
   "outputs": [
    {
     "data": {
      "text/html": [
       "<div>\n",
       "<style scoped>\n",
       "    .dataframe tbody tr th:only-of-type {\n",
       "        vertical-align: middle;\n",
       "    }\n",
       "\n",
       "    .dataframe tbody tr th {\n",
       "        vertical-align: top;\n",
       "    }\n",
       "\n",
       "    .dataframe thead th {\n",
       "        text-align: right;\n",
       "    }\n",
       "</style>\n",
       "<table border=\"1\" class=\"dataframe\">\n",
       "  <thead>\n",
       "    <tr style=\"text-align: right;\">\n",
       "      <th></th>\n",
       "      <th>info</th>\n",
       "      <th>address</th>\n",
       "      <th>date</th>\n",
       "    </tr>\n",
       "  </thead>\n",
       "  <tbody>\n",
       "    <tr>\n",
       "      <th>565</th>\n",
       "      <td>死体発見</td>\n",
       "      <td>武蔵野市西久保三丁目75都築荘101</td>\n",
       "      <td>平成28年2月23日</td>\n",
       "    </tr>\n",
       "    <tr>\n",
       "      <th>566</th>\n",
       "      <td>5階 角部屋\\r\\n告知事項有り</td>\n",
       "      <td>国分寺市戸倉一丁目825 PlaceK</td>\n",
       "      <td>令和4年10月6日</td>\n",
       "    </tr>\n",
       "    <tr>\n",
       "      <th>567</th>\n",
       "      <td>6階 角部屋\\r\\n告知事項有り</td>\n",
       "      <td>国分寺市戸倉一丁目825 PlaceK</td>\n",
       "      <td>令和4年10月6日</td>\n",
       "    </tr>\n",
       "    <tr>\n",
       "      <th>568</th>\n",
       "      <td>206号室、506号室\\r\\n告知事項あり</td>\n",
       "      <td>国分寺市戸倉一丁目825 プレイスK</td>\n",
       "      <td>令和4年7月30日</td>\n",
       "    </tr>\n",
       "    <tr>\n",
       "      <th>569</th>\n",
       "      <td>606号室\\r\\n告知事項あり</td>\n",
       "      <td>国分寺市戸倉一丁目825 プレイスK</td>\n",
       "      <td>令和4年7月30日</td>\n",
       "    </tr>\n",
       "  </tbody>\n",
       "</table>\n",
       "</div>"
      ],
      "text/plain": [
       "                      info              address        date\n",
       "565                   死体発見   武蔵野市西久保三丁目75都築荘101  平成28年2月23日\n",
       "566       5階 角部屋\\r\\n告知事項有り  国分寺市戸倉一丁目825 PlaceK   令和4年10月6日\n",
       "567       6階 角部屋\\r\\n告知事項有り  国分寺市戸倉一丁目825 PlaceK   令和4年10月6日\n",
       "568  206号室、506号室\\r\\n告知事項あり   国分寺市戸倉一丁目825 プレイスK   令和4年7月30日\n",
       "569        606号室\\r\\n告知事項あり   国分寺市戸倉一丁目825 プレイスK   令和4年7月30日"
      ]
     },
     "execution_count": 4,
     "metadata": {},
     "output_type": "execute_result"
    }
   ],
   "source": [
    "#* address 칼럼 가공\n",
    "#! 일본어 주소는 일반적으로 '시' 또는 '구', '동/읍/면', '번지', 그리고 '건물명' 등의 정보로 구성\n",
    "#* (1) address의 모든 데이터에 '東京都(도쿄도)' 포함되어 있으므로 제거\n",
    "oshimaJ['address'] = oshimaJ['address'].str.replace('東京都','')\n",
    "oshimaJ.tail()"
   ]
  },
  {
   "cell_type": "code",
   "execution_count": 5,
   "metadata": {},
   "outputs": [
    {
     "data": {
      "text/html": [
       "<div>\n",
       "<style scoped>\n",
       "    .dataframe tbody tr th:only-of-type {\n",
       "        vertical-align: middle;\n",
       "    }\n",
       "\n",
       "    .dataframe tbody tr th {\n",
       "        vertical-align: top;\n",
       "    }\n",
       "\n",
       "    .dataframe thead th {\n",
       "        text-align: right;\n",
       "    }\n",
       "</style>\n",
       "<table border=\"1\" class=\"dataframe\">\n",
       "  <thead>\n",
       "    <tr style=\"text-align: right;\">\n",
       "      <th></th>\n",
       "      <th>info</th>\n",
       "      <th>address</th>\n",
       "      <th>date</th>\n",
       "      <th>shiku</th>\n",
       "    </tr>\n",
       "  </thead>\n",
       "  <tbody>\n",
       "    <tr>\n",
       "      <th>0</th>\n",
       "      <td>819号室で女性死亡</td>\n",
       "      <td>新宿区歌舞伎町一丁目202</td>\n",
       "      <td>平成30年5月23日</td>\n",
       "      <td>新宿区</td>\n",
       "    </tr>\n",
       "    <tr>\n",
       "      <th>1</th>\n",
       "      <td>飛び降り自殺</td>\n",
       "      <td>新宿区歌舞伎町一丁目202アパホテル新宿歌舞伎町タワー↓</td>\n",
       "      <td>令和3年5月18日</td>\n",
       "      <td>新宿区</td>\n",
       "    </tr>\n",
       "    <tr>\n",
       "      <th>2</th>\n",
       "      <td>告知事項あり\\r\\n※管理会社に直接確認済み\\r\\n\\r\\nハイム大成ビル 403号室\\r\\...</td>\n",
       "      <td>新宿区西新宿七丁目1813</td>\n",
       "      <td>1年以内</td>\n",
       "      <td>新宿区</td>\n",
       "    </tr>\n",
       "    <tr>\n",
       "      <th>3</th>\n",
       "      <td>１４Ｆから女性が飛び降り自殺</td>\n",
       "      <td>新宿区西新宿七丁目1713パレステュディオ新宿WEST</td>\n",
       "      <td>令和元年9月23日</td>\n",
       "      <td>新宿区</td>\n",
       "    </tr>\n",
       "    <tr>\n",
       "      <th>4</th>\n",
       "      <td>事故死</td>\n",
       "      <td>新宿区西新宿七丁目2231</td>\n",
       "      <td>2016</td>\n",
       "      <td>新宿区</td>\n",
       "    </tr>\n",
       "  </tbody>\n",
       "</table>\n",
       "</div>"
      ],
      "text/plain": [
       "                                                info  \\\n",
       "0                                         819号室で女性死亡   \n",
       "1                                             飛び降り自殺   \n",
       "2  告知事項あり\\r\\n※管理会社に直接確認済み\\r\\n\\r\\nハイム大成ビル 403号室\\r\\...   \n",
       "3                                     １４Ｆから女性が飛び降り自殺   \n",
       "4                                                事故死   \n",
       "\n",
       "                        address        date shiku  \n",
       "0                 新宿区歌舞伎町一丁目202  平成30年5月23日   新宿区  \n",
       "1  新宿区歌舞伎町一丁目202アパホテル新宿歌舞伎町タワー↓   令和3年5月18日   新宿区  \n",
       "2                 新宿区西新宿七丁目1813        1年以内   新宿区  \n",
       "3   新宿区西新宿七丁目1713パレステュディオ新宿WEST   令和元年9月23日   新宿区  \n",
       "4                 新宿区西新宿七丁目2231        2016   新宿区  "
      ]
     },
     "metadata": {},
     "output_type": "display_data"
    },
    {
     "data": {
      "text/html": [
       "<div>\n",
       "<style scoped>\n",
       "    .dataframe tbody tr th:only-of-type {\n",
       "        vertical-align: middle;\n",
       "    }\n",
       "\n",
       "    .dataframe tbody tr th {\n",
       "        vertical-align: top;\n",
       "    }\n",
       "\n",
       "    .dataframe thead th {\n",
       "        text-align: right;\n",
       "    }\n",
       "</style>\n",
       "<table border=\"1\" class=\"dataframe\">\n",
       "  <thead>\n",
       "    <tr style=\"text-align: right;\">\n",
       "      <th></th>\n",
       "      <th>info</th>\n",
       "      <th>address</th>\n",
       "      <th>date</th>\n",
       "      <th>shiku</th>\n",
       "    </tr>\n",
       "  </thead>\n",
       "  <tbody>\n",
       "    <tr>\n",
       "      <th>564</th>\n",
       "      <td>死体発見</td>\n",
       "      <td>武蔵野市西久保三丁目75都築荘101</td>\n",
       "      <td>平成28年2月23日</td>\n",
       "      <td>武蔵野市</td>\n",
       "    </tr>\n",
       "    <tr>\n",
       "      <th>565</th>\n",
       "      <td>5階 角部屋\\r\\n告知事項有り</td>\n",
       "      <td>国分寺市戸倉一丁目825 PlaceK</td>\n",
       "      <td>令和4年10月6日</td>\n",
       "      <td>国分寺市</td>\n",
       "    </tr>\n",
       "    <tr>\n",
       "      <th>566</th>\n",
       "      <td>6階 角部屋\\r\\n告知事項有り</td>\n",
       "      <td>国分寺市戸倉一丁目825 PlaceK</td>\n",
       "      <td>令和4年10月6日</td>\n",
       "      <td>国分寺市</td>\n",
       "    </tr>\n",
       "    <tr>\n",
       "      <th>567</th>\n",
       "      <td>206号室、506号室\\r\\n告知事項あり</td>\n",
       "      <td>国分寺市戸倉一丁目825 プレイスK</td>\n",
       "      <td>令和4年7月30日</td>\n",
       "      <td>国分寺市</td>\n",
       "    </tr>\n",
       "    <tr>\n",
       "      <th>568</th>\n",
       "      <td>606号室\\r\\n告知事項あり</td>\n",
       "      <td>国分寺市戸倉一丁目825 プレイスK</td>\n",
       "      <td>令和4年7月30日</td>\n",
       "      <td>国分寺市</td>\n",
       "    </tr>\n",
       "  </tbody>\n",
       "</table>\n",
       "</div>"
      ],
      "text/plain": [
       "                      info              address        date shiku\n",
       "564                   死体発見   武蔵野市西久保三丁目75都築荘101  平成28年2月23日  武蔵野市\n",
       "565       5階 角部屋\\r\\n告知事項有り  国分寺市戸倉一丁目825 PlaceK   令和4年10月6日  国分寺市\n",
       "566       6階 角部屋\\r\\n告知事項有り  国分寺市戸倉一丁目825 PlaceK   令和4年10月6日  国分寺市\n",
       "567  206号室、506号室\\r\\n告知事項あり   国分寺市戸倉一丁目825 プレイスK   令和4年7月30日  国分寺市\n",
       "568        606号室\\r\\n告知事項あり   国分寺市戸倉一丁目825 プレイスK   令和4年7月30日  国分寺市"
      ]
     },
     "metadata": {},
     "output_type": "display_data"
    }
   ],
   "source": [
    "#* (2) '시(市) / 구(区) 칼럼(shiku) 추가'\n",
    "#* oshimaJ['address'].str.contains('市').sum(), 주소에 市(시)가 포함되어 있는 주소는 186개\n",
    "#* 주소에 市(시)가 없다면 구(区)로 추출\n",
    "def districtExtract(address):\n",
    "    if '市' in address:\n",
    "        extracted_data = address[:address.index('市') + 1]\n",
    "    elif '市' not in address and '区' in address:\n",
    "        extracted_data = address[:address.index('区') + 1]\n",
    "    else: \n",
    "        extracted_data = address #* '外国外国板橋二丁目639' 데이터는 시, 구가 모두 없는 유일한 데이터로 삭제해준다.\n",
    "    return extracted_data\n",
    "\n",
    "oshimaJ['shiku'] = oshimaJ['address'].apply(districtExtract)\n",
    "\n",
    "drop_index = oshimaJ[oshimaJ['shiku'] == '外国外国板橋二丁目639'].index\n",
    "oshimaJ = oshimaJ.drop(drop_index).reset_index(drop=True)\n",
    "display(oshimaJ.head(), oshimaJ.tail())"
   ]
  },
  {
   "cell_type": "code",
   "execution_count": 6,
   "metadata": {},
   "outputs": [
    {
     "data": {
      "text/html": [
       "<div>\n",
       "<style scoped>\n",
       "    .dataframe tbody tr th:only-of-type {\n",
       "        vertical-align: middle;\n",
       "    }\n",
       "\n",
       "    .dataframe tbody tr th {\n",
       "        vertical-align: top;\n",
       "    }\n",
       "\n",
       "    .dataframe thead th {\n",
       "        text-align: right;\n",
       "    }\n",
       "</style>\n",
       "<table border=\"1\" class=\"dataframe\">\n",
       "  <thead>\n",
       "    <tr style=\"text-align: right;\">\n",
       "      <th></th>\n",
       "      <th>info</th>\n",
       "      <th>address</th>\n",
       "      <th>date</th>\n",
       "      <th>shiku</th>\n",
       "      <th>town</th>\n",
       "    </tr>\n",
       "  </thead>\n",
       "  <tbody>\n",
       "    <tr>\n",
       "      <th>0</th>\n",
       "      <td>819号室で女性死亡</td>\n",
       "      <td>新宿区歌舞伎町一丁目202</td>\n",
       "      <td>平成30年5月23日</td>\n",
       "      <td>新宿区</td>\n",
       "      <td>歌舞伎町一丁目202</td>\n",
       "    </tr>\n",
       "    <tr>\n",
       "      <th>1</th>\n",
       "      <td>飛び降り自殺</td>\n",
       "      <td>新宿区歌舞伎町一丁目202アパホテル新宿歌舞伎町タワー↓</td>\n",
       "      <td>令和3年5月18日</td>\n",
       "      <td>新宿区</td>\n",
       "      <td>歌舞伎町一丁目202アパホテル新宿歌舞伎町タワー↓</td>\n",
       "    </tr>\n",
       "    <tr>\n",
       "      <th>2</th>\n",
       "      <td>告知事項あり\\r\\n※管理会社に直接確認済み\\r\\n\\r\\nハイム大成ビル 403号室\\r\\...</td>\n",
       "      <td>新宿区西新宿七丁目1813</td>\n",
       "      <td>1年以内</td>\n",
       "      <td>新宿区</td>\n",
       "      <td>西新宿七丁目1813</td>\n",
       "    </tr>\n",
       "    <tr>\n",
       "      <th>3</th>\n",
       "      <td>１４Ｆから女性が飛び降り自殺</td>\n",
       "      <td>新宿区西新宿七丁目1713パレステュディオ新宿WEST</td>\n",
       "      <td>令和元年9月23日</td>\n",
       "      <td>新宿区</td>\n",
       "      <td>西新宿七丁目1713パレステュディオ新宿WEST</td>\n",
       "    </tr>\n",
       "    <tr>\n",
       "      <th>4</th>\n",
       "      <td>事故死</td>\n",
       "      <td>新宿区西新宿七丁目2231</td>\n",
       "      <td>2016</td>\n",
       "      <td>新宿区</td>\n",
       "      <td>西新宿七丁目2231</td>\n",
       "    </tr>\n",
       "  </tbody>\n",
       "</table>\n",
       "</div>"
      ],
      "text/plain": [
       "                                                info  \\\n",
       "0                                         819号室で女性死亡   \n",
       "1                                             飛び降り自殺   \n",
       "2  告知事項あり\\r\\n※管理会社に直接確認済み\\r\\n\\r\\nハイム大成ビル 403号室\\r\\...   \n",
       "3                                     １４Ｆから女性が飛び降り自殺   \n",
       "4                                                事故死   \n",
       "\n",
       "                        address        date shiku                       town  \n",
       "0                 新宿区歌舞伎町一丁目202  平成30年5月23日   新宿区                 歌舞伎町一丁目202  \n",
       "1  新宿区歌舞伎町一丁目202アパホテル新宿歌舞伎町タワー↓   令和3年5月18日   新宿区  歌舞伎町一丁目202アパホテル新宿歌舞伎町タワー↓  \n",
       "2                 新宿区西新宿七丁目1813        1年以内   新宿区                 西新宿七丁目1813  \n",
       "3   新宿区西新宿七丁目1713パレステュディオ新宿WEST   令和元年9月23日   新宿区   西新宿七丁目1713パレステュディオ新宿WEST  \n",
       "4                 新宿区西新宿七丁目2231        2016   新宿区                 西新宿七丁目2231  "
      ]
     },
     "metadata": {},
     "output_type": "display_data"
    },
    {
     "data": {
      "text/html": [
       "<div>\n",
       "<style scoped>\n",
       "    .dataframe tbody tr th:only-of-type {\n",
       "        vertical-align: middle;\n",
       "    }\n",
       "\n",
       "    .dataframe tbody tr th {\n",
       "        vertical-align: top;\n",
       "    }\n",
       "\n",
       "    .dataframe thead th {\n",
       "        text-align: right;\n",
       "    }\n",
       "</style>\n",
       "<table border=\"1\" class=\"dataframe\">\n",
       "  <thead>\n",
       "    <tr style=\"text-align: right;\">\n",
       "      <th></th>\n",
       "      <th>info</th>\n",
       "      <th>address</th>\n",
       "      <th>date</th>\n",
       "      <th>shiku</th>\n",
       "      <th>town</th>\n",
       "    </tr>\n",
       "  </thead>\n",
       "  <tbody>\n",
       "    <tr>\n",
       "      <th>564</th>\n",
       "      <td>死体発見</td>\n",
       "      <td>武蔵野市西久保三丁目75都築荘101</td>\n",
       "      <td>平成28年2月23日</td>\n",
       "      <td>武蔵野市</td>\n",
       "      <td>西久保三丁目75都築荘101</td>\n",
       "    </tr>\n",
       "    <tr>\n",
       "      <th>565</th>\n",
       "      <td>5階 角部屋\\r\\n告知事項有り</td>\n",
       "      <td>国分寺市戸倉一丁目825 PlaceK</td>\n",
       "      <td>令和4年10月6日</td>\n",
       "      <td>国分寺市</td>\n",
       "      <td>戸倉一丁目825 PlaceK</td>\n",
       "    </tr>\n",
       "    <tr>\n",
       "      <th>566</th>\n",
       "      <td>6階 角部屋\\r\\n告知事項有り</td>\n",
       "      <td>国分寺市戸倉一丁目825 PlaceK</td>\n",
       "      <td>令和4年10月6日</td>\n",
       "      <td>国分寺市</td>\n",
       "      <td>戸倉一丁目825 PlaceK</td>\n",
       "    </tr>\n",
       "    <tr>\n",
       "      <th>567</th>\n",
       "      <td>206号室、506号室\\r\\n告知事項あり</td>\n",
       "      <td>国分寺市戸倉一丁目825 プレイスK</td>\n",
       "      <td>令和4年7月30日</td>\n",
       "      <td>国分寺市</td>\n",
       "      <td>戸倉一丁目825 プレイスK</td>\n",
       "    </tr>\n",
       "    <tr>\n",
       "      <th>568</th>\n",
       "      <td>606号室\\r\\n告知事項あり</td>\n",
       "      <td>国分寺市戸倉一丁目825 プレイスK</td>\n",
       "      <td>令和4年7月30日</td>\n",
       "      <td>国分寺市</td>\n",
       "      <td>戸倉一丁目825 プレイスK</td>\n",
       "    </tr>\n",
       "  </tbody>\n",
       "</table>\n",
       "</div>"
      ],
      "text/plain": [
       "                      info              address        date shiku  \\\n",
       "564                   死体発見   武蔵野市西久保三丁目75都築荘101  平成28年2月23日  武蔵野市   \n",
       "565       5階 角部屋\\r\\n告知事項有り  国分寺市戸倉一丁目825 PlaceK   令和4年10月6日  国分寺市   \n",
       "566       6階 角部屋\\r\\n告知事項有り  国分寺市戸倉一丁目825 PlaceK   令和4年10月6日  国分寺市   \n",
       "567  206号室、506号室\\r\\n告知事項あり   国分寺市戸倉一丁目825 プレイスK   令和4年7月30日  国分寺市   \n",
       "568        606号室\\r\\n告知事項あり   国分寺市戸倉一丁目825 プレイスK   令和4年7月30日  国分寺市   \n",
       "\n",
       "                town  \n",
       "564   西久保三丁目75都築荘101  \n",
       "565  戸倉一丁目825 PlaceK  \n",
       "566  戸倉一丁目825 PlaceK  \n",
       "567   戸倉一丁目825 プレイスK  \n",
       "568   戸倉一丁目825 プレイスK  "
      ]
     },
     "metadata": {},
     "output_type": "display_data"
    }
   ],
   "source": [
    "#* (3) town(동/ 읍/ 면) 칼럼 추가 -> town 구역 + 건물 번호 모두 추출\n",
    "shikuList = list(oshimaJ['shiku'])\n",
    "def townExtract(address):\n",
    "    if isinstance(address, str):\n",
    "        for idx in range(len(shikuList)):\n",
    "            if shikuList[idx] in address:\n",
    "                find_data = address[address.find(shikuList[idx]) + len(shikuList[idx]):]\n",
    "                return find_data\n",
    "\n",
    "oshimaJ['town'] = oshimaJ['address'].apply(townExtract)\n",
    "display(oshimaJ.head(), oshimaJ.tail())\n"
   ]
  },
  {
   "cell_type": "code",
   "execution_count": 7,
   "metadata": {},
   "outputs": [],
   "source": [
    "#* oshimaJ['town'].str.contains('丁目').sum(), '丁目' 이 존재하는 데이터는 542개\n",
    "#* '丁目'이 존재하지 않는 경우, 주소에 숫자가 포함되어 있다면 숫자 이전 문자열 까지 구역으로 추출 하고, 숫자가 없다면 그대로 추출\n",
    "# def partExtract(town):\n",
    "#     if '丁目' in town:\n",
    "#         extracted_data = town[:town.find('丁目')] + '丁目'\n",
    "#     else:\n",
    "#         for idx, char in enumerate(town):\n",
    "#             if any(char.isdigit() for char in town): #* town 주소에서 하나 이상의 숫자가 발견되었는지 확인\n",
    "#                 match = re.search(r'\\d+', town)\n",
    "#                 extracted_data = town[:match.start()]\n",
    "#             else:\n",
    "#                 extracted_data = town[idx]\n",
    "#     return extracted_data\n",
    "\n",
    "#oshimaJ['townpart'] = oshimaJ['town'].apply(partExtract)\n",
    "#! 확인해보니 '大山東町321 フェニックス板橋大山207号室' 이와 같이 숫자가 두번 포함된 경우가 있어 town은 굳이 나누지 않는다."
   ]
  },
  {
   "cell_type": "code",
   "execution_count": 8,
   "metadata": {},
   "outputs": [],
   "source": [
    "#* (4) 특수 문자 제거 -> 이 데이터의 경우 '\\r', '\\n', '↓' 를 제거해야 한다.\n",
    "def remove_special_characters(text):\n",
    "    if isinstance(text, str):  #* 문자열인 경우에만 정규표현식 적용\n",
    "        pattern = r'[\\r\\n↓]'\n",
    "        cleaned_text = re.sub(pattern, '', text)\n",
    "        return cleaned_text\n",
    "    return text\n",
    "\n",
    "oshimaJ_cleaned = oshimaJ.applymap(remove_special_characters)"
   ]
  },
  {
   "cell_type": "code",
   "execution_count": 9,
   "metadata": {},
   "outputs": [
    {
     "data": {
      "text/plain": [
       "(569, 5)"
      ]
     },
     "execution_count": 9,
     "metadata": {},
     "output_type": "execute_result"
    }
   ],
   "source": [
    "oshimaJ_cleaned.shape"
   ]
  },
  {
   "cell_type": "code",
   "execution_count": 10,
   "metadata": {},
   "outputs": [],
   "source": [
    "#* (5) 칼럼 순서 변경\n",
    "oshimaJ_cleaned = oshimaJ_cleaned.reindex(columns = ['info', 'date', 'address', 'shiku', 'town'])"
   ]
  },
  {
   "cell_type": "markdown",
   "metadata": {},
   "source": [
    "## <p style=\"font-family:JetBrains Mono; font-weight:normal; letter-spacing:2px; color:#068FFF; font-size:80%; text-align:left;padding: 0px; border-bottom: 3px solid #068FFF\">Oshima Yunyoung Data Processing</p>"
   ]
  },
  {
   "cell_type": "code",
   "execution_count": 11,
   "metadata": {},
   "outputs": [
    {
     "data": {
      "text/html": [
       "<div>\n",
       "<style scoped>\n",
       "    .dataframe tbody tr th:only-of-type {\n",
       "        vertical-align: middle;\n",
       "    }\n",
       "\n",
       "    .dataframe tbody tr th {\n",
       "        vertical-align: top;\n",
       "    }\n",
       "\n",
       "    .dataframe thead th {\n",
       "        text-align: right;\n",
       "    }\n",
       "</style>\n",
       "<table border=\"1\" class=\"dataframe\">\n",
       "  <thead>\n",
       "    <tr style=\"text-align: right;\">\n",
       "      <th></th>\n",
       "      <th>district</th>\n",
       "      <th>date</th>\n",
       "      <th>address</th>\n",
       "      <th>content</th>\n",
       "    </tr>\n",
       "  </thead>\n",
       "  <tbody>\n",
       "    <tr>\n",
       "      <th>0</th>\n",
       "      <td>新宿区</td>\n",
       "      <td>平成24年11月5日</td>\n",
       "      <td>東京都新宿区新宿三丁目22-7指田ビル地下1階</td>\n",
       "      <td>死体発見</td>\n",
       "    </tr>\n",
       "    <tr>\n",
       "      <th>1</th>\n",
       "      <td>新宿区</td>\n",
       "      <td>平成24年11月5日</td>\n",
       "      <td>東京都新宿区新宿三丁目22-7指田ビル地下1階</td>\n",
       "      <td>死体発見</td>\n",
       "    </tr>\n",
       "    <tr>\n",
       "      <th>2</th>\n",
       "      <td>新宿区</td>\n",
       "      <td>令和4年</td>\n",
       "      <td>東京都新宿区西新宿一丁目3-9</td>\n",
       "      <td>飛び降り自殺</td>\n",
       "    </tr>\n",
       "    <tr>\n",
       "      <th>3</th>\n",
       "      <td>新宿区</td>\n",
       "      <td>NaN</td>\n",
       "      <td>NaN</td>\n",
       "      <td>NaN</td>\n",
       "    </tr>\n",
       "    <tr>\n",
       "      <th>4</th>\n",
       "      <td>新宿区</td>\n",
       "      <td>平成20年1月5日</td>\n",
       "      <td>東京都新宿区歌舞伎町一丁目27-5 中台ビル</td>\n",
       "      <td>2階サウナロイヤル 死体発見</td>\n",
       "    </tr>\n",
       "  </tbody>\n",
       "</table>\n",
       "</div>"
      ],
      "text/plain": [
       "  district        date                  address         content\n",
       "0      新宿区  平成24年11月5日  東京都新宿区新宿三丁目22-7指田ビル地下1階            死体発見\n",
       "1      新宿区  平成24年11月5日  東京都新宿区新宿三丁目22-7指田ビル地下1階            死体発見\n",
       "2      新宿区        令和4年          東京都新宿区西新宿一丁目3-9          飛び降り自殺\n",
       "3      新宿区         NaN                      NaN             NaN\n",
       "4      新宿区   平成20年1月5日   東京都新宿区歌舞伎町一丁目27-5 中台ビル  2階サウナロイヤル 死体発見"
      ]
     },
     "execution_count": 11,
     "metadata": {},
     "output_type": "execute_result"
    }
   ],
   "source": [
    "oshimaY = pd.read_csv('/Users/genie/Documents/COLLABORATION/AirbnbWise/Oshimaland_data/yunyoung/selenium_tokyo_data.csv', index_col = 0)\n",
    "oshimaY.head()"
   ]
  },
  {
   "cell_type": "code",
   "execution_count": 12,
   "metadata": {},
   "outputs": [],
   "source": [
    "#! 일본어 주소는 일반적으로 '시' 또는 '구', '동/읍/면', '번지', 그리고 '건물명' 등의 정보로 구성\n",
    "#* (1) address의 모든 데이터에 '東京都(도쿄도)' 포함되어 있으므로 제거\n",
    "oshimaJ['address'] = oshimaJ['address'].str.replace('東京都','')"
   ]
  },
  {
   "cell_type": "code",
   "execution_count": 13,
   "metadata": {},
   "outputs": [
    {
     "data": {
      "text/html": [
       "<div>\n",
       "<style scoped>\n",
       "    .dataframe tbody tr th:only-of-type {\n",
       "        vertical-align: middle;\n",
       "    }\n",
       "\n",
       "    .dataframe tbody tr th {\n",
       "        vertical-align: top;\n",
       "    }\n",
       "\n",
       "    .dataframe thead th {\n",
       "        text-align: right;\n",
       "    }\n",
       "</style>\n",
       "<table border=\"1\" class=\"dataframe\">\n",
       "  <thead>\n",
       "    <tr style=\"text-align: right;\">\n",
       "      <th></th>\n",
       "      <th>info</th>\n",
       "      <th>date</th>\n",
       "      <th>address</th>\n",
       "      <th>shiku</th>\n",
       "    </tr>\n",
       "  </thead>\n",
       "  <tbody>\n",
       "    <tr>\n",
       "      <th>298</th>\n",
       "      <td>駐車スペース横の部屋で住民男性が首吊り自殺</td>\n",
       "      <td>2005</td>\n",
       "      <td>東京都羽村市緑ヶ丘五丁目1-50</td>\n",
       "      <td>羽村市</td>\n",
       "    </tr>\n",
       "    <tr>\n",
       "      <th>299</th>\n",
       "      <td>告知事項</td>\n",
       "      <td>不明</td>\n",
       "      <td>東京都羽村市羽中一丁目3-37</td>\n",
       "      <td>武蔵村山市</td>\n",
       "    </tr>\n",
       "    <tr>\n",
       "      <th>300</th>\n",
       "      <td>死体発見</td>\n",
       "      <td>平成24年</td>\n",
       "      <td>東京都武蔵村山市中央一丁目24-3ハウスオブブーケA 1階</td>\n",
       "      <td>昭島市</td>\n",
       "    </tr>\n",
       "    <tr>\n",
       "      <th>301</th>\n",
       "      <td>火災による死亡</td>\n",
       "      <td>令和2年9月7日</td>\n",
       "      <td>東京都昭島市田中町一丁目34-9</td>\n",
       "      <td>福生市</td>\n",
       "    </tr>\n",
       "    <tr>\n",
       "      <th>302</th>\n",
       "      <td>通路から駐車場へ男性が飛び下り自殺</td>\n",
       "      <td>2016年</td>\n",
       "      <td>東京都福生市志茂156-1</td>\n",
       "      <td>福生市</td>\n",
       "    </tr>\n",
       "  </tbody>\n",
       "</table>\n",
       "</div>"
      ],
      "text/plain": [
       "                      info      date                        address  shiku\n",
       "298  駐車スペース横の部屋で住民男性が首吊り自殺      2005               東京都羽村市緑ヶ丘五丁目1-50    羽村市\n",
       "299                   告知事項        不明                東京都羽村市羽中一丁目3-37  武蔵村山市\n",
       "300                   死体発見     平成24年  東京都武蔵村山市中央一丁目24-3ハウスオブブーケA 1階    昭島市\n",
       "301                火災による死亡  令和2年9月7日               東京都昭島市田中町一丁目34-9    福生市\n",
       "302      通路から駐車場へ男性が飛び下り自殺     2016年                  東京都福生市志茂156-1    福生市"
      ]
     },
     "execution_count": 13,
     "metadata": {},
     "output_type": "execute_result"
    }
   ],
   "source": [
    "oshimaY.rename(columns = {'content': 'info', 'district' : 'shiku'}, inplace = True) #* content -> info 칼럼명 변경\n",
    "oshimaY = oshimaY.reindex(columns = ['info', 'date','address', 'shiku'])\n",
    "oshimaY.tail()"
   ]
  },
  {
   "cell_type": "code",
   "execution_count": 14,
   "metadata": {},
   "outputs": [
    {
     "data": {
      "text/html": [
       "<div>\n",
       "<style scoped>\n",
       "    .dataframe tbody tr th:only-of-type {\n",
       "        vertical-align: middle;\n",
       "    }\n",
       "\n",
       "    .dataframe tbody tr th {\n",
       "        vertical-align: top;\n",
       "    }\n",
       "\n",
       "    .dataframe thead th {\n",
       "        text-align: right;\n",
       "    }\n",
       "</style>\n",
       "<table border=\"1\" class=\"dataframe\">\n",
       "  <thead>\n",
       "    <tr style=\"text-align: right;\">\n",
       "      <th></th>\n",
       "      <th>info</th>\n",
       "      <th>date</th>\n",
       "      <th>address</th>\n",
       "      <th>shiku</th>\n",
       "      <th>town</th>\n",
       "    </tr>\n",
       "  </thead>\n",
       "  <tbody>\n",
       "    <tr>\n",
       "      <th>0</th>\n",
       "      <td>819号室で女性死亡</td>\n",
       "      <td>平成30年5月23日</td>\n",
       "      <td>新宿区歌舞伎町一丁目202</td>\n",
       "      <td>新宿区</td>\n",
       "      <td>歌舞伎町一丁目202</td>\n",
       "    </tr>\n",
       "  </tbody>\n",
       "</table>\n",
       "</div>"
      ],
      "text/plain": [
       "         info        date        address shiku        town\n",
       "0  819号室で女性死亡  平成30年5月23日  新宿区歌舞伎町一丁目202   新宿区  歌舞伎町一丁目202"
      ]
     },
     "metadata": {},
     "output_type": "display_data"
    },
    {
     "data": {
      "text/html": [
       "<div>\n",
       "<style scoped>\n",
       "    .dataframe tbody tr th:only-of-type {\n",
       "        vertical-align: middle;\n",
       "    }\n",
       "\n",
       "    .dataframe tbody tr th {\n",
       "        vertical-align: top;\n",
       "    }\n",
       "\n",
       "    .dataframe thead th {\n",
       "        text-align: right;\n",
       "    }\n",
       "</style>\n",
       "<table border=\"1\" class=\"dataframe\">\n",
       "  <thead>\n",
       "    <tr style=\"text-align: right;\">\n",
       "      <th></th>\n",
       "      <th>info</th>\n",
       "      <th>date</th>\n",
       "      <th>address</th>\n",
       "      <th>shiku</th>\n",
       "    </tr>\n",
       "  </thead>\n",
       "  <tbody>\n",
       "    <tr>\n",
       "      <th>298</th>\n",
       "      <td>駐車スペース横の部屋で住民男性が首吊り自殺</td>\n",
       "      <td>2005</td>\n",
       "      <td>東京都羽村市緑ヶ丘五丁目1-50</td>\n",
       "      <td>羽村市</td>\n",
       "    </tr>\n",
       "    <tr>\n",
       "      <th>299</th>\n",
       "      <td>告知事項</td>\n",
       "      <td>不明</td>\n",
       "      <td>東京都羽村市羽中一丁目3-37</td>\n",
       "      <td>武蔵村山市</td>\n",
       "    </tr>\n",
       "    <tr>\n",
       "      <th>300</th>\n",
       "      <td>死体発見</td>\n",
       "      <td>平成24年</td>\n",
       "      <td>東京都武蔵村山市中央一丁目24-3ハウスオブブーケA 1階</td>\n",
       "      <td>昭島市</td>\n",
       "    </tr>\n",
       "    <tr>\n",
       "      <th>301</th>\n",
       "      <td>火災による死亡</td>\n",
       "      <td>令和2年9月7日</td>\n",
       "      <td>東京都昭島市田中町一丁目34-9</td>\n",
       "      <td>福生市</td>\n",
       "    </tr>\n",
       "    <tr>\n",
       "      <th>302</th>\n",
       "      <td>通路から駐車場へ男性が飛び下り自殺</td>\n",
       "      <td>2016年</td>\n",
       "      <td>東京都福生市志茂156-1</td>\n",
       "      <td>福生市</td>\n",
       "    </tr>\n",
       "  </tbody>\n",
       "</table>\n",
       "</div>"
      ],
      "text/plain": [
       "                      info      date                        address  shiku\n",
       "298  駐車スペース横の部屋で住民男性が首吊り自殺      2005               東京都羽村市緑ヶ丘五丁目1-50    羽村市\n",
       "299                   告知事項        不明                東京都羽村市羽中一丁目3-37  武蔵村山市\n",
       "300                   死体発見     平成24年  東京都武蔵村山市中央一丁目24-3ハウスオブブーケA 1階    昭島市\n",
       "301                火災による死亡  令和2年9月7日               東京都昭島市田中町一丁目34-9    福生市\n",
       "302      通路から駐車場へ男性が飛び下り自殺     2016年                  東京都福生市志茂156-1    福生市"
      ]
     },
     "metadata": {},
     "output_type": "display_data"
    }
   ],
   "source": [
    "#* oshimaJ_cleaned 데이터프레임에 맞춰 oshimaY 데이터프레임 변경\n",
    "display(oshimaJ_cleaned.head(1), oshimaY.tail())"
   ]
  },
  {
   "cell_type": "code",
   "execution_count": 15,
   "metadata": {},
   "outputs": [],
   "source": [
    "#* (2) town 칼럼 추가\n",
    "shikuList = list(oshimaY['shiku'])\n",
    "oshimaY['town'] = oshimaY['address'].apply(townExtract)"
   ]
  },
  {
   "cell_type": "code",
   "execution_count": 16,
   "metadata": {},
   "outputs": [],
   "source": [
    "#* (3) 특수문자 제거 \n",
    "oshimaY_cleaned = oshimaY.applymap(remove_special_characters)"
   ]
  },
  {
   "cell_type": "code",
   "execution_count": 17,
   "metadata": {},
   "outputs": [],
   "source": [
    "#* (4) oshimaY 데이터 중 None 값을 NaN으로 대체\n",
    "oshimaY_cleaned = oshimaY_cleaned.applymap(lambda x: np.nan if x is None else x)"
   ]
  },
  {
   "cell_type": "markdown",
   "metadata": {},
   "source": [
    "## <p style=\"font-family:JetBrains Mono; font-weight:normal; letter-spacing:2px; color:#068FFF; font-size:80%; text-align:left;padding: 0px; border-bottom: 3px solid #068FFF\">Data 탐색</p>"
   ]
  },
  {
   "cell_type": "code",
   "execution_count": 18,
   "metadata": {},
   "outputs": [
    {
     "name": "stdout",
     "output_type": "stream",
     "text": [
      "(569, 5) (303, 5)\n"
     ]
    }
   ],
   "source": [
    "#* 각 데이터 shape\n",
    "print(oshimaJ_cleaned.shape, oshimaY_cleaned.shape)"
   ]
  },
  {
   "cell_type": "code",
   "execution_count": 19,
   "metadata": {},
   "outputs": [
    {
     "name": "stdout",
     "output_type": "stream",
     "text": [
      "info       0\n",
      "date       3\n",
      "address    0\n",
      "shiku      0\n",
      "town       0\n",
      "dtype: int64\n",
      "---------------\n",
      "info       17\n",
      "date       20\n",
      "address    13\n",
      "shiku       0\n",
      "town       13\n",
      "dtype: int64\n"
     ]
    }
   ],
   "source": [
    "#* 각 데이터 결측치 확인\n",
    "print(oshimaJ_cleaned.isnull().sum())\n",
    "print('-' * 15)\n",
    "print(oshimaY_cleaned.isnull().sum())"
   ]
  },
  {
   "cell_type": "code",
   "execution_count": 20,
   "metadata": {},
   "outputs": [
    {
     "name": "stdout",
     "output_type": "stream",
     "text": [
      "4 44\n"
     ]
    }
   ],
   "source": [
    "#* 각 데이터 중복데이터 확인\n",
    "print(oshimaJ_cleaned.duplicated().sum(), oshimaY_cleaned.duplicated().sum())"
   ]
  },
  {
   "cell_type": "code",
   "execution_count": 21,
   "metadata": {},
   "outputs": [
    {
     "name": "stdout",
     "output_type": "stream",
     "text": [
      "(872, 5)\n"
     ]
    }
   ],
   "source": [
    "#* 두 데이터 병합\n",
    "oshima = pd.concat([oshimaJ_cleaned, oshimaY_cleaned]).reset_index(drop = True)\n",
    "print(oshima.shape)"
   ]
  },
  {
   "cell_type": "code",
   "execution_count": 22,
   "metadata": {},
   "outputs": [
    {
     "name": "stdout",
     "output_type": "stream",
     "text": [
      "(824, 5)\n"
     ]
    }
   ],
   "source": [
    "#* 중복 데이터 제거\n",
    "oshima = oshima.drop_duplicates()\n",
    "oshima = oshima.reset_index(drop=True)\n",
    "print(oshima.shape)"
   ]
  },
  {
   "cell_type": "code",
   "execution_count": 23,
   "metadata": {},
   "outputs": [
    {
     "data": {
      "text/plain": [
       "info       10\n",
       "date       15\n",
       "address     6\n",
       "shiku       0\n",
       "town        6\n",
       "dtype: int64"
      ]
     },
     "execution_count": 23,
     "metadata": {},
     "output_type": "execute_result"
    }
   ],
   "source": [
    "oshima.isnull().sum() #! 결측치 처리 고민..."
   ]
  },
  {
   "cell_type": "markdown",
   "metadata": {},
   "source": [
    "## <p style=\"font-family:JetBrains Mono; font-weight:normal; letter-spacing:2px; color:#068FFF; font-size:80%; text-align:left;padding: 0px; border-bottom: 3px solid #068FFF\">Tokyo Open Data Processing</p>"
   ]
  }
 ],
 "metadata": {
  "kernelspec": {
   "display_name": "genie",
   "language": "python",
   "name": "python3"
  },
  "language_info": {
   "codemirror_mode": {
    "name": "ipython",
    "version": 3
   },
   "file_extension": ".py",
   "mimetype": "text/x-python",
   "name": "python",
   "nbconvert_exporter": "python",
   "pygments_lexer": "ipython3",
   "version": "3.8.16"
  },
  "orig_nbformat": 4
 },
 "nbformat": 4,
 "nbformat_minor": 2
}
