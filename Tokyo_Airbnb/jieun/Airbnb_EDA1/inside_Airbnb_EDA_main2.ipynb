{
 "cells": [
  {
   "cell_type": "markdown",
   "metadata": {},
   "source": [
    "## <p style=\"font-family:JetBrains Mono; font-weight:normal; letter-spacing:2px; color:#b57edc; font-size:140%; text-align:left;padding: 0px; border-bottom: 3px solid #b57edc\">Libraries</p>"
   ]
  },
  {
   "cell_type": "code",
   "execution_count": 91,
   "metadata": {},
   "outputs": [],
   "source": [
    "# import tensorflow as tf\n",
    "# import os\n",
    "\n",
    "# # GPU 사용 가능 여부 확인\n",
    "# gpu_available = tf.config.list_physical_devices('GPU')\n",
    "\n",
    "# if gpu_available:\n",
    "#     print(\"GPU를 사용할 수 있습니다.\")\n",
    "#     # GPU 정보 출력\n",
    "#     for gpu in gpu_available:\n",
    "#         print(\"GPU 이름:\", gpu.name)\n",
    "#         print(\"메모리:\", tf.config.experimental.get_memory_growth(gpu))\n",
    "# else:\n",
    "#     print(\"GPU를 사용할 수 없습니다.\")\n",
    "    \n",
    "# os.environ[\"PROTOCOL_BUFFERS_PYTHON_IMPLEMENTATION\"] = \"python\"\n"
   ]
  },
  {
   "cell_type": "code",
   "execution_count": 92,
   "metadata": {},
   "outputs": [],
   "source": [
    "import pandas as pd\n",
    "import numpy as np\n",
    "\n",
    "import matplotlib.pyplot as plt\n",
    "\n",
    "import re\n",
    "\n",
    "import warnings\n",
    "warnings.filterwarnings(\"ignore\")\n",
    "\n",
    "from concurrent.futures import ThreadPoolExecutor\n",
    "from googletrans import Translator\n",
    "\n",
    "from tqdm import tqdm\n",
    "\n",
    "import os\n",
    "\n",
    "# from sklearn.model_selection import train_test_split\n",
    "# from sklearn.linear_model import LinearRegression\n",
    "# from sklearn.tree import DecisionTreeRegressor\n",
    "# from sklearn.ensemble import RandomForestRegressor\n",
    "# from catboost import CatBoostRegressor\n",
    "# from sklearn.metrics import mean_squared_error, r2_score\n",
    "\n",
    "# from sklearn.impute import SimpleImputer\n",
    "\n",
    "# import time\n",
    "\n",
    "# from sklearn.preprocessing import StandardScaler\n",
    "# import tensorflow as tf\n",
    "\n",
    "# from sklearn.preprocessing import LabelEncoder\n"
   ]
  },
  {
   "cell_type": "markdown",
   "metadata": {},
   "source": [
    "## <p style=\"font-family:JetBrains Mono; font-weight:normal; letter-spacing:2px; color:#b57edc; font-size:140%; text-align:left;padding: 0px; border-bottom: 3px solid #b57edc\">EDA</p>"
   ]
  },
  {
   "cell_type": "code",
   "execution_count": 93,
   "metadata": {},
   "outputs": [],
   "source": [
    "listing = pd.read_csv('input_main_listing.csv')"
   ]
  },
  {
   "cell_type": "code",
   "execution_count": 94,
   "metadata": {},
   "outputs": [
    {
     "data": {
      "text/html": [
       "<div>\n",
       "<style scoped>\n",
       "    .dataframe tbody tr th:only-of-type {\n",
       "        vertical-align: middle;\n",
       "    }\n",
       "\n",
       "    .dataframe tbody tr th {\n",
       "        vertical-align: top;\n",
       "    }\n",
       "\n",
       "    .dataframe thead th {\n",
       "        text-align: right;\n",
       "    }\n",
       "</style>\n",
       "<table border=\"1\" class=\"dataframe\">\n",
       "  <thead>\n",
       "    <tr style=\"text-align: right;\">\n",
       "      <th></th>\n",
       "      <th>price</th>\n",
       "      <th>room_type</th>\n",
       "      <th>accommodates</th>\n",
       "      <th>bedrooms</th>\n",
       "      <th>beds</th>\n",
       "      <th>review_scores_rating</th>\n",
       "      <th>address</th>\n",
       "      <th>shiku</th>\n",
       "      <th>townpart</th>\n",
       "      <th>detailpart</th>\n",
       "    </tr>\n",
       "  </thead>\n",
       "  <tbody>\n",
       "    <tr>\n",
       "      <th>0</th>\n",
       "      <td>1100000.0</td>\n",
       "      <td>Entire home apt</td>\n",
       "      <td>2</td>\n",
       "      <td>1.0</td>\n",
       "      <td>2.0</td>\n",
       "      <td>4.78</td>\n",
       "      <td>墨田区八広2丁目27-16</td>\n",
       "      <td>墨田区</td>\n",
       "      <td>墨田区八広2丁目</td>\n",
       "      <td>27-16</td>\n",
       "    </tr>\n",
       "    <tr>\n",
       "      <th>1</th>\n",
       "      <td>720800.0</td>\n",
       "      <td>Private room</td>\n",
       "      <td>1</td>\n",
       "      <td>NaN</td>\n",
       "      <td>1.0</td>\n",
       "      <td>4.98</td>\n",
       "      <td>北区田端新町1丁目26-7</td>\n",
       "      <td>北区</td>\n",
       "      <td>北区田端新町1丁目</td>\n",
       "      <td>26-7</td>\n",
       "    </tr>\n",
       "    <tr>\n",
       "      <th>2</th>\n",
       "      <td>2306600.0</td>\n",
       "      <td>Entire home apt</td>\n",
       "      <td>6</td>\n",
       "      <td>2.0</td>\n",
       "      <td>4.0</td>\n",
       "      <td>4.76</td>\n",
       "      <td>渋谷区幡ヶ谷2丁目1-2-1</td>\n",
       "      <td>渋谷区</td>\n",
       "      <td>渋谷区幡ヶ谷2丁目</td>\n",
       "      <td>1-2-1</td>\n",
       "    </tr>\n",
       "    <tr>\n",
       "      <th>3</th>\n",
       "      <td>1600000.0</td>\n",
       "      <td>Private room</td>\n",
       "      <td>2</td>\n",
       "      <td>NaN</td>\n",
       "      <td>2.0</td>\n",
       "      <td>4.94</td>\n",
       "      <td>世田谷区代沢2丁目−16、池ノ上フラット</td>\n",
       "      <td>世田谷区</td>\n",
       "      <td>世田谷区代沢2丁目</td>\n",
       "      <td>−16、池ノ上フラット</td>\n",
       "    </tr>\n",
       "    <tr>\n",
       "      <th>4</th>\n",
       "      <td>1000000.0</td>\n",
       "      <td>Private room</td>\n",
       "      <td>4</td>\n",
       "      <td>NaN</td>\n",
       "      <td>NaN</td>\n",
       "      <td>4.71</td>\n",
       "      <td>足立区千住宮元町1-2</td>\n",
       "      <td>足立区</td>\n",
       "      <td>NaN</td>\n",
       "      <td>足立区千住宮元町1-2</td>\n",
       "    </tr>\n",
       "  </tbody>\n",
       "</table>\n",
       "</div>"
      ],
      "text/plain": [
       "       price        room_type  accommodates  bedrooms  beds  \\\n",
       "0  1100000.0  Entire home apt             2       1.0   2.0   \n",
       "1   720800.0     Private room             1       NaN   1.0   \n",
       "2  2306600.0  Entire home apt             6       2.0   4.0   \n",
       "3  1600000.0     Private room             2       NaN   2.0   \n",
       "4  1000000.0     Private room             4       NaN   NaN   \n",
       "\n",
       "   review_scores_rating               address shiku   townpart   detailpart  \n",
       "0                  4.78         墨田区八広2丁目27-16   墨田区   墨田区八広2丁目        27-16  \n",
       "1                  4.98         北区田端新町1丁目26-7    北区  北区田端新町1丁目         26-7  \n",
       "2                  4.76        渋谷区幡ヶ谷2丁目1-2-1   渋谷区  渋谷区幡ヶ谷2丁目        1-2-1  \n",
       "3                  4.94  世田谷区代沢2丁目−16、池ノ上フラット  世田谷区  世田谷区代沢2丁目  −16、池ノ上フラット  \n",
       "4                  4.71           足立区千住宮元町1-2   足立区        NaN  足立区千住宮元町1-2  "
      ]
     },
     "execution_count": 94,
     "metadata": {},
     "output_type": "execute_result"
    }
   ],
   "source": [
    "listing.rename(columns = {'address_japanese' : 'address'}, inplace = True)\n",
    "listing.head()"
   ]
  },
  {
   "cell_type": "code",
   "execution_count": 95,
   "metadata": {},
   "outputs": [
    {
     "data": {
      "text/html": [
       "<div>\n",
       "<style scoped>\n",
       "    .dataframe tbody tr th:only-of-type {\n",
       "        vertical-align: middle;\n",
       "    }\n",
       "\n",
       "    .dataframe tbody tr th {\n",
       "        vertical-align: top;\n",
       "    }\n",
       "\n",
       "    .dataframe thead th {\n",
       "        text-align: right;\n",
       "    }\n",
       "</style>\n",
       "<table border=\"1\" class=\"dataframe\">\n",
       "  <thead>\n",
       "    <tr style=\"text-align: right;\">\n",
       "      <th></th>\n",
       "      <th>info</th>\n",
       "      <th>date</th>\n",
       "      <th>address</th>\n",
       "      <th>shiku</th>\n",
       "      <th>townpart</th>\n",
       "      <th>detailpart</th>\n",
       "    </tr>\n",
       "  </thead>\n",
       "  <tbody>\n",
       "    <tr>\n",
       "      <th>0</th>\n",
       "      <td>819号室で女性死亡</td>\n",
       "      <td>平成30年5月23日</td>\n",
       "      <td>新宿区歌舞伎町一丁目202</td>\n",
       "      <td>新宿区</td>\n",
       "      <td>歌舞伎町一丁目</td>\n",
       "      <td>202</td>\n",
       "    </tr>\n",
       "    <tr>\n",
       "      <th>1</th>\n",
       "      <td>飛び降り自殺</td>\n",
       "      <td>令和3年5月18日</td>\n",
       "      <td>新宿区歌舞伎町一丁目202アパホテル新宿歌舞伎町タワー</td>\n",
       "      <td>新宿区</td>\n",
       "      <td>歌舞伎町一丁目</td>\n",
       "      <td>202アパホテル新宿歌舞伎町タワー</td>\n",
       "    </tr>\n",
       "    <tr>\n",
       "      <th>2</th>\n",
       "      <td>告知事項あり※管理会社に直接確認済みハイム大成ビル 403号室賃料¥78000 管理費¥20...</td>\n",
       "      <td>1年以内</td>\n",
       "      <td>新宿区西新宿七丁目1813</td>\n",
       "      <td>新宿区</td>\n",
       "      <td>西新宿七丁目</td>\n",
       "      <td>1813</td>\n",
       "    </tr>\n",
       "    <tr>\n",
       "      <th>3</th>\n",
       "      <td>１４Ｆから女性が飛び降り自殺</td>\n",
       "      <td>令和元年9月23日</td>\n",
       "      <td>新宿区西新宿七丁目1713パレステュディオ新宿WEST</td>\n",
       "      <td>新宿区</td>\n",
       "      <td>西新宿七丁目</td>\n",
       "      <td>1713パレステュディオ新宿WEST</td>\n",
       "    </tr>\n",
       "    <tr>\n",
       "      <th>4</th>\n",
       "      <td>事故死</td>\n",
       "      <td>2016</td>\n",
       "      <td>新宿区西新宿七丁目2231</td>\n",
       "      <td>新宿区</td>\n",
       "      <td>西新宿七丁目</td>\n",
       "      <td>2231</td>\n",
       "    </tr>\n",
       "  </tbody>\n",
       "</table>\n",
       "</div>"
      ],
      "text/plain": [
       "                                                info        date  \\\n",
       "0                                         819号室で女性死亡  平成30年5月23日   \n",
       "1                                             飛び降り自殺   令和3年5月18日   \n",
       "2  告知事項あり※管理会社に直接確認済みハイム大成ビル 403号室賃料¥78000 管理費¥20...        1年以内   \n",
       "3                                     １４Ｆから女性が飛び降り自殺   令和元年9月23日   \n",
       "4                                                事故死        2016   \n",
       "\n",
       "                       address shiku townpart          detailpart  \n",
       "0                新宿区歌舞伎町一丁目202   新宿区  歌舞伎町一丁目                 202  \n",
       "1  新宿区歌舞伎町一丁目202アパホテル新宿歌舞伎町タワー   新宿区  歌舞伎町一丁目   202アパホテル新宿歌舞伎町タワー  \n",
       "2                新宿区西新宿七丁目1813   新宿区   西新宿七丁目                1813  \n",
       "3  新宿区西新宿七丁目1713パレステュディオ新宿WEST   新宿区   西新宿七丁目  1713パレステュディオ新宿WEST  \n",
       "4                新宿区西新宿七丁目2231   新宿区   西新宿七丁目                2231  "
      ]
     },
     "execution_count": 95,
     "metadata": {},
     "output_type": "execute_result"
    }
   ],
   "source": [
    "oshima = pd.read_csv(\"//Users//genie//Documents//COLLABORATION//AirbnbWise//Dataset_Processing//jieun//oshimaEDA.csv\")\n",
    "oshima.head()"
   ]
  },
  {
   "cell_type": "markdown",
   "metadata": {},
   "source": [
    "## <p style=\"font-family:JetBrains Mono; font-weight:normal; letter-spacing:2px; color:#1A5D1A; font-size:75%; text-align:left;padding: 0px; border-bottom: 3px solid #1A5D1A\">insideAirbnb(listing.csv)와 oshima.csv에서 주소가 겹치는 데이터 확인</p>"
   ]
  },
  {
   "cell_type": "code",
   "execution_count": 96,
   "metadata": {},
   "outputs": [
    {
     "data": {
      "text/html": [
       "<div>\n",
       "<style scoped>\n",
       "    .dataframe tbody tr th:only-of-type {\n",
       "        vertical-align: middle;\n",
       "    }\n",
       "\n",
       "    .dataframe tbody tr th {\n",
       "        vertical-align: top;\n",
       "    }\n",
       "\n",
       "    .dataframe thead th {\n",
       "        text-align: right;\n",
       "    }\n",
       "</style>\n",
       "<table border=\"1\" class=\"dataframe\">\n",
       "  <thead>\n",
       "    <tr style=\"text-align: right;\">\n",
       "      <th></th>\n",
       "      <th>address</th>\n",
       "      <th>shiku</th>\n",
       "      <th>townpart</th>\n",
       "      <th>detailpart</th>\n",
       "    </tr>\n",
       "  </thead>\n",
       "  <tbody>\n",
       "    <tr>\n",
       "      <th>0</th>\n",
       "      <td>墨田区八広2丁目27-16</td>\n",
       "      <td>墨田区</td>\n",
       "      <td>墨田区八広2丁目</td>\n",
       "      <td>27-16</td>\n",
       "    </tr>\n",
       "    <tr>\n",
       "      <th>1</th>\n",
       "      <td>北区田端新町1丁目26-7</td>\n",
       "      <td>北区</td>\n",
       "      <td>北区田端新町1丁目</td>\n",
       "      <td>26-7</td>\n",
       "    </tr>\n",
       "    <tr>\n",
       "      <th>2</th>\n",
       "      <td>渋谷区幡ヶ谷2丁目1-2-1</td>\n",
       "      <td>渋谷区</td>\n",
       "      <td>渋谷区幡ヶ谷2丁目</td>\n",
       "      <td>1-2-1</td>\n",
       "    </tr>\n",
       "    <tr>\n",
       "      <th>3</th>\n",
       "      <td>世田谷区代沢2丁目−16、池ノ上フラット</td>\n",
       "      <td>世田谷区</td>\n",
       "      <td>世田谷区代沢2丁目</td>\n",
       "      <td>−16、池ノ上フラット</td>\n",
       "    </tr>\n",
       "    <tr>\n",
       "      <th>4</th>\n",
       "      <td>足立区千住宮元町1-2</td>\n",
       "      <td>足立区</td>\n",
       "      <td>NaN</td>\n",
       "      <td>足立区千住宮元町1-2</td>\n",
       "    </tr>\n",
       "  </tbody>\n",
       "</table>\n",
       "</div>"
      ],
      "text/plain": [
       "                address shiku   townpart   detailpart\n",
       "0         墨田区八広2丁目27-16   墨田区   墨田区八広2丁目        27-16\n",
       "1         北区田端新町1丁目26-7    北区  北区田端新町1丁目         26-7\n",
       "2        渋谷区幡ヶ谷2丁目1-2-1   渋谷区  渋谷区幡ヶ谷2丁目        1-2-1\n",
       "3  世田谷区代沢2丁目−16、池ノ上フラット  世田谷区  世田谷区代沢2丁目  −16、池ノ上フラット\n",
       "4           足立区千住宮元町1-2   足立区        NaN  足立区千住宮元町1-2"
      ]
     },
     "metadata": {},
     "output_type": "display_data"
    },
    {
     "data": {
      "text/html": [
       "<div>\n",
       "<style scoped>\n",
       "    .dataframe tbody tr th:only-of-type {\n",
       "        vertical-align: middle;\n",
       "    }\n",
       "\n",
       "    .dataframe tbody tr th {\n",
       "        vertical-align: top;\n",
       "    }\n",
       "\n",
       "    .dataframe thead th {\n",
       "        text-align: right;\n",
       "    }\n",
       "</style>\n",
       "<table border=\"1\" class=\"dataframe\">\n",
       "  <thead>\n",
       "    <tr style=\"text-align: right;\">\n",
       "      <th></th>\n",
       "      <th>address</th>\n",
       "      <th>shiku</th>\n",
       "      <th>townpart</th>\n",
       "      <th>detailpart</th>\n",
       "    </tr>\n",
       "  </thead>\n",
       "  <tbody>\n",
       "    <tr>\n",
       "      <th>0</th>\n",
       "      <td>新宿区歌舞伎町一丁目202</td>\n",
       "      <td>新宿区</td>\n",
       "      <td>歌舞伎町一丁目</td>\n",
       "      <td>202</td>\n",
       "    </tr>\n",
       "    <tr>\n",
       "      <th>1</th>\n",
       "      <td>新宿区歌舞伎町一丁目202アパホテル新宿歌舞伎町タワー</td>\n",
       "      <td>新宿区</td>\n",
       "      <td>歌舞伎町一丁目</td>\n",
       "      <td>202アパホテル新宿歌舞伎町タワー</td>\n",
       "    </tr>\n",
       "    <tr>\n",
       "      <th>2</th>\n",
       "      <td>新宿区西新宿七丁目1813</td>\n",
       "      <td>新宿区</td>\n",
       "      <td>西新宿七丁目</td>\n",
       "      <td>1813</td>\n",
       "    </tr>\n",
       "    <tr>\n",
       "      <th>3</th>\n",
       "      <td>新宿区西新宿七丁目1713パレステュディオ新宿WEST</td>\n",
       "      <td>新宿区</td>\n",
       "      <td>西新宿七丁目</td>\n",
       "      <td>1713パレステュディオ新宿WEST</td>\n",
       "    </tr>\n",
       "    <tr>\n",
       "      <th>4</th>\n",
       "      <td>新宿区西新宿七丁目2231</td>\n",
       "      <td>新宿区</td>\n",
       "      <td>西新宿七丁目</td>\n",
       "      <td>2231</td>\n",
       "    </tr>\n",
       "  </tbody>\n",
       "</table>\n",
       "</div>"
      ],
      "text/plain": [
       "                       address shiku townpart          detailpart\n",
       "0                新宿区歌舞伎町一丁目202   新宿区  歌舞伎町一丁目                 202\n",
       "1  新宿区歌舞伎町一丁目202アパホテル新宿歌舞伎町タワー   新宿区  歌舞伎町一丁目   202アパホテル新宿歌舞伎町タワー\n",
       "2                新宿区西新宿七丁目1813   新宿区   西新宿七丁目                1813\n",
       "3  新宿区西新宿七丁目1713パレステュディオ新宿WEST   新宿区   西新宿七丁目  1713パレステュディオ新宿WEST\n",
       "4                新宿区西新宿七丁目2231   新宿区   西新宿七丁目                2231"
      ]
     },
     "metadata": {},
     "output_type": "display_data"
    }
   ],
   "source": [
    "tmp1 = listing[['address', 'shiku','townpart','detailpart']]\n",
    "tmp2 = oshima[['address', 'shiku','townpart','detailpart']]\n",
    "display(tmp1.head(), tmp2.head())"
   ]
  },
  {
   "cell_type": "code",
   "execution_count": 97,
   "metadata": {},
   "outputs": [
    {
     "data": {
      "text/plain": [
       "((11176, 4), (818, 4))"
      ]
     },
     "execution_count": 97,
     "metadata": {},
     "output_type": "execute_result"
    }
   ],
   "source": [
    "tmp1.shape, tmp2.shape"
   ]
  },
  {
   "cell_type": "code",
   "execution_count": 98,
   "metadata": {},
   "outputs": [
    {
     "data": {
      "text/plain": [
       "((10466, 4), (767, 4))"
      ]
     },
     "execution_count": 98,
     "metadata": {},
     "output_type": "execute_result"
    }
   ],
   "source": [
    "tmp1.dropna(inplace=True)\n",
    "tmp2.dropna(inplace=True)\n",
    "tmp1.shape, tmp2.shape"
   ]
  },
  {
   "cell_type": "code",
   "execution_count": 99,
   "metadata": {},
   "outputs": [],
   "source": [
    "# def remove_numbers(input_string):\n",
    "#     if isinstance(input_string, str):\n",
    "#         result_string = re.sub(r'\\d', '', input_string)\n",
    "#         return result_string\n",
    "#     else:\n",
    "#         return input_string\n",
    "# tmp1['townpart'] = tmp1['townpart'].apply(remove_numbers)"
   ]
  },
  {
   "cell_type": "code",
   "execution_count": 100,
   "metadata": {},
   "outputs": [],
   "source": [
    "# tmp1.to_csv('input_main_listing2.csv') #* townpart에 포함돈 숫자 제거한 csv 별도 저장"
   ]
  },
  {
   "cell_type": "code",
   "execution_count": 101,
   "metadata": {},
   "outputs": [
    {
     "data": {
      "text/plain": [
       "(0     墨田区八広2丁目\n",
       " 1    北区田端新町1丁目\n",
       " 2    渋谷区幡ヶ谷2丁目\n",
       " 3    世田谷区代沢2丁目\n",
       " 5     渋谷区広尾5丁目\n",
       " Name: townpart, dtype: object,\n",
       " 0    歌舞伎町一丁目\n",
       " 1    歌舞伎町一丁目\n",
       " 2     西新宿七丁目\n",
       " 3     西新宿七丁目\n",
       " 4     西新宿七丁目\n",
       " Name: townpart, dtype: object)"
      ]
     },
     "execution_count": 101,
     "metadata": {},
     "output_type": "execute_result"
    }
   ],
   "source": [
    "tmp1['townpart'].head(), tmp2['townpart'].head()"
   ]
  },
  {
   "cell_type": "code",
   "execution_count": 102,
   "metadata": {},
   "outputs": [
    {
     "name": "stdout",
     "output_type": "stream",
     "text": [
      "oshima와 겹치는 주소가 존재합니다.\n",
      "겹치는 주소 목록:\n",
      "['小平市', '杉並区', '渋谷区', '青梅市', '中央区', '墨田区', '江戸川区', '町田市', '千代田区', '小金井市', '立川市', '練馬区', '武蔵野市', '足立区', '世田谷区', '新宿区', '八王子市', '羽村市', '江東区', '国分寺市', '昭島市', '目黒区', '文京区', '日野市', '多摩市', '品川区', '中野区', '台東区', '豊島区', '狛江市', '北区', '板橋区', '武蔵村山市', '府中市', '葛飾区', '荒川区', '調布市', '三鷹市', '国立市', '港区', '西東京市', '大田区', '東村山市']\n"
     ]
    }
   ],
   "source": [
    "#* insideairbnb 데이터 안에 oshima 주소 데이터와 겹치는 곳이 있는지 확인\n",
    "#* tmp1과 tmp2가 데이터프레임인 경우, address 칼럼을 가져와서 리스트로 변환\n",
    "#! townpart는 겹치는 데이터 하나도 없음, 숫자 존재 유무와 관계없음\n",
    "#! detailpart는 겹치는 데이터 들은 존재하나 상세주소를 제외한 나머지 값이 전혀 달라 활용 할 수가 없음.\n",
    "shiku_list_tmp1 = tmp1['shiku'].tolist() #* listing data\n",
    "shiku_list_tmp2 = tmp2['shiku'].tolist() #* oshima data\n",
    "\n",
    "# 겹치는 주소를 찾기 위해 set의 교집합을 사용\n",
    "overlapping_addresses = list(set(shiku_list_tmp1) & set(shiku_list_tmp2))\n",
    "\n",
    "if len(overlapping_addresses) > 0:\n",
    "    print(\"oshima와 겹치는 주소가 존재합니다.\")\n",
    "    print(\"겹치는 주소 목록:\")\n",
    "    print(overlapping_addresses)\n",
    "else:\n",
    "    print(\"oshima와 겹치는 주소가 존재하지 않습니다.\")"
   ]
  },
  {
   "cell_type": "code",
   "execution_count": 103,
   "metadata": {},
   "outputs": [
    {
     "data": {
      "text/plain": [
       "43"
      ]
     },
     "execution_count": 103,
     "metadata": {},
     "output_type": "execute_result"
    }
   ],
   "source": [
    "len(overlapping_addresses) #* 43개의 시, 구 겹침"
   ]
  },
  {
   "cell_type": "code",
   "execution_count": 104,
   "metadata": {},
   "outputs": [
    {
     "data": {
      "text/html": [
       "<div>\n",
       "<style scoped>\n",
       "    .dataframe tbody tr th:only-of-type {\n",
       "        vertical-align: middle;\n",
       "    }\n",
       "\n",
       "    .dataframe tbody tr th {\n",
       "        vertical-align: top;\n",
       "    }\n",
       "\n",
       "    .dataframe thead th {\n",
       "        text-align: right;\n",
       "    }\n",
       "</style>\n",
       "<table border=\"1\" class=\"dataframe\">\n",
       "  <thead>\n",
       "    <tr style=\"text-align: right;\">\n",
       "      <th></th>\n",
       "      <th>price</th>\n",
       "      <th>room_type</th>\n",
       "      <th>accommodates</th>\n",
       "      <th>bedrooms</th>\n",
       "      <th>beds</th>\n",
       "      <th>review_scores_rating</th>\n",
       "      <th>address</th>\n",
       "      <th>shiku</th>\n",
       "      <th>townpart</th>\n",
       "      <th>detailpart</th>\n",
       "    </tr>\n",
       "  </thead>\n",
       "  <tbody>\n",
       "    <tr>\n",
       "      <th>0</th>\n",
       "      <td>1100000.0</td>\n",
       "      <td>Entire home apt</td>\n",
       "      <td>2</td>\n",
       "      <td>1.0</td>\n",
       "      <td>2.0</td>\n",
       "      <td>4.78</td>\n",
       "      <td>墨田区八広2丁目27-16</td>\n",
       "      <td>墨田区</td>\n",
       "      <td>墨田区八広2丁目</td>\n",
       "      <td>27-16</td>\n",
       "    </tr>\n",
       "    <tr>\n",
       "      <th>1</th>\n",
       "      <td>720800.0</td>\n",
       "      <td>Private room</td>\n",
       "      <td>1</td>\n",
       "      <td>NaN</td>\n",
       "      <td>1.0</td>\n",
       "      <td>4.98</td>\n",
       "      <td>北区田端新町1丁目26-7</td>\n",
       "      <td>北区</td>\n",
       "      <td>北区田端新町1丁目</td>\n",
       "      <td>26-7</td>\n",
       "    </tr>\n",
       "    <tr>\n",
       "      <th>2</th>\n",
       "      <td>2306600.0</td>\n",
       "      <td>Entire home apt</td>\n",
       "      <td>6</td>\n",
       "      <td>2.0</td>\n",
       "      <td>4.0</td>\n",
       "      <td>4.76</td>\n",
       "      <td>渋谷区幡ヶ谷2丁目1-2-1</td>\n",
       "      <td>渋谷区</td>\n",
       "      <td>渋谷区幡ヶ谷2丁目</td>\n",
       "      <td>1-2-1</td>\n",
       "    </tr>\n",
       "    <tr>\n",
       "      <th>3</th>\n",
       "      <td>1600000.0</td>\n",
       "      <td>Private room</td>\n",
       "      <td>2</td>\n",
       "      <td>NaN</td>\n",
       "      <td>2.0</td>\n",
       "      <td>4.94</td>\n",
       "      <td>世田谷区代沢2丁目−16、池ノ上フラット</td>\n",
       "      <td>世田谷区</td>\n",
       "      <td>世田谷区代沢2丁目</td>\n",
       "      <td>−16、池ノ上フラット</td>\n",
       "    </tr>\n",
       "    <tr>\n",
       "      <th>4</th>\n",
       "      <td>1000000.0</td>\n",
       "      <td>Private room</td>\n",
       "      <td>4</td>\n",
       "      <td>NaN</td>\n",
       "      <td>NaN</td>\n",
       "      <td>4.71</td>\n",
       "      <td>足立区千住宮元町1-2</td>\n",
       "      <td>足立区</td>\n",
       "      <td>NaN</td>\n",
       "      <td>足立区千住宮元町1-2</td>\n",
       "    </tr>\n",
       "    <tr>\n",
       "      <th>...</th>\n",
       "      <td>...</td>\n",
       "      <td>...</td>\n",
       "      <td>...</td>\n",
       "      <td>...</td>\n",
       "      <td>...</td>\n",
       "      <td>...</td>\n",
       "      <td>...</td>\n",
       "      <td>...</td>\n",
       "      <td>...</td>\n",
       "      <td>...</td>\n",
       "    </tr>\n",
       "    <tr>\n",
       "      <th>11033</th>\n",
       "      <td>960000.0</td>\n",
       "      <td>Entire home apt</td>\n",
       "      <td>2</td>\n",
       "      <td>1.0</td>\n",
       "      <td>1.0</td>\n",
       "      <td>5.00</td>\n",
       "      <td>新宿区歌舞伎町2丁目4-11</td>\n",
       "      <td>新宿区</td>\n",
       "      <td>新宿区歌舞伎町2丁目</td>\n",
       "      <td>4-11</td>\n",
       "    </tr>\n",
       "    <tr>\n",
       "      <th>11034</th>\n",
       "      <td>1200000.0</td>\n",
       "      <td>Entire home apt</td>\n",
       "      <td>4</td>\n",
       "      <td>1.0</td>\n",
       "      <td>3.0</td>\n",
       "      <td>NaN</td>\n",
       "      <td>新宿区北新宿1丁目16番地メゾン・ブランシェ</td>\n",
       "      <td>新宿区</td>\n",
       "      <td>新宿区北新宿1丁目</td>\n",
       "      <td>16番地メゾン・ブランシェ</td>\n",
       "    </tr>\n",
       "    <tr>\n",
       "      <th>11035</th>\n",
       "      <td>1600000.0</td>\n",
       "      <td>Entire home apt</td>\n",
       "      <td>3</td>\n",
       "      <td>1.0</td>\n",
       "      <td>2.0</td>\n",
       "      <td>NaN</td>\n",
       "      <td>新宿区北新宿1丁目6-14</td>\n",
       "      <td>新宿区</td>\n",
       "      <td>新宿区北新宿1丁目</td>\n",
       "      <td>6-14</td>\n",
       "    </tr>\n",
       "    <tr>\n",
       "      <th>11036</th>\n",
       "      <td>1600000.0</td>\n",
       "      <td>Entire home apt</td>\n",
       "      <td>4</td>\n",
       "      <td>1.0</td>\n",
       "      <td>2.0</td>\n",
       "      <td>NaN</td>\n",
       "      <td>新宿区北新宿1丁目25-21</td>\n",
       "      <td>新宿区</td>\n",
       "      <td>新宿区北新宿1丁目</td>\n",
       "      <td>25-21</td>\n",
       "    </tr>\n",
       "    <tr>\n",
       "      <th>11037</th>\n",
       "      <td>4000000.0</td>\n",
       "      <td>Entire home apt</td>\n",
       "      <td>9</td>\n",
       "      <td>3.0</td>\n",
       "      <td>6.0</td>\n",
       "      <td>NaN</td>\n",
       "      <td>新宿区歌舞伎町2丁目16-12</td>\n",
       "      <td>新宿区</td>\n",
       "      <td>新宿区歌舞伎町2丁目</td>\n",
       "      <td>16-12</td>\n",
       "    </tr>\n",
       "  </tbody>\n",
       "</table>\n",
       "<p>11038 rows × 10 columns</p>\n",
       "</div>"
      ],
      "text/plain": [
       "           price        room_type  accommodates  bedrooms  beds  \\\n",
       "0      1100000.0  Entire home apt             2       1.0   2.0   \n",
       "1       720800.0     Private room             1       NaN   1.0   \n",
       "2      2306600.0  Entire home apt             6       2.0   4.0   \n",
       "3      1600000.0     Private room             2       NaN   2.0   \n",
       "4      1000000.0     Private room             4       NaN   NaN   \n",
       "...          ...              ...           ...       ...   ...   \n",
       "11033   960000.0  Entire home apt             2       1.0   1.0   \n",
       "11034  1200000.0  Entire home apt             4       1.0   3.0   \n",
       "11035  1600000.0  Entire home apt             3       1.0   2.0   \n",
       "11036  1600000.0  Entire home apt             4       1.0   2.0   \n",
       "11037  4000000.0  Entire home apt             9       3.0   6.0   \n",
       "\n",
       "       review_scores_rating                 address shiku    townpart  \\\n",
       "0                      4.78           墨田区八広2丁目27-16   墨田区    墨田区八広2丁目   \n",
       "1                      4.98           北区田端新町1丁目26-7    北区   北区田端新町1丁目   \n",
       "2                      4.76          渋谷区幡ヶ谷2丁目1-2-1   渋谷区   渋谷区幡ヶ谷2丁目   \n",
       "3                      4.94    世田谷区代沢2丁目−16、池ノ上フラット  世田谷区   世田谷区代沢2丁目   \n",
       "4                      4.71             足立区千住宮元町1-2   足立区         NaN   \n",
       "...                     ...                     ...   ...         ...   \n",
       "11033                  5.00          新宿区歌舞伎町2丁目4-11   新宿区  新宿区歌舞伎町2丁目   \n",
       "11034                   NaN  新宿区北新宿1丁目16番地メゾン・ブランシェ   新宿区   新宿区北新宿1丁目   \n",
       "11035                   NaN           新宿区北新宿1丁目6-14   新宿区   新宿区北新宿1丁目   \n",
       "11036                   NaN          新宿区北新宿1丁目25-21   新宿区   新宿区北新宿1丁目   \n",
       "11037                   NaN         新宿区歌舞伎町2丁目16-12   新宿区  新宿区歌舞伎町2丁目   \n",
       "\n",
       "          detailpart  \n",
       "0              27-16  \n",
       "1               26-7  \n",
       "2              1-2-1  \n",
       "3        −16、池ノ上フラット  \n",
       "4        足立区千住宮元町1-2  \n",
       "...              ...  \n",
       "11033           4-11  \n",
       "11034  16番地メゾン・ブランシェ  \n",
       "11035           6-14  \n",
       "11036          25-21  \n",
       "11037          16-12  \n",
       "\n",
       "[11038 rows x 10 columns]"
      ]
     },
     "execution_count": 104,
     "metadata": {},
     "output_type": "execute_result"
    }
   ],
   "source": [
    "shiku_filtered_data = listing[listing['shiku'].isin(overlapping_addresses)] #* 두 데이터프레임에서 겹치는 shiku 데이터만 추출\n",
    "shiku_filtered_data.reset_index(drop=True, inplace=True)\n",
    "shiku_filtered_data"
   ]
  },
  {
   "cell_type": "code",
   "execution_count": 105,
   "metadata": {},
   "outputs": [
    {
     "name": "stdout",
     "output_type": "stream",
     "text": [
      "<class 'pandas.core.frame.DataFrame'>\n",
      "RangeIndex: 11038 entries, 0 to 11037\n",
      "Data columns (total 10 columns):\n",
      " #   Column                Non-Null Count  Dtype  \n",
      "---  ------                --------------  -----  \n",
      " 0   price                 11038 non-null  float64\n",
      " 1   room_type             11038 non-null  object \n",
      " 2   accommodates          11038 non-null  int64  \n",
      " 3   bedrooms              9134 non-null   float64\n",
      " 4   beds                  10589 non-null  float64\n",
      " 5   review_scores_rating  9797 non-null   float64\n",
      " 6   address               11038 non-null  object \n",
      " 7   shiku                 11038 non-null  object \n",
      " 8   townpart              10380 non-null  object \n",
      " 9   detailpart            11037 non-null  object \n",
      "dtypes: float64(4), int64(1), object(5)\n",
      "memory usage: 862.5+ KB\n"
     ]
    }
   ],
   "source": [
    "shiku_filtered_data.info() #* oshima data와 insideairbnb data 사이의 겹치는 시/구 데이터 정보"
   ]
  },
  {
   "cell_type": "markdown",
   "metadata": {},
   "source": [
    "---------------------------------------------------------------------------------------------------"
   ]
  },
  {
   "cell_type": "markdown",
   "metadata": {},
   "source": [
    "## <p style=\"font-family:JetBrains Mono; font-weight:normal; letter-spacing:2px; color:#1A5D1A; font-size:75%; text-align:left;padding: 0px; border-bottom: 3px solid #1A5D1A\">oshima 데이터 일본어 >> 영어 번역 </p>"
   ]
  },
  {
   "cell_type": "markdown",
   "metadata": {},
   "source": [
    "> 이거 왜 했는지 기억안남.."
   ]
  },
  {
   "cell_type": "code",
   "execution_count": 106,
   "metadata": {},
   "outputs": [],
   "source": [
    "# #* oshima 사건 일본어를 영어로 번역\n",
    "# #* 환경 변수에 Google Cloud Translation API 인증 키를 설정\n",
    "# os.environ['GOOGLE_APPLICATION_CREDENTIALS'] = 'C:\\\\Users\\\\lucky\\\\Documents\\\\genie-393805-2ca6729ec32d.json'\n",
    "\n",
    "# # 영어로 번역하는 함수\n",
    "# def translate_japanese_to_english(text):\n",
    "#     try:\n",
    "#         client = translate.Client()\n",
    "#         result = client.translate(text, target_language='en')\n",
    "#         return result['translatedText']\n",
    "#     except:\n",
    "#         # print(f\"Error occurred during translation: {e}\")\n",
    "#         return None\n",
    "\n",
    "# #* oshima 데이터프레임의 'info' 칼럼을 영어로 번역하여 'translated_info' 리스트에 저장\n",
    "# translated_oshima_info = []\n",
    "# with ThreadPoolExecutor() as executor:\n",
    "#     tqdm.pandas()  # tqdm을 사용하기 위해 pandas에 적용\n",
    "#     translated_oshima_info = list(tqdm(executor.map(translate_japanese_to_english, oshima['info']), total=len(oshima)))\n",
    "\n",
    "# # 'translated_oshima_info'를 새로운 칼럼으로 추가하여 데이터프레임으로 변환\n",
    "# oshima['translated_info'] = translated_oshima_info"
   ]
  },
  {
   "cell_type": "markdown",
   "metadata": {},
   "source": [
    "## <p style=\"font-family:JetBrains Mono; font-weight:normal; letter-spacing:2px; color:#1A5D1A; font-size:75%; text-align:left;padding: 0px; border-bottom: 3px solid #1A5D1A\">데이터 병합 </p>"
   ]
  },
  {
   "cell_type": "code",
   "execution_count": 107,
   "metadata": {},
   "outputs": [],
   "source": [
    "# #* 일단 info, date 칼럼 삭제\n",
    "# trans_oshima = oshima.drop(columns = ['info', 'date'])"
   ]
  },
  {
   "cell_type": "code",
   "execution_count": 108,
   "metadata": {},
   "outputs": [],
   "source": [
    "# merge_data = pd.concat([listing, trans_oshima])\n",
    "# merge_data.head()"
   ]
  },
  {
   "cell_type": "markdown",
   "metadata": {},
   "source": [
    "## <p style=\"font-family:JetBrains Mono; font-weight:normal; letter-spacing:2px; color:#b57edc; font-size:130%; text-align:left;padding: 0px; border-bottom: 3px solid #b57edc\">모델링 - 평점 예측 시도\n",
    "</p>"
   ]
  },
  {
   "cell_type": "code",
   "execution_count": 109,
   "metadata": {},
   "outputs": [],
   "source": [
    "# merge_data.head(1)"
   ]
  },
  {
   "cell_type": "code",
   "execution_count": 110,
   "metadata": {},
   "outputs": [],
   "source": [
    "# #* 라벨 인코딩\n",
    "# le = LabelEncoder()\n",
    "# for idx in merge_data.select_dtypes(include='object').columns:\n",
    "#     merge_data[idx] = le.fit_transform(merge_data[idx])"
   ]
  },
  {
   "cell_type": "code",
   "execution_count": 111,
   "metadata": {},
   "outputs": [],
   "source": [
    "# 원핫 인코딩\n",
    "# TODO : 범주형 칼럼만을 독립 변수로 넣는 경우\n",
    "# object_columns = merge_data.select_dtypes(include='object')\n",
    "\n",
    "# # 범주형 칼럼 원-핫 인코딩\n",
    "# one_hot_encoded = pd.get_dummies(object_columns)"
   ]
  },
  {
   "cell_type": "code",
   "execution_count": 112,
   "metadata": {},
   "outputs": [],
   "source": [
    "# TODO : 숫자형 칼럼, 범주형 칼럼 모두 독립 변수로 넣는 경우\n",
    "# \"merge_data\"에서 숫자형 칼럼과 범주형 칼럼 분리\n",
    "# numeric_columns = merge_data.select_dtypes(include='number')\n",
    "# object_columns = merge_data.select_dtypes(include='object')\n",
    "\n",
    "# # 범주형 칼럼 원-핫 인코딩\n",
    "# one_hot_encoded = pd.get_dummies(object_columns)\n",
    "\n",
    "# 숫자형 칼럼과 원-핫 인코딩된 범주형 칼럼 합치기\n",
    "# all_data = pd.concat([numeric_columns, one_hot_encoded], axis=1)\n",
    "# all_data.head()"
   ]
  },
  {
   "cell_type": "code",
   "execution_count": 113,
   "metadata": {},
   "outputs": [],
   "source": [
    "# merge_data['review_scores_rating'] = merge_data['review_scores_rating'].fillna(merge_data['review_scores_rating'].median())"
   ]
  },
  {
   "cell_type": "code",
   "execution_count": 114,
   "metadata": {},
   "outputs": [],
   "source": [
    "# #TODO 머신러닝\n",
    "# #* 독립 변수와 종속 변수로 데이터 분할\n",
    "# X = merge_data.drop(columns = ['review_scores_rating'])\n",
    "# y = merge_data['review_scores_rating']  \n",
    "\n",
    "# #* 결측치를 평균값으로 대체\n",
    "# imputer = SimpleImputer(strategy='median')\n",
    "# X_imputed = imputer.fit_transform(X)\n",
    "\n",
    "# #* 학습용 데이터와 테스트용 데이터로 나누기\n",
    "# X_train, X_test, y_train, y_test = train_test_split(X_imputed, y, test_size=0.2, random_state=42)\n",
    "\n",
    "# #* 여러 회귀 모델 정의\n",
    "# models = [\n",
    "#     LinearRegression(),\n",
    "#     DecisionTreeRegressor(),\n",
    "#     CatBoostRegressor(verbose=1)\n",
    "# ] #* RandomForestRegressor() 너무 오래 걸려서 제외\n",
    "\n",
    "# #* 모델 학습과 평가\n",
    "# y_preds = []  # 모델들의 예측 결과를 저장할 리스트 초기화\n",
    "# for model in models:\n",
    "#     model_name = model.__class__.__name__  # 모델의 이름 가져오기\n",
    "\n",
    "#     #* 모델 학습 시간 측정 시작\n",
    "#     start_time = time.time()\n",
    "\n",
    "#     model.fit(X_train, y_train)  # 모델 학습\n",
    "#     y_pred = model.predict(X_test)  # 모델 예측\n",
    "\n",
    "#     #* 모델 학습 시간 측정 종료\n",
    "#     end_time = time.time()\n",
    "\n",
    "#     #* 모델 학습 시간 계산\n",
    "#     training_time = end_time - start_time\n",
    "\n",
    "#     #* 모델의 성능 평가\n",
    "#     mse = mean_squared_error(y_test, y_pred)\n",
    "#     r2 = r2_score(y_test, y_pred)\n",
    "\n",
    "#     print(f\"{model_name} - Mean Squared Error (MSE):\", mse)\n",
    "#     print(f\"{model_name} - R-squared (R2):\", r2)\n",
    "#     print(f\"{model_name} - Training Time: {training_time:.4f} seconds\")\n",
    "#     print(\"=\" * 30)\n",
    "\n",
    "#     #* 각 모델의 예측 결과를 y_preds 리스트에 추가\n",
    "#     y_preds.append(y_pred)\n",
    "\n",
    "# #* 가장 성능이 좋은 모델 선택\n",
    "# best_model_idx = np.argmax([r2_score(y_test, y_pred) for y_pred in y_preds])\n",
    "# best_model = models[best_model_idx]\n",
    "\n",
    "# #* 가장 성능이 좋은 모델로 최종 예측 수행\n",
    "# final_y_pred = y_preds[best_model_idx]\n",
    "\n",
    "# #* 최종 모델의 성능 평가\n",
    "# final_mse = mean_squared_error(y_test, final_y_pred)\n",
    "# final_r2 = r2_score(y_test, final_y_pred)\n",
    "\n",
    "# print(\"=== Final Model Evaluation ===\")\n",
    "# print(f\"Best Model: {best_model.__class__.__name__}\")\n",
    "# print(f\"Final Mean Squared Error (MSE): {final_mse}\")\n",
    "# print(f\"Final R-squared (R2): {final_r2}\")"
   ]
  },
  {
   "cell_type": "code",
   "execution_count": 115,
   "metadata": {},
   "outputs": [],
   "source": [
    "# #* 예측 결과와 실제 값 사이의 산점도 그리기\n",
    "# plt.figure(figsize=(10, 6))\n",
    "# plt.scatter(y_test, final_y_pred, alpha=0.5)\n",
    "# plt.xlabel(\"Actual Values\")\n",
    "# plt.ylabel(\"Predicted Values\")\n",
    "# plt.title(\"Actual vs. Predicted Values\")\n",
    "# plt.show()\n",
    "\n",
    "# #* 예측 오차(Residual) 플롯 그리기\n",
    "# residuals = y_test - final_y_pred\n",
    "# plt.figure(figsize=(10, 6))\n",
    "# plt.scatter(y_test, residuals, alpha=0.5)\n",
    "# plt.axhline(y=0, color='red', linestyle='--')\n",
    "# plt.xlabel(\"Actual Values\")\n",
    "# plt.ylabel(\"Residuals (Actual - Predicted)\")\n",
    "# plt.title(\"Residual Plot\")\n",
    "# plt.show()"
   ]
  },
  {
   "cell_type": "code",
   "execution_count": 116,
   "metadata": {},
   "outputs": [],
   "source": [
    "# final_y_pred #* review_scores_rating 예측 평점"
   ]
  },
  {
   "cell_type": "markdown",
   "metadata": {},
   "source": [
    "------------------------------------------------------------"
   ]
  },
  {
   "cell_type": "markdown",
   "metadata": {},
   "source": [
    "R2 스코어는 회귀 모델이 입력 데이터에 얼마나 잘 적합되었는지를 나타내며, 모델이 얼마나 설명력을 가지고 있는지를 측정합니다<br>\n",
    "R2 스코어는 0과 1 사이의 값을 가지며, 주로 0과 1에 가까울수록 더 좋은 모델을 나타냅니다. R2 스코어가 1이면 모델이 입력 데이터를 완벽하게 설명한다는 의미이며, <br>\n",
    "0에 가까울수록 모델이 데이터를 설명하지 못하는 경우를 의미합니다. 음수 값이 나오는 경우에는 모델이 입력 데이터보다 적어도 더 나쁜 예측을 한 경우를 의미합니다.<br><br>\n",
    "\n",
    "CatBoostRegressor의 R-squared 값이 0.008169188040362818로 매우 작지만, 0보다 큰 양수값을 가진다는 것은 데이터를 더 잘 설명하는 경향이 있다는 것을 의미합니다.<br>\n",
    "하지만 0.008169188040362818은 매우 작기 때문에 모델이 데이터를 제대로 설명하지 못하는 것으로 평가될 수 있습니다.<br>"
   ]
  }
 ],
 "metadata": {
  "kernelspec": {
   "display_name": "Python 3 (ipykernel)",
   "language": "python",
   "name": "python3"
  },
  "language_info": {
   "codemirror_mode": {
    "name": "ipython",
    "version": 3
   },
   "file_extension": ".py",
   "mimetype": "text/x-python",
   "name": "python",
   "nbconvert_exporter": "python",
   "pygments_lexer": "ipython3",
   "version": "3.8.16"
  }
 },
 "nbformat": 4,
 "nbformat_minor": 4
}
